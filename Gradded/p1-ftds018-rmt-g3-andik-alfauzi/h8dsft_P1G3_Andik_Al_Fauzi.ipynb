{
  "nbformat": 4,
  "nbformat_minor": 0,
  "metadata": {
    "colab": {
      "provenance": []
    },
    "kernelspec": {
      "name": "python3",
      "display_name": "Python 3"
    },
    "language_info": {
      "name": "python"
    }
  },
  "cells": [
    {
      "cell_type": "markdown",
      "source": [
        "# **1 - Perkenalan**\n",
        "\n",
        "---\n",
        "\n"
      ],
      "metadata": {
        "id": "CXqI8eCOniUX"
      }
    },
    {
      "cell_type": "markdown",
      "source": [
        "Bab pengenalan harus diisi dengan identitas, gambaran besar dataset yang digunakan, dan objective yang ingin dicapai."
      ],
      "metadata": {
        "id": "jVyqXyvqno-Y"
      }
    },
    {
      "cell_type": "markdown",
      "source": [
        "Nama : Andik Al Fauzi\n",
        "\n",
        "Batch : FTDS-RMT-018\n",
        "\n",
        "Dataset : ftds-hacktiv8-project.phase1_ftds_018_rmt.heart-failure\n",
        "\n",
        "Objective : Membuat model *Classification Supervised Learning*  dengan menggunakan *Random Forest Classifier* dan *Ada Boosting Classifier* untuk memprediksi apakah seorang pasien akan meninggal atau tidak menggunakan dataset yang sudah Anda dapatkan sesuai dari instruksi [Graded-Challenge 3](https://github.com/H8-Assignments-Bay/p1-ftds018-rmt-g3-andik-alfauzi)"
      ],
      "metadata": {
        "id": "Fum4mXPoQRdc"
      }
    },
    {
      "cell_type": "markdown",
      "source": [
        "# **2 - Query SQL**"
      ],
      "metadata": {
        "id": "fECCDJIEoZvl"
      }
    },
    {
      "cell_type": "markdown",
      "source": [
        "Bagian ini menunjukan cara mendapatkan dataset dari Google Big Query dengan menggunakan query sql "
      ],
      "metadata": {
        "id": "8jbcVOG-ol5R"
      }
    },
    {
      "cell_type": "code",
      "source": [
        "# Getting dataset from Google cloud\n",
        "# select * from `ftds-hacktiv8-project.phase1_ftds_018_rmt.heart-failure`"
      ],
      "metadata": {
        "id": "z1wms4xqQpti"
      },
      "execution_count": 210,
      "outputs": []
    },
    {
      "cell_type": "markdown",
      "source": [
        "# **3 - Import Libraries**\n",
        "\n",
        "---\n",
        "\n"
      ],
      "metadata": {
        "id": "5dJ2VgnPoLoq"
      }
    },
    {
      "cell_type": "markdown",
      "source": [
        "Cell pertama pada notebook harus berisi dan hanya berisi semua library yang digunakan dalam project."
      ],
      "metadata": {
        "id": "uKaZiMmIoOO4"
      }
    },
    {
      "cell_type": "code",
      "source": [
        "# Importing libraries\n",
        "import pandas as pd\n",
        "import numpy as np\n",
        "\n",
        "# Visualization libraries\n",
        "import matplotlib\n",
        "import matplotlib.pyplot as plt\n",
        "import seaborn as sns\n",
        "\n",
        "# Model libraries\n",
        "from sklearn.preprocessing import RobustScaler, MinMaxScaler\n",
        "from sklearn.preprocessing import LabelEncoder\n",
        "from sklearn.model_selection import train_test_split\n",
        "from sklearn.metrics import classification_report, accuracy_score, confusion_matrix\n",
        "from sklearn.ensemble import RandomForestClassifier, AdaBoostClassifier\n",
        "from sklearn.ensemble import BaggingClassifier\n",
        "from sklearn.linear_model import LogisticRegression\n",
        "from sklearn.svm import SVC\n",
        "from sklearn.tree import DecisionTreeClassifier\n",
        "from sklearn.model_selection import RandomizedSearchCV\n",
        "from scipy.stats import randint\n",
        "\n",
        "# Importing Libraries\n",
        "import pickle\n",
        "import json\n",
        "\n",
        "# Warning Library\n",
        "import warnings\n",
        "warnings.filterwarnings('ignore')"
      ],
      "metadata": {
        "id": "KpfbgIFroPAJ"
      },
      "execution_count": 211,
      "outputs": []
    },
    {
      "cell_type": "markdown",
      "source": [
        "# **4 - Data Loading**\n",
        "\n",
        "---"
      ],
      "metadata": {
        "id": "DKLv0Baoo3IV"
      }
    },
    {
      "cell_type": "markdown",
      "source": [
        "\n",
        "\n",
        "Bagian ini berisi proses penyiapan data sebelum dilakukan eksplorasi data lebih lanjut. Proses Data Loading dapat berupa memberi nama baru untuk setiap kolom, mengecek ukuran dataset, dll."
      ],
      "metadata": {
        "id": "ClFK_BKXo8Z7"
      }
    },
    {
      "cell_type": "code",
      "source": [
        "# Read data csv from big query\n",
        "data = pd.read_csv('/content/drive/MyDrive/h8dsft_P1G3_Andik_Al_Fauzi/h8dsft_P1G3_Andik_Al_Fauzi.csv')\n",
        "\n",
        "# Copy dataset to make sure the original is untoucable\n",
        "copyData = data.copy()\n",
        "\n",
        "# Display data after loading\n",
        "copyData"
      ],
      "metadata": {
        "colab": {
          "base_uri": "https://localhost:8080/",
          "height": 487
        },
        "id": "mZFmaTp-RPnA",
        "outputId": "ad2ffb41-ff04-4115-d2d3-19bcd85c7db9"
      },
      "execution_count": 212,
      "outputs": [
        {
          "output_type": "execute_result",
          "data": {
            "text/plain": [
              "      age  anaemia  creatinine_phosphokinase  diabetes  ejection_fraction  \\\n",
              "0    42.0        1                       250         1                 15   \n",
              "1    46.0        0                       168         1                 17   \n",
              "2    65.0        1                       160         1                 20   \n",
              "3    53.0        1                        91         0                 20   \n",
              "4    50.0        1                       582         1                 20   \n",
              "..    ...      ...                       ...       ...                ...   \n",
              "294  63.0        1                       122         1                 60   \n",
              "295  45.0        0                       308         1                 60   \n",
              "296  70.0        0                        97         0                 60   \n",
              "297  53.0        1                       446         0                 60   \n",
              "298  50.0        0                       582         0                 62   \n",
              "\n",
              "     high_blood_pressure  platelets  serum_creatinine  serum_sodium  sex  \\\n",
              "0                      0  213000.00               1.3           136    0   \n",
              "1                      1  271000.00               2.1           124    0   \n",
              "2                      0  327000.00               2.7           116    0   \n",
              "3                      1  418000.00               1.4           139    0   \n",
              "4                      1  279000.00               1.0           134    0   \n",
              "..                   ...        ...               ...           ...  ...   \n",
              "294                    0  267000.00               1.2           145    1   \n",
              "295                    1  377000.00               1.0           136    1   \n",
              "296                    1  220000.00               0.9           138    1   \n",
              "297                    1  263358.03               1.0           139    1   \n",
              "298                    1  147000.00               0.8           140    1   \n",
              "\n",
              "     smoking  time  DEATH_EVENT  \n",
              "0          0    65            1  \n",
              "1          0   100            1  \n",
              "2          0     8            1  \n",
              "3          0    43            1  \n",
              "4          0   186            0  \n",
              "..       ...   ...          ...  \n",
              "294        0   147            0  \n",
              "295        0   186            0  \n",
              "296        0   186            0  \n",
              "297        0   215            0  \n",
              "298        1   192            0  \n",
              "\n",
              "[299 rows x 13 columns]"
            ],
            "text/html": [
              "\n",
              "  <div id=\"df-c97f6c02-b971-4700-bb58-1a884c796747\">\n",
              "    <div class=\"colab-df-container\">\n",
              "      <div>\n",
              "<style scoped>\n",
              "    .dataframe tbody tr th:only-of-type {\n",
              "        vertical-align: middle;\n",
              "    }\n",
              "\n",
              "    .dataframe tbody tr th {\n",
              "        vertical-align: top;\n",
              "    }\n",
              "\n",
              "    .dataframe thead th {\n",
              "        text-align: right;\n",
              "    }\n",
              "</style>\n",
              "<table border=\"1\" class=\"dataframe\">\n",
              "  <thead>\n",
              "    <tr style=\"text-align: right;\">\n",
              "      <th></th>\n",
              "      <th>age</th>\n",
              "      <th>anaemia</th>\n",
              "      <th>creatinine_phosphokinase</th>\n",
              "      <th>diabetes</th>\n",
              "      <th>ejection_fraction</th>\n",
              "      <th>high_blood_pressure</th>\n",
              "      <th>platelets</th>\n",
              "      <th>serum_creatinine</th>\n",
              "      <th>serum_sodium</th>\n",
              "      <th>sex</th>\n",
              "      <th>smoking</th>\n",
              "      <th>time</th>\n",
              "      <th>DEATH_EVENT</th>\n",
              "    </tr>\n",
              "  </thead>\n",
              "  <tbody>\n",
              "    <tr>\n",
              "      <th>0</th>\n",
              "      <td>42.0</td>\n",
              "      <td>1</td>\n",
              "      <td>250</td>\n",
              "      <td>1</td>\n",
              "      <td>15</td>\n",
              "      <td>0</td>\n",
              "      <td>213000.00</td>\n",
              "      <td>1.3</td>\n",
              "      <td>136</td>\n",
              "      <td>0</td>\n",
              "      <td>0</td>\n",
              "      <td>65</td>\n",
              "      <td>1</td>\n",
              "    </tr>\n",
              "    <tr>\n",
              "      <th>1</th>\n",
              "      <td>46.0</td>\n",
              "      <td>0</td>\n",
              "      <td>168</td>\n",
              "      <td>1</td>\n",
              "      <td>17</td>\n",
              "      <td>1</td>\n",
              "      <td>271000.00</td>\n",
              "      <td>2.1</td>\n",
              "      <td>124</td>\n",
              "      <td>0</td>\n",
              "      <td>0</td>\n",
              "      <td>100</td>\n",
              "      <td>1</td>\n",
              "    </tr>\n",
              "    <tr>\n",
              "      <th>2</th>\n",
              "      <td>65.0</td>\n",
              "      <td>1</td>\n",
              "      <td>160</td>\n",
              "      <td>1</td>\n",
              "      <td>20</td>\n",
              "      <td>0</td>\n",
              "      <td>327000.00</td>\n",
              "      <td>2.7</td>\n",
              "      <td>116</td>\n",
              "      <td>0</td>\n",
              "      <td>0</td>\n",
              "      <td>8</td>\n",
              "      <td>1</td>\n",
              "    </tr>\n",
              "    <tr>\n",
              "      <th>3</th>\n",
              "      <td>53.0</td>\n",
              "      <td>1</td>\n",
              "      <td>91</td>\n",
              "      <td>0</td>\n",
              "      <td>20</td>\n",
              "      <td>1</td>\n",
              "      <td>418000.00</td>\n",
              "      <td>1.4</td>\n",
              "      <td>139</td>\n",
              "      <td>0</td>\n",
              "      <td>0</td>\n",
              "      <td>43</td>\n",
              "      <td>1</td>\n",
              "    </tr>\n",
              "    <tr>\n",
              "      <th>4</th>\n",
              "      <td>50.0</td>\n",
              "      <td>1</td>\n",
              "      <td>582</td>\n",
              "      <td>1</td>\n",
              "      <td>20</td>\n",
              "      <td>1</td>\n",
              "      <td>279000.00</td>\n",
              "      <td>1.0</td>\n",
              "      <td>134</td>\n",
              "      <td>0</td>\n",
              "      <td>0</td>\n",
              "      <td>186</td>\n",
              "      <td>0</td>\n",
              "    </tr>\n",
              "    <tr>\n",
              "      <th>...</th>\n",
              "      <td>...</td>\n",
              "      <td>...</td>\n",
              "      <td>...</td>\n",
              "      <td>...</td>\n",
              "      <td>...</td>\n",
              "      <td>...</td>\n",
              "      <td>...</td>\n",
              "      <td>...</td>\n",
              "      <td>...</td>\n",
              "      <td>...</td>\n",
              "      <td>...</td>\n",
              "      <td>...</td>\n",
              "      <td>...</td>\n",
              "    </tr>\n",
              "    <tr>\n",
              "      <th>294</th>\n",
              "      <td>63.0</td>\n",
              "      <td>1</td>\n",
              "      <td>122</td>\n",
              "      <td>1</td>\n",
              "      <td>60</td>\n",
              "      <td>0</td>\n",
              "      <td>267000.00</td>\n",
              "      <td>1.2</td>\n",
              "      <td>145</td>\n",
              "      <td>1</td>\n",
              "      <td>0</td>\n",
              "      <td>147</td>\n",
              "      <td>0</td>\n",
              "    </tr>\n",
              "    <tr>\n",
              "      <th>295</th>\n",
              "      <td>45.0</td>\n",
              "      <td>0</td>\n",
              "      <td>308</td>\n",
              "      <td>1</td>\n",
              "      <td>60</td>\n",
              "      <td>1</td>\n",
              "      <td>377000.00</td>\n",
              "      <td>1.0</td>\n",
              "      <td>136</td>\n",
              "      <td>1</td>\n",
              "      <td>0</td>\n",
              "      <td>186</td>\n",
              "      <td>0</td>\n",
              "    </tr>\n",
              "    <tr>\n",
              "      <th>296</th>\n",
              "      <td>70.0</td>\n",
              "      <td>0</td>\n",
              "      <td>97</td>\n",
              "      <td>0</td>\n",
              "      <td>60</td>\n",
              "      <td>1</td>\n",
              "      <td>220000.00</td>\n",
              "      <td>0.9</td>\n",
              "      <td>138</td>\n",
              "      <td>1</td>\n",
              "      <td>0</td>\n",
              "      <td>186</td>\n",
              "      <td>0</td>\n",
              "    </tr>\n",
              "    <tr>\n",
              "      <th>297</th>\n",
              "      <td>53.0</td>\n",
              "      <td>1</td>\n",
              "      <td>446</td>\n",
              "      <td>0</td>\n",
              "      <td>60</td>\n",
              "      <td>1</td>\n",
              "      <td>263358.03</td>\n",
              "      <td>1.0</td>\n",
              "      <td>139</td>\n",
              "      <td>1</td>\n",
              "      <td>0</td>\n",
              "      <td>215</td>\n",
              "      <td>0</td>\n",
              "    </tr>\n",
              "    <tr>\n",
              "      <th>298</th>\n",
              "      <td>50.0</td>\n",
              "      <td>0</td>\n",
              "      <td>582</td>\n",
              "      <td>0</td>\n",
              "      <td>62</td>\n",
              "      <td>1</td>\n",
              "      <td>147000.00</td>\n",
              "      <td>0.8</td>\n",
              "      <td>140</td>\n",
              "      <td>1</td>\n",
              "      <td>1</td>\n",
              "      <td>192</td>\n",
              "      <td>0</td>\n",
              "    </tr>\n",
              "  </tbody>\n",
              "</table>\n",
              "<p>299 rows × 13 columns</p>\n",
              "</div>\n",
              "      <button class=\"colab-df-convert\" onclick=\"convertToInteractive('df-c97f6c02-b971-4700-bb58-1a884c796747')\"\n",
              "              title=\"Convert this dataframe to an interactive table.\"\n",
              "              style=\"display:none;\">\n",
              "        \n",
              "  <svg xmlns=\"http://www.w3.org/2000/svg\" height=\"24px\"viewBox=\"0 0 24 24\"\n",
              "       width=\"24px\">\n",
              "    <path d=\"M0 0h24v24H0V0z\" fill=\"none\"/>\n",
              "    <path d=\"M18.56 5.44l.94 2.06.94-2.06 2.06-.94-2.06-.94-.94-2.06-.94 2.06-2.06.94zm-11 1L8.5 8.5l.94-2.06 2.06-.94-2.06-.94L8.5 2.5l-.94 2.06-2.06.94zm10 10l.94 2.06.94-2.06 2.06-.94-2.06-.94-.94-2.06-.94 2.06-2.06.94z\"/><path d=\"M17.41 7.96l-1.37-1.37c-.4-.4-.92-.59-1.43-.59-.52 0-1.04.2-1.43.59L10.3 9.45l-7.72 7.72c-.78.78-.78 2.05 0 2.83L4 21.41c.39.39.9.59 1.41.59.51 0 1.02-.2 1.41-.59l7.78-7.78 2.81-2.81c.8-.78.8-2.07 0-2.86zM5.41 20L4 18.59l7.72-7.72 1.47 1.35L5.41 20z\"/>\n",
              "  </svg>\n",
              "      </button>\n",
              "      \n",
              "  <style>\n",
              "    .colab-df-container {\n",
              "      display:flex;\n",
              "      flex-wrap:wrap;\n",
              "      gap: 12px;\n",
              "    }\n",
              "\n",
              "    .colab-df-convert {\n",
              "      background-color: #E8F0FE;\n",
              "      border: none;\n",
              "      border-radius: 50%;\n",
              "      cursor: pointer;\n",
              "      display: none;\n",
              "      fill: #1967D2;\n",
              "      height: 32px;\n",
              "      padding: 0 0 0 0;\n",
              "      width: 32px;\n",
              "    }\n",
              "\n",
              "    .colab-df-convert:hover {\n",
              "      background-color: #E2EBFA;\n",
              "      box-shadow: 0px 1px 2px rgba(60, 64, 67, 0.3), 0px 1px 3px 1px rgba(60, 64, 67, 0.15);\n",
              "      fill: #174EA6;\n",
              "    }\n",
              "\n",
              "    [theme=dark] .colab-df-convert {\n",
              "      background-color: #3B4455;\n",
              "      fill: #D2E3FC;\n",
              "    }\n",
              "\n",
              "    [theme=dark] .colab-df-convert:hover {\n",
              "      background-color: #434B5C;\n",
              "      box-shadow: 0px 1px 3px 1px rgba(0, 0, 0, 0.15);\n",
              "      filter: drop-shadow(0px 1px 2px rgba(0, 0, 0, 0.3));\n",
              "      fill: #FFFFFF;\n",
              "    }\n",
              "  </style>\n",
              "\n",
              "      <script>\n",
              "        const buttonEl =\n",
              "          document.querySelector('#df-c97f6c02-b971-4700-bb58-1a884c796747 button.colab-df-convert');\n",
              "        buttonEl.style.display =\n",
              "          google.colab.kernel.accessAllowed ? 'block' : 'none';\n",
              "\n",
              "        async function convertToInteractive(key) {\n",
              "          const element = document.querySelector('#df-c97f6c02-b971-4700-bb58-1a884c796747');\n",
              "          const dataTable =\n",
              "            await google.colab.kernel.invokeFunction('convertToInteractive',\n",
              "                                                     [key], {});\n",
              "          if (!dataTable) return;\n",
              "\n",
              "          const docLinkHtml = 'Like what you see? Visit the ' +\n",
              "            '<a target=\"_blank\" href=https://colab.research.google.com/notebooks/data_table.ipynb>data table notebook</a>'\n",
              "            + ' to learn more about interactive tables.';\n",
              "          element.innerHTML = '';\n",
              "          dataTable['output_type'] = 'display_data';\n",
              "          await google.colab.output.renderOutput(dataTable, element);\n",
              "          const docLink = document.createElement('div');\n",
              "          docLink.innerHTML = docLinkHtml;\n",
              "          element.appendChild(docLink);\n",
              "        }\n",
              "      </script>\n",
              "    </div>\n",
              "  </div>\n",
              "  "
            ]
          },
          "metadata": {},
          "execution_count": 212
        }
      ]
    },
    {
      "cell_type": "markdown",
      "source": [
        "Dataset berjumlah 299 baris data dan 13 column"
      ],
      "metadata": {
        "id": "renmoOfbRaBp"
      }
    },
    {
      "cell_type": "markdown",
      "source": [
        "![dataset explain.png](data:image/png;base64,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)"
      ],
      "metadata": {
        "id": "0QarCu7OSTaq"
      }
    },
    {
      "cell_type": "markdown",
      "source": [
        "Ini adalah penjelasan dataset berdasarkan assignment"
      ],
      "metadata": {
        "id": "yui-LRrlSaMQ"
      }
    },
    {
      "cell_type": "markdown",
      "source": [
        "# **5 - Exploratory Data Analysis (EDA)**\n",
        "\n",
        "---"
      ],
      "metadata": {
        "id": "W85xTw4Xo_00"
      }
    },
    {
      "cell_type": "markdown",
      "source": [
        "Bagian ini berisi eksplorasi data pada dataset diatas dengan menggunakan query, grouping, visualisasi sederhana, dan lain sebagainya.\n",
        "\n"
      ],
      "metadata": {
        "id": "mhUmGJUEpFB8"
      }
    },
    {
      "cell_type": "code",
      "source": [
        "# Show 10 baris data awal\n",
        "copyData.head(10)"
      ],
      "metadata": {
        "colab": {
          "base_uri": "https://localhost:8080/",
          "height": 427
        },
        "id": "8yO21EjcRd7Y",
        "outputId": "605a9358-63d6-45ae-aaf4-8fae3693240c"
      },
      "execution_count": 213,
      "outputs": [
        {
          "output_type": "execute_result",
          "data": {
            "text/plain": [
              "    age  anaemia  creatinine_phosphokinase  diabetes  ejection_fraction  \\\n",
              "0  42.0        1                       250         1                 15   \n",
              "1  46.0        0                       168         1                 17   \n",
              "2  65.0        1                       160         1                 20   \n",
              "3  53.0        1                        91         0                 20   \n",
              "4  50.0        1                       582         1                 20   \n",
              "5  70.0        1                       125         0                 25   \n",
              "6  65.0        1                        52         0                 25   \n",
              "7  70.0        0                       161         0                 25   \n",
              "8  60.0        1                        76         1                 25   \n",
              "9  59.0        1                       280         1                 25   \n",
              "\n",
              "   high_blood_pressure  platelets  serum_creatinine  serum_sodium  sex  \\\n",
              "0                    0   213000.0               1.3           136    0   \n",
              "1                    1   271000.0               2.1           124    0   \n",
              "2                    0   327000.0               2.7           116    0   \n",
              "3                    1   418000.0               1.4           139    0   \n",
              "4                    1   279000.0               1.0           134    0   \n",
              "5                    1   237000.0               1.0           140    0   \n",
              "6                    1   276000.0               1.3           137    0   \n",
              "7                    0   244000.0               1.2           142    0   \n",
              "8                    0   196000.0               2.5           132    0   \n",
              "9                    1   302000.0               1.0           141    0   \n",
              "\n",
              "   smoking  time  DEATH_EVENT  \n",
              "0        0    65            1  \n",
              "1        0   100            1  \n",
              "2        0     8            1  \n",
              "3        0    43            1  \n",
              "4        0   186            0  \n",
              "5        0    15            1  \n",
              "6        0    16            0  \n",
              "7        0    66            1  \n",
              "8        0    77            1  \n",
              "9        0    78            1  "
            ],
            "text/html": [
              "\n",
              "  <div id=\"df-14784ff7-41b1-48d0-9d11-0b0c6afbd011\">\n",
              "    <div class=\"colab-df-container\">\n",
              "      <div>\n",
              "<style scoped>\n",
              "    .dataframe tbody tr th:only-of-type {\n",
              "        vertical-align: middle;\n",
              "    }\n",
              "\n",
              "    .dataframe tbody tr th {\n",
              "        vertical-align: top;\n",
              "    }\n",
              "\n",
              "    .dataframe thead th {\n",
              "        text-align: right;\n",
              "    }\n",
              "</style>\n",
              "<table border=\"1\" class=\"dataframe\">\n",
              "  <thead>\n",
              "    <tr style=\"text-align: right;\">\n",
              "      <th></th>\n",
              "      <th>age</th>\n",
              "      <th>anaemia</th>\n",
              "      <th>creatinine_phosphokinase</th>\n",
              "      <th>diabetes</th>\n",
              "      <th>ejection_fraction</th>\n",
              "      <th>high_blood_pressure</th>\n",
              "      <th>platelets</th>\n",
              "      <th>serum_creatinine</th>\n",
              "      <th>serum_sodium</th>\n",
              "      <th>sex</th>\n",
              "      <th>smoking</th>\n",
              "      <th>time</th>\n",
              "      <th>DEATH_EVENT</th>\n",
              "    </tr>\n",
              "  </thead>\n",
              "  <tbody>\n",
              "    <tr>\n",
              "      <th>0</th>\n",
              "      <td>42.0</td>\n",
              "      <td>1</td>\n",
              "      <td>250</td>\n",
              "      <td>1</td>\n",
              "      <td>15</td>\n",
              "      <td>0</td>\n",
              "      <td>213000.0</td>\n",
              "      <td>1.3</td>\n",
              "      <td>136</td>\n",
              "      <td>0</td>\n",
              "      <td>0</td>\n",
              "      <td>65</td>\n",
              "      <td>1</td>\n",
              "    </tr>\n",
              "    <tr>\n",
              "      <th>1</th>\n",
              "      <td>46.0</td>\n",
              "      <td>0</td>\n",
              "      <td>168</td>\n",
              "      <td>1</td>\n",
              "      <td>17</td>\n",
              "      <td>1</td>\n",
              "      <td>271000.0</td>\n",
              "      <td>2.1</td>\n",
              "      <td>124</td>\n",
              "      <td>0</td>\n",
              "      <td>0</td>\n",
              "      <td>100</td>\n",
              "      <td>1</td>\n",
              "    </tr>\n",
              "    <tr>\n",
              "      <th>2</th>\n",
              "      <td>65.0</td>\n",
              "      <td>1</td>\n",
              "      <td>160</td>\n",
              "      <td>1</td>\n",
              "      <td>20</td>\n",
              "      <td>0</td>\n",
              "      <td>327000.0</td>\n",
              "      <td>2.7</td>\n",
              "      <td>116</td>\n",
              "      <td>0</td>\n",
              "      <td>0</td>\n",
              "      <td>8</td>\n",
              "      <td>1</td>\n",
              "    </tr>\n",
              "    <tr>\n",
              "      <th>3</th>\n",
              "      <td>53.0</td>\n",
              "      <td>1</td>\n",
              "      <td>91</td>\n",
              "      <td>0</td>\n",
              "      <td>20</td>\n",
              "      <td>1</td>\n",
              "      <td>418000.0</td>\n",
              "      <td>1.4</td>\n",
              "      <td>139</td>\n",
              "      <td>0</td>\n",
              "      <td>0</td>\n",
              "      <td>43</td>\n",
              "      <td>1</td>\n",
              "    </tr>\n",
              "    <tr>\n",
              "      <th>4</th>\n",
              "      <td>50.0</td>\n",
              "      <td>1</td>\n",
              "      <td>582</td>\n",
              "      <td>1</td>\n",
              "      <td>20</td>\n",
              "      <td>1</td>\n",
              "      <td>279000.0</td>\n",
              "      <td>1.0</td>\n",
              "      <td>134</td>\n",
              "      <td>0</td>\n",
              "      <td>0</td>\n",
              "      <td>186</td>\n",
              "      <td>0</td>\n",
              "    </tr>\n",
              "    <tr>\n",
              "      <th>5</th>\n",
              "      <td>70.0</td>\n",
              "      <td>1</td>\n",
              "      <td>125</td>\n",
              "      <td>0</td>\n",
              "      <td>25</td>\n",
              "      <td>1</td>\n",
              "      <td>237000.0</td>\n",
              "      <td>1.0</td>\n",
              "      <td>140</td>\n",
              "      <td>0</td>\n",
              "      <td>0</td>\n",
              "      <td>15</td>\n",
              "      <td>1</td>\n",
              "    </tr>\n",
              "    <tr>\n",
              "      <th>6</th>\n",
              "      <td>65.0</td>\n",
              "      <td>1</td>\n",
              "      <td>52</td>\n",
              "      <td>0</td>\n",
              "      <td>25</td>\n",
              "      <td>1</td>\n",
              "      <td>276000.0</td>\n",
              "      <td>1.3</td>\n",
              "      <td>137</td>\n",
              "      <td>0</td>\n",
              "      <td>0</td>\n",
              "      <td>16</td>\n",
              "      <td>0</td>\n",
              "    </tr>\n",
              "    <tr>\n",
              "      <th>7</th>\n",
              "      <td>70.0</td>\n",
              "      <td>0</td>\n",
              "      <td>161</td>\n",
              "      <td>0</td>\n",
              "      <td>25</td>\n",
              "      <td>0</td>\n",
              "      <td>244000.0</td>\n",
              "      <td>1.2</td>\n",
              "      <td>142</td>\n",
              "      <td>0</td>\n",
              "      <td>0</td>\n",
              "      <td>66</td>\n",
              "      <td>1</td>\n",
              "    </tr>\n",
              "    <tr>\n",
              "      <th>8</th>\n",
              "      <td>60.0</td>\n",
              "      <td>1</td>\n",
              "      <td>76</td>\n",
              "      <td>1</td>\n",
              "      <td>25</td>\n",
              "      <td>0</td>\n",
              "      <td>196000.0</td>\n",
              "      <td>2.5</td>\n",
              "      <td>132</td>\n",
              "      <td>0</td>\n",
              "      <td>0</td>\n",
              "      <td>77</td>\n",
              "      <td>1</td>\n",
              "    </tr>\n",
              "    <tr>\n",
              "      <th>9</th>\n",
              "      <td>59.0</td>\n",
              "      <td>1</td>\n",
              "      <td>280</td>\n",
              "      <td>1</td>\n",
              "      <td>25</td>\n",
              "      <td>1</td>\n",
              "      <td>302000.0</td>\n",
              "      <td>1.0</td>\n",
              "      <td>141</td>\n",
              "      <td>0</td>\n",
              "      <td>0</td>\n",
              "      <td>78</td>\n",
              "      <td>1</td>\n",
              "    </tr>\n",
              "  </tbody>\n",
              "</table>\n",
              "</div>\n",
              "      <button class=\"colab-df-convert\" onclick=\"convertToInteractive('df-14784ff7-41b1-48d0-9d11-0b0c6afbd011')\"\n",
              "              title=\"Convert this dataframe to an interactive table.\"\n",
              "              style=\"display:none;\">\n",
              "        \n",
              "  <svg xmlns=\"http://www.w3.org/2000/svg\" height=\"24px\"viewBox=\"0 0 24 24\"\n",
              "       width=\"24px\">\n",
              "    <path d=\"M0 0h24v24H0V0z\" fill=\"none\"/>\n",
              "    <path d=\"M18.56 5.44l.94 2.06.94-2.06 2.06-.94-2.06-.94-.94-2.06-.94 2.06-2.06.94zm-11 1L8.5 8.5l.94-2.06 2.06-.94-2.06-.94L8.5 2.5l-.94 2.06-2.06.94zm10 10l.94 2.06.94-2.06 2.06-.94-2.06-.94-.94-2.06-.94 2.06-2.06.94z\"/><path d=\"M17.41 7.96l-1.37-1.37c-.4-.4-.92-.59-1.43-.59-.52 0-1.04.2-1.43.59L10.3 9.45l-7.72 7.72c-.78.78-.78 2.05 0 2.83L4 21.41c.39.39.9.59 1.41.59.51 0 1.02-.2 1.41-.59l7.78-7.78 2.81-2.81c.8-.78.8-2.07 0-2.86zM5.41 20L4 18.59l7.72-7.72 1.47 1.35L5.41 20z\"/>\n",
              "  </svg>\n",
              "      </button>\n",
              "      \n",
              "  <style>\n",
              "    .colab-df-container {\n",
              "      display:flex;\n",
              "      flex-wrap:wrap;\n",
              "      gap: 12px;\n",
              "    }\n",
              "\n",
              "    .colab-df-convert {\n",
              "      background-color: #E8F0FE;\n",
              "      border: none;\n",
              "      border-radius: 50%;\n",
              "      cursor: pointer;\n",
              "      display: none;\n",
              "      fill: #1967D2;\n",
              "      height: 32px;\n",
              "      padding: 0 0 0 0;\n",
              "      width: 32px;\n",
              "    }\n",
              "\n",
              "    .colab-df-convert:hover {\n",
              "      background-color: #E2EBFA;\n",
              "      box-shadow: 0px 1px 2px rgba(60, 64, 67, 0.3), 0px 1px 3px 1px rgba(60, 64, 67, 0.15);\n",
              "      fill: #174EA6;\n",
              "    }\n",
              "\n",
              "    [theme=dark] .colab-df-convert {\n",
              "      background-color: #3B4455;\n",
              "      fill: #D2E3FC;\n",
              "    }\n",
              "\n",
              "    [theme=dark] .colab-df-convert:hover {\n",
              "      background-color: #434B5C;\n",
              "      box-shadow: 0px 1px 3px 1px rgba(0, 0, 0, 0.15);\n",
              "      filter: drop-shadow(0px 1px 2px rgba(0, 0, 0, 0.3));\n",
              "      fill: #FFFFFF;\n",
              "    }\n",
              "  </style>\n",
              "\n",
              "      <script>\n",
              "        const buttonEl =\n",
              "          document.querySelector('#df-14784ff7-41b1-48d0-9d11-0b0c6afbd011 button.colab-df-convert');\n",
              "        buttonEl.style.display =\n",
              "          google.colab.kernel.accessAllowed ? 'block' : 'none';\n",
              "\n",
              "        async function convertToInteractive(key) {\n",
              "          const element = document.querySelector('#df-14784ff7-41b1-48d0-9d11-0b0c6afbd011');\n",
              "          const dataTable =\n",
              "            await google.colab.kernel.invokeFunction('convertToInteractive',\n",
              "                                                     [key], {});\n",
              "          if (!dataTable) return;\n",
              "\n",
              "          const docLinkHtml = 'Like what you see? Visit the ' +\n",
              "            '<a target=\"_blank\" href=https://colab.research.google.com/notebooks/data_table.ipynb>data table notebook</a>'\n",
              "            + ' to learn more about interactive tables.';\n",
              "          element.innerHTML = '';\n",
              "          dataTable['output_type'] = 'display_data';\n",
              "          await google.colab.output.renderOutput(dataTable, element);\n",
              "          const docLink = document.createElement('div');\n",
              "          docLink.innerHTML = docLinkHtml;\n",
              "          element.appendChild(docLink);\n",
              "        }\n",
              "      </script>\n",
              "    </div>\n",
              "  </div>\n",
              "  "
            ]
          },
          "metadata": {},
          "execution_count": 213
        }
      ]
    },
    {
      "cell_type": "markdown",
      "source": [
        "Berikut 10 data awal pada dataset sesuai dengan instruksi assignment"
      ],
      "metadata": {
        "id": "4ekQkT3rRl_Z"
      }
    },
    {
      "cell_type": "code",
      "source": [
        "# Show 10 baris data akhir\n",
        "copyData.tail(10)"
      ],
      "metadata": {
        "colab": {
          "base_uri": "https://localhost:8080/",
          "height": 427
        },
        "id": "-3gBrEY1RizB",
        "outputId": "c3fc492f-d4db-4490-aafa-2f5a3c6f5d1f"
      },
      "execution_count": 214,
      "outputs": [
        {
          "output_type": "execute_result",
          "data": {
            "text/plain": [
              "      age  anaemia  creatinine_phosphokinase  diabetes  ejection_fraction  \\\n",
              "289  64.0        0                      1610         0                 60   \n",
              "290  62.0        0                        30         1                 60   \n",
              "291  53.0        0                       196         0                 60   \n",
              "292  70.0        1                       171         0                 60   \n",
              "293  60.0        1                        95         0                 60   \n",
              "294  63.0        1                       122         1                 60   \n",
              "295  45.0        0                       308         1                 60   \n",
              "296  70.0        0                        97         0                 60   \n",
              "297  53.0        1                       446         0                 60   \n",
              "298  50.0        0                       582         0                 62   \n",
              "\n",
              "     high_blood_pressure  platelets  serum_creatinine  serum_sodium  sex  \\\n",
              "289                    0  242000.00               1.0           137    1   \n",
              "290                    1  244000.00               0.9           139    1   \n",
              "291                    0  220000.00               0.7           133    1   \n",
              "292                    1  176000.00               1.1           145    1   \n",
              "293                    0  337000.00               1.0           138    1   \n",
              "294                    0  267000.00               1.2           145    1   \n",
              "295                    1  377000.00               1.0           136    1   \n",
              "296                    1  220000.00               0.9           138    1   \n",
              "297                    1  263358.03               1.0           139    1   \n",
              "298                    1  147000.00               0.8           140    1   \n",
              "\n",
              "     smoking  time  DEATH_EVENT  \n",
              "289        0   113            0  \n",
              "290        0   117            0  \n",
              "291        1   134            0  \n",
              "292        1   146            0  \n",
              "293        1   146            0  \n",
              "294        0   147            0  \n",
              "295        0   186            0  \n",
              "296        0   186            0  \n",
              "297        0   215            0  \n",
              "298        1   192            0  "
            ],
            "text/html": [
              "\n",
              "  <div id=\"df-16f74181-164b-456d-ada6-1f33b53585f1\">\n",
              "    <div class=\"colab-df-container\">\n",
              "      <div>\n",
              "<style scoped>\n",
              "    .dataframe tbody tr th:only-of-type {\n",
              "        vertical-align: middle;\n",
              "    }\n",
              "\n",
              "    .dataframe tbody tr th {\n",
              "        vertical-align: top;\n",
              "    }\n",
              "\n",
              "    .dataframe thead th {\n",
              "        text-align: right;\n",
              "    }\n",
              "</style>\n",
              "<table border=\"1\" class=\"dataframe\">\n",
              "  <thead>\n",
              "    <tr style=\"text-align: right;\">\n",
              "      <th></th>\n",
              "      <th>age</th>\n",
              "      <th>anaemia</th>\n",
              "      <th>creatinine_phosphokinase</th>\n",
              "      <th>diabetes</th>\n",
              "      <th>ejection_fraction</th>\n",
              "      <th>high_blood_pressure</th>\n",
              "      <th>platelets</th>\n",
              "      <th>serum_creatinine</th>\n",
              "      <th>serum_sodium</th>\n",
              "      <th>sex</th>\n",
              "      <th>smoking</th>\n",
              "      <th>time</th>\n",
              "      <th>DEATH_EVENT</th>\n",
              "    </tr>\n",
              "  </thead>\n",
              "  <tbody>\n",
              "    <tr>\n",
              "      <th>289</th>\n",
              "      <td>64.0</td>\n",
              "      <td>0</td>\n",
              "      <td>1610</td>\n",
              "      <td>0</td>\n",
              "      <td>60</td>\n",
              "      <td>0</td>\n",
              "      <td>242000.00</td>\n",
              "      <td>1.0</td>\n",
              "      <td>137</td>\n",
              "      <td>1</td>\n",
              "      <td>0</td>\n",
              "      <td>113</td>\n",
              "      <td>0</td>\n",
              "    </tr>\n",
              "    <tr>\n",
              "      <th>290</th>\n",
              "      <td>62.0</td>\n",
              "      <td>0</td>\n",
              "      <td>30</td>\n",
              "      <td>1</td>\n",
              "      <td>60</td>\n",
              "      <td>1</td>\n",
              "      <td>244000.00</td>\n",
              "      <td>0.9</td>\n",
              "      <td>139</td>\n",
              "      <td>1</td>\n",
              "      <td>0</td>\n",
              "      <td>117</td>\n",
              "      <td>0</td>\n",
              "    </tr>\n",
              "    <tr>\n",
              "      <th>291</th>\n",
              "      <td>53.0</td>\n",
              "      <td>0</td>\n",
              "      <td>196</td>\n",
              "      <td>0</td>\n",
              "      <td>60</td>\n",
              "      <td>0</td>\n",
              "      <td>220000.00</td>\n",
              "      <td>0.7</td>\n",
              "      <td>133</td>\n",
              "      <td>1</td>\n",
              "      <td>1</td>\n",
              "      <td>134</td>\n",
              "      <td>0</td>\n",
              "    </tr>\n",
              "    <tr>\n",
              "      <th>292</th>\n",
              "      <td>70.0</td>\n",
              "      <td>1</td>\n",
              "      <td>171</td>\n",
              "      <td>0</td>\n",
              "      <td>60</td>\n",
              "      <td>1</td>\n",
              "      <td>176000.00</td>\n",
              "      <td>1.1</td>\n",
              "      <td>145</td>\n",
              "      <td>1</td>\n",
              "      <td>1</td>\n",
              "      <td>146</td>\n",
              "      <td>0</td>\n",
              "    </tr>\n",
              "    <tr>\n",
              "      <th>293</th>\n",
              "      <td>60.0</td>\n",
              "      <td>1</td>\n",
              "      <td>95</td>\n",
              "      <td>0</td>\n",
              "      <td>60</td>\n",
              "      <td>0</td>\n",
              "      <td>337000.00</td>\n",
              "      <td>1.0</td>\n",
              "      <td>138</td>\n",
              "      <td>1</td>\n",
              "      <td>1</td>\n",
              "      <td>146</td>\n",
              "      <td>0</td>\n",
              "    </tr>\n",
              "    <tr>\n",
              "      <th>294</th>\n",
              "      <td>63.0</td>\n",
              "      <td>1</td>\n",
              "      <td>122</td>\n",
              "      <td>1</td>\n",
              "      <td>60</td>\n",
              "      <td>0</td>\n",
              "      <td>267000.00</td>\n",
              "      <td>1.2</td>\n",
              "      <td>145</td>\n",
              "      <td>1</td>\n",
              "      <td>0</td>\n",
              "      <td>147</td>\n",
              "      <td>0</td>\n",
              "    </tr>\n",
              "    <tr>\n",
              "      <th>295</th>\n",
              "      <td>45.0</td>\n",
              "      <td>0</td>\n",
              "      <td>308</td>\n",
              "      <td>1</td>\n",
              "      <td>60</td>\n",
              "      <td>1</td>\n",
              "      <td>377000.00</td>\n",
              "      <td>1.0</td>\n",
              "      <td>136</td>\n",
              "      <td>1</td>\n",
              "      <td>0</td>\n",
              "      <td>186</td>\n",
              "      <td>0</td>\n",
              "    </tr>\n",
              "    <tr>\n",
              "      <th>296</th>\n",
              "      <td>70.0</td>\n",
              "      <td>0</td>\n",
              "      <td>97</td>\n",
              "      <td>0</td>\n",
              "      <td>60</td>\n",
              "      <td>1</td>\n",
              "      <td>220000.00</td>\n",
              "      <td>0.9</td>\n",
              "      <td>138</td>\n",
              "      <td>1</td>\n",
              "      <td>0</td>\n",
              "      <td>186</td>\n",
              "      <td>0</td>\n",
              "    </tr>\n",
              "    <tr>\n",
              "      <th>297</th>\n",
              "      <td>53.0</td>\n",
              "      <td>1</td>\n",
              "      <td>446</td>\n",
              "      <td>0</td>\n",
              "      <td>60</td>\n",
              "      <td>1</td>\n",
              "      <td>263358.03</td>\n",
              "      <td>1.0</td>\n",
              "      <td>139</td>\n",
              "      <td>1</td>\n",
              "      <td>0</td>\n",
              "      <td>215</td>\n",
              "      <td>0</td>\n",
              "    </tr>\n",
              "    <tr>\n",
              "      <th>298</th>\n",
              "      <td>50.0</td>\n",
              "      <td>0</td>\n",
              "      <td>582</td>\n",
              "      <td>0</td>\n",
              "      <td>62</td>\n",
              "      <td>1</td>\n",
              "      <td>147000.00</td>\n",
              "      <td>0.8</td>\n",
              "      <td>140</td>\n",
              "      <td>1</td>\n",
              "      <td>1</td>\n",
              "      <td>192</td>\n",
              "      <td>0</td>\n",
              "    </tr>\n",
              "  </tbody>\n",
              "</table>\n",
              "</div>\n",
              "      <button class=\"colab-df-convert\" onclick=\"convertToInteractive('df-16f74181-164b-456d-ada6-1f33b53585f1')\"\n",
              "              title=\"Convert this dataframe to an interactive table.\"\n",
              "              style=\"display:none;\">\n",
              "        \n",
              "  <svg xmlns=\"http://www.w3.org/2000/svg\" height=\"24px\"viewBox=\"0 0 24 24\"\n",
              "       width=\"24px\">\n",
              "    <path d=\"M0 0h24v24H0V0z\" fill=\"none\"/>\n",
              "    <path d=\"M18.56 5.44l.94 2.06.94-2.06 2.06-.94-2.06-.94-.94-2.06-.94 2.06-2.06.94zm-11 1L8.5 8.5l.94-2.06 2.06-.94-2.06-.94L8.5 2.5l-.94 2.06-2.06.94zm10 10l.94 2.06.94-2.06 2.06-.94-2.06-.94-.94-2.06-.94 2.06-2.06.94z\"/><path d=\"M17.41 7.96l-1.37-1.37c-.4-.4-.92-.59-1.43-.59-.52 0-1.04.2-1.43.59L10.3 9.45l-7.72 7.72c-.78.78-.78 2.05 0 2.83L4 21.41c.39.39.9.59 1.41.59.51 0 1.02-.2 1.41-.59l7.78-7.78 2.81-2.81c.8-.78.8-2.07 0-2.86zM5.41 20L4 18.59l7.72-7.72 1.47 1.35L5.41 20z\"/>\n",
              "  </svg>\n",
              "      </button>\n",
              "      \n",
              "  <style>\n",
              "    .colab-df-container {\n",
              "      display:flex;\n",
              "      flex-wrap:wrap;\n",
              "      gap: 12px;\n",
              "    }\n",
              "\n",
              "    .colab-df-convert {\n",
              "      background-color: #E8F0FE;\n",
              "      border: none;\n",
              "      border-radius: 50%;\n",
              "      cursor: pointer;\n",
              "      display: none;\n",
              "      fill: #1967D2;\n",
              "      height: 32px;\n",
              "      padding: 0 0 0 0;\n",
              "      width: 32px;\n",
              "    }\n",
              "\n",
              "    .colab-df-convert:hover {\n",
              "      background-color: #E2EBFA;\n",
              "      box-shadow: 0px 1px 2px rgba(60, 64, 67, 0.3), 0px 1px 3px 1px rgba(60, 64, 67, 0.15);\n",
              "      fill: #174EA6;\n",
              "    }\n",
              "\n",
              "    [theme=dark] .colab-df-convert {\n",
              "      background-color: #3B4455;\n",
              "      fill: #D2E3FC;\n",
              "    }\n",
              "\n",
              "    [theme=dark] .colab-df-convert:hover {\n",
              "      background-color: #434B5C;\n",
              "      box-shadow: 0px 1px 3px 1px rgba(0, 0, 0, 0.15);\n",
              "      filter: drop-shadow(0px 1px 2px rgba(0, 0, 0, 0.3));\n",
              "      fill: #FFFFFF;\n",
              "    }\n",
              "  </style>\n",
              "\n",
              "      <script>\n",
              "        const buttonEl =\n",
              "          document.querySelector('#df-16f74181-164b-456d-ada6-1f33b53585f1 button.colab-df-convert');\n",
              "        buttonEl.style.display =\n",
              "          google.colab.kernel.accessAllowed ? 'block' : 'none';\n",
              "\n",
              "        async function convertToInteractive(key) {\n",
              "          const element = document.querySelector('#df-16f74181-164b-456d-ada6-1f33b53585f1');\n",
              "          const dataTable =\n",
              "            await google.colab.kernel.invokeFunction('convertToInteractive',\n",
              "                                                     [key], {});\n",
              "          if (!dataTable) return;\n",
              "\n",
              "          const docLinkHtml = 'Like what you see? Visit the ' +\n",
              "            '<a target=\"_blank\" href=https://colab.research.google.com/notebooks/data_table.ipynb>data table notebook</a>'\n",
              "            + ' to learn more about interactive tables.';\n",
              "          element.innerHTML = '';\n",
              "          dataTable['output_type'] = 'display_data';\n",
              "          await google.colab.output.renderOutput(dataTable, element);\n",
              "          const docLink = document.createElement('div');\n",
              "          docLink.innerHTML = docLinkHtml;\n",
              "          element.appendChild(docLink);\n",
              "        }\n",
              "      </script>\n",
              "    </div>\n",
              "  </div>\n",
              "  "
            ]
          },
          "metadata": {},
          "execution_count": 214
        }
      ]
    },
    {
      "cell_type": "markdown",
      "source": [
        "Berikut 10 data akhir pada dataset sesuai dengan instruksi assignment"
      ],
      "metadata": {
        "id": "YFvGIwfrRqSs"
      }
    },
    {
      "cell_type": "code",
      "source": [
        "# Beginning data insight\n",
        "copyData.describe().T"
      ],
      "metadata": {
        "colab": {
          "base_uri": "https://localhost:8080/",
          "height": 457
        },
        "id": "9MJDsJ_wSgyq",
        "outputId": "6d8adee8-2be7-40cd-ef60-e831328f23cd"
      },
      "execution_count": 215,
      "outputs": [
        {
          "output_type": "execute_result",
          "data": {
            "text/plain": [
              "                          count           mean           std      min  \\\n",
              "age                       299.0      60.833893     11.894809     40.0   \n",
              "anaemia                   299.0       0.431438      0.496107      0.0   \n",
              "creatinine_phosphokinase  299.0     581.839465    970.287881     23.0   \n",
              "diabetes                  299.0       0.418060      0.494067      0.0   \n",
              "ejection_fraction         299.0      38.083612     11.834841     14.0   \n",
              "high_blood_pressure       299.0       0.351171      0.478136      0.0   \n",
              "platelets                 299.0  263358.029264  97804.236869  25100.0   \n",
              "serum_creatinine          299.0       1.393880      1.034510      0.5   \n",
              "serum_sodium              299.0     136.625418      4.412477    113.0   \n",
              "sex                       299.0       0.648829      0.478136      0.0   \n",
              "smoking                   299.0       0.321070      0.467670      0.0   \n",
              "time                      299.0     130.260870     77.614208      4.0   \n",
              "DEATH_EVENT               299.0       0.321070      0.467670      0.0   \n",
              "\n",
              "                               25%       50%       75%       max  \n",
              "age                           51.0      60.0      70.0      95.0  \n",
              "anaemia                        0.0       0.0       1.0       1.0  \n",
              "creatinine_phosphokinase     116.5     250.0     582.0    7861.0  \n",
              "diabetes                       0.0       0.0       1.0       1.0  \n",
              "ejection_fraction             30.0      38.0      45.0      80.0  \n",
              "high_blood_pressure            0.0       0.0       1.0       1.0  \n",
              "platelets                 212500.0  262000.0  303500.0  850000.0  \n",
              "serum_creatinine               0.9       1.1       1.4       9.4  \n",
              "serum_sodium                 134.0     137.0     140.0     148.0  \n",
              "sex                            0.0       1.0       1.0       1.0  \n",
              "smoking                        0.0       0.0       1.0       1.0  \n",
              "time                          73.0     115.0     203.0     285.0  \n",
              "DEATH_EVENT                    0.0       0.0       1.0       1.0  "
            ],
            "text/html": [
              "\n",
              "  <div id=\"df-30f20929-a9dc-4b9b-b3ec-5c2eae25cfcb\">\n",
              "    <div class=\"colab-df-container\">\n",
              "      <div>\n",
              "<style scoped>\n",
              "    .dataframe tbody tr th:only-of-type {\n",
              "        vertical-align: middle;\n",
              "    }\n",
              "\n",
              "    .dataframe tbody tr th {\n",
              "        vertical-align: top;\n",
              "    }\n",
              "\n",
              "    .dataframe thead th {\n",
              "        text-align: right;\n",
              "    }\n",
              "</style>\n",
              "<table border=\"1\" class=\"dataframe\">\n",
              "  <thead>\n",
              "    <tr style=\"text-align: right;\">\n",
              "      <th></th>\n",
              "      <th>count</th>\n",
              "      <th>mean</th>\n",
              "      <th>std</th>\n",
              "      <th>min</th>\n",
              "      <th>25%</th>\n",
              "      <th>50%</th>\n",
              "      <th>75%</th>\n",
              "      <th>max</th>\n",
              "    </tr>\n",
              "  </thead>\n",
              "  <tbody>\n",
              "    <tr>\n",
              "      <th>age</th>\n",
              "      <td>299.0</td>\n",
              "      <td>60.833893</td>\n",
              "      <td>11.894809</td>\n",
              "      <td>40.0</td>\n",
              "      <td>51.0</td>\n",
              "      <td>60.0</td>\n",
              "      <td>70.0</td>\n",
              "      <td>95.0</td>\n",
              "    </tr>\n",
              "    <tr>\n",
              "      <th>anaemia</th>\n",
              "      <td>299.0</td>\n",
              "      <td>0.431438</td>\n",
              "      <td>0.496107</td>\n",
              "      <td>0.0</td>\n",
              "      <td>0.0</td>\n",
              "      <td>0.0</td>\n",
              "      <td>1.0</td>\n",
              "      <td>1.0</td>\n",
              "    </tr>\n",
              "    <tr>\n",
              "      <th>creatinine_phosphokinase</th>\n",
              "      <td>299.0</td>\n",
              "      <td>581.839465</td>\n",
              "      <td>970.287881</td>\n",
              "      <td>23.0</td>\n",
              "      <td>116.5</td>\n",
              "      <td>250.0</td>\n",
              "      <td>582.0</td>\n",
              "      <td>7861.0</td>\n",
              "    </tr>\n",
              "    <tr>\n",
              "      <th>diabetes</th>\n",
              "      <td>299.0</td>\n",
              "      <td>0.418060</td>\n",
              "      <td>0.494067</td>\n",
              "      <td>0.0</td>\n",
              "      <td>0.0</td>\n",
              "      <td>0.0</td>\n",
              "      <td>1.0</td>\n",
              "      <td>1.0</td>\n",
              "    </tr>\n",
              "    <tr>\n",
              "      <th>ejection_fraction</th>\n",
              "      <td>299.0</td>\n",
              "      <td>38.083612</td>\n",
              "      <td>11.834841</td>\n",
              "      <td>14.0</td>\n",
              "      <td>30.0</td>\n",
              "      <td>38.0</td>\n",
              "      <td>45.0</td>\n",
              "      <td>80.0</td>\n",
              "    </tr>\n",
              "    <tr>\n",
              "      <th>high_blood_pressure</th>\n",
              "      <td>299.0</td>\n",
              "      <td>0.351171</td>\n",
              "      <td>0.478136</td>\n",
              "      <td>0.0</td>\n",
              "      <td>0.0</td>\n",
              "      <td>0.0</td>\n",
              "      <td>1.0</td>\n",
              "      <td>1.0</td>\n",
              "    </tr>\n",
              "    <tr>\n",
              "      <th>platelets</th>\n",
              "      <td>299.0</td>\n",
              "      <td>263358.029264</td>\n",
              "      <td>97804.236869</td>\n",
              "      <td>25100.0</td>\n",
              "      <td>212500.0</td>\n",
              "      <td>262000.0</td>\n",
              "      <td>303500.0</td>\n",
              "      <td>850000.0</td>\n",
              "    </tr>\n",
              "    <tr>\n",
              "      <th>serum_creatinine</th>\n",
              "      <td>299.0</td>\n",
              "      <td>1.393880</td>\n",
              "      <td>1.034510</td>\n",
              "      <td>0.5</td>\n",
              "      <td>0.9</td>\n",
              "      <td>1.1</td>\n",
              "      <td>1.4</td>\n",
              "      <td>9.4</td>\n",
              "    </tr>\n",
              "    <tr>\n",
              "      <th>serum_sodium</th>\n",
              "      <td>299.0</td>\n",
              "      <td>136.625418</td>\n",
              "      <td>4.412477</td>\n",
              "      <td>113.0</td>\n",
              "      <td>134.0</td>\n",
              "      <td>137.0</td>\n",
              "      <td>140.0</td>\n",
              "      <td>148.0</td>\n",
              "    </tr>\n",
              "    <tr>\n",
              "      <th>sex</th>\n",
              "      <td>299.0</td>\n",
              "      <td>0.648829</td>\n",
              "      <td>0.478136</td>\n",
              "      <td>0.0</td>\n",
              "      <td>0.0</td>\n",
              "      <td>1.0</td>\n",
              "      <td>1.0</td>\n",
              "      <td>1.0</td>\n",
              "    </tr>\n",
              "    <tr>\n",
              "      <th>smoking</th>\n",
              "      <td>299.0</td>\n",
              "      <td>0.321070</td>\n",
              "      <td>0.467670</td>\n",
              "      <td>0.0</td>\n",
              "      <td>0.0</td>\n",
              "      <td>0.0</td>\n",
              "      <td>1.0</td>\n",
              "      <td>1.0</td>\n",
              "    </tr>\n",
              "    <tr>\n",
              "      <th>time</th>\n",
              "      <td>299.0</td>\n",
              "      <td>130.260870</td>\n",
              "      <td>77.614208</td>\n",
              "      <td>4.0</td>\n",
              "      <td>73.0</td>\n",
              "      <td>115.0</td>\n",
              "      <td>203.0</td>\n",
              "      <td>285.0</td>\n",
              "    </tr>\n",
              "    <tr>\n",
              "      <th>DEATH_EVENT</th>\n",
              "      <td>299.0</td>\n",
              "      <td>0.321070</td>\n",
              "      <td>0.467670</td>\n",
              "      <td>0.0</td>\n",
              "      <td>0.0</td>\n",
              "      <td>0.0</td>\n",
              "      <td>1.0</td>\n",
              "      <td>1.0</td>\n",
              "    </tr>\n",
              "  </tbody>\n",
              "</table>\n",
              "</div>\n",
              "      <button class=\"colab-df-convert\" onclick=\"convertToInteractive('df-30f20929-a9dc-4b9b-b3ec-5c2eae25cfcb')\"\n",
              "              title=\"Convert this dataframe to an interactive table.\"\n",
              "              style=\"display:none;\">\n",
              "        \n",
              "  <svg xmlns=\"http://www.w3.org/2000/svg\" height=\"24px\"viewBox=\"0 0 24 24\"\n",
              "       width=\"24px\">\n",
              "    <path d=\"M0 0h24v24H0V0z\" fill=\"none\"/>\n",
              "    <path d=\"M18.56 5.44l.94 2.06.94-2.06 2.06-.94-2.06-.94-.94-2.06-.94 2.06-2.06.94zm-11 1L8.5 8.5l.94-2.06 2.06-.94-2.06-.94L8.5 2.5l-.94 2.06-2.06.94zm10 10l.94 2.06.94-2.06 2.06-.94-2.06-.94-.94-2.06-.94 2.06-2.06.94z\"/><path d=\"M17.41 7.96l-1.37-1.37c-.4-.4-.92-.59-1.43-.59-.52 0-1.04.2-1.43.59L10.3 9.45l-7.72 7.72c-.78.78-.78 2.05 0 2.83L4 21.41c.39.39.9.59 1.41.59.51 0 1.02-.2 1.41-.59l7.78-7.78 2.81-2.81c.8-.78.8-2.07 0-2.86zM5.41 20L4 18.59l7.72-7.72 1.47 1.35L5.41 20z\"/>\n",
              "  </svg>\n",
              "      </button>\n",
              "      \n",
              "  <style>\n",
              "    .colab-df-container {\n",
              "      display:flex;\n",
              "      flex-wrap:wrap;\n",
              "      gap: 12px;\n",
              "    }\n",
              "\n",
              "    .colab-df-convert {\n",
              "      background-color: #E8F0FE;\n",
              "      border: none;\n",
              "      border-radius: 50%;\n",
              "      cursor: pointer;\n",
              "      display: none;\n",
              "      fill: #1967D2;\n",
              "      height: 32px;\n",
              "      padding: 0 0 0 0;\n",
              "      width: 32px;\n",
              "    }\n",
              "\n",
              "    .colab-df-convert:hover {\n",
              "      background-color: #E2EBFA;\n",
              "      box-shadow: 0px 1px 2px rgba(60, 64, 67, 0.3), 0px 1px 3px 1px rgba(60, 64, 67, 0.15);\n",
              "      fill: #174EA6;\n",
              "    }\n",
              "\n",
              "    [theme=dark] .colab-df-convert {\n",
              "      background-color: #3B4455;\n",
              "      fill: #D2E3FC;\n",
              "    }\n",
              "\n",
              "    [theme=dark] .colab-df-convert:hover {\n",
              "      background-color: #434B5C;\n",
              "      box-shadow: 0px 1px 3px 1px rgba(0, 0, 0, 0.15);\n",
              "      filter: drop-shadow(0px 1px 2px rgba(0, 0, 0, 0.3));\n",
              "      fill: #FFFFFF;\n",
              "    }\n",
              "  </style>\n",
              "\n",
              "      <script>\n",
              "        const buttonEl =\n",
              "          document.querySelector('#df-30f20929-a9dc-4b9b-b3ec-5c2eae25cfcb button.colab-df-convert');\n",
              "        buttonEl.style.display =\n",
              "          google.colab.kernel.accessAllowed ? 'block' : 'none';\n",
              "\n",
              "        async function convertToInteractive(key) {\n",
              "          const element = document.querySelector('#df-30f20929-a9dc-4b9b-b3ec-5c2eae25cfcb');\n",
              "          const dataTable =\n",
              "            await google.colab.kernel.invokeFunction('convertToInteractive',\n",
              "                                                     [key], {});\n",
              "          if (!dataTable) return;\n",
              "\n",
              "          const docLinkHtml = 'Like what you see? Visit the ' +\n",
              "            '<a target=\"_blank\" href=https://colab.research.google.com/notebooks/data_table.ipynb>data table notebook</a>'\n",
              "            + ' to learn more about interactive tables.';\n",
              "          element.innerHTML = '';\n",
              "          dataTable['output_type'] = 'display_data';\n",
              "          await google.colab.output.renderOutput(dataTable, element);\n",
              "          const docLink = document.createElement('div');\n",
              "          docLink.innerHTML = docLinkHtml;\n",
              "          element.appendChild(docLink);\n",
              "        }\n",
              "      </script>\n",
              "    </div>\n",
              "  </div>\n",
              "  "
            ]
          },
          "metadata": {},
          "execution_count": 215
        }
      ]
    },
    {
      "cell_type": "markdown",
      "source": [
        "Dari data diatas dapat dilihat untuk data `age` tergolong normal distribution, untuk data `creatinine_phosphokinase` cenderung right extreme. Sementara menurut Jurnal [ini](https://repositori.usu.ac.id/handle/123456789/15293) `ejection_fraction` gagal jantung ditandai jika nilainya < 40%."
      ],
      "metadata": {
        "id": "VC7iDVWWWypq"
      }
    },
    {
      "cell_type": "code",
      "source": [
        "# check data info\n",
        "copyData.info()"
      ],
      "metadata": {
        "colab": {
          "base_uri": "https://localhost:8080/"
        },
        "id": "I2qs7yjGsi4S",
        "outputId": "dd768f14-f2b2-4fb7-d583-b3a2a9ef7121"
      },
      "execution_count": 216,
      "outputs": [
        {
          "output_type": "stream",
          "name": "stdout",
          "text": [
            "<class 'pandas.core.frame.DataFrame'>\n",
            "RangeIndex: 299 entries, 0 to 298\n",
            "Data columns (total 13 columns):\n",
            " #   Column                    Non-Null Count  Dtype  \n",
            "---  ------                    --------------  -----  \n",
            " 0   age                       299 non-null    float64\n",
            " 1   anaemia                   299 non-null    int64  \n",
            " 2   creatinine_phosphokinase  299 non-null    int64  \n",
            " 3   diabetes                  299 non-null    int64  \n",
            " 4   ejection_fraction         299 non-null    int64  \n",
            " 5   high_blood_pressure       299 non-null    int64  \n",
            " 6   platelets                 299 non-null    float64\n",
            " 7   serum_creatinine          299 non-null    float64\n",
            " 8   serum_sodium              299 non-null    int64  \n",
            " 9   sex                       299 non-null    int64  \n",
            " 10  smoking                   299 non-null    int64  \n",
            " 11  time                      299 non-null    int64  \n",
            " 12  DEATH_EVENT               299 non-null    int64  \n",
            "dtypes: float64(3), int64(10)\n",
            "memory usage: 30.5 KB\n"
          ]
        }
      ]
    },
    {
      "cell_type": "code",
      "source": [
        "# Melihat banyaknya orang yang merokok berdasarkan gender\n",
        "copyData.groupby(['sex'])['smoking'].value_counts()"
      ],
      "metadata": {
        "colab": {
          "base_uri": "https://localhost:8080/"
        },
        "id": "UvjjLkjXYQ8P",
        "outputId": "61f6f985-49fc-4e4f-d181-6f2c3695c905"
      },
      "execution_count": 217,
      "outputs": [
        {
          "output_type": "execute_result",
          "data": {
            "text/plain": [
              "sex  smoking\n",
              "0    0          101\n",
              "     1            4\n",
              "1    0          102\n",
              "     1           92\n",
              "Name: smoking, dtype: int64"
            ]
          },
          "metadata": {},
          "execution_count": 217
        }
      ]
    },
    {
      "cell_type": "code",
      "source": [
        "# Visualisasi\n",
        "ax = copyData.groupby(['sex', 'smoking']).size().plot(kind='bar')\n",
        "\n",
        "# Customize the plot\n",
        "ax.set_xlabel('Sex')\n",
        "ax.set_ylabel('Count')\n",
        "ax.set_title('Distribution of Smoking Status by Sex')\n",
        "plt.show()"
      ],
      "metadata": {
        "colab": {
          "base_uri": "https://localhost:8080/",
          "height": 312
        },
        "id": "Lu_8oqrzbXnG",
        "outputId": "63f34da0-bd61-4991-ff99-3c95631c8139"
      },
      "execution_count": 218,
      "outputs": [
        {
          "output_type": "display_data",
          "data": {
            "text/plain": [
              "<Figure size 432x288 with 1 Axes>"
            ],
            "image/png": "[encoded data removed]"
          },
          "metadata": {
            "needs_background": "light"
          }
        }
      ]
    },
    {
      "cell_type": "markdown",
      "source": [
        "Perempuan dengan kategori tidak merokok ada 101 orang dan yang merokok ada 4 orang, sedangkan pria yang tidak merokok ada 102 orang dan yang merokok ada 92 orang."
      ],
      "metadata": {
        "id": "lSLxdJkgYhfJ"
      }
    },
    {
      "cell_type": "code",
      "source": [
        "# Melihat banyaknya orang yang diabetes berdasarkan gender\n",
        "copyData.groupby(['sex'])['diabetes'].value_counts()"
      ],
      "metadata": {
        "colab": {
          "base_uri": "https://localhost:8080/"
        },
        "id": "mhNwsE0HY0e4",
        "outputId": "159ed198-1c49-405d-b75a-5bf0a0c60c2a"
      },
      "execution_count": 219,
      "outputs": [
        {
          "output_type": "execute_result",
          "data": {
            "text/plain": [
              "sex  diabetes\n",
              "0    1            55\n",
              "     0            50\n",
              "1    0           124\n",
              "     1            70\n",
              "Name: diabetes, dtype: int64"
            ]
          },
          "metadata": {},
          "execution_count": 219
        }
      ]
    },
    {
      "cell_type": "code",
      "source": [
        "# Visualisasi\n",
        "az = copyData.groupby(['sex', 'diabetes']).size().plot(kind='bar')\n",
        "\n",
        "# Customize the plot\n",
        "az.set_xlabel('Sex')\n",
        "az.set_ylabel('Count')\n",
        "az.set_title('Distribution of Diabetes Status by Sex')\n",
        "plt.show()"
      ],
      "metadata": {
        "colab": {
          "base_uri": "https://localhost:8080/",
          "height": 312
        },
        "id": "ABEgSE90c_wq",
        "outputId": "ac4d7c9a-7117-4cce-9873-bdc829f8531c"
      },
      "execution_count": 220,
      "outputs": [
        {
          "output_type": "display_data",
          "data": {
            "text/plain": [
              "<Figure size 432x288 with 1 Axes>"
            ],
            "image/png": "[encoded data removed]"
          },
          "metadata": {
            "needs_background": "light"
          }
        }
      ]
    },
    {
      "cell_type": "markdown",
      "source": [
        "Dari data dan visualisasi diatas didapat bahwa wanita dengan tidak diabetes ada sebanyak 50 orang dan yang diabetes ada 55 orang, sedangkan pria dengan tidak diabetes ada 124 orang dan diabetes ada 70 orang"
      ],
      "metadata": {
        "id": "oRsfpg-EdI6w"
      }
    },
    {
      "cell_type": "code",
      "source": [
        "# Data age binning\n",
        "criteria = [\n",
        "    (copyData['age'] >= 30) & (copyData['age'] < 50),\n",
        "    (copyData['age'] >= 50) & (copyData['age'] < 60),\n",
        "    (copyData['age'] >= 60) & (copyData['age'] < 70),\n",
        "    (copyData['age'] >= 70) & (copyData['age'] < 80),\n",
        "    (copyData['age'] >= 80) & (copyData['age'] < 90),\n",
        "    (copyData['age'] >= 90)\n",
        "]\n",
        "\n",
        "binLabels = ['under50', 'under60', 'under70', 'under80', 'under90', 'more90']\n",
        "\n",
        "copyData['age_bin'] = pd.cut(copyData['age'], bins=[39, 49, 59, 69, 79, 89, float('inf')], labels=binLabels)"
      ],
      "metadata": {
        "id": "j7feSd5NvyIu"
      },
      "execution_count": 221,
      "outputs": []
    },
    {
      "cell_type": "code",
      "source": [
        "copyData.age_bin.unique()"
      ],
      "metadata": {
        "colab": {
          "base_uri": "https://localhost:8080/"
        },
        "id": "Se8Su5zA0DZ5",
        "outputId": "a33d07ce-254b-46ad-ee31-dfb2e1a7c0ea"
      },
      "execution_count": 222,
      "outputs": [
        {
          "output_type": "execute_result",
          "data": {
            "text/plain": [
              "['under50', 'under70', 'under60', 'under80', 'under90', 'more90']\n",
              "Categories (6, object): ['under50' < 'under60' < 'under70' < 'under80' < 'under90' < 'more90']"
            ]
          },
          "metadata": {},
          "execution_count": 222
        }
      ]
    },
    {
      "cell_type": "markdown",
      "source": [
        "Berikut hasil binning berdasarkan kriteria umur"
      ],
      "metadata": {
        "id": "GI67xEtL7H-d"
      }
    },
    {
      "cell_type": "code",
      "source": [
        "# Function Visualization\n",
        "def diagnosticPlots(df, variable):\n",
        "  plt.figure(figsize=(16, 5))\n",
        "\n",
        "  # Histogram\n",
        "  plt.subplot(1, 2, 1)\n",
        "  sns.histplot(df[variable], bins=30)\n",
        "  plt.title('Histogram '+variable)"
      ],
      "metadata": {
        "id": "VtMyd3JN3NIv"
      },
      "execution_count": 223,
      "outputs": []
    },
    {
      "cell_type": "code",
      "source": [
        "# Histogram Visualization\n",
        "diagnosticPlots(copyData, 'age_bin')"
      ],
      "metadata": {
        "colab": {
          "base_uri": "https://localhost:8080/",
          "height": 351
        },
        "id": "ud2PVufc42MV",
        "outputId": "36f1da75-e2e2-406d-c186-59405171b59a"
      },
      "execution_count": 224,
      "outputs": [
        {
          "output_type": "display_data",
          "data": {
            "text/plain": [
              "<Figure size 1152x360 with 1 Axes>"
            ],
            "image/png": "[encoded data removed]"
          },
          "metadata": {
            "needs_background": "light"
          }
        }
      ]
    },
    {
      "cell_type": "markdown",
      "source": [
        "Persebaran data terbanyak ada diusia dengan rentang dari 60 sampai 69 tahun dengan total lebih kurang 95 orang"
      ],
      "metadata": {
        "id": "YgHowd3W5Q_F"
      }
    },
    {
      "cell_type": "code",
      "source": [
        "# Melihat banyak data yang terkena anaemia\n",
        "copyData.groupby('age_bin')['anaemia'].value_counts()"
      ],
      "metadata": {
        "colab": {
          "base_uri": "https://localhost:8080/"
        },
        "id": "s7NkbSck5goV",
        "outputId": "47ebbb07-a744-47a1-91fd-b628530dbf50"
      },
      "execution_count": 225,
      "outputs": [
        {
          "output_type": "execute_result",
          "data": {
            "text/plain": [
              "age_bin  anaemia\n",
              "under50  0          33\n",
              "         1          14\n",
              "under60  0          45\n",
              "         1          37\n",
              "under70  1          47\n",
              "         0          46\n",
              "under80  0          33\n",
              "         1          19\n",
              "under90  0          12\n",
              "         1           7\n",
              "more90   1           5\n",
              "         0           1\n",
              "Name: anaemia, dtype: int64"
            ]
          },
          "metadata": {},
          "execution_count": 225
        }
      ]
    },
    {
      "cell_type": "markdown",
      "source": [
        "Penderita aenemia terbanyak ada di rentang usia 60-69 tahun, hal ini terjadi kemungkinan dari dari faktor usia."
      ],
      "metadata": {
        "id": "SRNTBDr55x7W"
      }
    },
    {
      "cell_type": "code",
      "source": [
        "# Melihat banyak orang yang memiliki tekanan darah tinggi\n",
        "copyData.groupby('age_bin')['high_blood_pressure'].value_counts()"
      ],
      "metadata": {
        "colab": {
          "base_uri": "https://localhost:8080/"
        },
        "id": "pvkUfWXd6gHv",
        "outputId": "04e6bbb8-db35-438d-ab58-7ad350180261"
      },
      "execution_count": 226,
      "outputs": [
        {
          "output_type": "execute_result",
          "data": {
            "text/plain": [
              "age_bin  high_blood_pressure\n",
              "under50  0                      33\n",
              "         1                      14\n",
              "under60  0                      56\n",
              "         1                      26\n",
              "under70  0                      64\n",
              "         1                      29\n",
              "under80  1                      29\n",
              "         0                      23\n",
              "under90  0                      15\n",
              "         1                       4\n",
              "more90   0                       3\n",
              "         1                       3\n",
              "Name: high_blood_pressure, dtype: int64"
            ]
          },
          "metadata": {},
          "execution_count": 226
        }
      ]
    },
    {
      "cell_type": "markdown",
      "source": [
        "Disamping memiliki anaemia, ternyata rentang usia 60-69 banyak juga yang memilik tekanan darah tinggi, yaitu sebanyak 29 orang. Akan tetapi di range usia ini juga banyak yang tidak memiliki tekanan darah tinggi, yaitu sebanyak 64 orang. Hal ini disebabkan kemungkinan banyak dari mereka yang menjalani pola hidup sehat maupun konsumsi obat pengontrol tekanan darah."
      ],
      "metadata": {
        "id": "jXqJeEvq6tJE"
      }
    },
    {
      "cell_type": "code",
      "source": [
        "# Melihat data perokok\n",
        "copyData.groupby(['age_bin', 'sex'])['smoking'].value_counts()"
      ],
      "metadata": {
        "colab": {
          "base_uri": "https://localhost:8080/"
        },
        "id": "y_FFMbQ0ThCk",
        "outputId": "4d481a82-af5e-4dd7-b0a8-6e436b0bd7e9"
      },
      "execution_count": 227,
      "outputs": [
        {
          "output_type": "execute_result",
          "data": {
            "text/plain": [
              "age_bin  sex  smoking\n",
              "under50  0    0          20\n",
              "         1    0          16\n",
              "              1          11\n",
              "under60  0    0          25\n",
              "              1           1\n",
              "         1    0          28\n",
              "              1          28\n",
              "under70  0    0          34\n",
              "              1           1\n",
              "         1    0          30\n",
              "              1          28\n",
              "under80  0    0          16\n",
              "              1           2\n",
              "         1    0          17\n",
              "              1          17\n",
              "under90  0    0           4\n",
              "         1    0           8\n",
              "              1           7\n",
              "more90   0    0           2\n",
              "         1    0           3\n",
              "              1           1\n",
              "Name: smoking, dtype: int64"
            ]
          },
          "metadata": {},
          "execution_count": 227
        }
      ]
    },
    {
      "cell_type": "markdown",
      "source": [
        "Ternyata rentang umur 50-59 tahun dan 60-69 tahun itulah mereka yang paling banyak merokok dan kebanyakan dari perokok adalah wanita"
      ],
      "metadata": {
        "id": "n_0mOEr9T0tL"
      }
    },
    {
      "cell_type": "code",
      "source": [
        "# Melihat data kadar platelets < 150,000  dan  > 450,000\n",
        "underPlatelets = copyData.loc[(copyData['platelets'] < 150000)]\n",
        "\n",
        "# Melihat data kadar platelets  > 400,000\n",
        "upperPlatelets = copyData.loc[(copyData['platelets'] > 400000)]\n",
        "\n",
        "# Ploting\n",
        "diagnosticPlots(underPlatelets, 'platelets')\n",
        "diagnosticPlots(upperPlatelets, 'platelets')\n",
        "print(underPlatelets.shape)\n",
        "print(upperPlatelets.shape)"
      ],
      "metadata": {
        "colab": {
          "base_uri": "https://localhost:8080/",
          "height": 718
        },
        "id": "V01X6ZHz7dUv",
        "outputId": "3b4ac9bc-cbb4-46b9-f4eb-0748377e6b7b"
      },
      "execution_count": 228,
      "outputs": [
        {
          "output_type": "stream",
          "name": "stdout",
          "text": [
            "(27, 14)\n",
            "(20, 14)\n"
          ]
        },
        {
          "output_type": "display_data",
          "data": {
            "text/plain": [
              "<Figure size 1152x360 with 1 Axes>"
            ],
            "image/png": "[encoded data removed]"
          },
          "metadata": {
            "needs_background": "light"
          }
        },
        {
          "output_type": "display_data",
          "data": {
            "text/plain": [
              "<Figure size 1152x360 with 1 Axes>"
            ],
            "image/png": "[encoded data removed]"
          },
          "metadata": {
            "needs_background": "light"
          }
        }
      ]
    },
    {
      "cell_type": "markdown",
      "source": [
        "Menurut situs [OneBlood.org](https://www.oneblood.org/media/blog/platelets/what-is-a-normal-platelet-count.stml) kadar platelets normal ada di range 150,000 - 400,000. Data diatas adalah mereka yang memiliki kadar platelets dibawah 150,000 dan diatas 400,000. Hal tersebut membahayakan karena platelets berfungsi dalam melakukan pembekuan darah jika terjadi luka, jika kadarnya kurang atau lebih dari range tersebut maka luka tidak dapat dicover dan darahnya akan terus keluar. Untuk data platelets < 150,000 terbanyak ada di kisaran 145,000 dengan total sebanyak 5 orang, sedangkan untuk kadar platelets > 400,000 ada di kisaran 410,000 sebanyak 4 orang dan 455,000 ada sebanyak 4 orang."
      ],
      "metadata": {
        "id": "MNVkGuhB8pLT"
      }
    },
    {
      "cell_type": "code",
      "source": [
        "# melihat kadar serum_creatinine berdasarkan gender\n",
        "wsc = copyData.loc[(copyData['sex'] == 0) & (copyData['serum_creatinine'] > 1.04)]\n",
        "msc = copyData.loc[(copyData['sex'] == 1) & (copyData['serum_creatinine'] > 1.35)]\n",
        "\n",
        "# Ploting data\n",
        "diagnosticPlots(wsc, 'age_bin')\n",
        "diagnosticPlots(msc, 'age_bin')"
      ],
      "metadata": {
        "colab": {
          "base_uri": "https://localhost:8080/",
          "height": 685
        },
        "id": "wlvYxuKKBDUR",
        "outputId": "ebda35d3-935f-4db9-e646-7c82dc29198e"
      },
      "execution_count": 229,
      "outputs": [
        {
          "output_type": "display_data",
          "data": {
            "text/plain": [
              "<Figure size 1152x360 with 1 Axes>"
            ],
            "image/png": "[encoded data removed]"
          },
          "metadata": {
            "needs_background": "light"
          }
        },
        {
          "output_type": "display_data",
          "data": {
            "text/plain": [
              "<Figure size 1152x360 with 1 Axes>"
            ],
            "image/png": "[encoded data removed]"
          },
          "metadata": {
            "needs_background": "light"
          }
        }
      ]
    },
    {
      "cell_type": "markdown",
      "source": [
        "Menurut data untuk wanita dewasa kadar `serum_creatinine` normal yaitu 0.59 to 1.04 mg/dL, data diatas adalah banyaknya wanita dewasa yang memiliki kadar `serum_creatinine` diatas batas atas. Umur dengan range 60-69 tahun yang paling banyak memiliki kadar `serum_creatinine` diatas batas atas. Untuk pria dewasa kadar normal `serum_creatinine` adalah 0.74 to 1.35 mg/dL, sama halnya dengan data wanita, rentang umur 60-69 adalah yang paling banyak datanya."
      ],
      "metadata": {
        "id": "mvtY0bULC2_c"
      }
    },
    {
      "cell_type": "code",
      "source": [
        "# Visualization between death and gender\n",
        "plt.figure(figsize=(15,5))\n",
        "plt.subplot(1,2,1)\n",
        "ax = sns.countplot(x='DEATH_EVENT', data = copyData)\n",
        "for p in ax.patches:\n",
        "    height = p.get_height()\n",
        "    ax.text(p.get_x() + p.get_width()/2.,height + 1, '{:1.0f}'.format(height), ha=\"center\")\n",
        "\n",
        "plt.subplot(1,2,2)\n",
        "plt.pie(copyData.DEATH_EVENT.value_counts(), labels= copyData.DEATH_EVENT.value_counts().index, autopct = '%1.1f%%')\n",
        "plt.show()"
      ],
      "metadata": {
        "colab": {
          "base_uri": "https://localhost:8080/",
          "height": 335
        },
        "id": "v1t-apTiNRih",
        "outputId": "6a4c35fd-3739-4af9-f128-6c4f09983e68"
      },
      "execution_count": 230,
      "outputs": [
        {
          "output_type": "display_data",
          "data": {
            "text/plain": [
              "<Figure size 1080x360 with 2 Axes>"
            ],
            "image/png": "[encoded data removed]"
          },
          "metadata": {
            "needs_background": "light"
          }
        }
      ]
    },
    {
      "cell_type": "markdown",
      "source": [
        "Jumlah kematian tertinggi dari ada ada pada wanita dengan total 67.9% dibanding pria dengan 32.1%"
      ],
      "metadata": {
        "id": "brRanVwcNmfs"
      }
    },
    {
      "cell_type": "markdown",
      "source": [
        "# **6. Data Preprocessing**\n",
        "\n",
        "---"
      ],
      "metadata": {
        "id": "3Iaw_lF3pGul"
      }
    },
    {
      "cell_type": "markdown",
      "source": [
        "Bagian ini berisi proses penyiapan data untuk proses pelatihan model, seperti pembagian data menjadi train-test, transformasi data (normalisasi, encoding, dll.), dan proses-proses lain yang dibutuhkan."
      ],
      "metadata": {
        "id": "fdHB1LiapKnt"
      }
    },
    {
      "cell_type": "markdown",
      "source": [
        "## 6.1 *Split data between X (Features) and y (Target)*"
      ],
      "metadata": {
        "id": "ry0cim069q86"
      }
    },
    {
      "cell_type": "code",
      "source": [
        "# Split data between x and y\n",
        "X = copyData.drop(columns=['DEATH_EVENT'])\n",
        "y = copyData['DEATH_EVENT']"
      ],
      "metadata": {
        "id": "6361dou39rrg"
      },
      "execution_count": 231,
      "outputs": []
    },
    {
      "cell_type": "markdown",
      "source": [
        "## 6.2 Missing Value Handling"
      ],
      "metadata": {
        "id": "2F98-cV3-aWW"
      }
    },
    {
      "cell_type": "code",
      "source": [
        "# Check Missing Value\n",
        "print('Missing Value Data X : ')\n",
        "print(X.isnull().sum())\n",
        "print('')\n",
        "print('Missing Value Data y : ')\n",
        "print(y.isnull().sum())"
      ],
      "metadata": {
        "colab": {
          "base_uri": "https://localhost:8080/"
        },
        "id": "HYi68aVl-W9K",
        "outputId": "c5eab039-850a-4940-c73e-ce0925ff18cd"
      },
      "execution_count": 232,
      "outputs": [
        {
          "output_type": "stream",
          "name": "stdout",
          "text": [
            "Missing Value Data X : \n",
            "age                         0\n",
            "anaemia                     0\n",
            "creatinine_phosphokinase    0\n",
            "diabetes                    0\n",
            "ejection_fraction           0\n",
            "high_blood_pressure         0\n",
            "platelets                   0\n",
            "serum_creatinine            0\n",
            "serum_sodium                0\n",
            "sex                         0\n",
            "smoking                     0\n",
            "time                        0\n",
            "age_bin                     0\n",
            "dtype: int64\n",
            "\n",
            "Missing Value Data y : \n",
            "0\n"
          ]
        }
      ]
    },
    {
      "cell_type": "markdown",
      "source": [
        "Tidak ada missing value di data X ataupun y"
      ],
      "metadata": {
        "id": "kPLBKVcY-2W1"
      }
    },
    {
      "cell_type": "markdown",
      "source": [
        "## 6.3 Split data for Train-set and Test-set"
      ],
      "metadata": {
        "id": "RFRvwn2s-8QD"
      }
    },
    {
      "cell_type": "code",
      "source": [
        "# Split data for Train and Test\n",
        "X_train, X_test, y_train, y_test = train_test_split(X, y, test_size=0.2, random_state=19, stratify=y)\n",
        "\n",
        "# Check shape data\n",
        "print('Shape data X_train : ', X_train.shape)\n",
        "print('Shape data X_test  : ', X_test.shape)\n",
        "print('Shape data y_train : ', y_train.shape)\n",
        "print('Shape data y_test  : ', y_test.shape)"
      ],
      "metadata": {
        "colab": {
          "base_uri": "https://localhost:8080/"
        },
        "id": "Kma-PLtV-9A8",
        "outputId": "048fee94-c2dd-4dc6-c511-0176184da39d"
      },
      "execution_count": 233,
      "outputs": [
        {
          "output_type": "stream",
          "name": "stdout",
          "text": [
            "Shape data X_train :  (239, 13)\n",
            "Shape data X_test  :  (60, 13)\n",
            "Shape data y_train :  (239,)\n",
            "Shape data y_test  :  (60,)\n"
          ]
        }
      ]
    },
    {
      "cell_type": "markdown",
      "source": [
        "pembagian data untuk X_train ada 239 baris dan 13 kolom, X_test ada 60 baris dan 13 kolom. Sedangkan data y_train ada 239 data dan y_test ada 60 data"
      ],
      "metadata": {
        "id": "nLPg6AIg_eZI"
      }
    },
    {
      "cell_type": "markdown",
      "source": [
        "## 6.4 Outlier Handling"
      ],
      "metadata": {
        "id": "0Rel2a2T_uzp"
      }
    },
    {
      "cell_type": "code",
      "source": [
        "# Define function outlier visualization\n",
        "def diagnosticVis(df, variable):\n",
        "  plt.figure(figsize = (15, 6))\n",
        "\n",
        "  # Histogram \n",
        "  plt.subplot(1, 2, 1)\n",
        "  sns.histplot(df[variable], bins=30)\n",
        "  plt.title('Histogram '+variable)\n",
        "\n",
        "  # Boxplot\n",
        "  plt.subplot(1, 2, 2)\n",
        "  sns.boxplot(y = df[variable])\n",
        "  plt.title('Boxplot '+variable)\n",
        "\n",
        "  plt.show()"
      ],
      "metadata": {
        "id": "r8KMpIRA_vUm"
      },
      "execution_count": 234,
      "outputs": []
    },
    {
      "cell_type": "code",
      "source": [
        "# Outlier data X_train\n",
        "diagnosticVis(X_train, 'age')\n",
        "diagnosticVis(X_train, 'creatinine_phosphokinase')\n",
        "diagnosticVis(X_train, 'ejection_fraction')\n",
        "diagnosticVis(X_train, 'serum_creatinine')\n",
        "diagnosticVis(X_train, 'serum_sodium')\n",
        "\n",
        "# Outlier data X_test\n",
        "diagnosticVis(X_test, 'age')\n",
        "diagnosticVis(X_test, 'creatinine_phosphokinase')\n",
        "diagnosticVis(X_test, 'ejection_fraction')\n",
        "diagnosticVis(X_test, 'serum_creatinine')\n",
        "diagnosticVis(X_test, 'serum_sodium')"
      ],
      "metadata": {
        "colab": {
          "base_uri": "https://localhost:8080/",
          "height": 1000
        },
        "id": "trLnHHkD_77T",
        "outputId": "651c6f28-2b9a-4acd-a6a7-ec6453057459"
      },
      "execution_count": 235,
      "outputs": [
        {
          "output_type": "display_data",
          "data": {
            "text/plain": [
              "<Figure size 1080x432 with 2 Axes>"
            ],
            "image/png": "[encoded data removed]"
          },
          "metadata": {
            "needs_background": "light"
          }
        },
        {
          "output_type": "display_data",
          "data": {
            "text/plain": [
              "<Figure size 1080x432 with 2 Axes>"
            ],
            "image/png": "[encoded data removed]"
          },
          "metadata": {
            "needs_background": "light"
          }
        },
        {
          "output_type": "display_data",
          "data": {
            "text/plain": [
              "<Figure size 1080x432 with 2 Axes>"
            ],
            "image/png": "[encoded data removed]"
          },
          "metadata": {
            "needs_background": "light"
          }
        },
        {
          "output_type": "display_data",
          "data": {
            "text/plain": [
              "<Figure size 1080x432 with 2 Axes>"
            ],
            "image/png": "[encoded data removed]"
          },
          "metadata": {
            "needs_background": "light"
          }
        },
        {
          "output_type": "display_data",
          "data": {
            "text/plain": [
              "<Figure size 1080x432 with 2 Axes>"
            ],
            "image/png": "[encoded data removed]"
          },
          "metadata": {
            "needs_background": "light"
          }
        },
        {
          "output_type": "display_data",
          "data": {
            "text/plain": [
              "<Figure size 1080x432 with 2 Axes>"
            ],
            "image/png": "[encoded data removed]"
          },
          "metadata": {
            "needs_background": "light"
          }
        },
        {
          "output_type": "display_data",
          "data": {
            "text/plain": [
              "<Figure size 1080x432 with 2 Axes>"
            ],
            "image/png": "[encoded data removed]"
          },
          "metadata": {
            "needs_background": "light"
          }
        },
        {
          "output_type": "display_data",
          "data": {
            "text/plain": [
              "<Figure size 1080x432 with 2 Axes>"
            ],
            "image/png": "[encoded data removed]"
          },
          "metadata": {
            "needs_background": "light"
          }
        },
        {
          "output_type": "display_data",
          "data": {
            "text/plain": [
              "<Figure size 1080x432 with 2 Axes>"
            ],
            "image/png": "[encoded data removed]"
          },
          "metadata": {
            "needs_background": "light"
          }
        },
        {
          "output_type": "display_data",
          "data": {
            "text/plain": [
              "<Figure size 1080x432 with 2 Axes>"
            ],
            "image/png": "[encoded data removed]"
          },
          "metadata": {
            "needs_background": "light"
          }
        }
      ]
    },
    {
      "cell_type": "markdown",
      "source": [
        "Berikut data-data outlier dari data X_train dan X_test, saya berasumsi bahwa memang ada orang yang memiliki kadar `creatinine_phosphokinase, ejection_fraction, serum_creatinine` dan `serum_sodium` diatas batas normal dari kadar seharusnya. Hal ini disebabkan kemungkinan karena faktor keturunan, faktor usia dan faktor external lainnya yang menyebabkan mereka memiliki kadar diluar dari batas normal. Jadi saya akan membiarkan outlier diatas"
      ],
      "metadata": {
        "id": "k1CaddCRFnjE"
      }
    },
    {
      "cell_type": "markdown",
      "source": [
        "## 6.5 Feature Selection\n",
        "\n"
      ],
      "metadata": {
        "id": "jdH-VrZ6GToJ"
      }
    },
    {
      "cell_type": "code",
      "source": [
        "# Feature selection\n",
        "X_train.drop(['age'], axis=1, inplace=True)\n",
        "X_test.drop(['age'], axis=1, inplace=True)"
      ],
      "metadata": {
        "id": "0ttxwtu2GUrm"
      },
      "execution_count": 236,
      "outputs": []
    },
    {
      "cell_type": "markdown",
      "source": [
        "Saya menghapus kolom `age` karena saya sudah mendefinisikan kolom baru yaitu `age_bin` yang datanya berupa kriteria data range umur "
      ],
      "metadata": {
        "id": "Fz3vNSNmGlEo"
      }
    },
    {
      "cell_type": "markdown",
      "source": [
        "## 6.6 Split between Numerical and Categorical"
      ],
      "metadata": {
        "id": "ZtD8Jsb2Gu6R"
      }
    },
    {
      "cell_type": "code",
      "source": [
        "# Split data numerical and categorical\n",
        "numCol = X_train.select_dtypes(include = np.number).columns.tolist()\n",
        "catCol = X_train.select_dtypes(include = ['category', 'object']).columns.tolist()\n",
        "\n",
        "# Display\n",
        "print('Numerical Data   : ', numCol)\n",
        "print('Categorical Data : ', catCol)"
      ],
      "metadata": {
        "colab": {
          "base_uri": "https://localhost:8080/"
        },
        "id": "2XxDXWS4GxEs",
        "outputId": "7f0a0c88-c9c3-49fe-b665-7cda3a94eddd"
      },
      "execution_count": 237,
      "outputs": [
        {
          "output_type": "stream",
          "name": "stdout",
          "text": [
            "Numerical Data   :  ['anaemia', 'creatinine_phosphokinase', 'diabetes', 'ejection_fraction', 'high_blood_pressure', 'platelets', 'serum_creatinine', 'serum_sodium', 'sex', 'smoking', 'time']\n",
            "Categorical Data :  ['age_bin']\n"
          ]
        }
      ]
    },
    {
      "cell_type": "code",
      "source": [
        "# Split Train-set and Test-set into numerical\n",
        "X_trainNum = X_train[numCol]\n",
        "X_testNum = X_test[numCol]\n",
        "\n",
        "# Split Train-set and Test-set into categorical\n",
        "X_trainCat = X_train[catCol]\n",
        "X_testCat = X_test[catCol]"
      ],
      "metadata": {
        "id": "7VZJ7gzdH9y2"
      },
      "execution_count": 238,
      "outputs": []
    },
    {
      "cell_type": "markdown",
      "source": [
        "Berikut pembagian data berdasarkan numerical dan categorical"
      ],
      "metadata": {
        "id": "2GxsLpryHrL8"
      }
    },
    {
      "cell_type": "markdown",
      "source": [
        "## 6.7 Feature Scaling"
      ],
      "metadata": {
        "id": "kkA2cCFNHw82"
      }
    },
    {
      "cell_type": "code",
      "source": [
        "# Scaling data with Robust\n",
        "# Function scaler\n",
        "scaler = RobustScaler()\n",
        "scaler.fit(X_trainNum)\n",
        "\n",
        "# Apply scaling\n",
        "X_trainScaled = scaler.transform(X_trainNum)\n",
        "X_testScaled = scaler.transform(X_testNum)\n",
        "\n",
        "# Display \n",
        "X_trainScaled"
      ],
      "metadata": {
        "colab": {
          "base_uri": "https://localhost:8080/"
        },
        "id": "P-HVureDHyBP",
        "outputId": "d921a74b-40e1-4d3e-d7ef-e6f1365d72db"
      },
      "execution_count": 239,
      "outputs": [
        {
          "output_type": "execute_result",
          "data": {
            "text/plain": [
              "array([[ 1.        , -0.27795874,  0.        , ...,  0.        ,\n",
              "         0.        ,  0.70229008],\n",
              "       [ 0.        , -0.09554832,  0.        , ..., -1.        ,\n",
              "         0.        ,  0.97709924],\n",
              "       [ 0.        , -0.34744843,  0.        , ...,  0.        ,\n",
              "         0.        ,  0.52671756],\n",
              "       ...,\n",
              "       [ 1.        ,  1.72421281,  1.        , ..., -1.        ,\n",
              "         0.        ,  0.98473282],\n",
              "       [ 1.        , -0.05646037,  1.        , ...,  0.        ,\n",
              "         1.        ,  0.48091603],\n",
              "       [ 1.        , -0.28664495,  0.        , ..., -1.        ,\n",
              "         0.        , -0.77862595]])"
            ]
          },
          "metadata": {},
          "execution_count": 239
        }
      ]
    },
    {
      "cell_type": "markdown",
      "source": [
        "Berikut hasil scaling data numerical"
      ],
      "metadata": {
        "id": "JMKKiZqBIDwi"
      }
    },
    {
      "cell_type": "markdown",
      "source": [
        "## 6.8 Feature Encoding"
      ],
      "metadata": {
        "id": "v5oT-bQbIOac"
      }
    },
    {
      "cell_type": "code",
      "source": [
        "# Label encoding\n",
        "encoder = LabelEncoder()\n",
        "\n",
        "# Apply encoder\n",
        "X_trainCat['age_bin_enc'] = encoder.fit_transform(X_train['age_bin'])\n",
        "X_testCat['age_bin_enc'] = encoder.fit_transform(X_test['age_bin'])\n",
        "\n",
        "# Drop column\n",
        "X_trainCat.drop(['age_bin'], axis=1, inplace=True)\n",
        "X_testCat.drop(['age_bin'], axis=1, inplace=True)\n",
        "\n",
        "# Display\n",
        "X_trainCat"
      ],
      "metadata": {
        "colab": {
          "base_uri": "https://localhost:8080/",
          "height": 423
        },
        "id": "3w81WTD2IN4G",
        "outputId": "dfb11c35-5753-4df3-e4d4-7ea1f0c5fa62"
      },
      "execution_count": 240,
      "outputs": [
        {
          "output_type": "execute_result",
          "data": {
            "text/plain": [
              "     age_bin_enc\n",
              "197            1\n",
              "52             3\n",
              "296            4\n",
              "192            4\n",
              "190            3\n",
              "..           ...\n",
              "140            3\n",
              "245            2\n",
              "27             2\n",
              "163            4\n",
              "5              4\n",
              "\n",
              "[239 rows x 1 columns]"
            ],
            "text/html": [
              "\n",
              "  <div id=\"df-c4dfc3ec-6dc3-4b01-83f1-f83cebe6f04e\">\n",
              "    <div class=\"colab-df-container\">\n",
              "      <div>\n",
              "<style scoped>\n",
              "    .dataframe tbody tr th:only-of-type {\n",
              "        vertical-align: middle;\n",
              "    }\n",
              "\n",
              "    .dataframe tbody tr th {\n",
              "        vertical-align: top;\n",
              "    }\n",
              "\n",
              "    .dataframe thead th {\n",
              "        text-align: right;\n",
              "    }\n",
              "</style>\n",
              "<table border=\"1\" class=\"dataframe\">\n",
              "  <thead>\n",
              "    <tr style=\"text-align: right;\">\n",
              "      <th></th>\n",
              "      <th>age_bin_enc</th>\n",
              "    </tr>\n",
              "  </thead>\n",
              "  <tbody>\n",
              "    <tr>\n",
              "      <th>197</th>\n",
              "      <td>1</td>\n",
              "    </tr>\n",
              "    <tr>\n",
              "      <th>52</th>\n",
              "      <td>3</td>\n",
              "    </tr>\n",
              "    <tr>\n",
              "      <th>296</th>\n",
              "      <td>4</td>\n",
              "    </tr>\n",
              "    <tr>\n",
              "      <th>192</th>\n",
              "      <td>4</td>\n",
              "    </tr>\n",
              "    <tr>\n",
              "      <th>190</th>\n",
              "      <td>3</td>\n",
              "    </tr>\n",
              "    <tr>\n",
              "      <th>...</th>\n",
              "      <td>...</td>\n",
              "    </tr>\n",
              "    <tr>\n",
              "      <th>140</th>\n",
              "      <td>3</td>\n",
              "    </tr>\n",
              "    <tr>\n",
              "      <th>245</th>\n",
              "      <td>2</td>\n",
              "    </tr>\n",
              "    <tr>\n",
              "      <th>27</th>\n",
              "      <td>2</td>\n",
              "    </tr>\n",
              "    <tr>\n",
              "      <th>163</th>\n",
              "      <td>4</td>\n",
              "    </tr>\n",
              "    <tr>\n",
              "      <th>5</th>\n",
              "      <td>4</td>\n",
              "    </tr>\n",
              "  </tbody>\n",
              "</table>\n",
              "<p>239 rows × 1 columns</p>\n",
              "</div>\n",
              "      <button class=\"colab-df-convert\" onclick=\"convertToInteractive('df-c4dfc3ec-6dc3-4b01-83f1-f83cebe6f04e')\"\n",
              "              title=\"Convert this dataframe to an interactive table.\"\n",
              "              style=\"display:none;\">\n",
              "        \n",
              "  <svg xmlns=\"http://www.w3.org/2000/svg\" height=\"24px\"viewBox=\"0 0 24 24\"\n",
              "       width=\"24px\">\n",
              "    <path d=\"M0 0h24v24H0V0z\" fill=\"none\"/>\n",
              "    <path d=\"M18.56 5.44l.94 2.06.94-2.06 2.06-.94-2.06-.94-.94-2.06-.94 2.06-2.06.94zm-11 1L8.5 8.5l.94-2.06 2.06-.94-2.06-.94L8.5 2.5l-.94 2.06-2.06.94zm10 10l.94 2.06.94-2.06 2.06-.94-2.06-.94-.94-2.06-.94 2.06-2.06.94z\"/><path d=\"M17.41 7.96l-1.37-1.37c-.4-.4-.92-.59-1.43-.59-.52 0-1.04.2-1.43.59L10.3 9.45l-7.72 7.72c-.78.78-.78 2.05 0 2.83L4 21.41c.39.39.9.59 1.41.59.51 0 1.02-.2 1.41-.59l7.78-7.78 2.81-2.81c.8-.78.8-2.07 0-2.86zM5.41 20L4 18.59l7.72-7.72 1.47 1.35L5.41 20z\"/>\n",
              "  </svg>\n",
              "      </button>\n",
              "      \n",
              "  <style>\n",
              "    .colab-df-container {\n",
              "      display:flex;\n",
              "      flex-wrap:wrap;\n",
              "      gap: 12px;\n",
              "    }\n",
              "\n",
              "    .colab-df-convert {\n",
              "      background-color: #E8F0FE;\n",
              "      border: none;\n",
              "      border-radius: 50%;\n",
              "      cursor: pointer;\n",
              "      display: none;\n",
              "      fill: #1967D2;\n",
              "      height: 32px;\n",
              "      padding: 0 0 0 0;\n",
              "      width: 32px;\n",
              "    }\n",
              "\n",
              "    .colab-df-convert:hover {\n",
              "      background-color: #E2EBFA;\n",
              "      box-shadow: 0px 1px 2px rgba(60, 64, 67, 0.3), 0px 1px 3px 1px rgba(60, 64, 67, 0.15);\n",
              "      fill: #174EA6;\n",
              "    }\n",
              "\n",
              "    [theme=dark] .colab-df-convert {\n",
              "      background-color: #3B4455;\n",
              "      fill: #D2E3FC;\n",
              "    }\n",
              "\n",
              "    [theme=dark] .colab-df-convert:hover {\n",
              "      background-color: #434B5C;\n",
              "      box-shadow: 0px 1px 3px 1px rgba(0, 0, 0, 0.15);\n",
              "      filter: drop-shadow(0px 1px 2px rgba(0, 0, 0, 0.3));\n",
              "      fill: #FFFFFF;\n",
              "    }\n",
              "  </style>\n",
              "\n",
              "      <script>\n",
              "        const buttonEl =\n",
              "          document.querySelector('#df-c4dfc3ec-6dc3-4b01-83f1-f83cebe6f04e button.colab-df-convert');\n",
              "        buttonEl.style.display =\n",
              "          google.colab.kernel.accessAllowed ? 'block' : 'none';\n",
              "\n",
              "        async function convertToInteractive(key) {\n",
              "          const element = document.querySelector('#df-c4dfc3ec-6dc3-4b01-83f1-f83cebe6f04e');\n",
              "          const dataTable =\n",
              "            await google.colab.kernel.invokeFunction('convertToInteractive',\n",
              "                                                     [key], {});\n",
              "          if (!dataTable) return;\n",
              "\n",
              "          const docLinkHtml = 'Like what you see? Visit the ' +\n",
              "            '<a target=\"_blank\" href=https://colab.research.google.com/notebooks/data_table.ipynb>data table notebook</a>'\n",
              "            + ' to learn more about interactive tables.';\n",
              "          element.innerHTML = '';\n",
              "          dataTable['output_type'] = 'display_data';\n",
              "          await google.colab.output.renderOutput(dataTable, element);\n",
              "          const docLink = document.createElement('div');\n",
              "          docLink.innerHTML = docLinkHtml;\n",
              "          element.appendChild(docLink);\n",
              "        }\n",
              "      </script>\n",
              "    </div>\n",
              "  </div>\n",
              "  "
            ]
          },
          "metadata": {},
          "execution_count": 240
        }
      ]
    },
    {
      "cell_type": "markdown",
      "source": [
        "Data categorical berhasil di drop dengan menggunakan label encoder"
      ],
      "metadata": {
        "id": "VeEtABPUJX3U"
      }
    },
    {
      "cell_type": "markdown",
      "source": [
        "## 6.9 Concate between Numerical and Categorical"
      ],
      "metadata": {
        "id": "_KcGQxarJcKR"
      }
    },
    {
      "cell_type": "code",
      "source": [
        "# Concate data numerical and categorical\n",
        "X_trainFinal = np.concatenate([X_trainScaled, X_trainCat], axis=1)\n",
        "X_testFinal = np.concatenate([X_testScaled, X_testCat], axis=1)\n",
        "\n",
        "# Display\n",
        "X_trainFinal"
      ],
      "metadata": {
        "colab": {
          "base_uri": "https://localhost:8080/"
        },
        "id": "nfJ7T-ODJeYQ",
        "outputId": "fea6e6c2-c615-485e-80ce-eb2718436396"
      },
      "execution_count": 241,
      "outputs": [
        {
          "output_type": "execute_result",
          "data": {
            "text/plain": [
              "array([[ 1.        , -0.27795874,  0.        , ...,  0.        ,\n",
              "         0.70229008,  1.        ],\n",
              "       [ 0.        , -0.09554832,  0.        , ...,  0.        ,\n",
              "         0.97709924,  3.        ],\n",
              "       [ 0.        , -0.34744843,  0.        , ...,  0.        ,\n",
              "         0.52671756,  4.        ],\n",
              "       ...,\n",
              "       [ 1.        ,  1.72421281,  1.        , ...,  0.        ,\n",
              "         0.98473282,  2.        ],\n",
              "       [ 1.        , -0.05646037,  1.        , ...,  1.        ,\n",
              "         0.48091603,  4.        ],\n",
              "       [ 1.        , -0.28664495,  0.        , ...,  0.        ,\n",
              "        -0.77862595,  4.        ]])"
            ]
          },
          "metadata": {},
          "execution_count": 241
        }
      ]
    },
    {
      "cell_type": "markdown",
      "source": [
        "# **7 - Model Definition**\n",
        "\n",
        "---"
      ],
      "metadata": {
        "id": "lqDd6-4CpNSa"
      }
    },
    {
      "cell_type": "markdown",
      "source": [
        "Bagian ini berisi cell untuk mendefinisikan model. Jelaskan alasan menggunakan suatu algoritma/model, hyperparameter yang dipakai, jenis penggunaan metrics yang dipakai, dan hal lain yang terkait dengan model."
      ],
      "metadata": {
        "id": "JP68gjB1pRgq"
      }
    },
    {
      "cell_type": "markdown",
      "source": [
        "## 7.1 Bagging Classifier"
      ],
      "metadata": {
        "id": "AkFHj0AiLBPY"
      }
    },
    {
      "cell_type": "code",
      "source": [
        "%%time\n",
        "# Define Bagging\n",
        "baggBase = BaggingClassifier(\n",
        "    DecisionTreeClassifier(),\n",
        "    n_estimators = 200,\n",
        "    max_samples = 30,\n",
        "    bootstrap = True,\n",
        "    random_state = 19\n",
        ")"
      ],
      "metadata": {
        "colab": {
          "base_uri": "https://localhost:8080/"
        },
        "id": "Ts4KI7HgXJ1J",
        "outputId": "77d5cae3-f8e9-4f5a-89f3-2d70d5a113f3"
      },
      "execution_count": 242,
      "outputs": [
        {
          "output_type": "stream",
          "name": "stdout",
          "text": [
            "CPU times: user 57 µs, sys: 0 ns, total: 57 µs\n",
            "Wall time: 62.2 µs\n"
          ]
        }
      ]
    },
    {
      "cell_type": "markdown",
      "source": [
        "## 7.2 Random Forest Classifier"
      ],
      "metadata": {
        "id": "Y2ggvb8MLGWY"
      }
    },
    {
      "cell_type": "code",
      "source": [
        "%%time\n",
        "# Define Random Forest\n",
        "randForBase = RandomForestClassifier(\n",
        "    n_estimators = 420,\n",
        "    max_leaf_nodes = 19,\n",
        "    random_state = 19,\n",
        "    criterion = 'entropy'\n",
        ")"
      ],
      "metadata": {
        "colab": {
          "base_uri": "https://localhost:8080/"
        },
        "id": "8yCu81cZYcTw",
        "outputId": "b93df77a-1060-4feb-df93-a1094ca1bb83"
      },
      "execution_count": 243,
      "outputs": [
        {
          "output_type": "stream",
          "name": "stdout",
          "text": [
            "CPU times: user 54 µs, sys: 8 µs, total: 62 µs\n",
            "Wall time: 68.4 µs\n"
          ]
        }
      ]
    },
    {
      "cell_type": "markdown",
      "source": [
        "## 7.3 Ada Boosting Classifier"
      ],
      "metadata": {
        "id": "lAI_2jpqLJeV"
      }
    },
    {
      "cell_type": "code",
      "source": [
        "%%time\n",
        "# Define Ada Boosting\n",
        "adaBase = AdaBoostClassifier(\n",
        "    n_estimators = 200,\n",
        "    learning_rate = 0.8,\n",
        "    algorithm = 'SAMME',\n",
        "    random_state = 19,\n",
        ")"
      ],
      "metadata": {
        "colab": {
          "base_uri": "https://localhost:8080/"
        },
        "id": "nQ2fVMi0Yp8g",
        "outputId": "892f40b0-089b-4deb-f98e-e8dd64f63621"
      },
      "execution_count": 244,
      "outputs": [
        {
          "output_type": "stream",
          "name": "stdout",
          "text": [
            "CPU times: user 27 µs, sys: 4 µs, total: 31 µs\n",
            "Wall time: 35.5 µs\n"
          ]
        }
      ]
    },
    {
      "cell_type": "markdown",
      "source": [
        "# 8 - Model Training\n",
        "\n",
        "---\n",
        "\n"
      ],
      "metadata": {
        "id": "9rD0BYWSpThz"
      }
    },
    {
      "cell_type": "markdown",
      "source": [
        "Cell pada bagian ini hanya berisi code untuk melatih model dan output yang dihasilkan. Lakukan beberapa kali proses training dengan hyperparameter yang berbeda untuk melihat hasil yang didapatkan. Analisis dan narasikan hasil ini pada bagian Model Evaluation."
      ],
      "metadata": {
        "id": "LsQmIpORpXBw"
      }
    },
    {
      "cell_type": "markdown",
      "source": [
        "## 8.1 Bagging Classifier Training"
      ],
      "metadata": {
        "id": "wNWYo4olLQ_I"
      }
    },
    {
      "cell_type": "code",
      "source": [
        "%%time\n",
        "# Train to data\n",
        "baggBase.fit(X_trainFinal, y_train)\n",
        "y_predTrainBagg = baggBase.predict(X_trainFinal)\n",
        "y_predTestBagg = baggBase.predict(X_testFinal)"
      ],
      "metadata": {
        "colab": {
          "base_uri": "https://localhost:8080/"
        },
        "id": "sykWkdIXZgRn",
        "outputId": "ee3b1eb6-204e-4860-bfe0-c60aa3aae4bd"
      },
      "execution_count": 245,
      "outputs": [
        {
          "output_type": "stream",
          "name": "stdout",
          "text": [
            "CPU times: user 672 ms, sys: 0 ns, total: 672 ms\n",
            "Wall time: 698 ms\n"
          ]
        }
      ]
    },
    {
      "cell_type": "code",
      "source": [
        "# Check accuracy score of Bagging Classifier\n",
        "print('Accuracy Score - Train - Bagging Classifier : ', accuracy_score(y_train, y_predTrainBagg))\n",
        "print('Accuracy Score - Test - Bagging Classifier : ', accuracy_score(y_test, y_predTestBagg))"
      ],
      "metadata": {
        "colab": {
          "base_uri": "https://localhost:8080/"
        },
        "id": "6B6uAPaoZ_bi",
        "outputId": "0618f9a7-2039-4d25-b8be-b3be9e45e5b4"
      },
      "execution_count": 246,
      "outputs": [
        {
          "output_type": "stream",
          "name": "stdout",
          "text": [
            "Accuracy Score - Train - Bagging Classifier :  0.8702928870292888\n",
            "Accuracy Score - Test - Bagging Classifier :  0.9\n"
          ]
        }
      ]
    },
    {
      "cell_type": "markdown",
      "source": [
        "Model membaik pada data test karena mendapatkan peningkatan sebesar 0.03"
      ],
      "metadata": {
        "id": "L9w7RUsqKDOE"
      }
    },
    {
      "cell_type": "markdown",
      "source": [
        "## 8.2 Random Forest Classifier Training"
      ],
      "metadata": {
        "id": "-E3j2wVdLS2U"
      }
    },
    {
      "cell_type": "code",
      "source": [
        "%%time\n",
        "# Train to data\n",
        "randForBase.fit(X_trainFinal, y_train)\n",
        "y_predTrainRandFor = randForBase.predict(X_trainFinal)\n",
        "y_predTestRandFor = randForBase.predict(X_testFinal)"
      ],
      "metadata": {
        "colab": {
          "base_uri": "https://localhost:8080/"
        },
        "id": "WDyu6LeZZ16m",
        "outputId": "260f6bad-2ccb-491a-f391-698ca4ba37ef"
      },
      "execution_count": 247,
      "outputs": [
        {
          "output_type": "stream",
          "name": "stdout",
          "text": [
            "CPU times: user 1.34 s, sys: 0 ns, total: 1.34 s\n",
            "Wall time: 1.37 s\n"
          ]
        }
      ]
    },
    {
      "cell_type": "code",
      "source": [
        "# Check accuracy score of Random Forest Classifier\n",
        "print('Accuracy Score - Train - Random Forest Classifier : ', accuracy_score(y_train, y_predTrainRandFor))\n",
        "print('Accuracy Score - Test - Random Forest Classifier : ', accuracy_score(y_test, y_predTestRandFor))"
      ],
      "metadata": {
        "colab": {
          "base_uri": "https://localhost:8080/"
        },
        "id": "qWTjt7Ema8Yq",
        "outputId": "759b53bd-a662-4bfc-ff48-bac376078179"
      },
      "execution_count": 248,
      "outputs": [
        {
          "output_type": "stream",
          "name": "stdout",
          "text": [
            "Accuracy Score - Train - Random Forest Classifier :  0.9665271966527197\n",
            "Accuracy Score - Test - Random Forest Classifier :  0.9\n"
          ]
        }
      ]
    },
    {
      "cell_type": "markdown",
      "source": [
        "Model cenderung good-fit walaupun ada penurunan 0.06 terhadap data test"
      ],
      "metadata": {
        "id": "rUiYUao9KjlZ"
      }
    },
    {
      "cell_type": "markdown",
      "source": [
        "## 8.3 Ada Boosting Classifier"
      ],
      "metadata": {
        "id": "g1sGEldeLWls"
      }
    },
    {
      "cell_type": "code",
      "source": [
        "%%time\n",
        "# Train to data\n",
        "adaBase.fit(X_trainFinal, y_train)\n",
        "y_predTrainAda = adaBase.predict(X_trainFinal)\n",
        "y_predTestAda = adaBase.predict(X_testFinal)"
      ],
      "metadata": {
        "colab": {
          "base_uri": "https://localhost:8080/"
        },
        "id": "Pn9cWMV6bBmv",
        "outputId": "242a022f-02b8-4d04-da84-fc3a0e654f69"
      },
      "execution_count": 249,
      "outputs": [
        {
          "output_type": "stream",
          "name": "stdout",
          "text": [
            "CPU times: user 614 ms, sys: 0 ns, total: 614 ms\n",
            "Wall time: 650 ms\n"
          ]
        }
      ]
    },
    {
      "cell_type": "code",
      "source": [
        "# Check accuracy score of Ada Boosting Classifier\n",
        "print('Accuracy Score - Train - Ada Boosting Classifier : ', accuracy_score(y_train, y_predTrainAda))\n",
        "print('Accuracy Score - Test - Ada Boosting Classifier : ', accuracy_score(y_test, y_predTestAda))"
      ],
      "metadata": {
        "colab": {
          "base_uri": "https://localhost:8080/"
        },
        "id": "zbeJQ5YSbHHh",
        "outputId": "ae3a88ef-a275-4c9a-838d-291879bc97aa"
      },
      "execution_count": 250,
      "outputs": [
        {
          "output_type": "stream",
          "name": "stdout",
          "text": [
            "Accuracy Score - Train - Ada Boosting Classifier :  0.9079497907949791\n",
            "Accuracy Score - Test - Ada Boosting Classifier :  0.9\n"
          ]
        }
      ]
    },
    {
      "cell_type": "markdown",
      "source": [
        "Model cenderung good-fit walaupun ada penurunan 0.01 terhadap data test"
      ],
      "metadata": {
        "id": "0VAOWcwCKzOg"
      }
    },
    {
      "cell_type": "markdown",
      "source": [
        "# **9 - Model Evaluation**\n",
        "\n",
        "---"
      ],
      "metadata": {
        "id": "jMevhnYSpYz1"
      }
    },
    {
      "cell_type": "markdown",
      "source": [
        "Pada bagian ini, dilakukan evaluasi model yang harus menunjukkan bagaimana performa model berdasarkan metrics yang dipilih. Hal ini harus dibuktikan dengan visualisasi tren performa dan/atau tingkat kesalahan model. Lakukan analisis terkait dengan hasil pada model dan tuliskan hasil analisisnya."
      ],
      "metadata": {
        "id": "xfHN_xj-pdUc"
      }
    },
    {
      "cell_type": "markdown",
      "source": [
        "## 9.1 Evaluate with Classification Score"
      ],
      "metadata": {
        "id": "uwymv14ZnjLH"
      }
    },
    {
      "cell_type": "code",
      "source": [
        "%%time\n",
        "print('='*65)\n",
        "# Display classification report for Bagging Classifier\n",
        "print('Classification Report - Train Data - Bagging Classifier : ')\n",
        "print(classification_report(y_train, y_predTrainBagg))\n",
        "print('='*65)\n",
        "print('Classification Report - Test Data - Bagging Classifier : ')\n",
        "print(classification_report(y_test, y_predTestBagg))\n",
        "print('='*65)\n",
        "# Display classification report for Random Forest Classifier\n",
        "print('Classification Report - Train Data - Random Forest Classifier : ')\n",
        "print(classification_report(y_train, y_predTrainRandFor))\n",
        "print('='*65)\n",
        "print('Classification Report - Test Data - Random Forest Classifier : ')\n",
        "print(classification_report(y_test, y_predTestRandFor))\n",
        "print('='*65)\n",
        "# Display classification report for Ada Boosting Classifier\n",
        "print('Classification Report - Train Data - Ada Boosting Classifier : ')\n",
        "print(classification_report(y_train, y_predTrainAda))\n",
        "print('='*65)\n",
        "print('Classification Report - Test Data - Ada Boosting Classifier : ')\n",
        "print(classification_report(y_test, y_predTestAda))\n",
        "print('='*65)"
      ],
      "metadata": {
        "colab": {
          "base_uri": "https://localhost:8080/"
        },
        "id": "5jXIK7IghVzM",
        "outputId": "cb537528-99ce-4339-8683-82a44e4f0ad6"
      },
      "execution_count": 251,
      "outputs": [
        {
          "output_type": "stream",
          "name": "stdout",
          "text": [
            "=================================================================\n",
            "Classification Report - Train Data - Bagging Classifier : \n",
            "              precision    recall  f1-score   support\n",
            "\n",
            "           0       0.88      0.94      0.91       162\n",
            "           1       0.85      0.73      0.78        77\n",
            "\n",
            "    accuracy                           0.87       239\n",
            "   macro avg       0.86      0.83      0.85       239\n",
            "weighted avg       0.87      0.87      0.87       239\n",
            "\n",
            "=================================================================\n",
            "Classification Report - Test Data - Bagging Classifier : \n",
            "              precision    recall  f1-score   support\n",
            "\n",
            "           0       0.93      0.93      0.93        41\n",
            "           1       0.84      0.84      0.84        19\n",
            "\n",
            "    accuracy                           0.90        60\n",
            "   macro avg       0.88      0.88      0.88        60\n",
            "weighted avg       0.90      0.90      0.90        60\n",
            "\n",
            "=================================================================\n",
            "Classification Report - Train Data - Random Forest Classifier : \n",
            "              precision    recall  f1-score   support\n",
            "\n",
            "           0       0.96      0.99      0.98       162\n",
            "           1       0.97      0.92      0.95        77\n",
            "\n",
            "    accuracy                           0.97       239\n",
            "   macro avg       0.97      0.95      0.96       239\n",
            "weighted avg       0.97      0.97      0.97       239\n",
            "\n",
            "=================================================================\n",
            "Classification Report - Test Data - Random Forest Classifier : \n",
            "              precision    recall  f1-score   support\n",
            "\n",
            "           0       0.93      0.93      0.93        41\n",
            "           1       0.84      0.84      0.84        19\n",
            "\n",
            "    accuracy                           0.90        60\n",
            "   macro avg       0.88      0.88      0.88        60\n",
            "weighted avg       0.90      0.90      0.90        60\n",
            "\n",
            "=================================================================\n",
            "Classification Report - Train Data - Ada Boosting Classifier : \n",
            "              precision    recall  f1-score   support\n",
            "\n",
            "           0       0.92      0.95      0.93       162\n",
            "           1       0.89      0.82      0.85        77\n",
            "\n",
            "    accuracy                           0.91       239\n",
            "   macro avg       0.90      0.88      0.89       239\n",
            "weighted avg       0.91      0.91      0.91       239\n",
            "\n",
            "=================================================================\n",
            "Classification Report - Test Data - Ada Boosting Classifier : \n",
            "              precision    recall  f1-score   support\n",
            "\n",
            "           0       0.95      0.90      0.92        41\n",
            "           1       0.81      0.89      0.85        19\n",
            "\n",
            "    accuracy                           0.90        60\n",
            "   macro avg       0.88      0.90      0.89        60\n",
            "weighted avg       0.90      0.90      0.90        60\n",
            "\n",
            "=================================================================\n",
            "CPU times: user 65.4 ms, sys: 0 ns, total: 65.4 ms\n",
            "Wall time: 79.4 ms\n"
          ]
        }
      ]
    },
    {
      "cell_type": "markdown",
      "source": [
        "Dari classification score diatas, saya simpulkan :\n",
        "1. Nilai recall pada Bagging Classifier mengalami peningkatan cukup baik, yaitu 11%. Hal ini saya lakukan agar False Negative dari model menurun.\n",
        "2. Nilai recall pada Random Forest classifier mengalami penurunan 6% terhadap data test, mungkin saya harus mencari hyperparameter lain agar nilai recall tersebut meningkat dan dapat mengurangi False Negative\n",
        "3. Nilai recall pada Ada Boosting classifier mengalami peningkatan 7% terhadap data test. Hal ini cukup baik karena dapat mengurangi False Negative terhadap prediksi"
      ],
      "metadata": {
        "id": "fTqH1_sSLV10"
      }
    },
    {
      "cell_type": "markdown",
      "source": [
        "## 9.2 Evaluate with Confusion Matrix"
      ],
      "metadata": {
        "id": "QqUx4GHgnpi-"
      }
    },
    {
      "cell_type": "code",
      "source": [
        "%%time\n",
        "# Visualization with confusion matrix\n",
        "modelCM = [confusion_matrix(y_train, y_predTrainBagg), \n",
        "           confusion_matrix(y_test, y_predTestBagg),\n",
        "           confusion_matrix(y_train, y_predTrainRandFor), \n",
        "           confusion_matrix(y_test, y_predTestRandFor),\n",
        "           confusion_matrix(y_train, y_predTrainAda), \n",
        "           confusion_matrix(y_test, y_predTestAda)]\n",
        "\n",
        "modelAlias = ['Bagging Classifier Train', 'Bagging Classifier Test',\n",
        "              'Random Forest Classifier Train', 'Random Forest Classifier Test',\n",
        "              'Ada Boosting Classifier Train', 'Ada Boosting Classifier Test',]\n",
        "\n",
        "# Confusion Matrix\n",
        "plt.figure(figsize = (20, 60))\n",
        "for i in range(len(modelCM)):\n",
        "  plt.subplot(6, 2, i+1)\n",
        "  fig = sns.heatmap(modelCM[i], annot = True, fmt = 'd', cmap = 'Reds')\n",
        "  plt.title(f'Confusion Matrix of \\n {modelAlias[i]}')\n",
        "  fig.set_xticklabels(['No', 'Yes'])\n",
        "  fig.set_yticklabels(['No', 'Yes'])\n",
        "  plt.xlabel('Predict')\n",
        "  plt.ylabel('Actual')\n",
        "plt.show()"
      ],
      "metadata": {
        "colab": {
          "base_uri": "https://localhost:8080/",
          "height": 1000
        },
        "id": "vz4IyUientLG",
        "outputId": "8f372b5a-5327-4b5a-d7f6-c1b0751a5975"
      },
      "execution_count": 252,
      "outputs": [
        {
          "output_type": "display_data",
          "data": {
            "text/plain": [
              "<Figure size 1440x4320 with 12 Axes>"
            ],
            "image/png": "[encoded data removed]"
          },
          "metadata": {
            "needs_background": "light"
          }
        },
        {
          "output_type": "stream",
          "name": "stdout",
          "text": [
            "CPU times: user 1.81 s, sys: 48.2 ms, total: 1.86 s\n",
            "Wall time: 1.86 s\n"
          ]
        }
      ]
    },
    {
      "cell_type": "markdown",
      "source": [
        "Dari confusion matrix diatas dapat disimpulkan:\n",
        "1. Pada Bagging classifier, False Negative memiliki presentase sebesar 8.8% terhadap data train, tetapi menurun menjadi 5% pada data test. Hal ini baik mengingat kita menghindari kenaikan nilai dari False Negative\n",
        "2. Pada Random Forest classifer, False Negative memiliki presentase sebesar 2.5% terhadap data train, tetapi malah meningkat menjadi 5% terhadap data test. Hal ini cukup mengkhawatirkan karena ada peningkatan presentase mendekati 100% terhadap False Negative. Mungkin kita harus mencari hyperparameter lain agar False Negative mengalami penurunan\n",
        "3. Pada Ada Boosting classifier, False Negative memiliki presentase sebesar 5.9% terhadap data train, tetapi meningkat menjadi 3.3% terhadap data test. Hal ini baik mengingat kita menghindari kenaikan nilai dari False Negative"
      ],
      "metadata": {
        "id": "NKtIhJVLNpsN"
      }
    },
    {
      "cell_type": "markdown",
      "source": [
        "# **10 - Model Inference**\n",
        "\n",
        "---"
      ],
      "metadata": {
        "id": "Sl3tVkegpgS9"
      }
    },
    {
      "cell_type": "markdown",
      "source": [
        "Model yang sudah dilatih akan dicoba pada data yang bukan termasuk ke dalam train-set ataupun test-set. Data ini harus dalam format yang asli, bukan data yang sudah di-scaled."
      ],
      "metadata": {
        "id": "h4x4HSmTpkrc"
      }
    },
    {
      "cell_type": "code",
      "source": [
        "# Get inference data\n",
        "infData = copyData.sample(20, random_state=19)\n",
        "\n",
        "# Reset index\n",
        "infData = infData.reset_index()\n",
        "\n",
        "# Drop column index\n",
        "infData.drop(columns=['index'], axis=1, inplace=True)\n",
        "\n",
        "# Display\n",
        "infData"
      ],
      "metadata": {
        "colab": {
          "base_uri": "https://localhost:8080/",
          "height": 740
        },
        "id": "Dyos9D0Vo5um",
        "outputId": "b0db3d9b-232c-49f8-f428-fcdee680f8fa"
      },
      "execution_count": 253,
      "outputs": [
        {
          "output_type": "execute_result",
          "data": {
            "text/plain": [
              "       age  anaemia  creatinine_phosphokinase  diabetes  ejection_fraction  \\\n",
              "0   60.000        1                        76         1                 25   \n",
              "1   60.000        1                      1082         1                 45   \n",
              "2   50.000        1                       159         1                 30   \n",
              "3   75.000        0                       675         1                 60   \n",
              "4   45.000        1                       981         0                 30   \n",
              "5   80.000        0                       582         1                 35   \n",
              "6   65.000        1                       305         0                 25   \n",
              "7   73.000        0                       582         0                 20   \n",
              "8   68.000        1                       220         0                 35   \n",
              "9   50.000        1                      1051         1                 30   \n",
              "10  78.000        0                       224         0                 50   \n",
              "11  45.000        0                      2413         0                 38   \n",
              "12  60.667        1                       151         1                 40   \n",
              "13  66.000        1                        72         0                 40   \n",
              "14  65.000        0                        56         0                 25   \n",
              "15  75.000        0                       119         0                 50   \n",
              "16  80.000        0                       805         0                 38   \n",
              "17  58.000        1                       400         0                 40   \n",
              "18  73.000        0                       582         0                 35   \n",
              "19  55.000        0                       582         1                 35   \n",
              "\n",
              "    high_blood_pressure  platelets  serum_creatinine  serum_sodium  sex  \\\n",
              "0                     0  196000.00              2.50           132    0   \n",
              "1                     0  250000.00              6.10           131    1   \n",
              "2                     0  302000.00              1.20           138    0   \n",
              "3                     0  265000.00              1.40           125    0   \n",
              "4                     0  136000.00              1.10           137    1   \n",
              "5                     0  350000.00              2.10           134    1   \n",
              "6                     0  298000.00              1.10           141    1   \n",
              "7                     0  263358.03              1.83           134    1   \n",
              "8                     1  289000.00              0.90           140    1   \n",
              "9                     0  232000.00              0.70           136    0   \n",
              "10                    0  481000.00              1.40           138    1   \n",
              "11                    0  140000.00              1.40           140    1   \n",
              "12                    1  201000.00              1.00           136    0   \n",
              "13                    1  242000.00              1.20           134    1   \n",
              "14                    0  237000.00              5.00           130    0   \n",
              "15                    1  248000.00              1.10           148    1   \n",
              "16                    0  263358.03              1.10           134    1   \n",
              "17                    0  164000.00              1.00           139    0   \n",
              "18                    1  203000.00              1.30           134    1   \n",
              "19                    1  371000.00              0.70           140    0   \n",
              "\n",
              "    smoking  time  DEATH_EVENT  age_bin  \n",
              "0         0    77            1  under70  \n",
              "1         0   107            0  under70  \n",
              "2         0    29            0  under60  \n",
              "3         0   205            0  under80  \n",
              "4         0    11            1  under50  \n",
              "5         0   174            0  under90  \n",
              "6         0    87            0  under70  \n",
              "7         0   198            1  under80  \n",
              "8         1    20            1  under70  \n",
              "9         0   246            0  under60  \n",
              "10        1   192            0  under80  \n",
              "11        1   280            0  under50  \n",
              "12        0   172            0  under70  \n",
              "13        0   121            0  under70  \n",
              "14        0   207            0  under70  \n",
              "15        0   209            0  under80  \n",
              "16        0   109            1  under90  \n",
              "17        0    91            0  under60  \n",
              "18        0   195            0  under80  \n",
              "19        0   197            0  under60  "
            ],
            "text/html": [
              "\n",
              "  <div id=\"df-b1005a11-7454-4d85-b90b-6da0b4353873\">\n",
              "    <div class=\"colab-df-container\">\n",
              "      <div>\n",
              "<style scoped>\n",
              "    .dataframe tbody tr th:only-of-type {\n",
              "        vertical-align: middle;\n",
              "    }\n",
              "\n",
              "    .dataframe tbody tr th {\n",
              "        vertical-align: top;\n",
              "    }\n",
              "\n",
              "    .dataframe thead th {\n",
              "        text-align: right;\n",
              "    }\n",
              "</style>\n",
              "<table border=\"1\" class=\"dataframe\">\n",
              "  <thead>\n",
              "    <tr style=\"text-align: right;\">\n",
              "      <th></th>\n",
              "      <th>age</th>\n",
              "      <th>anaemia</th>\n",
              "      <th>creatinine_phosphokinase</th>\n",
              "      <th>diabetes</th>\n",
              "      <th>ejection_fraction</th>\n",
              "      <th>high_blood_pressure</th>\n",
              "      <th>platelets</th>\n",
              "      <th>serum_creatinine</th>\n",
              "      <th>serum_sodium</th>\n",
              "      <th>sex</th>\n",
              "      <th>smoking</th>\n",
              "      <th>time</th>\n",
              "      <th>DEATH_EVENT</th>\n",
              "      <th>age_bin</th>\n",
              "    </tr>\n",
              "  </thead>\n",
              "  <tbody>\n",
              "    <tr>\n",
              "      <th>0</th>\n",
              "      <td>60.000</td>\n",
              "      <td>1</td>\n",
              "      <td>76</td>\n",
              "      <td>1</td>\n",
              "      <td>25</td>\n",
              "      <td>0</td>\n",
              "      <td>196000.00</td>\n",
              "      <td>2.50</td>\n",
              "      <td>132</td>\n",
              "      <td>0</td>\n",
              "      <td>0</td>\n",
              "      <td>77</td>\n",
              "      <td>1</td>\n",
              "      <td>under70</td>\n",
              "    </tr>\n",
              "    <tr>\n",
              "      <th>1</th>\n",
              "      <td>60.000</td>\n",
              "      <td>1</td>\n",
              "      <td>1082</td>\n",
              "      <td>1</td>\n",
              "      <td>45</td>\n",
              "      <td>0</td>\n",
              "      <td>250000.00</td>\n",
              "      <td>6.10</td>\n",
              "      <td>131</td>\n",
              "      <td>1</td>\n",
              "      <td>0</td>\n",
              "      <td>107</td>\n",
              "      <td>0</td>\n",
              "      <td>under70</td>\n",
              "    </tr>\n",
              "    <tr>\n",
              "      <th>2</th>\n",
              "      <td>50.000</td>\n",
              "      <td>1</td>\n",
              "      <td>159</td>\n",
              "      <td>1</td>\n",
              "      <td>30</td>\n",
              "      <td>0</td>\n",
              "      <td>302000.00</td>\n",
              "      <td>1.20</td>\n",
              "      <td>138</td>\n",
              "      <td>0</td>\n",
              "      <td>0</td>\n",
              "      <td>29</td>\n",
              "      <td>0</td>\n",
              "      <td>under60</td>\n",
              "    </tr>\n",
              "    <tr>\n",
              "      <th>3</th>\n",
              "      <td>75.000</td>\n",
              "      <td>0</td>\n",
              "      <td>675</td>\n",
              "      <td>1</td>\n",
              "      <td>60</td>\n",
              "      <td>0</td>\n",
              "      <td>265000.00</td>\n",
              "      <td>1.40</td>\n",
              "      <td>125</td>\n",
              "      <td>0</td>\n",
              "      <td>0</td>\n",
              "      <td>205</td>\n",
              "      <td>0</td>\n",
              "      <td>under80</td>\n",
              "    </tr>\n",
              "    <tr>\n",
              "      <th>4</th>\n",
              "      <td>45.000</td>\n",
              "      <td>1</td>\n",
              "      <td>981</td>\n",
              "      <td>0</td>\n",
              "      <td>30</td>\n",
              "      <td>0</td>\n",
              "      <td>136000.00</td>\n",
              "      <td>1.10</td>\n",
              "      <td>137</td>\n",
              "      <td>1</td>\n",
              "      <td>0</td>\n",
              "      <td>11</td>\n",
              "      <td>1</td>\n",
              "      <td>under50</td>\n",
              "    </tr>\n",
              "    <tr>\n",
              "      <th>5</th>\n",
              "      <td>80.000</td>\n",
              "      <td>0</td>\n",
              "      <td>582</td>\n",
              "      <td>1</td>\n",
              "      <td>35</td>\n",
              "      <td>0</td>\n",
              "      <td>350000.00</td>\n",
              "      <td>2.10</td>\n",
              "      <td>134</td>\n",
              "      <td>1</td>\n",
              "      <td>0</td>\n",
              "      <td>174</td>\n",
              "      <td>0</td>\n",
              "      <td>under90</td>\n",
              "    </tr>\n",
              "    <tr>\n",
              "      <th>6</th>\n",
              "      <td>65.000</td>\n",
              "      <td>1</td>\n",
              "      <td>305</td>\n",
              "      <td>0</td>\n",
              "      <td>25</td>\n",
              "      <td>0</td>\n",
              "      <td>298000.00</td>\n",
              "      <td>1.10</td>\n",
              "      <td>141</td>\n",
              "      <td>1</td>\n",
              "      <td>0</td>\n",
              "      <td>87</td>\n",
              "      <td>0</td>\n",
              "      <td>under70</td>\n",
              "    </tr>\n",
              "    <tr>\n",
              "      <th>7</th>\n",
              "      <td>73.000</td>\n",
              "      <td>0</td>\n",
              "      <td>582</td>\n",
              "      <td>0</td>\n",
              "      <td>20</td>\n",
              "      <td>0</td>\n",
              "      <td>263358.03</td>\n",
              "      <td>1.83</td>\n",
              "      <td>134</td>\n",
              "      <td>1</td>\n",
              "      <td>0</td>\n",
              "      <td>198</td>\n",
              "      <td>1</td>\n",
              "      <td>under80</td>\n",
              "    </tr>\n",
              "    <tr>\n",
              "      <th>8</th>\n",
              "      <td>68.000</td>\n",
              "      <td>1</td>\n",
              "      <td>220</td>\n",
              "      <td>0</td>\n",
              "      <td>35</td>\n",
              "      <td>1</td>\n",
              "      <td>289000.00</td>\n",
              "      <td>0.90</td>\n",
              "      <td>140</td>\n",
              "      <td>1</td>\n",
              "      <td>1</td>\n",
              "      <td>20</td>\n",
              "      <td>1</td>\n",
              "      <td>under70</td>\n",
              "    </tr>\n",
              "    <tr>\n",
              "      <th>9</th>\n",
              "      <td>50.000</td>\n",
              "      <td>1</td>\n",
              "      <td>1051</td>\n",
              "      <td>1</td>\n",
              "      <td>30</td>\n",
              "      <td>0</td>\n",
              "      <td>232000.00</td>\n",
              "      <td>0.70</td>\n",
              "      <td>136</td>\n",
              "      <td>0</td>\n",
              "      <td>0</td>\n",
              "      <td>246</td>\n",
              "      <td>0</td>\n",
              "      <td>under60</td>\n",
              "    </tr>\n",
              "    <tr>\n",
              "      <th>10</th>\n",
              "      <td>78.000</td>\n",
              "      <td>0</td>\n",
              "      <td>224</td>\n",
              "      <td>0</td>\n",
              "      <td>50</td>\n",
              "      <td>0</td>\n",
              "      <td>481000.00</td>\n",
              "      <td>1.40</td>\n",
              "      <td>138</td>\n",
              "      <td>1</td>\n",
              "      <td>1</td>\n",
              "      <td>192</td>\n",
              "      <td>0</td>\n",
              "      <td>under80</td>\n",
              "    </tr>\n",
              "    <tr>\n",
              "      <th>11</th>\n",
              "      <td>45.000</td>\n",
              "      <td>0</td>\n",
              "      <td>2413</td>\n",
              "      <td>0</td>\n",
              "      <td>38</td>\n",
              "      <td>0</td>\n",
              "      <td>140000.00</td>\n",
              "      <td>1.40</td>\n",
              "      <td>140</td>\n",
              "      <td>1</td>\n",
              "      <td>1</td>\n",
              "      <td>280</td>\n",
              "      <td>0</td>\n",
              "      <td>under50</td>\n",
              "    </tr>\n",
              "    <tr>\n",
              "      <th>12</th>\n",
              "      <td>60.667</td>\n",
              "      <td>1</td>\n",
              "      <td>151</td>\n",
              "      <td>1</td>\n",
              "      <td>40</td>\n",
              "      <td>1</td>\n",
              "      <td>201000.00</td>\n",
              "      <td>1.00</td>\n",
              "      <td>136</td>\n",
              "      <td>0</td>\n",
              "      <td>0</td>\n",
              "      <td>172</td>\n",
              "      <td>0</td>\n",
              "      <td>under70</td>\n",
              "    </tr>\n",
              "    <tr>\n",
              "      <th>13</th>\n",
              "      <td>66.000</td>\n",
              "      <td>1</td>\n",
              "      <td>72</td>\n",
              "      <td>0</td>\n",
              "      <td>40</td>\n",
              "      <td>1</td>\n",
              "      <td>242000.00</td>\n",
              "      <td>1.20</td>\n",
              "      <td>134</td>\n",
              "      <td>1</td>\n",
              "      <td>0</td>\n",
              "      <td>121</td>\n",
              "      <td>0</td>\n",
              "      <td>under70</td>\n",
              "    </tr>\n",
              "    <tr>\n",
              "      <th>14</th>\n",
              "      <td>65.000</td>\n",
              "      <td>0</td>\n",
              "      <td>56</td>\n",
              "      <td>0</td>\n",
              "      <td>25</td>\n",
              "      <td>0</td>\n",
              "      <td>237000.00</td>\n",
              "      <td>5.00</td>\n",
              "      <td>130</td>\n",
              "      <td>0</td>\n",
              "      <td>0</td>\n",
              "      <td>207</td>\n",
              "      <td>0</td>\n",
              "      <td>under70</td>\n",
              "    </tr>\n",
              "    <tr>\n",
              "      <th>15</th>\n",
              "      <td>75.000</td>\n",
              "      <td>0</td>\n",
              "      <td>119</td>\n",
              "      <td>0</td>\n",
              "      <td>50</td>\n",
              "      <td>1</td>\n",
              "      <td>248000.00</td>\n",
              "      <td>1.10</td>\n",
              "      <td>148</td>\n",
              "      <td>1</td>\n",
              "      <td>0</td>\n",
              "      <td>209</td>\n",
              "      <td>0</td>\n",
              "      <td>under80</td>\n",
              "    </tr>\n",
              "    <tr>\n",
              "      <th>16</th>\n",
              "      <td>80.000</td>\n",
              "      <td>0</td>\n",
              "      <td>805</td>\n",
              "      <td>0</td>\n",
              "      <td>38</td>\n",
              "      <td>0</td>\n",
              "      <td>263358.03</td>\n",
              "      <td>1.10</td>\n",
              "      <td>134</td>\n",
              "      <td>1</td>\n",
              "      <td>0</td>\n",
              "      <td>109</td>\n",
              "      <td>1</td>\n",
              "      <td>under90</td>\n",
              "    </tr>\n",
              "    <tr>\n",
              "      <th>17</th>\n",
              "      <td>58.000</td>\n",
              "      <td>1</td>\n",
              "      <td>400</td>\n",
              "      <td>0</td>\n",
              "      <td>40</td>\n",
              "      <td>0</td>\n",
              "      <td>164000.00</td>\n",
              "      <td>1.00</td>\n",
              "      <td>139</td>\n",
              "      <td>0</td>\n",
              "      <td>0</td>\n",
              "      <td>91</td>\n",
              "      <td>0</td>\n",
              "      <td>under60</td>\n",
              "    </tr>\n",
              "    <tr>\n",
              "      <th>18</th>\n",
              "      <td>73.000</td>\n",
              "      <td>0</td>\n",
              "      <td>582</td>\n",
              "      <td>0</td>\n",
              "      <td>35</td>\n",
              "      <td>1</td>\n",
              "      <td>203000.00</td>\n",
              "      <td>1.30</td>\n",
              "      <td>134</td>\n",
              "      <td>1</td>\n",
              "      <td>0</td>\n",
              "      <td>195</td>\n",
              "      <td>0</td>\n",
              "      <td>under80</td>\n",
              "    </tr>\n",
              "    <tr>\n",
              "      <th>19</th>\n",
              "      <td>55.000</td>\n",
              "      <td>0</td>\n",
              "      <td>582</td>\n",
              "      <td>1</td>\n",
              "      <td>35</td>\n",
              "      <td>1</td>\n",
              "      <td>371000.00</td>\n",
              "      <td>0.70</td>\n",
              "      <td>140</td>\n",
              "      <td>0</td>\n",
              "      <td>0</td>\n",
              "      <td>197</td>\n",
              "      <td>0</td>\n",
              "      <td>under60</td>\n",
              "    </tr>\n",
              "  </tbody>\n",
              "</table>\n",
              "</div>\n",
              "      <button class=\"colab-df-convert\" onclick=\"convertToInteractive('df-b1005a11-7454-4d85-b90b-6da0b4353873')\"\n",
              "              title=\"Convert this dataframe to an interactive table.\"\n",
              "              style=\"display:none;\">\n",
              "        \n",
              "  <svg xmlns=\"http://www.w3.org/2000/svg\" height=\"24px\"viewBox=\"0 0 24 24\"\n",
              "       width=\"24px\">\n",
              "    <path d=\"M0 0h24v24H0V0z\" fill=\"none\"/>\n",
              "    <path d=\"M18.56 5.44l.94 2.06.94-2.06 2.06-.94-2.06-.94-.94-2.06-.94 2.06-2.06.94zm-11 1L8.5 8.5l.94-2.06 2.06-.94-2.06-.94L8.5 2.5l-.94 2.06-2.06.94zm10 10l.94 2.06.94-2.06 2.06-.94-2.06-.94-.94-2.06-.94 2.06-2.06.94z\"/><path d=\"M17.41 7.96l-1.37-1.37c-.4-.4-.92-.59-1.43-.59-.52 0-1.04.2-1.43.59L10.3 9.45l-7.72 7.72c-.78.78-.78 2.05 0 2.83L4 21.41c.39.39.9.59 1.41.59.51 0 1.02-.2 1.41-.59l7.78-7.78 2.81-2.81c.8-.78.8-2.07 0-2.86zM5.41 20L4 18.59l7.72-7.72 1.47 1.35L5.41 20z\"/>\n",
              "  </svg>\n",
              "      </button>\n",
              "      \n",
              "  <style>\n",
              "    .colab-df-container {\n",
              "      display:flex;\n",
              "      flex-wrap:wrap;\n",
              "      gap: 12px;\n",
              "    }\n",
              "\n",
              "    .colab-df-convert {\n",
              "      background-color: #E8F0FE;\n",
              "      border: none;\n",
              "      border-radius: 50%;\n",
              "      cursor: pointer;\n",
              "      display: none;\n",
              "      fill: #1967D2;\n",
              "      height: 32px;\n",
              "      padding: 0 0 0 0;\n",
              "      width: 32px;\n",
              "    }\n",
              "\n",
              "    .colab-df-convert:hover {\n",
              "      background-color: #E2EBFA;\n",
              "      box-shadow: 0px 1px 2px rgba(60, 64, 67, 0.3), 0px 1px 3px 1px rgba(60, 64, 67, 0.15);\n",
              "      fill: #174EA6;\n",
              "    }\n",
              "\n",
              "    [theme=dark] .colab-df-convert {\n",
              "      background-color: #3B4455;\n",
              "      fill: #D2E3FC;\n",
              "    }\n",
              "\n",
              "    [theme=dark] .colab-df-convert:hover {\n",
              "      background-color: #434B5C;\n",
              "      box-shadow: 0px 1px 3px 1px rgba(0, 0, 0, 0.15);\n",
              "      filter: drop-shadow(0px 1px 2px rgba(0, 0, 0, 0.3));\n",
              "      fill: #FFFFFF;\n",
              "    }\n",
              "  </style>\n",
              "\n",
              "      <script>\n",
              "        const buttonEl =\n",
              "          document.querySelector('#df-b1005a11-7454-4d85-b90b-6da0b4353873 button.colab-df-convert');\n",
              "        buttonEl.style.display =\n",
              "          google.colab.kernel.accessAllowed ? 'block' : 'none';\n",
              "\n",
              "        async function convertToInteractive(key) {\n",
              "          const element = document.querySelector('#df-b1005a11-7454-4d85-b90b-6da0b4353873');\n",
              "          const dataTable =\n",
              "            await google.colab.kernel.invokeFunction('convertToInteractive',\n",
              "                                                     [key], {});\n",
              "          if (!dataTable) return;\n",
              "\n",
              "          const docLinkHtml = 'Like what you see? Visit the ' +\n",
              "            '<a target=\"_blank\" href=https://colab.research.google.com/notebooks/data_table.ipynb>data table notebook</a>'\n",
              "            + ' to learn more about interactive tables.';\n",
              "          element.innerHTML = '';\n",
              "          dataTable['output_type'] = 'display_data';\n",
              "          await google.colab.output.renderOutput(dataTable, element);\n",
              "          const docLink = document.createElement('div');\n",
              "          docLink.innerHTML = docLinkHtml;\n",
              "          element.appendChild(docLink);\n",
              "        }\n",
              "      </script>\n",
              "    </div>\n",
              "  </div>\n",
              "  "
            ]
          },
          "metadata": {},
          "execution_count": 253
        }
      ]
    },
    {
      "cell_type": "code",
      "source": [
        "# Split data numerical and categorical\n",
        "infDataNum = infData[numCol]\n",
        "infDataCat = infData[catCol]"
      ],
      "metadata": {
        "id": "DHpwZ_WQp98g"
      },
      "execution_count": 254,
      "outputs": []
    },
    {
      "cell_type": "code",
      "source": [
        "# Feature scaling\n",
        "infDataScaled = scaler.transform(infDataNum)\n",
        "\n",
        "# Feature encoding\n",
        "infDataCat['age_bin_enc'] = encoder.fit_transform(infDataCat['age_bin'])\n",
        "\n",
        "# Drop column\n",
        "infDataCat.drop(columns=['age_bin'], axis=1, inplace=True)\n",
        "\n",
        "# Concate data\n",
        "infDataFinal = np.concatenate([infDataScaled, infDataCat], axis=1)"
      ],
      "metadata": {
        "id": "ucf2n29z2J3J"
      },
      "execution_count": 255,
      "outputs": []
    },
    {
      "cell_type": "code",
      "source": [
        "%%time\n",
        "# Applying model\n",
        "# Bagging classifier\n",
        "y_predInfBagg = baggBase.predict(infDataFinal)\n",
        "\n",
        "# Random forest classifier\n",
        "y_predInfRandFor = randForBase.predict(infDataFinal)\n",
        "\n",
        "# Ada Boosting classifier\n",
        "y_predInfAda = adaBase.predict(infDataFinal)"
      ],
      "metadata": {
        "colab": {
          "base_uri": "https://localhost:8080/"
        },
        "id": "WJQKnRCvzrov",
        "outputId": "e9eb4217-c10a-4fd7-9fac-4f69754c5320"
      },
      "execution_count": 256,
      "outputs": [
        {
          "output_type": "stream",
          "name": "stdout",
          "text": [
            "CPU times: user 78.5 ms, sys: 758 µs, total: 79.3 ms\n",
            "Wall time: 81.2 ms\n"
          ]
        }
      ]
    },
    {
      "cell_type": "code",
      "source": [
        "# Create dataframe to show the model prediction\n",
        "y_predBaggDF = pd.DataFrame(y_predInfBagg, columns=['Predict - Bagging'])\n",
        "y_predRandForDF = pd.DataFrame(y_predInfRandFor, columns=['Predict - Random Forest'])\n",
        "y_predAdaDF = pd.DataFrame(y_predInfAda, columns=['Predict - Ada Boosting'])"
      ],
      "metadata": {
        "id": "pKrF0yEq2gq1"
      },
      "execution_count": 257,
      "outputs": []
    },
    {
      "cell_type": "code",
      "source": [
        "# Grouping data inference with prediction\n",
        "infDataFinalDF = pd.concat([infData, y_predBaggDF, y_predRandForDF, y_predAdaDF], axis=1)\n",
        "\n",
        "# Display\n",
        "infDataFinalDF"
      ],
      "metadata": {
        "colab": {
          "base_uri": "https://localhost:8080/",
          "height": 792
        },
        "id": "8HADXapo27k9",
        "outputId": "6f22cb9e-0024-4209-eaef-98f009435a47"
      },
      "execution_count": 258,
      "outputs": [
        {
          "output_type": "execute_result",
          "data": {
            "text/plain": [
              "       age  anaemia  creatinine_phosphokinase  diabetes  ejection_fraction  \\\n",
              "0   60.000        1                        76         1                 25   \n",
              "1   60.000        1                      1082         1                 45   \n",
              "2   50.000        1                       159         1                 30   \n",
              "3   75.000        0                       675         1                 60   \n",
              "4   45.000        1                       981         0                 30   \n",
              "5   80.000        0                       582         1                 35   \n",
              "6   65.000        1                       305         0                 25   \n",
              "7   73.000        0                       582         0                 20   \n",
              "8   68.000        1                       220         0                 35   \n",
              "9   50.000        1                      1051         1                 30   \n",
              "10  78.000        0                       224         0                 50   \n",
              "11  45.000        0                      2413         0                 38   \n",
              "12  60.667        1                       151         1                 40   \n",
              "13  66.000        1                        72         0                 40   \n",
              "14  65.000        0                        56         0                 25   \n",
              "15  75.000        0                       119         0                 50   \n",
              "16  80.000        0                       805         0                 38   \n",
              "17  58.000        1                       400         0                 40   \n",
              "18  73.000        0                       582         0                 35   \n",
              "19  55.000        0                       582         1                 35   \n",
              "\n",
              "    high_blood_pressure  platelets  serum_creatinine  serum_sodium  sex  \\\n",
              "0                     0  196000.00              2.50           132    0   \n",
              "1                     0  250000.00              6.10           131    1   \n",
              "2                     0  302000.00              1.20           138    0   \n",
              "3                     0  265000.00              1.40           125    0   \n",
              "4                     0  136000.00              1.10           137    1   \n",
              "5                     0  350000.00              2.10           134    1   \n",
              "6                     0  298000.00              1.10           141    1   \n",
              "7                     0  263358.03              1.83           134    1   \n",
              "8                     1  289000.00              0.90           140    1   \n",
              "9                     0  232000.00              0.70           136    0   \n",
              "10                    0  481000.00              1.40           138    1   \n",
              "11                    0  140000.00              1.40           140    1   \n",
              "12                    1  201000.00              1.00           136    0   \n",
              "13                    1  242000.00              1.20           134    1   \n",
              "14                    0  237000.00              5.00           130    0   \n",
              "15                    1  248000.00              1.10           148    1   \n",
              "16                    0  263358.03              1.10           134    1   \n",
              "17                    0  164000.00              1.00           139    0   \n",
              "18                    1  203000.00              1.30           134    1   \n",
              "19                    1  371000.00              0.70           140    0   \n",
              "\n",
              "    smoking  time  DEATH_EVENT  age_bin  Predict - Bagging  \\\n",
              "0         0    77            1  under70                  1   \n",
              "1         0   107            0  under70                  0   \n",
              "2         0    29            0  under60                  1   \n",
              "3         0   205            0  under80                  0   \n",
              "4         0    11            1  under50                  1   \n",
              "5         0   174            0  under90                  0   \n",
              "6         0    87            0  under70                  0   \n",
              "7         0   198            1  under80                  1   \n",
              "8         1    20            1  under70                  1   \n",
              "9         0   246            0  under60                  0   \n",
              "10        1   192            0  under80                  0   \n",
              "11        1   280            0  under50                  0   \n",
              "12        0   172            0  under70                  0   \n",
              "13        0   121            0  under70                  0   \n",
              "14        0   207            0  under70                  1   \n",
              "15        0   209            0  under80                  0   \n",
              "16        0   109            1  under90                  0   \n",
              "17        0    91            0  under60                  0   \n",
              "18        0   195            0  under80                  0   \n",
              "19        0   197            0  under60                  0   \n",
              "\n",
              "    Predict - Random Forest  Predict - Ada Boosting  \n",
              "0                         1                       1  \n",
              "1                         1                       1  \n",
              "2                         0                       1  \n",
              "3                         0                       0  \n",
              "4                         1                       1  \n",
              "5                         0                       1  \n",
              "6                         0                       0  \n",
              "7                         1                       1  \n",
              "8                         1                       1  \n",
              "9                         0                       0  \n",
              "10                        0                       0  \n",
              "11                        0                       0  \n",
              "12                        0                       0  \n",
              "13                        0                       0  \n",
              "14                        0                       0  \n",
              "15                        0                       0  \n",
              "16                        0                       0  \n",
              "17                        0                       0  \n",
              "18                        0                       0  \n",
              "19                        0                       0  "
            ],
            "text/html": [
              "\n",
              "  <div id=\"df-a0030cda-7ef7-41aa-93b5-d1dec6528282\">\n",
              "    <div class=\"colab-df-container\">\n",
              "      <div>\n",
              "<style scoped>\n",
              "    .dataframe tbody tr th:only-of-type {\n",
              "        vertical-align: middle;\n",
              "    }\n",
              "\n",
              "    .dataframe tbody tr th {\n",
              "        vertical-align: top;\n",
              "    }\n",
              "\n",
              "    .dataframe thead th {\n",
              "        text-align: right;\n",
              "    }\n",
              "</style>\n",
              "<table border=\"1\" class=\"dataframe\">\n",
              "  <thead>\n",
              "    <tr style=\"text-align: right;\">\n",
              "      <th></th>\n",
              "      <th>age</th>\n",
              "      <th>anaemia</th>\n",
              "      <th>creatinine_phosphokinase</th>\n",
              "      <th>diabetes</th>\n",
              "      <th>ejection_fraction</th>\n",
              "      <th>high_blood_pressure</th>\n",
              "      <th>platelets</th>\n",
              "      <th>serum_creatinine</th>\n",
              "      <th>serum_sodium</th>\n",
              "      <th>sex</th>\n",
              "      <th>smoking</th>\n",
              "      <th>time</th>\n",
              "      <th>DEATH_EVENT</th>\n",
              "      <th>age_bin</th>\n",
              "      <th>Predict - Bagging</th>\n",
              "      <th>Predict - Random Forest</th>\n",
              "      <th>Predict - Ada Boosting</th>\n",
              "    </tr>\n",
              "  </thead>\n",
              "  <tbody>\n",
              "    <tr>\n",
              "      <th>0</th>\n",
              "      <td>60.000</td>\n",
              "      <td>1</td>\n",
              "      <td>76</td>\n",
              "      <td>1</td>\n",
              "      <td>25</td>\n",
              "      <td>0</td>\n",
              "      <td>196000.00</td>\n",
              "      <td>2.50</td>\n",
              "      <td>132</td>\n",
              "      <td>0</td>\n",
              "      <td>0</td>\n",
              "      <td>77</td>\n",
              "      <td>1</td>\n",
              "      <td>under70</td>\n",
              "      <td>1</td>\n",
              "      <td>1</td>\n",
              "      <td>1</td>\n",
              "    </tr>\n",
              "    <tr>\n",
              "      <th>1</th>\n",
              "      <td>60.000</td>\n",
              "      <td>1</td>\n",
              "      <td>1082</td>\n",
              "      <td>1</td>\n",
              "      <td>45</td>\n",
              "      <td>0</td>\n",
              "      <td>250000.00</td>\n",
              "      <td>6.10</td>\n",
              "      <td>131</td>\n",
              "      <td>1</td>\n",
              "      <td>0</td>\n",
              "      <td>107</td>\n",
              "      <td>0</td>\n",
              "      <td>under70</td>\n",
              "      <td>0</td>\n",
              "      <td>1</td>\n",
              "      <td>1</td>\n",
              "    </tr>\n",
              "    <tr>\n",
              "      <th>2</th>\n",
              "      <td>50.000</td>\n",
              "      <td>1</td>\n",
              "      <td>159</td>\n",
              "      <td>1</td>\n",
              "      <td>30</td>\n",
              "      <td>0</td>\n",
              "      <td>302000.00</td>\n",
              "      <td>1.20</td>\n",
              "      <td>138</td>\n",
              "      <td>0</td>\n",
              "      <td>0</td>\n",
              "      <td>29</td>\n",
              "      <td>0</td>\n",
              "      <td>under60</td>\n",
              "      <td>1</td>\n",
              "      <td>0</td>\n",
              "      <td>1</td>\n",
              "    </tr>\n",
              "    <tr>\n",
              "      <th>3</th>\n",
              "      <td>75.000</td>\n",
              "      <td>0</td>\n",
              "      <td>675</td>\n",
              "      <td>1</td>\n",
              "      <td>60</td>\n",
              "      <td>0</td>\n",
              "      <td>265000.00</td>\n",
              "      <td>1.40</td>\n",
              "      <td>125</td>\n",
              "      <td>0</td>\n",
              "      <td>0</td>\n",
              "      <td>205</td>\n",
              "      <td>0</td>\n",
              "      <td>under80</td>\n",
              "      <td>0</td>\n",
              "      <td>0</td>\n",
              "      <td>0</td>\n",
              "    </tr>\n",
              "    <tr>\n",
              "      <th>4</th>\n",
              "      <td>45.000</td>\n",
              "      <td>1</td>\n",
              "      <td>981</td>\n",
              "      <td>0</td>\n",
              "      <td>30</td>\n",
              "      <td>0</td>\n",
              "      <td>136000.00</td>\n",
              "      <td>1.10</td>\n",
              "      <td>137</td>\n",
              "      <td>1</td>\n",
              "      <td>0</td>\n",
              "      <td>11</td>\n",
              "      <td>1</td>\n",
              "      <td>under50</td>\n",
              "      <td>1</td>\n",
              "      <td>1</td>\n",
              "      <td>1</td>\n",
              "    </tr>\n",
              "    <tr>\n",
              "      <th>5</th>\n",
              "      <td>80.000</td>\n",
              "      <td>0</td>\n",
              "      <td>582</td>\n",
              "      <td>1</td>\n",
              "      <td>35</td>\n",
              "      <td>0</td>\n",
              "      <td>350000.00</td>\n",
              "      <td>2.10</td>\n",
              "      <td>134</td>\n",
              "      <td>1</td>\n",
              "      <td>0</td>\n",
              "      <td>174</td>\n",
              "      <td>0</td>\n",
              "      <td>under90</td>\n",
              "      <td>0</td>\n",
              "      <td>0</td>\n",
              "      <td>1</td>\n",
              "    </tr>\n",
              "    <tr>\n",
              "      <th>6</th>\n",
              "      <td>65.000</td>\n",
              "      <td>1</td>\n",
              "      <td>305</td>\n",
              "      <td>0</td>\n",
              "      <td>25</td>\n",
              "      <td>0</td>\n",
              "      <td>298000.00</td>\n",
              "      <td>1.10</td>\n",
              "      <td>141</td>\n",
              "      <td>1</td>\n",
              "      <td>0</td>\n",
              "      <td>87</td>\n",
              "      <td>0</td>\n",
              "      <td>under70</td>\n",
              "      <td>0</td>\n",
              "      <td>0</td>\n",
              "      <td>0</td>\n",
              "    </tr>\n",
              "    <tr>\n",
              "      <th>7</th>\n",
              "      <td>73.000</td>\n",
              "      <td>0</td>\n",
              "      <td>582</td>\n",
              "      <td>0</td>\n",
              "      <td>20</td>\n",
              "      <td>0</td>\n",
              "      <td>263358.03</td>\n",
              "      <td>1.83</td>\n",
              "      <td>134</td>\n",
              "      <td>1</td>\n",
              "      <td>0</td>\n",
              "      <td>198</td>\n",
              "      <td>1</td>\n",
              "      <td>under80</td>\n",
              "      <td>1</td>\n",
              "      <td>1</td>\n",
              "      <td>1</td>\n",
              "    </tr>\n",
              "    <tr>\n",
              "      <th>8</th>\n",
              "      <td>68.000</td>\n",
              "      <td>1</td>\n",
              "      <td>220</td>\n",
              "      <td>0</td>\n",
              "      <td>35</td>\n",
              "      <td>1</td>\n",
              "      <td>289000.00</td>\n",
              "      <td>0.90</td>\n",
              "      <td>140</td>\n",
              "      <td>1</td>\n",
              "      <td>1</td>\n",
              "      <td>20</td>\n",
              "      <td>1</td>\n",
              "      <td>under70</td>\n",
              "      <td>1</td>\n",
              "      <td>1</td>\n",
              "      <td>1</td>\n",
              "    </tr>\n",
              "    <tr>\n",
              "      <th>9</th>\n",
              "      <td>50.000</td>\n",
              "      <td>1</td>\n",
              "      <td>1051</td>\n",
              "      <td>1</td>\n",
              "      <td>30</td>\n",
              "      <td>0</td>\n",
              "      <td>232000.00</td>\n",
              "      <td>0.70</td>\n",
              "      <td>136</td>\n",
              "      <td>0</td>\n",
              "      <td>0</td>\n",
              "      <td>246</td>\n",
              "      <td>0</td>\n",
              "      <td>under60</td>\n",
              "      <td>0</td>\n",
              "      <td>0</td>\n",
              "      <td>0</td>\n",
              "    </tr>\n",
              "    <tr>\n",
              "      <th>10</th>\n",
              "      <td>78.000</td>\n",
              "      <td>0</td>\n",
              "      <td>224</td>\n",
              "      <td>0</td>\n",
              "      <td>50</td>\n",
              "      <td>0</td>\n",
              "      <td>481000.00</td>\n",
              "      <td>1.40</td>\n",
              "      <td>138</td>\n",
              "      <td>1</td>\n",
              "      <td>1</td>\n",
              "      <td>192</td>\n",
              "      <td>0</td>\n",
              "      <td>under80</td>\n",
              "      <td>0</td>\n",
              "      <td>0</td>\n",
              "      <td>0</td>\n",
              "    </tr>\n",
              "    <tr>\n",
              "      <th>11</th>\n",
              "      <td>45.000</td>\n",
              "      <td>0</td>\n",
              "      <td>2413</td>\n",
              "      <td>0</td>\n",
              "      <td>38</td>\n",
              "      <td>0</td>\n",
              "      <td>140000.00</td>\n",
              "      <td>1.40</td>\n",
              "      <td>140</td>\n",
              "      <td>1</td>\n",
              "      <td>1</td>\n",
              "      <td>280</td>\n",
              "      <td>0</td>\n",
              "      <td>under50</td>\n",
              "      <td>0</td>\n",
              "      <td>0</td>\n",
              "      <td>0</td>\n",
              "    </tr>\n",
              "    <tr>\n",
              "      <th>12</th>\n",
              "      <td>60.667</td>\n",
              "      <td>1</td>\n",
              "      <td>151</td>\n",
              "      <td>1</td>\n",
              "      <td>40</td>\n",
              "      <td>1</td>\n",
              "      <td>201000.00</td>\n",
              "      <td>1.00</td>\n",
              "      <td>136</td>\n",
              "      <td>0</td>\n",
              "      <td>0</td>\n",
              "      <td>172</td>\n",
              "      <td>0</td>\n",
              "      <td>under70</td>\n",
              "      <td>0</td>\n",
              "      <td>0</td>\n",
              "      <td>0</td>\n",
              "    </tr>\n",
              "    <tr>\n",
              "      <th>13</th>\n",
              "      <td>66.000</td>\n",
              "      <td>1</td>\n",
              "      <td>72</td>\n",
              "      <td>0</td>\n",
              "      <td>40</td>\n",
              "      <td>1</td>\n",
              "      <td>242000.00</td>\n",
              "      <td>1.20</td>\n",
              "      <td>134</td>\n",
              "      <td>1</td>\n",
              "      <td>0</td>\n",
              "      <td>121</td>\n",
              "      <td>0</td>\n",
              "      <td>under70</td>\n",
              "      <td>0</td>\n",
              "      <td>0</td>\n",
              "      <td>0</td>\n",
              "    </tr>\n",
              "    <tr>\n",
              "      <th>14</th>\n",
              "      <td>65.000</td>\n",
              "      <td>0</td>\n",
              "      <td>56</td>\n",
              "      <td>0</td>\n",
              "      <td>25</td>\n",
              "      <td>0</td>\n",
              "      <td>237000.00</td>\n",
              "      <td>5.00</td>\n",
              "      <td>130</td>\n",
              "      <td>0</td>\n",
              "      <td>0</td>\n",
              "      <td>207</td>\n",
              "      <td>0</td>\n",
              "      <td>under70</td>\n",
              "      <td>1</td>\n",
              "      <td>0</td>\n",
              "      <td>0</td>\n",
              "    </tr>\n",
              "    <tr>\n",
              "      <th>15</th>\n",
              "      <td>75.000</td>\n",
              "      <td>0</td>\n",
              "      <td>119</td>\n",
              "      <td>0</td>\n",
              "      <td>50</td>\n",
              "      <td>1</td>\n",
              "      <td>248000.00</td>\n",
              "      <td>1.10</td>\n",
              "      <td>148</td>\n",
              "      <td>1</td>\n",
              "      <td>0</td>\n",
              "      <td>209</td>\n",
              "      <td>0</td>\n",
              "      <td>under80</td>\n",
              "      <td>0</td>\n",
              "      <td>0</td>\n",
              "      <td>0</td>\n",
              "    </tr>\n",
              "    <tr>\n",
              "      <th>16</th>\n",
              "      <td>80.000</td>\n",
              "      <td>0</td>\n",
              "      <td>805</td>\n",
              "      <td>0</td>\n",
              "      <td>38</td>\n",
              "      <td>0</td>\n",
              "      <td>263358.03</td>\n",
              "      <td>1.10</td>\n",
              "      <td>134</td>\n",
              "      <td>1</td>\n",
              "      <td>0</td>\n",
              "      <td>109</td>\n",
              "      <td>1</td>\n",
              "      <td>under90</td>\n",
              "      <td>0</td>\n",
              "      <td>0</td>\n",
              "      <td>0</td>\n",
              "    </tr>\n",
              "    <tr>\n",
              "      <th>17</th>\n",
              "      <td>58.000</td>\n",
              "      <td>1</td>\n",
              "      <td>400</td>\n",
              "      <td>0</td>\n",
              "      <td>40</td>\n",
              "      <td>0</td>\n",
              "      <td>164000.00</td>\n",
              "      <td>1.00</td>\n",
              "      <td>139</td>\n",
              "      <td>0</td>\n",
              "      <td>0</td>\n",
              "      <td>91</td>\n",
              "      <td>0</td>\n",
              "      <td>under60</td>\n",
              "      <td>0</td>\n",
              "      <td>0</td>\n",
              "      <td>0</td>\n",
              "    </tr>\n",
              "    <tr>\n",
              "      <th>18</th>\n",
              "      <td>73.000</td>\n",
              "      <td>0</td>\n",
              "      <td>582</td>\n",
              "      <td>0</td>\n",
              "      <td>35</td>\n",
              "      <td>1</td>\n",
              "      <td>203000.00</td>\n",
              "      <td>1.30</td>\n",
              "      <td>134</td>\n",
              "      <td>1</td>\n",
              "      <td>0</td>\n",
              "      <td>195</td>\n",
              "      <td>0</td>\n",
              "      <td>under80</td>\n",
              "      <td>0</td>\n",
              "      <td>0</td>\n",
              "      <td>0</td>\n",
              "    </tr>\n",
              "    <tr>\n",
              "      <th>19</th>\n",
              "      <td>55.000</td>\n",
              "      <td>0</td>\n",
              "      <td>582</td>\n",
              "      <td>1</td>\n",
              "      <td>35</td>\n",
              "      <td>1</td>\n",
              "      <td>371000.00</td>\n",
              "      <td>0.70</td>\n",
              "      <td>140</td>\n",
              "      <td>0</td>\n",
              "      <td>0</td>\n",
              "      <td>197</td>\n",
              "      <td>0</td>\n",
              "      <td>under60</td>\n",
              "      <td>0</td>\n",
              "      <td>0</td>\n",
              "      <td>0</td>\n",
              "    </tr>\n",
              "  </tbody>\n",
              "</table>\n",
              "</div>\n",
              "      <button class=\"colab-df-convert\" onclick=\"convertToInteractive('df-a0030cda-7ef7-41aa-93b5-d1dec6528282')\"\n",
              "              title=\"Convert this dataframe to an interactive table.\"\n",
              "              style=\"display:none;\">\n",
              "        \n",
              "  <svg xmlns=\"http://www.w3.org/2000/svg\" height=\"24px\"viewBox=\"0 0 24 24\"\n",
              "       width=\"24px\">\n",
              "    <path d=\"M0 0h24v24H0V0z\" fill=\"none\"/>\n",
              "    <path d=\"M18.56 5.44l.94 2.06.94-2.06 2.06-.94-2.06-.94-.94-2.06-.94 2.06-2.06.94zm-11 1L8.5 8.5l.94-2.06 2.06-.94-2.06-.94L8.5 2.5l-.94 2.06-2.06.94zm10 10l.94 2.06.94-2.06 2.06-.94-2.06-.94-.94-2.06-.94 2.06-2.06.94z\"/><path d=\"M17.41 7.96l-1.37-1.37c-.4-.4-.92-.59-1.43-.59-.52 0-1.04.2-1.43.59L10.3 9.45l-7.72 7.72c-.78.78-.78 2.05 0 2.83L4 21.41c.39.39.9.59 1.41.59.51 0 1.02-.2 1.41-.59l7.78-7.78 2.81-2.81c.8-.78.8-2.07 0-2.86zM5.41 20L4 18.59l7.72-7.72 1.47 1.35L5.41 20z\"/>\n",
              "  </svg>\n",
              "      </button>\n",
              "      \n",
              "  <style>\n",
              "    .colab-df-container {\n",
              "      display:flex;\n",
              "      flex-wrap:wrap;\n",
              "      gap: 12px;\n",
              "    }\n",
              "\n",
              "    .colab-df-convert {\n",
              "      background-color: #E8F0FE;\n",
              "      border: none;\n",
              "      border-radius: 50%;\n",
              "      cursor: pointer;\n",
              "      display: none;\n",
              "      fill: #1967D2;\n",
              "      height: 32px;\n",
              "      padding: 0 0 0 0;\n",
              "      width: 32px;\n",
              "    }\n",
              "\n",
              "    .colab-df-convert:hover {\n",
              "      background-color: #E2EBFA;\n",
              "      box-shadow: 0px 1px 2px rgba(60, 64, 67, 0.3), 0px 1px 3px 1px rgba(60, 64, 67, 0.15);\n",
              "      fill: #174EA6;\n",
              "    }\n",
              "\n",
              "    [theme=dark] .colab-df-convert {\n",
              "      background-color: #3B4455;\n",
              "      fill: #D2E3FC;\n",
              "    }\n",
              "\n",
              "    [theme=dark] .colab-df-convert:hover {\n",
              "      background-color: #434B5C;\n",
              "      box-shadow: 0px 1px 3px 1px rgba(0, 0, 0, 0.15);\n",
              "      filter: drop-shadow(0px 1px 2px rgba(0, 0, 0, 0.3));\n",
              "      fill: #FFFFFF;\n",
              "    }\n",
              "  </style>\n",
              "\n",
              "      <script>\n",
              "        const buttonEl =\n",
              "          document.querySelector('#df-a0030cda-7ef7-41aa-93b5-d1dec6528282 button.colab-df-convert');\n",
              "        buttonEl.style.display =\n",
              "          google.colab.kernel.accessAllowed ? 'block' : 'none';\n",
              "\n",
              "        async function convertToInteractive(key) {\n",
              "          const element = document.querySelector('#df-a0030cda-7ef7-41aa-93b5-d1dec6528282');\n",
              "          const dataTable =\n",
              "            await google.colab.kernel.invokeFunction('convertToInteractive',\n",
              "                                                     [key], {});\n",
              "          if (!dataTable) return;\n",
              "\n",
              "          const docLinkHtml = 'Like what you see? Visit the ' +\n",
              "            '<a target=\"_blank\" href=https://colab.research.google.com/notebooks/data_table.ipynb>data table notebook</a>'\n",
              "            + ' to learn more about interactive tables.';\n",
              "          element.innerHTML = '';\n",
              "          dataTable['output_type'] = 'display_data';\n",
              "          await google.colab.output.renderOutput(dataTable, element);\n",
              "          const docLink = document.createElement('div');\n",
              "          docLink.innerHTML = docLinkHtml;\n",
              "          element.appendChild(docLink);\n",
              "        }\n",
              "      </script>\n",
              "    </div>\n",
              "  </div>\n",
              "  "
            ]
          },
          "metadata": {},
          "execution_count": 258
        }
      ]
    },
    {
      "cell_type": "code",
      "source": [
        "# Visualization between death and gender\n",
        "# Orignal Data\n",
        "plt.figure(figsize=(15,5))\n",
        "plt.subplot(1,2,1)\n",
        "ax = sns.countplot(x='DEATH_EVENT', data = infDataFinalDF)\n",
        "for p in ax.patches:\n",
        "    height = p.get_height()\n",
        "    ax.text(p.get_x() + p.get_width()/2.,height + 1, '{:1.0f}'.format(height), ha=\"center\")\n",
        "\n",
        "plt.subplot(1,2,2)\n",
        "plt.pie(infDataFinalDF.DEATH_EVENT.value_counts(), labels= infDataFinalDF.DEATH_EVENT.value_counts().index, autopct = '%1.1f%%')\n",
        "plt.show()\n",
        "\n",
        "# Bagging Classifier prediction\n",
        "plt.figure(figsize=(15,5))\n",
        "plt.subplot(1,2,1)\n",
        "ax = sns.countplot(x='Predict - Bagging', data = infDataFinalDF)\n",
        "for p in ax.patches:\n",
        "    height = p.get_height()\n",
        "    ax.text(p.get_x() + p.get_width()/2.,height + 1, '{:1.0f}'.format(height), ha=\"center\")\n",
        "\n",
        "plt.subplot(1,2,2)\n",
        "plt.pie(infDataFinalDF['Predict - Bagging'].value_counts(), labels= infDataFinalDF['Predict - Bagging'].value_counts().index, autopct = '%1.1f%%')\n",
        "plt.show()\n",
        "\n",
        "# Random Forest Classifier prediction\n",
        "plt.figure(figsize=(15,5))\n",
        "plt.subplot(1,2,1)\n",
        "ax = sns.countplot(x='Predict - Random Forest', data = infDataFinalDF)\n",
        "for p in ax.patches:\n",
        "    height = p.get_height()\n",
        "    ax.text(p.get_x() + p.get_width()/2.,height + 1, '{:1.0f}'.format(height), ha=\"center\")\n",
        "\n",
        "plt.subplot(1,2,2)\n",
        "plt.pie(infDataFinalDF['Predict - Random Forest'].value_counts(), labels= infDataFinalDF['Predict - Random Forest'].value_counts().index, autopct = '%1.1f%%')\n",
        "plt.show()\n",
        "\n",
        "# Ada Boosting Classifier prediction\n",
        "plt.figure(figsize=(15,5))\n",
        "plt.subplot(1,2,1)\n",
        "ax = sns.countplot(x='Predict - Ada Boosting', data = infDataFinalDF)\n",
        "for p in ax.patches:\n",
        "    height = p.get_height()\n",
        "    ax.text(p.get_x() + p.get_width()/2.,height + 1, '{:1.0f}'.format(height), ha=\"center\")\n",
        "\n",
        "plt.subplot(1,2,2)\n",
        "plt.pie(infDataFinalDF['Predict - Ada Boosting'].value_counts(), labels= infDataFinalDF['Predict - Ada Boosting'].value_counts().index, autopct = '%1.1f%%')\n",
        "plt.show()"
      ],
      "metadata": {
        "colab": {
          "base_uri": "https://localhost:8080/",
          "height": 1000
        },
        "id": "VwGWnxBt3jd9",
        "outputId": "85a90a09-755d-498a-e9dd-585c1a5771a5"
      },
      "execution_count": 259,
      "outputs": [
        {
          "output_type": "display_data",
          "data": {
            "text/plain": [
              "<Figure size 1080x360 with 2 Axes>"
            ],
            "image/png": "[encoded data removed]"
          },
          "metadata": {
            "needs_background": "light"
          }
        },
        {
          "output_type": "display_data",
          "data": {
            "text/plain": [
              "<Figure size 1080x360 with 2 Axes>"
            ],
            "image/png": "[encoded data removed]"
          },
          "metadata": {
            "needs_background": "light"
          }
        },
        {
          "output_type": "display_data",
          "data": {
            "text/plain": [
              "<Figure size 1080x360 with 2 Axes>"
            ],
            "image/png": "[encoded data removed]"
          },
          "metadata": {
            "needs_background": "light"
          }
        },
        {
          "output_type": "display_data",
          "data": {
            "text/plain": [
              "<Figure size 1080x360 with 2 Axes>"
            ],
            "image/png": "[encoded data removed]"
          },
          "metadata": {
            "needs_background": "light"
          }
        }
      ]
    },
    {
      "cell_type": "markdown",
      "source": [
        "# **11 - Model Saving**\n",
        "\n",
        "---"
      ],
      "metadata": {
        "id": "wO-YQ5oHSCdA"
      }
    },
    {
      "cell_type": "markdown",
      "source": [
        "Pada bagian ini, dilakukan proses penyimpanan model dan file-file lain yang terkait dengan hasil proses pembuatan model."
      ],
      "metadata": {
        "id": "k5d0F5eESJwZ"
      }
    },
    {
      "cell_type": "code",
      "source": [
        "# Saving the model\n",
        "with open('BaggingClassifier.pkl', 'wb') as file1:\n",
        "  pickle.dump(baggBase, file1)\n",
        "\n",
        "with open('RandomForestClassifier.pkl', 'wb') as file1:\n",
        "  pickle.dump(randForBase, file1)\n",
        "\n",
        "with open('AdaBoostingClassifier.pkl', 'wb') as file1:\n",
        "  pickle.dump(adaBase, file1)\n",
        "\n",
        "with open('Scaling.pkl', 'wb') as file1:\n",
        "  pickle.dump(scaler, file1)\n",
        "\n",
        "with open('Encoder.pkl', 'wb') as file1:\n",
        "  pickle.dump(encoder, file1)\n",
        "\n",
        "with open('DataNumerical.txt', 'w') as file1:\n",
        "  json.dump(numCol, file1)\n",
        "\n",
        "with open('DataCategorical.txt', 'w') as file1:\n",
        "  json.dump(catCol, file1)"
      ],
      "metadata": {
        "id": "Bi_i4h8MOwvo"
      },
      "execution_count": 260,
      "outputs": []
    },
    {
      "cell_type": "markdown",
      "source": [
        "# **12 - Conceptual Problems**\n",
        "\n",
        "\n",
        "---\n",
        "\n"
      ],
      "metadata": {
        "id": "-NfNKQEjRwf1"
      }
    },
    {
      "cell_type": "markdown",
      "source": [
        "Jawab pertanyaan berikut:\n",
        "\n",
        "1. Jelaskan latar belakang adanya bagging dan cara kerja bagging !\n",
        "  - Latar belakang adanya bagging adalah untuk mengatasi permasalahan overfitting pada model prediksi. Overfitting terjadi ketika model terlalu kompleks dan terlalu spesifik untuk data training, sehingga tidak dapat digeneralisasi dengan baik untuk data baru yang belum pernah dilihat sebelumnya. Dalam kasus ini, model memiliki akurasi yang tinggi pada data training, tetapi memiliki performa yang buruk pada data testing. Dalam penggunaan algoritma bagging, model yang dihasilkan memiliki tingkat generalisasi yang lebih baik karena model yang dihasilkan lebih stabil dan mengurangi kemungkinan terjadinya overfitting. \n",
        "  - Cara kerja bagging adalah dengan melakukan bootstrap resampling pada data training sebanyak k kali, sehingga diperoleh k dataset training yang berbeda. Setiap dataset training digunakan untuk melatih sebuah model prediksi, dan hasil prediksi dari masing-masing model diambil sebagai input untuk melakukan agregasi. Agregasi dilakukan dengan mengambil rata-rata (untuk kasus regresi) atau mode (untuk kasus klasifikasi) dari hasil prediksi dari masing-masing model. Hasil agregasi inilah yang menjadi prediksi akhir dari model bagging. \n",
        "  - Dalam proses pembuatan model bagging, biasanya digunakan algoritma decision tree sebagai model prediksi karena decision tree cenderung mengalami overfitting pada data training. Namun dengan menggunakan teknik bagging, decision tree dapat menghasilkan model yang lebih stabil dan menghasilkan performa prediksi yang lebih baik pada data testing.\n",
        "\n",
        "2. Jelaskan perbedaan cara kerja algoritma Random Forest dengan algoritma boosting yang Anda pilih !\n",
        "  - Random Forest bekerja dalam dua fase. Fase pertama yaitu menggabungkan sejumlah N decision tree untuk membuat Random Forest. Kemudian fase kedua adalah membuat prediksi untuk setiap tree yang dibuat pada fase pertama.\n",
        "  - Cara kerja Ada Boosting Classifier hampir sama dengan Random Forest akan tetapi ada 2 perbedaan, yaitu perbedaan pertama adalah algoritma Ada Boosting membangun stumps forest. Stumps adalah pohon yang hanya terbuat dari satu cabang dan dua daun. Kedua, stumps yang dibangun tidak memiliki bobot yang sama pada prediksi akhir. Artinya, stumps yang memiliki error besar memiliki pengaruh yang kecil saat pengambilan keputusan. Perbedaan yang kedua adalah urutan pembuatan stumps sangat penting karena setiap stumps bertujuan untuk mengurangi error yang dihasilkan oleh stumps sebelumnya. "
      ],
      "metadata": {
        "id": "rsDjpHHOR2Bj"
      }
    },
    {
      "cell_type": "markdown",
      "source": [
        "# **13 - Pengambilan Kesimpulan**\n",
        "\n",
        "---\n"
      ],
      "metadata": {
        "id": "Ot7rm5udpmTJ"
      }
    },
    {
      "cell_type": "markdown",
      "source": [
        "Pada bagian terakhir ini, harus berisi kesimpulan yang mencerminkan hasil yang didapat dengan objective yang sudah ditulis di bagian pengenalan."
      ],
      "metadata": {
        "id": "iKAfRH5zpqWy"
      }
    },
    {
      "cell_type": "markdown",
      "source": [
        "Dari eksplorasi dan modeling data diatas dapat diambil kesimpulan :\n",
        "1. model Random Forest memiliki prediksi yang baik terhadap data inference, sebab nilai akurasinya sama dengan data inference, sedangkan Bagging classifier salah prediksi 5% terhadap data inference dan Ada Boosting salah prediksi 10% terhadap data inference. Hal ini terjadi mungkin pada saat training, model menemukan adanya outlier-outlier yang tidak tertangani.\n",
        "2. Rentang umur 50-69 tahun adalah mereka yang terbanyak perokok dan yang paling banyak adalah wanita, kemungkinan kebiasaan ini mereka bawa dari mereka remaja.\n",
        "3. Bagging classifier dan Ada boosting classifier mengalami peningkatan recall untuk dapat mengurangi false negative sedangkan untuk random forest mengalami peningkatan yang artinya kemungkinan false negative akan semakin besar\n",
        "4. 15.7% dari data adalah mereka yang memiliki kadar platelets diluar kadar normal, hal ini cukup mengkhawatirkan jika suatu saat mereka terluka, pada proses penyembuhannya akan memakan waktu, karena platelets itulah yang berfungsi untuk membekukan darah jika terjadi luka.\n",
        "5. 32% dari data adalah mereka yang perokok, seharusnya kebiasaan merokok ini harus mereka hentikan karena dikhawatirkan dapat membuat kesehatan mereka semakin menurun dan rawan terserang penyakit.\n",
        "6. 41.8% dari data adalah mereka yang terkena diabetes\n",
        "7. 35% dari mereka adalah penderita tekanan darah tinggi, seharusnya mereka menjalani terapi obat pengontrol tekanan darah agar tidak terjadi tekanan darah tinggi mendadak yang dapat mengancam nyawa mereka."
      ],
      "metadata": {
        "id": "umCH4zEBRtjE"
      }
    }
  ]
}