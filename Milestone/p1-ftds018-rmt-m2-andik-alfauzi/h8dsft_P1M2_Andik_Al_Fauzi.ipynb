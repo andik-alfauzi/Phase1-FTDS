{
  "nbformat": 4,
  "nbformat_minor": 0,
  "metadata": {
    "colab": {
      "provenance": [],
      "toc_visible": true
    },
    "kernelspec": {
      "name": "python3",
      "display_name": "Python 3"
    },
    "language_info": {
      "name": "python"
    }
  },
  "cells": [
    {
      "cell_type": "markdown",
      "source": [
        "# **1 - Perkenalan**\n",
        "\n",
        "---\n",
        "\n"
      ],
      "metadata": {
        "id": "CXqI8eCOniUX"
      }
    },
    {
      "cell_type": "markdown",
      "source": [
        "Bab pengenalan harus diisi dengan identitas, gambaran besar dataset yang digunakan, dan objective yang ingin dicapai."
      ],
      "metadata": {
        "id": "jVyqXyvqno-Y"
      }
    },
    {
      "cell_type": "markdown",
      "source": [
        "Nama : Andik Al Fauzi\n",
        "\n",
        "Batch : FTDS-RMT-018\n",
        "\n",
        "Dataset : [Medical Cost Personal Datasets](https://www.kaggle.com/datasets/mirichoi0218/insurance)\n",
        "\n",
        "Objective : Membuat model machine learning untuk membuat prediksi biaya asuransi seseorang yang datanya diambil dari [Kaggle](https://www.kaggle.com/datasets/mirichoi0218/insurance) sesuai dari instruksi [Milestone 2](https://github.com/H8-Assignments-Bay/p1-ftds018-rmt-m2-andik-alfauzi)"
      ],
      "metadata": {
        "id": "dIplYdXyh7JR"
      }
    },
    {
      "cell_type": "markdown",
      "source": [
        "# **2 - Import Libraries**\n",
        "\n",
        "---\n",
        "\n"
      ],
      "metadata": {
        "id": "5dJ2VgnPoLoq"
      }
    },
    {
      "cell_type": "markdown",
      "source": [
        "Cell pertama pada notebook harus berisi dan hanya berisi semua library yang digunakan dalam project."
      ],
      "metadata": {
        "id": "uKaZiMmIoOO4"
      }
    },
    {
      "cell_type": "code",
      "source": [
        "# Installing kaggle library\n",
        "!pip install kaggle"
      ],
      "metadata": {
        "colab": {
          "base_uri": "https://localhost:8080/"
        },
        "id": "O_FgmLWWm6Q4",
        "outputId": "5ae48f5e-1c9c-4cf3-cead-142f42616780"
      },
      "execution_count": 1,
      "outputs": [
        {
          "output_type": "stream",
          "name": "stdout",
          "text": [
            "Looking in indexes: https://pypi.org/simple, https://us-python.pkg.dev/colab-wheels/public/simple/\n",
            "Requirement already satisfied: kaggle in /usr/local/lib/python3.9/dist-packages (1.5.13)\n",
            "Requirement already satisfied: tqdm in /usr/local/lib/python3.9/dist-packages (from kaggle) (4.65.0)\n",
            "Requirement already satisfied: urllib3 in /usr/local/lib/python3.9/dist-packages (from kaggle) (1.26.15)\n",
            "Requirement already satisfied: six>=1.10 in /usr/local/lib/python3.9/dist-packages (from kaggle) (1.16.0)\n",
            "Requirement already satisfied: requests in /usr/local/lib/python3.9/dist-packages (from kaggle) (2.27.1)\n",
            "Requirement already satisfied: python-slugify in /usr/local/lib/python3.9/dist-packages (from kaggle) (8.0.1)\n",
            "Requirement already satisfied: python-dateutil in /usr/local/lib/python3.9/dist-packages (from kaggle) (2.8.2)\n",
            "Requirement already satisfied: certifi in /usr/local/lib/python3.9/dist-packages (from kaggle) (2022.12.7)\n",
            "Requirement already satisfied: text-unidecode>=1.3 in /usr/local/lib/python3.9/dist-packages (from python-slugify->kaggle) (1.3)\n",
            "Requirement already satisfied: charset-normalizer~=2.0.0 in /usr/local/lib/python3.9/dist-packages (from requests->kaggle) (2.0.12)\n",
            "Requirement already satisfied: idna<4,>=2.5 in /usr/local/lib/python3.9/dist-packages (from requests->kaggle) (3.4)\n"
          ]
        }
      ]
    },
    {
      "cell_type": "code",
      "source": [
        "# Importing libraries\n",
        "import pandas as pd\n",
        "import numpy as np\n",
        "\n",
        "# Model Libraries\n",
        "from sklearn.linear_model import LinearRegression\n",
        "from sklearn.ensemble import RandomForestRegressor\n",
        "from sklearn.svm import SVR\n",
        "from sklearn.tree import DecisionTreeRegressor\n",
        "from sklearn.pipeline import Pipeline\n",
        "from sklearn.compose import ColumnTransformer\n",
        "\n",
        "# Visualization libraries\n",
        "import matplotlib\n",
        "import matplotlib.pyplot as plt\n",
        "import seaborn as sns\n",
        "\n",
        "# Model Preprocessing libraries\n",
        "from sklearn.preprocessing import OrdinalEncoder, MinMaxScaler, PolynomialFeatures\n",
        "from sklearn.model_selection import train_test_split, GridSearchCV, cross_val_score, GridSearchCV\n",
        "from sklearn.metrics import mean_absolute_error, r2_score\n",
        "\n",
        "# Importing Libraries\n",
        "import pickle\n",
        "import json\n",
        "\n",
        "# Warning Library\n",
        "import warnings\n",
        "warnings.filterwarnings('ignore')"
      ],
      "metadata": {
        "id": "KpfbgIFroPAJ"
      },
      "execution_count": 2,
      "outputs": []
    },
    {
      "cell_type": "markdown",
      "source": [
        "# **4 - Data Loading**\n",
        "\n",
        "---"
      ],
      "metadata": {
        "id": "DKLv0Baoo3IV"
      }
    },
    {
      "cell_type": "markdown",
      "source": [
        "\n",
        "\n",
        "Bagian ini berisi proses penyiapan data sebelum dilakukan eksplorasi data lebih lanjut. Proses Data Loading dapat berupa memberi nama baru untuk setiap kolom, mengecek ukuran dataset, dll."
      ],
      "metadata": {
        "id": "ClFK_BKXo8Z7"
      }
    },
    {
      "cell_type": "code",
      "source": [
        "# persiapan Data Loading dan set kaggle\n",
        "!mkdir ~/.kaggle\n",
        "\n",
        "!cp kaggle.json ~/.kaggle\n",
        "!cp /content/drive/MyDrive/Haktiv8/kaggle.json ~/.kaggle\n",
        "\n",
        "# Cek kaggle berhasil berhasil dijalankan\n",
        "!ls ~/.kaggle"
      ],
      "metadata": {
        "colab": {
          "base_uri": "https://localhost:8080/"
        },
        "id": "YH-uSDnNnnga",
        "outputId": "29e66737-deb9-4307-e42f-8021dee217fa"
      },
      "execution_count": 3,
      "outputs": [
        {
          "output_type": "stream",
          "name": "stdout",
          "text": [
            "cp: cannot stat 'kaggle.json': No such file or directory\n",
            "kaggle.json\n"
          ]
        }
      ]
    },
    {
      "cell_type": "code",
      "source": [
        "# Get dataset from kaggle\n",
        "!kaggle datasets download -d mirichoi0218/insurance\n",
        "\n",
        "# Extract dataset kaggle\n",
        "!unzip -q /content/insurance.zip"
      ],
      "metadata": {
        "colab": {
          "base_uri": "https://localhost:8080/"
        },
        "id": "7mwSmdWkn4e5",
        "outputId": "75d4a042-c0be-49c5-88cc-f294f984b61e"
      },
      "execution_count": 4,
      "outputs": [
        {
          "output_type": "stream",
          "name": "stdout",
          "text": [
            "Downloading insurance.zip to /content\n",
            "\r  0% 0.00/16.0k [00:00<?, ?B/s]\n",
            "\r100% 16.0k/16.0k [00:00<00:00, 3.68MB/s]\n"
          ]
        }
      ]
    },
    {
      "cell_type": "code",
      "source": [
        "# Read the dataset\n",
        "data = pd.read_csv('/content/insurance.csv')\n",
        "\n",
        "# Copy data to make sure the original is untouchable\n",
        "copyData = data.copy()\n",
        "\n",
        "# Display\n",
        "copyData"
      ],
      "metadata": {
        "colab": {
          "base_uri": "https://localhost:8080/",
          "height": 423
        },
        "id": "PklzDbGjoKPh",
        "outputId": "7796666c-501e-4280-dd5c-e72aba73ae32"
      },
      "execution_count": 5,
      "outputs": [
        {
          "output_type": "execute_result",
          "data": {
            "text/plain": [
              "      age     sex     bmi  children smoker     region      charges\n",
              "0      19  female  27.900         0    yes  southwest  16884.92400\n",
              "1      18    male  33.770         1     no  southeast   1725.55230\n",
              "2      28    male  33.000         3     no  southeast   4449.46200\n",
              "3      33    male  22.705         0     no  northwest  21984.47061\n",
              "4      32    male  28.880         0     no  northwest   3866.85520\n",
              "...   ...     ...     ...       ...    ...        ...          ...\n",
              "1333   50    male  30.970         3     no  northwest  10600.54830\n",
              "1334   18  female  31.920         0     no  northeast   2205.98080\n",
              "1335   18  female  36.850         0     no  southeast   1629.83350\n",
              "1336   21  female  25.800         0     no  southwest   2007.94500\n",
              "1337   61  female  29.070         0    yes  northwest  29141.36030\n",
              "\n",
              "[1338 rows x 7 columns]"
            ],
            "text/html": [
              "\n",
              "  <div id=\"df-4edc5c1f-07a5-4cc7-a792-c70524393e9a\">\n",
              "    <div class=\"colab-df-container\">\n",
              "      <div>\n",
              "<style scoped>\n",
              "    .dataframe tbody tr th:only-of-type {\n",
              "        vertical-align: middle;\n",
              "    }\n",
              "\n",
              "    .dataframe tbody tr th {\n",
              "        vertical-align: top;\n",
              "    }\n",
              "\n",
              "    .dataframe thead th {\n",
              "        text-align: right;\n",
              "    }\n",
              "</style>\n",
              "<table border=\"1\" class=\"dataframe\">\n",
              "  <thead>\n",
              "    <tr style=\"text-align: right;\">\n",
              "      <th></th>\n",
              "      <th>age</th>\n",
              "      <th>sex</th>\n",
              "      <th>bmi</th>\n",
              "      <th>children</th>\n",
              "      <th>smoker</th>\n",
              "      <th>region</th>\n",
              "      <th>charges</th>\n",
              "    </tr>\n",
              "  </thead>\n",
              "  <tbody>\n",
              "    <tr>\n",
              "      <th>0</th>\n",
              "      <td>19</td>\n",
              "      <td>female</td>\n",
              "      <td>27.900</td>\n",
              "      <td>0</td>\n",
              "      <td>yes</td>\n",
              "      <td>southwest</td>\n",
              "      <td>16884.92400</td>\n",
              "    </tr>\n",
              "    <tr>\n",
              "      <th>1</th>\n",
              "      <td>18</td>\n",
              "      <td>male</td>\n",
              "      <td>33.770</td>\n",
              "      <td>1</td>\n",
              "      <td>no</td>\n",
              "      <td>southeast</td>\n",
              "      <td>1725.55230</td>\n",
              "    </tr>\n",
              "    <tr>\n",
              "      <th>2</th>\n",
              "      <td>28</td>\n",
              "      <td>male</td>\n",
              "      <td>33.000</td>\n",
              "      <td>3</td>\n",
              "      <td>no</td>\n",
              "      <td>southeast</td>\n",
              "      <td>4449.46200</td>\n",
              "    </tr>\n",
              "    <tr>\n",
              "      <th>3</th>\n",
              "      <td>33</td>\n",
              "      <td>male</td>\n",
              "      <td>22.705</td>\n",
              "      <td>0</td>\n",
              "      <td>no</td>\n",
              "      <td>northwest</td>\n",
              "      <td>21984.47061</td>\n",
              "    </tr>\n",
              "    <tr>\n",
              "      <th>4</th>\n",
              "      <td>32</td>\n",
              "      <td>male</td>\n",
              "      <td>28.880</td>\n",
              "      <td>0</td>\n",
              "      <td>no</td>\n",
              "      <td>northwest</td>\n",
              "      <td>3866.85520</td>\n",
              "    </tr>\n",
              "    <tr>\n",
              "      <th>...</th>\n",
              "      <td>...</td>\n",
              "      <td>...</td>\n",
              "      <td>...</td>\n",
              "      <td>...</td>\n",
              "      <td>...</td>\n",
              "      <td>...</td>\n",
              "      <td>...</td>\n",
              "    </tr>\n",
              "    <tr>\n",
              "      <th>1333</th>\n",
              "      <td>50</td>\n",
              "      <td>male</td>\n",
              "      <td>30.970</td>\n",
              "      <td>3</td>\n",
              "      <td>no</td>\n",
              "      <td>northwest</td>\n",
              "      <td>10600.54830</td>\n",
              "    </tr>\n",
              "    <tr>\n",
              "      <th>1334</th>\n",
              "      <td>18</td>\n",
              "      <td>female</td>\n",
              "      <td>31.920</td>\n",
              "      <td>0</td>\n",
              "      <td>no</td>\n",
              "      <td>northeast</td>\n",
              "      <td>2205.98080</td>\n",
              "    </tr>\n",
              "    <tr>\n",
              "      <th>1335</th>\n",
              "      <td>18</td>\n",
              "      <td>female</td>\n",
              "      <td>36.850</td>\n",
              "      <td>0</td>\n",
              "      <td>no</td>\n",
              "      <td>southeast</td>\n",
              "      <td>1629.83350</td>\n",
              "    </tr>\n",
              "    <tr>\n",
              "      <th>1336</th>\n",
              "      <td>21</td>\n",
              "      <td>female</td>\n",
              "      <td>25.800</td>\n",
              "      <td>0</td>\n",
              "      <td>no</td>\n",
              "      <td>southwest</td>\n",
              "      <td>2007.94500</td>\n",
              "    </tr>\n",
              "    <tr>\n",
              "      <th>1337</th>\n",
              "      <td>61</td>\n",
              "      <td>female</td>\n",
              "      <td>29.070</td>\n",
              "      <td>0</td>\n",
              "      <td>yes</td>\n",
              "      <td>northwest</td>\n",
              "      <td>29141.36030</td>\n",
              "    </tr>\n",
              "  </tbody>\n",
              "</table>\n",
              "<p>1338 rows × 7 columns</p>\n",
              "</div>\n",
              "      <button class=\"colab-df-convert\" onclick=\"convertToInteractive('df-4edc5c1f-07a5-4cc7-a792-c70524393e9a')\"\n",
              "              title=\"Convert this dataframe to an interactive table.\"\n",
              "              style=\"display:none;\">\n",
              "        \n",
              "  <svg xmlns=\"http://www.w3.org/2000/svg\" height=\"24px\"viewBox=\"0 0 24 24\"\n",
              "       width=\"24px\">\n",
              "    <path d=\"M0 0h24v24H0V0z\" fill=\"none\"/>\n",
              "    <path d=\"M18.56 5.44l.94 2.06.94-2.06 2.06-.94-2.06-.94-.94-2.06-.94 2.06-2.06.94zm-11 1L8.5 8.5l.94-2.06 2.06-.94-2.06-.94L8.5 2.5l-.94 2.06-2.06.94zm10 10l.94 2.06.94-2.06 2.06-.94-2.06-.94-.94-2.06-.94 2.06-2.06.94z\"/><path d=\"M17.41 7.96l-1.37-1.37c-.4-.4-.92-.59-1.43-.59-.52 0-1.04.2-1.43.59L10.3 9.45l-7.72 7.72c-.78.78-.78 2.05 0 2.83L4 21.41c.39.39.9.59 1.41.59.51 0 1.02-.2 1.41-.59l7.78-7.78 2.81-2.81c.8-.78.8-2.07 0-2.86zM5.41 20L4 18.59l7.72-7.72 1.47 1.35L5.41 20z\"/>\n",
              "  </svg>\n",
              "      </button>\n",
              "      \n",
              "  <style>\n",
              "    .colab-df-container {\n",
              "      display:flex;\n",
              "      flex-wrap:wrap;\n",
              "      gap: 12px;\n",
              "    }\n",
              "\n",
              "    .colab-df-convert {\n",
              "      background-color: #E8F0FE;\n",
              "      border: none;\n",
              "      border-radius: 50%;\n",
              "      cursor: pointer;\n",
              "      display: none;\n",
              "      fill: #1967D2;\n",
              "      height: 32px;\n",
              "      padding: 0 0 0 0;\n",
              "      width: 32px;\n",
              "    }\n",
              "\n",
              "    .colab-df-convert:hover {\n",
              "      background-color: #E2EBFA;\n",
              "      box-shadow: 0px 1px 2px rgba(60, 64, 67, 0.3), 0px 1px 3px 1px rgba(60, 64, 67, 0.15);\n",
              "      fill: #174EA6;\n",
              "    }\n",
              "\n",
              "    [theme=dark] .colab-df-convert {\n",
              "      background-color: #3B4455;\n",
              "      fill: #D2E3FC;\n",
              "    }\n",
              "\n",
              "    [theme=dark] .colab-df-convert:hover {\n",
              "      background-color: #434B5C;\n",
              "      box-shadow: 0px 1px 3px 1px rgba(0, 0, 0, 0.15);\n",
              "      filter: drop-shadow(0px 1px 2px rgba(0, 0, 0, 0.3));\n",
              "      fill: #FFFFFF;\n",
              "    }\n",
              "  </style>\n",
              "\n",
              "      <script>\n",
              "        const buttonEl =\n",
              "          document.querySelector('#df-4edc5c1f-07a5-4cc7-a792-c70524393e9a button.colab-df-convert');\n",
              "        buttonEl.style.display =\n",
              "          google.colab.kernel.accessAllowed ? 'block' : 'none';\n",
              "\n",
              "        async function convertToInteractive(key) {\n",
              "          const element = document.querySelector('#df-4edc5c1f-07a5-4cc7-a792-c70524393e9a');\n",
              "          const dataTable =\n",
              "            await google.colab.kernel.invokeFunction('convertToInteractive',\n",
              "                                                     [key], {});\n",
              "          if (!dataTable) return;\n",
              "\n",
              "          const docLinkHtml = 'Like what you see? Visit the ' +\n",
              "            '<a target=\"_blank\" href=https://colab.research.google.com/notebooks/data_table.ipynb>data table notebook</a>'\n",
              "            + ' to learn more about interactive tables.';\n",
              "          element.innerHTML = '';\n",
              "          dataTable['output_type'] = 'display_data';\n",
              "          await google.colab.output.renderOutput(dataTable, element);\n",
              "          const docLink = document.createElement('div');\n",
              "          docLink.innerHTML = docLinkHtml;\n",
              "          element.appendChild(docLink);\n",
              "        }\n",
              "      </script>\n",
              "    </div>\n",
              "  </div>\n",
              "  "
            ]
          },
          "metadata": {},
          "execution_count": 5
        }
      ]
    },
    {
      "cell_type": "markdown",
      "source": [
        "Data ada sebanyak **1.338** baris dan **7** kolom"
      ],
      "metadata": {
        "id": "UTFxiI8IqL6q"
      }
    },
    {
      "cell_type": "markdown",
      "source": [
        "Berikut adalah penjelasan data di masing-masing berdasarkan sumber:\n",
        "\n",
        "1. age: age of primary beneficiary\n",
        "\n",
        "2. sex: insurance contractor gender, female, male\n",
        "\n",
        "3. bmi: Body mass index, providing an understanding of body, weights that are relatively high or low relative to height,\n",
        "objective index of body weight (kg / m ^ 2) using the ratio of height to weight, ideally 18.5 to 24.9\n",
        "\n",
        "4. children: Number of children covered by health insurance / Number of dependents\n",
        "\n",
        "5. smoker: Smoking\n",
        "\n",
        "6. region: the beneficiary's residential area in the US, northeast, southeast, southwest, northwest.\n",
        "\n",
        "7. charges: Individual medical costs billed by health insurance"
      ],
      "metadata": {
        "id": "EQeNyP2KqQox"
      }
    },
    {
      "cell_type": "markdown",
      "source": [
        "# **4 - Exploratory Data Analysis (EDA)**\n",
        "\n",
        "---"
      ],
      "metadata": {
        "id": "W85xTw4Xo_00"
      }
    },
    {
      "cell_type": "markdown",
      "source": [
        "Bagian ini berisi eksplorasi data pada dataset diatas dengan menggunakan query, grouping, visualisasi sederhana, dan lain sebagainya.\n",
        "\n"
      ],
      "metadata": {
        "id": "mhUmGJUEpFB8"
      }
    },
    {
      "cell_type": "code",
      "source": [
        "# Check information of data\n",
        "copyData.info()"
      ],
      "metadata": {
        "colab": {
          "base_uri": "https://localhost:8080/"
        },
        "id": "i8uD6G4Pt90e",
        "outputId": "74775307-a986-4f53-fcb5-8fb081dd0440"
      },
      "execution_count": 6,
      "outputs": [
        {
          "output_type": "stream",
          "name": "stdout",
          "text": [
            "<class 'pandas.core.frame.DataFrame'>\n",
            "RangeIndex: 1338 entries, 0 to 1337\n",
            "Data columns (total 7 columns):\n",
            " #   Column    Non-Null Count  Dtype  \n",
            "---  ------    --------------  -----  \n",
            " 0   age       1338 non-null   int64  \n",
            " 1   sex       1338 non-null   object \n",
            " 2   bmi       1338 non-null   float64\n",
            " 3   children  1338 non-null   int64  \n",
            " 4   smoker    1338 non-null   object \n",
            " 5   region    1338 non-null   object \n",
            " 6   charges   1338 non-null   float64\n",
            "dtypes: float64(2), int64(2), object(3)\n",
            "memory usage: 73.3+ KB\n"
          ]
        }
      ]
    },
    {
      "cell_type": "markdown",
      "source": [
        "5 data bertipe numeric dan 3 data categorical"
      ],
      "metadata": {
        "id": "inXe_smBuMIg"
      }
    },
    {
      "cell_type": "code",
      "source": [
        "# Check data describe\n",
        "copyData.describe().T"
      ],
      "metadata": {
        "colab": {
          "base_uri": "https://localhost:8080/",
          "height": 175
        },
        "id": "wxCcIf-xwlUy",
        "outputId": "89f8b01b-f01e-4d76-c346-13f1ae1548d0"
      },
      "execution_count": 7,
      "outputs": [
        {
          "output_type": "execute_result",
          "data": {
            "text/plain": [
              "           count          mean           std        min         25%       50%  \\\n",
              "age       1338.0     39.207025     14.049960    18.0000    27.00000    39.000   \n",
              "bmi       1338.0     30.663397      6.098187    15.9600    26.29625    30.400   \n",
              "children  1338.0      1.094918      1.205493     0.0000     0.00000     1.000   \n",
              "charges   1338.0  13270.422265  12110.011237  1121.8739  4740.28715  9382.033   \n",
              "\n",
              "                   75%          max  \n",
              "age          51.000000     64.00000  \n",
              "bmi          34.693750     53.13000  \n",
              "children      2.000000      5.00000  \n",
              "charges   16639.912515  63770.42801  "
            ],
            "text/html": [
              "\n",
              "  <div id=\"df-b57641f0-0906-4270-b8c6-55e160ddfa74\">\n",
              "    <div class=\"colab-df-container\">\n",
              "      <div>\n",
              "<style scoped>\n",
              "    .dataframe tbody tr th:only-of-type {\n",
              "        vertical-align: middle;\n",
              "    }\n",
              "\n",
              "    .dataframe tbody tr th {\n",
              "        vertical-align: top;\n",
              "    }\n",
              "\n",
              "    .dataframe thead th {\n",
              "        text-align: right;\n",
              "    }\n",
              "</style>\n",
              "<table border=\"1\" class=\"dataframe\">\n",
              "  <thead>\n",
              "    <tr style=\"text-align: right;\">\n",
              "      <th></th>\n",
              "      <th>count</th>\n",
              "      <th>mean</th>\n",
              "      <th>std</th>\n",
              "      <th>min</th>\n",
              "      <th>25%</th>\n",
              "      <th>50%</th>\n",
              "      <th>75%</th>\n",
              "      <th>max</th>\n",
              "    </tr>\n",
              "  </thead>\n",
              "  <tbody>\n",
              "    <tr>\n",
              "      <th>age</th>\n",
              "      <td>1338.0</td>\n",
              "      <td>39.207025</td>\n",
              "      <td>14.049960</td>\n",
              "      <td>18.0000</td>\n",
              "      <td>27.00000</td>\n",
              "      <td>39.000</td>\n",
              "      <td>51.000000</td>\n",
              "      <td>64.00000</td>\n",
              "    </tr>\n",
              "    <tr>\n",
              "      <th>bmi</th>\n",
              "      <td>1338.0</td>\n",
              "      <td>30.663397</td>\n",
              "      <td>6.098187</td>\n",
              "      <td>15.9600</td>\n",
              "      <td>26.29625</td>\n",
              "      <td>30.400</td>\n",
              "      <td>34.693750</td>\n",
              "      <td>53.13000</td>\n",
              "    </tr>\n",
              "    <tr>\n",
              "      <th>children</th>\n",
              "      <td>1338.0</td>\n",
              "      <td>1.094918</td>\n",
              "      <td>1.205493</td>\n",
              "      <td>0.0000</td>\n",
              "      <td>0.00000</td>\n",
              "      <td>1.000</td>\n",
              "      <td>2.000000</td>\n",
              "      <td>5.00000</td>\n",
              "    </tr>\n",
              "    <tr>\n",
              "      <th>charges</th>\n",
              "      <td>1338.0</td>\n",
              "      <td>13270.422265</td>\n",
              "      <td>12110.011237</td>\n",
              "      <td>1121.8739</td>\n",
              "      <td>4740.28715</td>\n",
              "      <td>9382.033</td>\n",
              "      <td>16639.912515</td>\n",
              "      <td>63770.42801</td>\n",
              "    </tr>\n",
              "  </tbody>\n",
              "</table>\n",
              "</div>\n",
              "      <button class=\"colab-df-convert\" onclick=\"convertToInteractive('df-b57641f0-0906-4270-b8c6-55e160ddfa74')\"\n",
              "              title=\"Convert this dataframe to an interactive table.\"\n",
              "              style=\"display:none;\">\n",
              "        \n",
              "  <svg xmlns=\"http://www.w3.org/2000/svg\" height=\"24px\"viewBox=\"0 0 24 24\"\n",
              "       width=\"24px\">\n",
              "    <path d=\"M0 0h24v24H0V0z\" fill=\"none\"/>\n",
              "    <path d=\"M18.56 5.44l.94 2.06.94-2.06 2.06-.94-2.06-.94-.94-2.06-.94 2.06-2.06.94zm-11 1L8.5 8.5l.94-2.06 2.06-.94-2.06-.94L8.5 2.5l-.94 2.06-2.06.94zm10 10l.94 2.06.94-2.06 2.06-.94-2.06-.94-.94-2.06-.94 2.06-2.06.94z\"/><path d=\"M17.41 7.96l-1.37-1.37c-.4-.4-.92-.59-1.43-.59-.52 0-1.04.2-1.43.59L10.3 9.45l-7.72 7.72c-.78.78-.78 2.05 0 2.83L4 21.41c.39.39.9.59 1.41.59.51 0 1.02-.2 1.41-.59l7.78-7.78 2.81-2.81c.8-.78.8-2.07 0-2.86zM5.41 20L4 18.59l7.72-7.72 1.47 1.35L5.41 20z\"/>\n",
              "  </svg>\n",
              "      </button>\n",
              "      \n",
              "  <style>\n",
              "    .colab-df-container {\n",
              "      display:flex;\n",
              "      flex-wrap:wrap;\n",
              "      gap: 12px;\n",
              "    }\n",
              "\n",
              "    .colab-df-convert {\n",
              "      background-color: #E8F0FE;\n",
              "      border: none;\n",
              "      border-radius: 50%;\n",
              "      cursor: pointer;\n",
              "      display: none;\n",
              "      fill: #1967D2;\n",
              "      height: 32px;\n",
              "      padding: 0 0 0 0;\n",
              "      width: 32px;\n",
              "    }\n",
              "\n",
              "    .colab-df-convert:hover {\n",
              "      background-color: #E2EBFA;\n",
              "      box-shadow: 0px 1px 2px rgba(60, 64, 67, 0.3), 0px 1px 3px 1px rgba(60, 64, 67, 0.15);\n",
              "      fill: #174EA6;\n",
              "    }\n",
              "\n",
              "    [theme=dark] .colab-df-convert {\n",
              "      background-color: #3B4455;\n",
              "      fill: #D2E3FC;\n",
              "    }\n",
              "\n",
              "    [theme=dark] .colab-df-convert:hover {\n",
              "      background-color: #434B5C;\n",
              "      box-shadow: 0px 1px 3px 1px rgba(0, 0, 0, 0.15);\n",
              "      filter: drop-shadow(0px 1px 2px rgba(0, 0, 0, 0.3));\n",
              "      fill: #FFFFFF;\n",
              "    }\n",
              "  </style>\n",
              "\n",
              "      <script>\n",
              "        const buttonEl =\n",
              "          document.querySelector('#df-b57641f0-0906-4270-b8c6-55e160ddfa74 button.colab-df-convert');\n",
              "        buttonEl.style.display =\n",
              "          google.colab.kernel.accessAllowed ? 'block' : 'none';\n",
              "\n",
              "        async function convertToInteractive(key) {\n",
              "          const element = document.querySelector('#df-b57641f0-0906-4270-b8c6-55e160ddfa74');\n",
              "          const dataTable =\n",
              "            await google.colab.kernel.invokeFunction('convertToInteractive',\n",
              "                                                     [key], {});\n",
              "          if (!dataTable) return;\n",
              "\n",
              "          const docLinkHtml = 'Like what you see? Visit the ' +\n",
              "            '<a target=\"_blank\" href=https://colab.research.google.com/notebooks/data_table.ipynb>data table notebook</a>'\n",
              "            + ' to learn more about interactive tables.';\n",
              "          element.innerHTML = '';\n",
              "          dataTable['output_type'] = 'display_data';\n",
              "          await google.colab.output.renderOutput(dataTable, element);\n",
              "          const docLink = document.createElement('div');\n",
              "          docLink.innerHTML = docLinkHtml;\n",
              "          element.appendChild(docLink);\n",
              "        }\n",
              "      </script>\n",
              "    </div>\n",
              "  </div>\n",
              "  "
            ]
          },
          "metadata": {},
          "execution_count": 7
        }
      ]
    },
    {
      "cell_type": "markdown",
      "source": [
        "Hampir keseluruhan data berdistribusi normal, dan ada beberapa data yang cenderung skewness"
      ],
      "metadata": {
        "id": "RTh0g4LHxRRk"
      }
    },
    {
      "cell_type": "code",
      "source": [
        "# Check data duplicated\n",
        "print('Data Duplikat ada : ', copyData.duplicated().sum())\n",
        "print('')\n",
        "# Find duplicate in dataframe\n",
        "copyData[copyData.duplicated()]"
      ],
      "metadata": {
        "colab": {
          "base_uri": "https://localhost:8080/",
          "height": 115
        },
        "id": "hYonWn0wvTJa",
        "outputId": "bb137898-ab39-48ad-f794-e272a77d1f7c"
      },
      "execution_count": 8,
      "outputs": [
        {
          "output_type": "stream",
          "name": "stdout",
          "text": [
            "Data Duplikat ada :  1\n",
            "\n"
          ]
        },
        {
          "output_type": "execute_result",
          "data": {
            "text/plain": [
              "     age   sex    bmi  children smoker     region    charges\n",
              "581   19  male  30.59         0     no  northwest  1639.5631"
            ],
            "text/html": [
              "\n",
              "  <div id=\"df-816af42f-b6bf-4ec6-ade3-61440084756e\">\n",
              "    <div class=\"colab-df-container\">\n",
              "      <div>\n",
              "<style scoped>\n",
              "    .dataframe tbody tr th:only-of-type {\n",
              "        vertical-align: middle;\n",
              "    }\n",
              "\n",
              "    .dataframe tbody tr th {\n",
              "        vertical-align: top;\n",
              "    }\n",
              "\n",
              "    .dataframe thead th {\n",
              "        text-align: right;\n",
              "    }\n",
              "</style>\n",
              "<table border=\"1\" class=\"dataframe\">\n",
              "  <thead>\n",
              "    <tr style=\"text-align: right;\">\n",
              "      <th></th>\n",
              "      <th>age</th>\n",
              "      <th>sex</th>\n",
              "      <th>bmi</th>\n",
              "      <th>children</th>\n",
              "      <th>smoker</th>\n",
              "      <th>region</th>\n",
              "      <th>charges</th>\n",
              "    </tr>\n",
              "  </thead>\n",
              "  <tbody>\n",
              "    <tr>\n",
              "      <th>581</th>\n",
              "      <td>19</td>\n",
              "      <td>male</td>\n",
              "      <td>30.59</td>\n",
              "      <td>0</td>\n",
              "      <td>no</td>\n",
              "      <td>northwest</td>\n",
              "      <td>1639.5631</td>\n",
              "    </tr>\n",
              "  </tbody>\n",
              "</table>\n",
              "</div>\n",
              "      <button class=\"colab-df-convert\" onclick=\"convertToInteractive('df-816af42f-b6bf-4ec6-ade3-61440084756e')\"\n",
              "              title=\"Convert this dataframe to an interactive table.\"\n",
              "              style=\"display:none;\">\n",
              "        \n",
              "  <svg xmlns=\"http://www.w3.org/2000/svg\" height=\"24px\"viewBox=\"0 0 24 24\"\n",
              "       width=\"24px\">\n",
              "    <path d=\"M0 0h24v24H0V0z\" fill=\"none\"/>\n",
              "    <path d=\"M18.56 5.44l.94 2.06.94-2.06 2.06-.94-2.06-.94-.94-2.06-.94 2.06-2.06.94zm-11 1L8.5 8.5l.94-2.06 2.06-.94-2.06-.94L8.5 2.5l-.94 2.06-2.06.94zm10 10l.94 2.06.94-2.06 2.06-.94-2.06-.94-.94-2.06-.94 2.06-2.06.94z\"/><path d=\"M17.41 7.96l-1.37-1.37c-.4-.4-.92-.59-1.43-.59-.52 0-1.04.2-1.43.59L10.3 9.45l-7.72 7.72c-.78.78-.78 2.05 0 2.83L4 21.41c.39.39.9.59 1.41.59.51 0 1.02-.2 1.41-.59l7.78-7.78 2.81-2.81c.8-.78.8-2.07 0-2.86zM5.41 20L4 18.59l7.72-7.72 1.47 1.35L5.41 20z\"/>\n",
              "  </svg>\n",
              "      </button>\n",
              "      \n",
              "  <style>\n",
              "    .colab-df-container {\n",
              "      display:flex;\n",
              "      flex-wrap:wrap;\n",
              "      gap: 12px;\n",
              "    }\n",
              "\n",
              "    .colab-df-convert {\n",
              "      background-color: #E8F0FE;\n",
              "      border: none;\n",
              "      border-radius: 50%;\n",
              "      cursor: pointer;\n",
              "      display: none;\n",
              "      fill: #1967D2;\n",
              "      height: 32px;\n",
              "      padding: 0 0 0 0;\n",
              "      width: 32px;\n",
              "    }\n",
              "\n",
              "    .colab-df-convert:hover {\n",
              "      background-color: #E2EBFA;\n",
              "      box-shadow: 0px 1px 2px rgba(60, 64, 67, 0.3), 0px 1px 3px 1px rgba(60, 64, 67, 0.15);\n",
              "      fill: #174EA6;\n",
              "    }\n",
              "\n",
              "    [theme=dark] .colab-df-convert {\n",
              "      background-color: #3B4455;\n",
              "      fill: #D2E3FC;\n",
              "    }\n",
              "\n",
              "    [theme=dark] .colab-df-convert:hover {\n",
              "      background-color: #434B5C;\n",
              "      box-shadow: 0px 1px 3px 1px rgba(0, 0, 0, 0.15);\n",
              "      filter: drop-shadow(0px 1px 2px rgba(0, 0, 0, 0.3));\n",
              "      fill: #FFFFFF;\n",
              "    }\n",
              "  </style>\n",
              "\n",
              "      <script>\n",
              "        const buttonEl =\n",
              "          document.querySelector('#df-816af42f-b6bf-4ec6-ade3-61440084756e button.colab-df-convert');\n",
              "        buttonEl.style.display =\n",
              "          google.colab.kernel.accessAllowed ? 'block' : 'none';\n",
              "\n",
              "        async function convertToInteractive(key) {\n",
              "          const element = document.querySelector('#df-816af42f-b6bf-4ec6-ade3-61440084756e');\n",
              "          const dataTable =\n",
              "            await google.colab.kernel.invokeFunction('convertToInteractive',\n",
              "                                                     [key], {});\n",
              "          if (!dataTable) return;\n",
              "\n",
              "          const docLinkHtml = 'Like what you see? Visit the ' +\n",
              "            '<a target=\"_blank\" href=https://colab.research.google.com/notebooks/data_table.ipynb>data table notebook</a>'\n",
              "            + ' to learn more about interactive tables.';\n",
              "          element.innerHTML = '';\n",
              "          dataTable['output_type'] = 'display_data';\n",
              "          await google.colab.output.renderOutput(dataTable, element);\n",
              "          const docLink = document.createElement('div');\n",
              "          docLink.innerHTML = docLinkHtml;\n",
              "          element.appendChild(docLink);\n",
              "        }\n",
              "      </script>\n",
              "    </div>\n",
              "  </div>\n",
              "  "
            ]
          },
          "metadata": {},
          "execution_count": 8
        }
      ]
    },
    {
      "cell_type": "markdown",
      "source": [
        "Ada sebanyak 1 data duplikat yang akan dihapus dari dataset."
      ],
      "metadata": {
        "id": "w3NYFt8Nv7Gf"
      }
    },
    {
      "cell_type": "code",
      "source": [
        "# Droping duplicated\n",
        "copyData = copyData.drop_duplicates()\n",
        "\n",
        "# Check data duplicated\n",
        "print('Data Duplikat ada : ', copyData.duplicated().sum())"
      ],
      "metadata": {
        "colab": {
          "base_uri": "https://localhost:8080/"
        },
        "id": "4gfR2SiwvdHB",
        "outputId": "86340877-bfab-4ef6-b280-7122f17160a3"
      },
      "execution_count": 9,
      "outputs": [
        {
          "output_type": "stream",
          "name": "stdout",
          "text": [
            "Data Duplikat ada :  0\n"
          ]
        }
      ]
    },
    {
      "cell_type": "markdown",
      "source": [
        "1 Data duplikat berhasil dihapus"
      ],
      "metadata": {
        "id": "pU6M0uErwN_i"
      }
    },
    {
      "cell_type": "code",
      "source": [
        "# Check Missing value\n",
        "copyData.isnull().sum()"
      ],
      "metadata": {
        "colab": {
          "base_uri": "https://localhost:8080/"
        },
        "id": "pGNqQgsbwSne",
        "outputId": "d8f7eb5f-c6fc-4058-c80b-43dea0274551"
      },
      "execution_count": 10,
      "outputs": [
        {
          "output_type": "execute_result",
          "data": {
            "text/plain": [
              "age         0\n",
              "sex         0\n",
              "bmi         0\n",
              "children    0\n",
              "smoker      0\n",
              "region      0\n",
              "charges     0\n",
              "dtype: int64"
            ]
          },
          "metadata": {},
          "execution_count": 10
        }
      ]
    },
    {
      "cell_type": "markdown",
      "source": [
        "Tidak ada missing value dalam data"
      ],
      "metadata": {
        "id": "HBEGblBKwdNB"
      }
    },
    {
      "cell_type": "code",
      "source": [
        "# Function Visualization\n",
        "def diagnosticPlots(df, variable):\n",
        "  plt.figure(figsize=(18, 25))\n",
        "\n",
        "  # Histogram\n",
        "  plt.subplot(5, 1, 1)\n",
        "  sns.histplot(df[variable], bins=30)\n",
        "  plt.title('Histogram '+variable)"
      ],
      "metadata": {
        "id": "Dce-vErqyhoe"
      },
      "execution_count": 11,
      "outputs": []
    },
    {
      "cell_type": "code",
      "source": [
        "# Visualization\n",
        "diagnosticPlots(copyData, 'age')\n",
        "diagnosticPlots(copyData, 'bmi')\n",
        "diagnosticPlots(copyData, 'charges')\n",
        "diagnosticPlots(copyData, 'children')"
      ],
      "metadata": {
        "colab": {
          "base_uri": "https://localhost:8080/",
          "height": 1000
        },
        "id": "t3NamweqyoGh",
        "outputId": "94ab4274-c635-442b-9eeb-5bad324b39be"
      },
      "execution_count": 12,
      "outputs": [
        {
          "output_type": "display_data",
          "data": {
            "text/plain": [
              "<Figure size 1296x1800 with 1 Axes>"
            ],
            "image/png": "[encoded data removed]"
          },
          "metadata": {
            "needs_background": "light"
          }
        },
        {
          "output_type": "display_data",
          "data": {
            "text/plain": [
              "<Figure size 1296x1800 with 1 Axes>"
            ],
            "image/png": "[encoded data removed]"
          },
          "metadata": {
            "needs_background": "light"
          }
        },
        {
          "output_type": "display_data",
          "data": {
            "text/plain": [
              "<Figure size 1296x1800 with 1 Axes>"
            ],
            "image/png": "[encoded data removed]"
          },
          "metadata": {
            "needs_background": "light"
          }
        },
        {
          "output_type": "display_data",
          "data": {
            "text/plain": [
              "<Figure size 1296x1800 with 1 Axes>"
            ],
            "image/png": "[encoded data removed]"
          },
          "metadata": {
            "needs_background": "light"
          }
        }
      ]
    },
    {
      "cell_type": "markdown",
      "source": [
        "Visualisasi diatas dapat disimpulkan bahwa untuk data `bmi` cenderung normal distribusi. Banyak dari data diatas yang menyatakan bahwa mereka blm mempunyai anak."
      ],
      "metadata": {
        "id": "MB_SLjygqhL4"
      }
    },
    {
      "cell_type": "code",
      "source": [
        "# Visualization of bmi\n",
        "plt.figure(figsize=(25, 6))\n",
        "plt.subplot(1, 2, 1)\n",
        "sns.histplot(x='bmi', data=copyData, kde=True)\n",
        "plt.axvline(copyData.bmi.mean(), color='r', linestyle='--', label='Mean')\n",
        "plt.axvline(copyData.bmi.median(), color='g', linestyle='--', label='Median')\n",
        "plt.title('Body Mass Index Distribution')\n",
        "plt.xlabel('Body Mass Index')\n",
        "plt.ylabel('Frequency')\n",
        "plt.subplot(1, 2, 2)\n",
        "sns.scatterplot(x='bmi', y='charges', data=copyData, hue='smoker')\n",
        "plt.title('BMI vs Charges')\n",
        "plt.xlabel('Body Mass Index')\n",
        "plt.ylabel('Charges')\n",
        "plt.show()\n",
        "print('')\n",
        "print(f'Skewness: {copyData[\"bmi\"].skew()}')\n",
        "print(f'Mean: {(copyData[\"bmi\"].mean())}')\n",
        "print(f'Median: {copyData[\"bmi\"].median()}')"
      ],
      "metadata": {
        "colab": {
          "base_uri": "https://localhost:8080/",
          "height": 314
        },
        "id": "YeG5SBYSqvOg",
        "outputId": "44d25dfc-540e-4be0-870d-2019c206a672"
      },
      "execution_count": 13,
      "outputs": [
        {
          "output_type": "display_data",
          "data": {
            "text/plain": [
              "<Figure size 1800x432 with 2 Axes>"
            ],
            "image/png": "[encoded data removed]"
          },
          "metadata": {
            "needs_background": "light"
          }
        }
      ]
    },
    {
      "cell_type": "markdown",
      "source": [
        "Body Mass Index (bmi) bagi yang perokok berbanding lurus dengan biaya yang harus dibayarkan, yang artinya jika bmi nya semakin tinggi maka semakin banyak pula biaya yang harus dibayarkan. Sementara bagi mereka yang tidak merokok maka biaya asuransinya akan lebih rendah."
      ],
      "metadata": {
        "id": "Zt6yJxTDrAw9"
      }
    },
    {
      "cell_type": "code",
      "source": [
        "# Find BMI < 18.5\n",
        "bmiUnder = copyData.loc[(copyData['bmi'] < 18.5 )]\n",
        "bmiUnder"
      ],
      "metadata": {
        "colab": {
          "base_uri": "https://localhost:8080/",
          "height": 746
        },
        "id": "iEnDCq3NQATu",
        "outputId": "c23866b3-d704-4975-9b4c-6294b300e44d"
      },
      "execution_count": 14,
      "outputs": [
        {
          "output_type": "stream",
          "name": "stdout",
          "text": [
            "\n",
            "Skewness: 0.28391419385321137\n",
            "Mean: 30.66345175766642\n",
            "Median: 30.4\n"
          ]
        },
        {
          "output_type": "execute_result",
          "data": {
            "text/plain": [
              "      age     sex     bmi  children smoker     region      charges\n",
              "28     23    male  17.385         1     no  northwest   2775.19215\n",
              "128    32  female  17.765         2    yes  northwest  32734.18630\n",
              "172    18    male  15.960         0     no  northeast   1694.79640\n",
              "198    51  female  18.050         0     no  northwest   9644.25250\n",
              "232    19  female  17.800         0     no  southwest   1727.78500\n",
              "250    18    male  17.290         2    yes  northeast  12829.45510\n",
              "380    27  female  17.955         2    yes  northeast  15006.57945\n",
              "410    19    male  17.480         0     no  northwest   1621.34020\n",
              "412    26  female  17.195         2    yes  northeast  14455.64405\n",
              "428    21  female  16.815         1     no  northeast   3167.45585\n",
              "680    21  female  17.400         1     no  southwest   2585.26900\n",
              "821    26    male  17.670         0     no  northwest   2680.94930\n",
              "950    57    male  18.335         0     no  northeast  11534.87265\n",
              "1029   37  female  17.290         2     no  northeast   6877.98010\n",
              "1074   60  female  18.335         0     no  northeast  13204.28565\n",
              "1085   39  female  18.300         5    yes  southwest  19023.26000\n",
              "1133   52  female  18.335         0     no  northwest   9991.03765\n",
              "1205   35    male  17.860         1     no  northwest   5116.50040\n",
              "1226   38    male  16.815         2     no  northeast   6640.54485\n",
              "1286   28  female  17.290         0     no  northeast   3732.62510"
            ],
            "text/html": [
              "\n",
              "  <div id=\"df-dfa00faa-23d9-4100-8b4a-4949e26667a6\">\n",
              "    <div class=\"colab-df-container\">\n",
              "      <div>\n",
              "<style scoped>\n",
              "    .dataframe tbody tr th:only-of-type {\n",
              "        vertical-align: middle;\n",
              "    }\n",
              "\n",
              "    .dataframe tbody tr th {\n",
              "        vertical-align: top;\n",
              "    }\n",
              "\n",
              "    .dataframe thead th {\n",
              "        text-align: right;\n",
              "    }\n",
              "</style>\n",
              "<table border=\"1\" class=\"dataframe\">\n",
              "  <thead>\n",
              "    <tr style=\"text-align: right;\">\n",
              "      <th></th>\n",
              "      <th>age</th>\n",
              "      <th>sex</th>\n",
              "      <th>bmi</th>\n",
              "      <th>children</th>\n",
              "      <th>smoker</th>\n",
              "      <th>region</th>\n",
              "      <th>charges</th>\n",
              "    </tr>\n",
              "  </thead>\n",
              "  <tbody>\n",
              "    <tr>\n",
              "      <th>28</th>\n",
              "      <td>23</td>\n",
              "      <td>male</td>\n",
              "      <td>17.385</td>\n",
              "      <td>1</td>\n",
              "      <td>no</td>\n",
              "      <td>northwest</td>\n",
              "      <td>2775.19215</td>\n",
              "    </tr>\n",
              "    <tr>\n",
              "      <th>128</th>\n",
              "      <td>32</td>\n",
              "      <td>female</td>\n",
              "      <td>17.765</td>\n",
              "      <td>2</td>\n",
              "      <td>yes</td>\n",
              "      <td>northwest</td>\n",
              "      <td>32734.18630</td>\n",
              "    </tr>\n",
              "    <tr>\n",
              "      <th>172</th>\n",
              "      <td>18</td>\n",
              "      <td>male</td>\n",
              "      <td>15.960</td>\n",
              "      <td>0</td>\n",
              "      <td>no</td>\n",
              "      <td>northeast</td>\n",
              "      <td>1694.79640</td>\n",
              "    </tr>\n",
              "    <tr>\n",
              "      <th>198</th>\n",
              "      <td>51</td>\n",
              "      <td>female</td>\n",
              "      <td>18.050</td>\n",
              "      <td>0</td>\n",
              "      <td>no</td>\n",
              "      <td>northwest</td>\n",
              "      <td>9644.25250</td>\n",
              "    </tr>\n",
              "    <tr>\n",
              "      <th>232</th>\n",
              "      <td>19</td>\n",
              "      <td>female</td>\n",
              "      <td>17.800</td>\n",
              "      <td>0</td>\n",
              "      <td>no</td>\n",
              "      <td>southwest</td>\n",
              "      <td>1727.78500</td>\n",
              "    </tr>\n",
              "    <tr>\n",
              "      <th>250</th>\n",
              "      <td>18</td>\n",
              "      <td>male</td>\n",
              "      <td>17.290</td>\n",
              "      <td>2</td>\n",
              "      <td>yes</td>\n",
              "      <td>northeast</td>\n",
              "      <td>12829.45510</td>\n",
              "    </tr>\n",
              "    <tr>\n",
              "      <th>380</th>\n",
              "      <td>27</td>\n",
              "      <td>female</td>\n",
              "      <td>17.955</td>\n",
              "      <td>2</td>\n",
              "      <td>yes</td>\n",
              "      <td>northeast</td>\n",
              "      <td>15006.57945</td>\n",
              "    </tr>\n",
              "    <tr>\n",
              "      <th>410</th>\n",
              "      <td>19</td>\n",
              "      <td>male</td>\n",
              "      <td>17.480</td>\n",
              "      <td>0</td>\n",
              "      <td>no</td>\n",
              "      <td>northwest</td>\n",
              "      <td>1621.34020</td>\n",
              "    </tr>\n",
              "    <tr>\n",
              "      <th>412</th>\n",
              "      <td>26</td>\n",
              "      <td>female</td>\n",
              "      <td>17.195</td>\n",
              "      <td>2</td>\n",
              "      <td>yes</td>\n",
              "      <td>northeast</td>\n",
              "      <td>14455.64405</td>\n",
              "    </tr>\n",
              "    <tr>\n",
              "      <th>428</th>\n",
              "      <td>21</td>\n",
              "      <td>female</td>\n",
              "      <td>16.815</td>\n",
              "      <td>1</td>\n",
              "      <td>no</td>\n",
              "      <td>northeast</td>\n",
              "      <td>3167.45585</td>\n",
              "    </tr>\n",
              "    <tr>\n",
              "      <th>680</th>\n",
              "      <td>21</td>\n",
              "      <td>female</td>\n",
              "      <td>17.400</td>\n",
              "      <td>1</td>\n",
              "      <td>no</td>\n",
              "      <td>southwest</td>\n",
              "      <td>2585.26900</td>\n",
              "    </tr>\n",
              "    <tr>\n",
              "      <th>821</th>\n",
              "      <td>26</td>\n",
              "      <td>male</td>\n",
              "      <td>17.670</td>\n",
              "      <td>0</td>\n",
              "      <td>no</td>\n",
              "      <td>northwest</td>\n",
              "      <td>2680.94930</td>\n",
              "    </tr>\n",
              "    <tr>\n",
              "      <th>950</th>\n",
              "      <td>57</td>\n",
              "      <td>male</td>\n",
              "      <td>18.335</td>\n",
              "      <td>0</td>\n",
              "      <td>no</td>\n",
              "      <td>northeast</td>\n",
              "      <td>11534.87265</td>\n",
              "    </tr>\n",
              "    <tr>\n",
              "      <th>1029</th>\n",
              "      <td>37</td>\n",
              "      <td>female</td>\n",
              "      <td>17.290</td>\n",
              "      <td>2</td>\n",
              "      <td>no</td>\n",
              "      <td>northeast</td>\n",
              "      <td>6877.98010</td>\n",
              "    </tr>\n",
              "    <tr>\n",
              "      <th>1074</th>\n",
              "      <td>60</td>\n",
              "      <td>female</td>\n",
              "      <td>18.335</td>\n",
              "      <td>0</td>\n",
              "      <td>no</td>\n",
              "      <td>northeast</td>\n",
              "      <td>13204.28565</td>\n",
              "    </tr>\n",
              "    <tr>\n",
              "      <th>1085</th>\n",
              "      <td>39</td>\n",
              "      <td>female</td>\n",
              "      <td>18.300</td>\n",
              "      <td>5</td>\n",
              "      <td>yes</td>\n",
              "      <td>southwest</td>\n",
              "      <td>19023.26000</td>\n",
              "    </tr>\n",
              "    <tr>\n",
              "      <th>1133</th>\n",
              "      <td>52</td>\n",
              "      <td>female</td>\n",
              "      <td>18.335</td>\n",
              "      <td>0</td>\n",
              "      <td>no</td>\n",
              "      <td>northwest</td>\n",
              "      <td>9991.03765</td>\n",
              "    </tr>\n",
              "    <tr>\n",
              "      <th>1205</th>\n",
              "      <td>35</td>\n",
              "      <td>male</td>\n",
              "      <td>17.860</td>\n",
              "      <td>1</td>\n",
              "      <td>no</td>\n",
              "      <td>northwest</td>\n",
              "      <td>5116.50040</td>\n",
              "    </tr>\n",
              "    <tr>\n",
              "      <th>1226</th>\n",
              "      <td>38</td>\n",
              "      <td>male</td>\n",
              "      <td>16.815</td>\n",
              "      <td>2</td>\n",
              "      <td>no</td>\n",
              "      <td>northeast</td>\n",
              "      <td>6640.54485</td>\n",
              "    </tr>\n",
              "    <tr>\n",
              "      <th>1286</th>\n",
              "      <td>28</td>\n",
              "      <td>female</td>\n",
              "      <td>17.290</td>\n",
              "      <td>0</td>\n",
              "      <td>no</td>\n",
              "      <td>northeast</td>\n",
              "      <td>3732.62510</td>\n",
              "    </tr>\n",
              "  </tbody>\n",
              "</table>\n",
              "</div>\n",
              "      <button class=\"colab-df-convert\" onclick=\"convertToInteractive('df-dfa00faa-23d9-4100-8b4a-4949e26667a6')\"\n",
              "              title=\"Convert this dataframe to an interactive table.\"\n",
              "              style=\"display:none;\">\n",
              "        \n",
              "  <svg xmlns=\"http://www.w3.org/2000/svg\" height=\"24px\"viewBox=\"0 0 24 24\"\n",
              "       width=\"24px\">\n",
              "    <path d=\"M0 0h24v24H0V0z\" fill=\"none\"/>\n",
              "    <path d=\"M18.56 5.44l.94 2.06.94-2.06 2.06-.94-2.06-.94-.94-2.06-.94 2.06-2.06.94zm-11 1L8.5 8.5l.94-2.06 2.06-.94-2.06-.94L8.5 2.5l-.94 2.06-2.06.94zm10 10l.94 2.06.94-2.06 2.06-.94-2.06-.94-.94-2.06-.94 2.06-2.06.94z\"/><path d=\"M17.41 7.96l-1.37-1.37c-.4-.4-.92-.59-1.43-.59-.52 0-1.04.2-1.43.59L10.3 9.45l-7.72 7.72c-.78.78-.78 2.05 0 2.83L4 21.41c.39.39.9.59 1.41.59.51 0 1.02-.2 1.41-.59l7.78-7.78 2.81-2.81c.8-.78.8-2.07 0-2.86zM5.41 20L4 18.59l7.72-7.72 1.47 1.35L5.41 20z\"/>\n",
              "  </svg>\n",
              "      </button>\n",
              "      \n",
              "  <style>\n",
              "    .colab-df-container {\n",
              "      display:flex;\n",
              "      flex-wrap:wrap;\n",
              "      gap: 12px;\n",
              "    }\n",
              "\n",
              "    .colab-df-convert {\n",
              "      background-color: #E8F0FE;\n",
              "      border: none;\n",
              "      border-radius: 50%;\n",
              "      cursor: pointer;\n",
              "      display: none;\n",
              "      fill: #1967D2;\n",
              "      height: 32px;\n",
              "      padding: 0 0 0 0;\n",
              "      width: 32px;\n",
              "    }\n",
              "\n",
              "    .colab-df-convert:hover {\n",
              "      background-color: #E2EBFA;\n",
              "      box-shadow: 0px 1px 2px rgba(60, 64, 67, 0.3), 0px 1px 3px 1px rgba(60, 64, 67, 0.15);\n",
              "      fill: #174EA6;\n",
              "    }\n",
              "\n",
              "    [theme=dark] .colab-df-convert {\n",
              "      background-color: #3B4455;\n",
              "      fill: #D2E3FC;\n",
              "    }\n",
              "\n",
              "    [theme=dark] .colab-df-convert:hover {\n",
              "      background-color: #434B5C;\n",
              "      box-shadow: 0px 1px 3px 1px rgba(0, 0, 0, 0.15);\n",
              "      filter: drop-shadow(0px 1px 2px rgba(0, 0, 0, 0.3));\n",
              "      fill: #FFFFFF;\n",
              "    }\n",
              "  </style>\n",
              "\n",
              "      <script>\n",
              "        const buttonEl =\n",
              "          document.querySelector('#df-dfa00faa-23d9-4100-8b4a-4949e26667a6 button.colab-df-convert');\n",
              "        buttonEl.style.display =\n",
              "          google.colab.kernel.accessAllowed ? 'block' : 'none';\n",
              "\n",
              "        async function convertToInteractive(key) {\n",
              "          const element = document.querySelector('#df-dfa00faa-23d9-4100-8b4a-4949e26667a6');\n",
              "          const dataTable =\n",
              "            await google.colab.kernel.invokeFunction('convertToInteractive',\n",
              "                                                     [key], {});\n",
              "          if (!dataTable) return;\n",
              "\n",
              "          const docLinkHtml = 'Like what you see? Visit the ' +\n",
              "            '<a target=\"_blank\" href=https://colab.research.google.com/notebooks/data_table.ipynb>data table notebook</a>'\n",
              "            + ' to learn more about interactive tables.';\n",
              "          element.innerHTML = '';\n",
              "          dataTable['output_type'] = 'display_data';\n",
              "          await google.colab.output.renderOutput(dataTable, element);\n",
              "          const docLink = document.createElement('div');\n",
              "          docLink.innerHTML = docLinkHtml;\n",
              "          element.appendChild(docLink);\n",
              "        }\n",
              "      </script>\n",
              "    </div>\n",
              "  </div>\n",
              "  "
            ]
          },
          "metadata": {},
          "execution_count": 14
        }
      ]
    },
    {
      "cell_type": "code",
      "source": [
        "# Find BMI >  24.9\n",
        "bmiUpper = copyData.loc[(copyData['bmi'] > 24.9 )]\n",
        "bmiUpper"
      ],
      "metadata": {
        "colab": {
          "base_uri": "https://localhost:8080/",
          "height": 423
        },
        "id": "SOQvAmxwQrnn",
        "outputId": "cb1bfb88-b00d-45e9-d18d-a45aa8bd5452"
      },
      "execution_count": 15,
      "outputs": [
        {
          "output_type": "execute_result",
          "data": {
            "text/plain": [
              "      age     sex    bmi  children smoker     region     charges\n",
              "0      19  female  27.90         0    yes  southwest  16884.9240\n",
              "1      18    male  33.77         1     no  southeast   1725.5523\n",
              "2      28    male  33.00         3     no  southeast   4449.4620\n",
              "4      32    male  28.88         0     no  northwest   3866.8552\n",
              "5      31  female  25.74         0     no  southeast   3756.6216\n",
              "...   ...     ...    ...       ...    ...        ...         ...\n",
              "1333   50    male  30.97         3     no  northwest  10600.5483\n",
              "1334   18  female  31.92         0     no  northeast   2205.9808\n",
              "1335   18  female  36.85         0     no  southeast   1629.8335\n",
              "1336   21  female  25.80         0     no  southwest   2007.9450\n",
              "1337   61  female  29.07         0    yes  northwest  29141.3603\n",
              "\n",
              "[1095 rows x 7 columns]"
            ],
            "text/html": [
              "\n",
              "  <div id=\"df-91fb4dca-1fd7-4f3c-a355-7a7f9f8d8050\">\n",
              "    <div class=\"colab-df-container\">\n",
              "      <div>\n",
              "<style scoped>\n",
              "    .dataframe tbody tr th:only-of-type {\n",
              "        vertical-align: middle;\n",
              "    }\n",
              "\n",
              "    .dataframe tbody tr th {\n",
              "        vertical-align: top;\n",
              "    }\n",
              "\n",
              "    .dataframe thead th {\n",
              "        text-align: right;\n",
              "    }\n",
              "</style>\n",
              "<table border=\"1\" class=\"dataframe\">\n",
              "  <thead>\n",
              "    <tr style=\"text-align: right;\">\n",
              "      <th></th>\n",
              "      <th>age</th>\n",
              "      <th>sex</th>\n",
              "      <th>bmi</th>\n",
              "      <th>children</th>\n",
              "      <th>smoker</th>\n",
              "      <th>region</th>\n",
              "      <th>charges</th>\n",
              "    </tr>\n",
              "  </thead>\n",
              "  <tbody>\n",
              "    <tr>\n",
              "      <th>0</th>\n",
              "      <td>19</td>\n",
              "      <td>female</td>\n",
              "      <td>27.90</td>\n",
              "      <td>0</td>\n",
              "      <td>yes</td>\n",
              "      <td>southwest</td>\n",
              "      <td>16884.9240</td>\n",
              "    </tr>\n",
              "    <tr>\n",
              "      <th>1</th>\n",
              "      <td>18</td>\n",
              "      <td>male</td>\n",
              "      <td>33.77</td>\n",
              "      <td>1</td>\n",
              "      <td>no</td>\n",
              "      <td>southeast</td>\n",
              "      <td>1725.5523</td>\n",
              "    </tr>\n",
              "    <tr>\n",
              "      <th>2</th>\n",
              "      <td>28</td>\n",
              "      <td>male</td>\n",
              "      <td>33.00</td>\n",
              "      <td>3</td>\n",
              "      <td>no</td>\n",
              "      <td>southeast</td>\n",
              "      <td>4449.4620</td>\n",
              "    </tr>\n",
              "    <tr>\n",
              "      <th>4</th>\n",
              "      <td>32</td>\n",
              "      <td>male</td>\n",
              "      <td>28.88</td>\n",
              "      <td>0</td>\n",
              "      <td>no</td>\n",
              "      <td>northwest</td>\n",
              "      <td>3866.8552</td>\n",
              "    </tr>\n",
              "    <tr>\n",
              "      <th>5</th>\n",
              "      <td>31</td>\n",
              "      <td>female</td>\n",
              "      <td>25.74</td>\n",
              "      <td>0</td>\n",
              "      <td>no</td>\n",
              "      <td>southeast</td>\n",
              "      <td>3756.6216</td>\n",
              "    </tr>\n",
              "    <tr>\n",
              "      <th>...</th>\n",
              "      <td>...</td>\n",
              "      <td>...</td>\n",
              "      <td>...</td>\n",
              "      <td>...</td>\n",
              "      <td>...</td>\n",
              "      <td>...</td>\n",
              "      <td>...</td>\n",
              "    </tr>\n",
              "    <tr>\n",
              "      <th>1333</th>\n",
              "      <td>50</td>\n",
              "      <td>male</td>\n",
              "      <td>30.97</td>\n",
              "      <td>3</td>\n",
              "      <td>no</td>\n",
              "      <td>northwest</td>\n",
              "      <td>10600.5483</td>\n",
              "    </tr>\n",
              "    <tr>\n",
              "      <th>1334</th>\n",
              "      <td>18</td>\n",
              "      <td>female</td>\n",
              "      <td>31.92</td>\n",
              "      <td>0</td>\n",
              "      <td>no</td>\n",
              "      <td>northeast</td>\n",
              "      <td>2205.9808</td>\n",
              "    </tr>\n",
              "    <tr>\n",
              "      <th>1335</th>\n",
              "      <td>18</td>\n",
              "      <td>female</td>\n",
              "      <td>36.85</td>\n",
              "      <td>0</td>\n",
              "      <td>no</td>\n",
              "      <td>southeast</td>\n",
              "      <td>1629.8335</td>\n",
              "    </tr>\n",
              "    <tr>\n",
              "      <th>1336</th>\n",
              "      <td>21</td>\n",
              "      <td>female</td>\n",
              "      <td>25.80</td>\n",
              "      <td>0</td>\n",
              "      <td>no</td>\n",
              "      <td>southwest</td>\n",
              "      <td>2007.9450</td>\n",
              "    </tr>\n",
              "    <tr>\n",
              "      <th>1337</th>\n",
              "      <td>61</td>\n",
              "      <td>female</td>\n",
              "      <td>29.07</td>\n",
              "      <td>0</td>\n",
              "      <td>yes</td>\n",
              "      <td>northwest</td>\n",
              "      <td>29141.3603</td>\n",
              "    </tr>\n",
              "  </tbody>\n",
              "</table>\n",
              "<p>1095 rows × 7 columns</p>\n",
              "</div>\n",
              "      <button class=\"colab-df-convert\" onclick=\"convertToInteractive('df-91fb4dca-1fd7-4f3c-a355-7a7f9f8d8050')\"\n",
              "              title=\"Convert this dataframe to an interactive table.\"\n",
              "              style=\"display:none;\">\n",
              "        \n",
              "  <svg xmlns=\"http://www.w3.org/2000/svg\" height=\"24px\"viewBox=\"0 0 24 24\"\n",
              "       width=\"24px\">\n",
              "    <path d=\"M0 0h24v24H0V0z\" fill=\"none\"/>\n",
              "    <path d=\"M18.56 5.44l.94 2.06.94-2.06 2.06-.94-2.06-.94-.94-2.06-.94 2.06-2.06.94zm-11 1L8.5 8.5l.94-2.06 2.06-.94-2.06-.94L8.5 2.5l-.94 2.06-2.06.94zm10 10l.94 2.06.94-2.06 2.06-.94-2.06-.94-.94-2.06-.94 2.06-2.06.94z\"/><path d=\"M17.41 7.96l-1.37-1.37c-.4-.4-.92-.59-1.43-.59-.52 0-1.04.2-1.43.59L10.3 9.45l-7.72 7.72c-.78.78-.78 2.05 0 2.83L4 21.41c.39.39.9.59 1.41.59.51 0 1.02-.2 1.41-.59l7.78-7.78 2.81-2.81c.8-.78.8-2.07 0-2.86zM5.41 20L4 18.59l7.72-7.72 1.47 1.35L5.41 20z\"/>\n",
              "  </svg>\n",
              "      </button>\n",
              "      \n",
              "  <style>\n",
              "    .colab-df-container {\n",
              "      display:flex;\n",
              "      flex-wrap:wrap;\n",
              "      gap: 12px;\n",
              "    }\n",
              "\n",
              "    .colab-df-convert {\n",
              "      background-color: #E8F0FE;\n",
              "      border: none;\n",
              "      border-radius: 50%;\n",
              "      cursor: pointer;\n",
              "      display: none;\n",
              "      fill: #1967D2;\n",
              "      height: 32px;\n",
              "      padding: 0 0 0 0;\n",
              "      width: 32px;\n",
              "    }\n",
              "\n",
              "    .colab-df-convert:hover {\n",
              "      background-color: #E2EBFA;\n",
              "      box-shadow: 0px 1px 2px rgba(60, 64, 67, 0.3), 0px 1px 3px 1px rgba(60, 64, 67, 0.15);\n",
              "      fill: #174EA6;\n",
              "    }\n",
              "\n",
              "    [theme=dark] .colab-df-convert {\n",
              "      background-color: #3B4455;\n",
              "      fill: #D2E3FC;\n",
              "    }\n",
              "\n",
              "    [theme=dark] .colab-df-convert:hover {\n",
              "      background-color: #434B5C;\n",
              "      box-shadow: 0px 1px 3px 1px rgba(0, 0, 0, 0.15);\n",
              "      filter: drop-shadow(0px 1px 2px rgba(0, 0, 0, 0.3));\n",
              "      fill: #FFFFFF;\n",
              "    }\n",
              "  </style>\n",
              "\n",
              "      <script>\n",
              "        const buttonEl =\n",
              "          document.querySelector('#df-91fb4dca-1fd7-4f3c-a355-7a7f9f8d8050 button.colab-df-convert');\n",
              "        buttonEl.style.display =\n",
              "          google.colab.kernel.accessAllowed ? 'block' : 'none';\n",
              "\n",
              "        async function convertToInteractive(key) {\n",
              "          const element = document.querySelector('#df-91fb4dca-1fd7-4f3c-a355-7a7f9f8d8050');\n",
              "          const dataTable =\n",
              "            await google.colab.kernel.invokeFunction('convertToInteractive',\n",
              "                                                     [key], {});\n",
              "          if (!dataTable) return;\n",
              "\n",
              "          const docLinkHtml = 'Like what you see? Visit the ' +\n",
              "            '<a target=\"_blank\" href=https://colab.research.google.com/notebooks/data_table.ipynb>data table notebook</a>'\n",
              "            + ' to learn more about interactive tables.';\n",
              "          element.innerHTML = '';\n",
              "          dataTable['output_type'] = 'display_data';\n",
              "          await google.colab.output.renderOutput(dataTable, element);\n",
              "          const docLink = document.createElement('div');\n",
              "          docLink.innerHTML = docLinkHtml;\n",
              "          element.appendChild(docLink);\n",
              "        }\n",
              "      </script>\n",
              "    </div>\n",
              "  </div>\n",
              "  "
            ]
          },
          "metadata": {},
          "execution_count": 15
        }
      ]
    },
    {
      "cell_type": "code",
      "source": [
        "# Visualization of bmi under\n",
        "plt.figure(figsize=(25, 6))\n",
        "plt.subplot(1, 2, 1)\n",
        "sns.histplot(x='bmi', data=bmiUnder, kde=True)\n",
        "plt.axvline(bmiUnder.bmi.mean(), color='r', linestyle='--', label='Mean')\n",
        "plt.axvline(bmiUnder.bmi.median(), color='g', linestyle='--', label='Median')\n",
        "plt.title('Body Mass Index Under Distribution')\n",
        "plt.xlabel('Body Mass Index')\n",
        "plt.ylabel('Frequency')\n",
        "plt.subplot(1, 2, 2)\n",
        "sns.scatterplot(x='bmi', y='charges', data=bmiUnder, hue='smoker')\n",
        "plt.title('BMI vs Charges')\n",
        "plt.xlabel('Body Mass Index')\n",
        "plt.ylabel('Charges')\n",
        "plt.show()"
      ],
      "metadata": {
        "colab": {
          "base_uri": "https://localhost:8080/",
          "height": 317
        },
        "id": "bZ3_WRVpQ-Wv",
        "outputId": "e6191177-9627-4f92-80ae-d49692cba6f3"
      },
      "execution_count": 16,
      "outputs": [
        {
          "output_type": "display_data",
          "data": {
            "text/plain": [
              "<Figure size 1800x432 with 2 Axes>"
            ],
            "image/png": "[encoded data removed]"
          },
          "metadata": {
            "needs_background": "light"
          }
        }
      ]
    },
    {
      "cell_type": "markdown",
      "source": [
        "Walaupun banyak dari mereka yang tidak merokok, tapi kebanyakan nilai `bmi` mereka dibawah normal. Mungkin ini dikarenakan faktor turunan atau ada masalah metabolisme masing-masing individu"
      ],
      "metadata": {
        "id": "vF49nYhDRLsD"
      }
    },
    {
      "cell_type": "code",
      "source": [
        "# Visualization of bmi upper\n",
        "plt.figure(figsize=(25, 6))\n",
        "plt.subplot(1, 2, 1)\n",
        "sns.histplot(x='bmi', data=bmiUpper, kde=True)\n",
        "plt.axvline(bmiUpper.bmi.mean(), color='r', linestyle='--', label='Mean')\n",
        "plt.axvline(bmiUpper.bmi.median(), color='g', linestyle='--', label='Median')\n",
        "plt.title('Body Mass Index Upper Distribution')\n",
        "plt.xlabel('Body Mass Index')\n",
        "plt.ylabel('Frequency')\n",
        "plt.subplot(1, 2, 2)\n",
        "sns.scatterplot(x='bmi', y='charges', data=bmiUpper, hue='smoker')\n",
        "plt.title('BMI vs Charges')\n",
        "plt.xlabel('Body Mass Index')\n",
        "plt.ylabel('Charges')\n",
        "plt.show()"
      ],
      "metadata": {
        "colab": {
          "base_uri": "https://localhost:8080/",
          "height": 314
        },
        "id": "llN4uceWRbXw",
        "outputId": "5a9e9744-fc8b-49b1-e202-0300ffcac5bc"
      },
      "execution_count": 17,
      "outputs": [
        {
          "output_type": "display_data",
          "data": {
            "text/plain": [
              "<Figure size 1800x432 with 2 Axes>"
            ],
            "image/png": "[encoded data removed]"
          },
          "metadata": {
            "needs_background": "light"
          }
        }
      ]
    },
    {
      "cell_type": "markdown",
      "source": [
        "Walaupun yang tidak merokok ada sebanyak 800an orang tetapi tingkat `bmi` diatas batas normal, ini menandakan banyak dari mereka yang memiliki pola hidup tidak sehat, semisal jarang berolahraga ataupun tidak memperhatikan makanan dan pola tidur yang tidak teratur."
      ],
      "metadata": {
        "id": "04k1KVnBRz5P"
      }
    },
    {
      "cell_type": "code",
      "source": [
        "# Find smoker\n",
        "smokeDF = copyData.loc[(copyData['smoker'] == 'yes')]\n",
        "smokeDF"
      ],
      "metadata": {
        "colab": {
          "base_uri": "https://localhost:8080/",
          "height": 423
        },
        "id": "18v5UlvApRAt",
        "outputId": "7121bc95-a0a6-406e-aa41-6c85461dd56d"
      },
      "execution_count": 18,
      "outputs": [
        {
          "output_type": "execute_result",
          "data": {
            "text/plain": [
              "      age     sex     bmi  children smoker     region      charges\n",
              "0      19  female  27.900         0    yes  southwest  16884.92400\n",
              "11     62  female  26.290         0    yes  southeast  27808.72510\n",
              "14     27    male  42.130         0    yes  southeast  39611.75770\n",
              "19     30    male  35.300         0    yes  southwest  36837.46700\n",
              "23     34  female  31.920         1    yes  northeast  37701.87680\n",
              "...   ...     ...     ...       ...    ...        ...          ...\n",
              "1313   19  female  34.700         2    yes  southwest  36397.57600\n",
              "1314   30  female  23.655         3    yes  northwest  18765.87545\n",
              "1321   62    male  26.695         0    yes  northeast  28101.33305\n",
              "1323   42  female  40.370         2    yes  southeast  43896.37630\n",
              "1337   61  female  29.070         0    yes  northwest  29141.36030\n",
              "\n",
              "[274 rows x 7 columns]"
            ],
            "text/html": [
              "\n",
              "  <div id=\"df-b304e892-99e4-40b6-9f71-dcd8b8e1dd35\">\n",
              "    <div class=\"colab-df-container\">\n",
              "      <div>\n",
              "<style scoped>\n",
              "    .dataframe tbody tr th:only-of-type {\n",
              "        vertical-align: middle;\n",
              "    }\n",
              "\n",
              "    .dataframe tbody tr th {\n",
              "        vertical-align: top;\n",
              "    }\n",
              "\n",
              "    .dataframe thead th {\n",
              "        text-align: right;\n",
              "    }\n",
              "</style>\n",
              "<table border=\"1\" class=\"dataframe\">\n",
              "  <thead>\n",
              "    <tr style=\"text-align: right;\">\n",
              "      <th></th>\n",
              "      <th>age</th>\n",
              "      <th>sex</th>\n",
              "      <th>bmi</th>\n",
              "      <th>children</th>\n",
              "      <th>smoker</th>\n",
              "      <th>region</th>\n",
              "      <th>charges</th>\n",
              "    </tr>\n",
              "  </thead>\n",
              "  <tbody>\n",
              "    <tr>\n",
              "      <th>0</th>\n",
              "      <td>19</td>\n",
              "      <td>female</td>\n",
              "      <td>27.900</td>\n",
              "      <td>0</td>\n",
              "      <td>yes</td>\n",
              "      <td>southwest</td>\n",
              "      <td>16884.92400</td>\n",
              "    </tr>\n",
              "    <tr>\n",
              "      <th>11</th>\n",
              "      <td>62</td>\n",
              "      <td>female</td>\n",
              "      <td>26.290</td>\n",
              "      <td>0</td>\n",
              "      <td>yes</td>\n",
              "      <td>southeast</td>\n",
              "      <td>27808.72510</td>\n",
              "    </tr>\n",
              "    <tr>\n",
              "      <th>14</th>\n",
              "      <td>27</td>\n",
              "      <td>male</td>\n",
              "      <td>42.130</td>\n",
              "      <td>0</td>\n",
              "      <td>yes</td>\n",
              "      <td>southeast</td>\n",
              "      <td>39611.75770</td>\n",
              "    </tr>\n",
              "    <tr>\n",
              "      <th>19</th>\n",
              "      <td>30</td>\n",
              "      <td>male</td>\n",
              "      <td>35.300</td>\n",
              "      <td>0</td>\n",
              "      <td>yes</td>\n",
              "      <td>southwest</td>\n",
              "      <td>36837.46700</td>\n",
              "    </tr>\n",
              "    <tr>\n",
              "      <th>23</th>\n",
              "      <td>34</td>\n",
              "      <td>female</td>\n",
              "      <td>31.920</td>\n",
              "      <td>1</td>\n",
              "      <td>yes</td>\n",
              "      <td>northeast</td>\n",
              "      <td>37701.87680</td>\n",
              "    </tr>\n",
              "    <tr>\n",
              "      <th>...</th>\n",
              "      <td>...</td>\n",
              "      <td>...</td>\n",
              "      <td>...</td>\n",
              "      <td>...</td>\n",
              "      <td>...</td>\n",
              "      <td>...</td>\n",
              "      <td>...</td>\n",
              "    </tr>\n",
              "    <tr>\n",
              "      <th>1313</th>\n",
              "      <td>19</td>\n",
              "      <td>female</td>\n",
              "      <td>34.700</td>\n",
              "      <td>2</td>\n",
              "      <td>yes</td>\n",
              "      <td>southwest</td>\n",
              "      <td>36397.57600</td>\n",
              "    </tr>\n",
              "    <tr>\n",
              "      <th>1314</th>\n",
              "      <td>30</td>\n",
              "      <td>female</td>\n",
              "      <td>23.655</td>\n",
              "      <td>3</td>\n",
              "      <td>yes</td>\n",
              "      <td>northwest</td>\n",
              "      <td>18765.87545</td>\n",
              "    </tr>\n",
              "    <tr>\n",
              "      <th>1321</th>\n",
              "      <td>62</td>\n",
              "      <td>male</td>\n",
              "      <td>26.695</td>\n",
              "      <td>0</td>\n",
              "      <td>yes</td>\n",
              "      <td>northeast</td>\n",
              "      <td>28101.33305</td>\n",
              "    </tr>\n",
              "    <tr>\n",
              "      <th>1323</th>\n",
              "      <td>42</td>\n",
              "      <td>female</td>\n",
              "      <td>40.370</td>\n",
              "      <td>2</td>\n",
              "      <td>yes</td>\n",
              "      <td>southeast</td>\n",
              "      <td>43896.37630</td>\n",
              "    </tr>\n",
              "    <tr>\n",
              "      <th>1337</th>\n",
              "      <td>61</td>\n",
              "      <td>female</td>\n",
              "      <td>29.070</td>\n",
              "      <td>0</td>\n",
              "      <td>yes</td>\n",
              "      <td>northwest</td>\n",
              "      <td>29141.36030</td>\n",
              "    </tr>\n",
              "  </tbody>\n",
              "</table>\n",
              "<p>274 rows × 7 columns</p>\n",
              "</div>\n",
              "      <button class=\"colab-df-convert\" onclick=\"convertToInteractive('df-b304e892-99e4-40b6-9f71-dcd8b8e1dd35')\"\n",
              "              title=\"Convert this dataframe to an interactive table.\"\n",
              "              style=\"display:none;\">\n",
              "        \n",
              "  <svg xmlns=\"http://www.w3.org/2000/svg\" height=\"24px\"viewBox=\"0 0 24 24\"\n",
              "       width=\"24px\">\n",
              "    <path d=\"M0 0h24v24H0V0z\" fill=\"none\"/>\n",
              "    <path d=\"M18.56 5.44l.94 2.06.94-2.06 2.06-.94-2.06-.94-.94-2.06-.94 2.06-2.06.94zm-11 1L8.5 8.5l.94-2.06 2.06-.94-2.06-.94L8.5 2.5l-.94 2.06-2.06.94zm10 10l.94 2.06.94-2.06 2.06-.94-2.06-.94-.94-2.06-.94 2.06-2.06.94z\"/><path d=\"M17.41 7.96l-1.37-1.37c-.4-.4-.92-.59-1.43-.59-.52 0-1.04.2-1.43.59L10.3 9.45l-7.72 7.72c-.78.78-.78 2.05 0 2.83L4 21.41c.39.39.9.59 1.41.59.51 0 1.02-.2 1.41-.59l7.78-7.78 2.81-2.81c.8-.78.8-2.07 0-2.86zM5.41 20L4 18.59l7.72-7.72 1.47 1.35L5.41 20z\"/>\n",
              "  </svg>\n",
              "      </button>\n",
              "      \n",
              "  <style>\n",
              "    .colab-df-container {\n",
              "      display:flex;\n",
              "      flex-wrap:wrap;\n",
              "      gap: 12px;\n",
              "    }\n",
              "\n",
              "    .colab-df-convert {\n",
              "      background-color: #E8F0FE;\n",
              "      border: none;\n",
              "      border-radius: 50%;\n",
              "      cursor: pointer;\n",
              "      display: none;\n",
              "      fill: #1967D2;\n",
              "      height: 32px;\n",
              "      padding: 0 0 0 0;\n",
              "      width: 32px;\n",
              "    }\n",
              "\n",
              "    .colab-df-convert:hover {\n",
              "      background-color: #E2EBFA;\n",
              "      box-shadow: 0px 1px 2px rgba(60, 64, 67, 0.3), 0px 1px 3px 1px rgba(60, 64, 67, 0.15);\n",
              "      fill: #174EA6;\n",
              "    }\n",
              "\n",
              "    [theme=dark] .colab-df-convert {\n",
              "      background-color: #3B4455;\n",
              "      fill: #D2E3FC;\n",
              "    }\n",
              "\n",
              "    [theme=dark] .colab-df-convert:hover {\n",
              "      background-color: #434B5C;\n",
              "      box-shadow: 0px 1px 3px 1px rgba(0, 0, 0, 0.15);\n",
              "      filter: drop-shadow(0px 1px 2px rgba(0, 0, 0, 0.3));\n",
              "      fill: #FFFFFF;\n",
              "    }\n",
              "  </style>\n",
              "\n",
              "      <script>\n",
              "        const buttonEl =\n",
              "          document.querySelector('#df-b304e892-99e4-40b6-9f71-dcd8b8e1dd35 button.colab-df-convert');\n",
              "        buttonEl.style.display =\n",
              "          google.colab.kernel.accessAllowed ? 'block' : 'none';\n",
              "\n",
              "        async function convertToInteractive(key) {\n",
              "          const element = document.querySelector('#df-b304e892-99e4-40b6-9f71-dcd8b8e1dd35');\n",
              "          const dataTable =\n",
              "            await google.colab.kernel.invokeFunction('convertToInteractive',\n",
              "                                                     [key], {});\n",
              "          if (!dataTable) return;\n",
              "\n",
              "          const docLinkHtml = 'Like what you see? Visit the ' +\n",
              "            '<a target=\"_blank\" href=https://colab.research.google.com/notebooks/data_table.ipynb>data table notebook</a>'\n",
              "            + ' to learn more about interactive tables.';\n",
              "          element.innerHTML = '';\n",
              "          dataTable['output_type'] = 'display_data';\n",
              "          await google.colab.output.renderOutput(dataTable, element);\n",
              "          const docLink = document.createElement('div');\n",
              "          docLink.innerHTML = docLinkHtml;\n",
              "          element.appendChild(docLink);\n",
              "        }\n",
              "      </script>\n",
              "    </div>\n",
              "  </div>\n",
              "  "
            ]
          },
          "metadata": {},
          "execution_count": 18
        }
      ]
    },
    {
      "cell_type": "markdown",
      "source": [
        "Ada 274 orang perokok"
      ],
      "metadata": {
        "id": "dzhkRikipdbn"
      }
    },
    {
      "cell_type": "code",
      "source": [
        "# Visualization\n",
        "diagnosticPlots(smokeDF, 'sex')"
      ],
      "metadata": {
        "colab": {
          "base_uri": "https://localhost:8080/",
          "height": 312
        },
        "id": "cNfIyKF9pnME",
        "outputId": "11c3e980-7435-425d-a9d7-a13e18f6969c"
      },
      "execution_count": 19,
      "outputs": [
        {
          "output_type": "display_data",
          "data": {
            "text/plain": [
              "<Figure size 1296x1800 with 1 Axes>"
            ],
            "image/png": "[encoded data removed]"
          },
          "metadata": {
            "needs_background": "light"
          }
        }
      ]
    },
    {
      "cell_type": "markdown",
      "source": [
        "Banyak dari perokok adalah kalangan perempuan dengan total 150an orang"
      ],
      "metadata": {
        "id": "Ps3oOj_lpsIM"
      }
    },
    {
      "cell_type": "code",
      "source": [
        "# Visualization\n",
        "diagnosticPlots(smokeDF, 'age')"
      ],
      "metadata": {
        "colab": {
          "base_uri": "https://localhost:8080/",
          "height": 312
        },
        "id": "PkudPjWvpzmr",
        "outputId": "ead77da9-c4d1-4743-9a78-6d447042ea7a"
      },
      "execution_count": 20,
      "outputs": [
        {
          "output_type": "display_data",
          "data": {
            "text/plain": [
              "<Figure size 1296x1800 with 1 Axes>"
            ],
            "image/png": "[encoded data removed]"
          },
          "metadata": {
            "needs_background": "light"
          }
        }
      ]
    },
    {
      "cell_type": "markdown",
      "source": [
        "Umur 18-20 tahun menjadi yang terbanyak dalam kalangan perokok, yaitu sekitar 30 orang"
      ],
      "metadata": {
        "id": "g8kAJRbJp4Ai"
      }
    },
    {
      "cell_type": "code",
      "source": [
        "# Smoker have a children Percentage\n",
        "sdf = smokeDF.groupby('children').size()\n",
        "plt.figure(figsize = (30, 15))\n",
        "plt.pie(sdf, labels = sdf.index, shadow = True, startangle = 90, autopct='%1.1f%%')\n",
        "plt.title('Smoker Distribution', fontsize = 20)\n",
        "plt.axis('off')\n",
        "plt.legend()\n",
        "plt.show()"
      ],
      "metadata": {
        "colab": {
          "base_uri": "https://localhost:8080/",
          "height": 867
        },
        "id": "hOkL4KdMqiJ4",
        "outputId": "6cd616bf-a7a9-4203-92f2-f69633b325ec"
      },
      "execution_count": 21,
      "outputs": [
        {
          "output_type": "display_data",
          "data": {
            "text/plain": [
              "<Figure size 2160x1080 with 1 Axes>"
            ],
            "image/png": "[encoded data removed]"
          },
          "metadata": {}
        }
      ]
    },
    {
      "cell_type": "markdown",
      "source": [
        "Banyak dari kalangan perokok adalah mereka yang belum mempunyai anak, mungkin ini berkaitan dengan financial jika mereka menggunakan uangnya untuk membeli rokok maka dikhawatirkan tidak dapat memenuhi kebutuhan anaknya."
      ],
      "metadata": {
        "id": "BolPjhnVrSLk"
      }
    },
    {
      "cell_type": "code",
      "source": [
        "# Data Age visualization\n",
        "plt.rcParams['figure.figsize'] = (30, 38)\n",
        "sns.countplot(y = copyData['age'], palette = 'hsv')\n",
        "sns\n",
        "plt.title('Distribution of age')\n",
        "plt.show()"
      ],
      "metadata": {
        "colab": {
          "base_uri": "https://localhost:8080/",
          "height": 1000
        },
        "id": "waKoc3h3rzOl",
        "outputId": "b8628411-0a94-42b6-bd51-d79f1c99c12c"
      },
      "execution_count": 22,
      "outputs": [
        {
          "output_type": "display_data",
          "data": {
            "text/plain": [
              "<Figure size 2160x2736 with 1 Axes>"
            ],
            "image/png": "[encoded data removed]"
          },
          "metadata": {
            "needs_background": "light"
          }
        }
      ]
    },
    {
      "cell_type": "markdown",
      "source": [
        "Data dengan umur dibawah 20 tahun adalah yang paling banyak dengan total sekitar 135 orang"
      ],
      "metadata": {
        "id": "NOYcbjjusDup"
      }
    },
    {
      "cell_type": "code",
      "source": [
        "# Check korelasi\n",
        "plt.figure(figsize=(25, 10))\n",
        "sns.heatmap(copyData.corr(), annot=True, cmap='viridis')\n",
        "plt.title('Data Correlation')\n",
        "plt.show()"
      ],
      "metadata": {
        "colab": {
          "base_uri": "https://localhost:8080/",
          "height": 535
        },
        "id": "1N6U681s0r4w",
        "outputId": "b2142843-10cb-4937-c837-6c4cda482246"
      },
      "execution_count": 23,
      "outputs": [
        {
          "output_type": "display_data",
          "data": {
            "text/plain": [
              "<Figure size 1800x720 with 2 Axes>"
            ],
            "image/png": "[encoded data removed]"
          },
          "metadata": {
            "needs_background": "light"
          }
        }
      ]
    },
    {
      "cell_type": "markdown",
      "source": [
        "Bagi mereka yang memiliki umur semakin tinggi, kemungkinan ada dikenakan charges yang tinggi pula. ini ditandai dengan nilai korelasiya sebesar 30%"
      ],
      "metadata": {
        "id": "bJeURgaW0yiN"
      }
    },
    {
      "cell_type": "markdown",
      "source": [
        "# **6. Data Preprocessing**\n",
        "\n",
        "---"
      ],
      "metadata": {
        "id": "3Iaw_lF3pGul"
      }
    },
    {
      "cell_type": "markdown",
      "source": [
        "Bagian ini berisi proses penyiapan data untuk proses pelatihan model, seperti pembagian data menjadi train-test, transformasi data (normalisasi, encoding, dll.), dan proses-proses lain yang dibutuhkan."
      ],
      "metadata": {
        "id": "fdHB1LiapKnt"
      }
    },
    {
      "cell_type": "markdown",
      "source": [
        "## 6.1 Data Binning"
      ],
      "metadata": {
        "id": "XLecVCW8vfuA"
      }
    },
    {
      "cell_type": "code",
      "source": [
        "# Binning data age\n",
        "criteria = [\n",
        "    (copyData['age'] > 15) & (copyData['age'] < 25),\n",
        "    (copyData['age'] >= 25) & (copyData['age'] < 55),\n",
        "    (copyData['age'] >= 55)\n",
        "]\n",
        "ageLabel = ['teen', 'adult', 'old']\n",
        "copyData['age_bin'] = pd.cut(copyData['age'], bins = ['15', '25', '55', float('inf')], labels=ageLabel)\n",
        "\n",
        "copyData.age_bin.unique()"
      ],
      "metadata": {
        "colab": {
          "base_uri": "https://localhost:8080/"
        },
        "id": "ZE8bi6i2viAc",
        "outputId": "bb11f692-85e1-4c60-803c-a97713fb1108"
      },
      "execution_count": 24,
      "outputs": [
        {
          "output_type": "execute_result",
          "data": {
            "text/plain": [
              "['teen', 'adult', 'old']\n",
              "Categories (3, object): ['teen' < 'adult' < 'old']"
            ]
          },
          "metadata": {},
          "execution_count": 24
        }
      ]
    },
    {
      "cell_type": "markdown",
      "source": [
        "## 6.2 Split between Feature and Target"
      ],
      "metadata": {
        "id": "9fNjMbYwsu5L"
      }
    },
    {
      "cell_type": "code",
      "source": [
        "# Split between feature and target\n",
        "X = copyData.drop(['charges'], axis=1)\n",
        "y = copyData['charges']\n",
        "\n",
        "# Display\n",
        "X.head()"
      ],
      "metadata": {
        "colab": {
          "base_uri": "https://localhost:8080/",
          "height": 206
        },
        "id": "BA894RjatLkw",
        "outputId": "cdead357-1a1a-4c8b-846f-959c89789d98"
      },
      "execution_count": 25,
      "outputs": [
        {
          "output_type": "execute_result",
          "data": {
            "text/plain": [
              "   age     sex     bmi  children smoker     region age_bin\n",
              "0   19  female  27.900         0    yes  southwest    teen\n",
              "1   18    male  33.770         1     no  southeast    teen\n",
              "2   28    male  33.000         3     no  southeast   adult\n",
              "3   33    male  22.705         0     no  northwest   adult\n",
              "4   32    male  28.880         0     no  northwest   adult"
            ],
            "text/html": [
              "\n",
              "  <div id=\"df-b1cf5bc8-2b69-475f-8699-0c2f2ceeec64\">\n",
              "    <div class=\"colab-df-container\">\n",
              "      <div>\n",
              "<style scoped>\n",
              "    .dataframe tbody tr th:only-of-type {\n",
              "        vertical-align: middle;\n",
              "    }\n",
              "\n",
              "    .dataframe tbody tr th {\n",
              "        vertical-align: top;\n",
              "    }\n",
              "\n",
              "    .dataframe thead th {\n",
              "        text-align: right;\n",
              "    }\n",
              "</style>\n",
              "<table border=\"1\" class=\"dataframe\">\n",
              "  <thead>\n",
              "    <tr style=\"text-align: right;\">\n",
              "      <th></th>\n",
              "      <th>age</th>\n",
              "      <th>sex</th>\n",
              "      <th>bmi</th>\n",
              "      <th>children</th>\n",
              "      <th>smoker</th>\n",
              "      <th>region</th>\n",
              "      <th>age_bin</th>\n",
              "    </tr>\n",
              "  </thead>\n",
              "  <tbody>\n",
              "    <tr>\n",
              "      <th>0</th>\n",
              "      <td>19</td>\n",
              "      <td>female</td>\n",
              "      <td>27.900</td>\n",
              "      <td>0</td>\n",
              "      <td>yes</td>\n",
              "      <td>southwest</td>\n",
              "      <td>teen</td>\n",
              "    </tr>\n",
              "    <tr>\n",
              "      <th>1</th>\n",
              "      <td>18</td>\n",
              "      <td>male</td>\n",
              "      <td>33.770</td>\n",
              "      <td>1</td>\n",
              "      <td>no</td>\n",
              "      <td>southeast</td>\n",
              "      <td>teen</td>\n",
              "    </tr>\n",
              "    <tr>\n",
              "      <th>2</th>\n",
              "      <td>28</td>\n",
              "      <td>male</td>\n",
              "      <td>33.000</td>\n",
              "      <td>3</td>\n",
              "      <td>no</td>\n",
              "      <td>southeast</td>\n",
              "      <td>adult</td>\n",
              "    </tr>\n",
              "    <tr>\n",
              "      <th>3</th>\n",
              "      <td>33</td>\n",
              "      <td>male</td>\n",
              "      <td>22.705</td>\n",
              "      <td>0</td>\n",
              "      <td>no</td>\n",
              "      <td>northwest</td>\n",
              "      <td>adult</td>\n",
              "    </tr>\n",
              "    <tr>\n",
              "      <th>4</th>\n",
              "      <td>32</td>\n",
              "      <td>male</td>\n",
              "      <td>28.880</td>\n",
              "      <td>0</td>\n",
              "      <td>no</td>\n",
              "      <td>northwest</td>\n",
              "      <td>adult</td>\n",
              "    </tr>\n",
              "  </tbody>\n",
              "</table>\n",
              "</div>\n",
              "      <button class=\"colab-df-convert\" onclick=\"convertToInteractive('df-b1cf5bc8-2b69-475f-8699-0c2f2ceeec64')\"\n",
              "              title=\"Convert this dataframe to an interactive table.\"\n",
              "              style=\"display:none;\">\n",
              "        \n",
              "  <svg xmlns=\"http://www.w3.org/2000/svg\" height=\"24px\"viewBox=\"0 0 24 24\"\n",
              "       width=\"24px\">\n",
              "    <path d=\"M0 0h24v24H0V0z\" fill=\"none\"/>\n",
              "    <path d=\"M18.56 5.44l.94 2.06.94-2.06 2.06-.94-2.06-.94-.94-2.06-.94 2.06-2.06.94zm-11 1L8.5 8.5l.94-2.06 2.06-.94-2.06-.94L8.5 2.5l-.94 2.06-2.06.94zm10 10l.94 2.06.94-2.06 2.06-.94-2.06-.94-.94-2.06-.94 2.06-2.06.94z\"/><path d=\"M17.41 7.96l-1.37-1.37c-.4-.4-.92-.59-1.43-.59-.52 0-1.04.2-1.43.59L10.3 9.45l-7.72 7.72c-.78.78-.78 2.05 0 2.83L4 21.41c.39.39.9.59 1.41.59.51 0 1.02-.2 1.41-.59l7.78-7.78 2.81-2.81c.8-.78.8-2.07 0-2.86zM5.41 20L4 18.59l7.72-7.72 1.47 1.35L5.41 20z\"/>\n",
              "  </svg>\n",
              "      </button>\n",
              "      \n",
              "  <style>\n",
              "    .colab-df-container {\n",
              "      display:flex;\n",
              "      flex-wrap:wrap;\n",
              "      gap: 12px;\n",
              "    }\n",
              "\n",
              "    .colab-df-convert {\n",
              "      background-color: #E8F0FE;\n",
              "      border: none;\n",
              "      border-radius: 50%;\n",
              "      cursor: pointer;\n",
              "      display: none;\n",
              "      fill: #1967D2;\n",
              "      height: 32px;\n",
              "      padding: 0 0 0 0;\n",
              "      width: 32px;\n",
              "    }\n",
              "\n",
              "    .colab-df-convert:hover {\n",
              "      background-color: #E2EBFA;\n",
              "      box-shadow: 0px 1px 2px rgba(60, 64, 67, 0.3), 0px 1px 3px 1px rgba(60, 64, 67, 0.15);\n",
              "      fill: #174EA6;\n",
              "    }\n",
              "\n",
              "    [theme=dark] .colab-df-convert {\n",
              "      background-color: #3B4455;\n",
              "      fill: #D2E3FC;\n",
              "    }\n",
              "\n",
              "    [theme=dark] .colab-df-convert:hover {\n",
              "      background-color: #434B5C;\n",
              "      box-shadow: 0px 1px 3px 1px rgba(0, 0, 0, 0.15);\n",
              "      filter: drop-shadow(0px 1px 2px rgba(0, 0, 0, 0.3));\n",
              "      fill: #FFFFFF;\n",
              "    }\n",
              "  </style>\n",
              "\n",
              "      <script>\n",
              "        const buttonEl =\n",
              "          document.querySelector('#df-b1cf5bc8-2b69-475f-8699-0c2f2ceeec64 button.colab-df-convert');\n",
              "        buttonEl.style.display =\n",
              "          google.colab.kernel.accessAllowed ? 'block' : 'none';\n",
              "\n",
              "        async function convertToInteractive(key) {\n",
              "          const element = document.querySelector('#df-b1cf5bc8-2b69-475f-8699-0c2f2ceeec64');\n",
              "          const dataTable =\n",
              "            await google.colab.kernel.invokeFunction('convertToInteractive',\n",
              "                                                     [key], {});\n",
              "          if (!dataTable) return;\n",
              "\n",
              "          const docLinkHtml = 'Like what you see? Visit the ' +\n",
              "            '<a target=\"_blank\" href=https://colab.research.google.com/notebooks/data_table.ipynb>data table notebook</a>'\n",
              "            + ' to learn more about interactive tables.';\n",
              "          element.innerHTML = '';\n",
              "          dataTable['output_type'] = 'display_data';\n",
              "          await google.colab.output.renderOutput(dataTable, element);\n",
              "          const docLink = document.createElement('div');\n",
              "          docLink.innerHTML = docLinkHtml;\n",
              "          element.appendChild(docLink);\n",
              "        }\n",
              "      </script>\n",
              "    </div>\n",
              "  </div>\n",
              "  "
            ]
          },
          "metadata": {},
          "execution_count": 25
        }
      ]
    },
    {
      "cell_type": "markdown",
      "source": [
        "## 6.3 Split between Train and Test"
      ],
      "metadata": {
        "id": "SFSYy1vQs7wJ"
      }
    },
    {
      "cell_type": "code",
      "source": [
        "# Split to train-set and test-set\n",
        "X_train, X_test, y_train, y_test = train_test_split(X, y, test_size = 0.2, random_state = 19)\n",
        "\n",
        "# Cek shape data\n",
        "print('Shape of X_train : ', X_train.shape)\n",
        "print('Shape of X_train : ', X_test.shape)"
      ],
      "metadata": {
        "colab": {
          "base_uri": "https://localhost:8080/"
        },
        "id": "J6ypzz32tczH",
        "outputId": "9991db20-b2ac-4ba4-a5ed-9453e83c507c"
      },
      "execution_count": 26,
      "outputs": [
        {
          "output_type": "stream",
          "name": "stdout",
          "text": [
            "Shape of X_train :  (1069, 7)\n",
            "Shape of X_train :  (268, 7)\n"
          ]
        }
      ]
    },
    {
      "cell_type": "markdown",
      "source": [
        "Data untuk Train sebesar 80% berjumlah **1.069** data dan untuk test sejumlah **268** data"
      ],
      "metadata": {
        "id": "u9s8bVkTt3M6"
      }
    },
    {
      "cell_type": "markdown",
      "source": [
        "## 6.4 Missing Value"
      ],
      "metadata": {
        "id": "EAhj8wvStGLl"
      }
    },
    {
      "cell_type": "code",
      "source": [
        "# Check missing value\n",
        "print('Missing value di X_train : ')\n",
        "print(X_train.isnull().sum())\n",
        "print('')\n",
        "print('Missing value di X_test  : ')\n",
        "print(X_test.isnull().sum())\n",
        "print('')\n",
        "print('Missing value di y_train : ')\n",
        "print(y_train.isnull().sum())\n",
        "print('')\n",
        "print('Missing value di y_test  : ')\n",
        "print(y_test.isnull().sum())"
      ],
      "metadata": {
        "colab": {
          "base_uri": "https://localhost:8080/"
        },
        "id": "O_lzXzXct96-",
        "outputId": "0a875a57-256a-417e-aaab-125a87c2a6b9"
      },
      "execution_count": 27,
      "outputs": [
        {
          "output_type": "stream",
          "name": "stdout",
          "text": [
            "Missing value di X_train : \n",
            "age         0\n",
            "sex         0\n",
            "bmi         0\n",
            "children    0\n",
            "smoker      0\n",
            "region      0\n",
            "age_bin     0\n",
            "dtype: int64\n",
            "\n",
            "Missing value di X_test  : \n",
            "age         0\n",
            "sex         0\n",
            "bmi         0\n",
            "children    0\n",
            "smoker      0\n",
            "region      0\n",
            "age_bin     0\n",
            "dtype: int64\n",
            "\n",
            "Missing value di y_train : \n",
            "0\n",
            "\n",
            "Missing value di y_test  : \n",
            "0\n"
          ]
        }
      ]
    },
    {
      "cell_type": "markdown",
      "source": [
        "Tidak ada missing value dalam data"
      ],
      "metadata": {
        "id": "8UirgMjZuemB"
      }
    },
    {
      "cell_type": "markdown",
      "source": [
        "## 6.5 Outlier Handling"
      ],
      "metadata": {
        "id": "3wHtZll2tInX"
      }
    },
    {
      "cell_type": "markdown",
      "source": [
        "Pada bagan ini, saya akan menghandle outlier jika :\n",
        "1. Data outlier < 5%  akan didrop\n",
        "2. Data outlier > 5% -  <= 30% akan dihandle\n",
        "3. Data ouliier > 30% akan dibiarkan"
      ],
      "metadata": {
        "id": "v3CXaAQCur-M"
      }
    },
    {
      "cell_type": "code",
      "source": [
        "# Outlier function recognition\n",
        "def upper_lower(df, col):\n",
        "    IQR = df[col].quantile(0.75) - df[col].quantile(0.25)\n",
        "    upper_bound = df[col].quantile(0.75) + 1.5 * IQR\n",
        "    lower_bound = df[col].quantile(0.25) - 1.5 * IQR\n",
        "    return df[(df[col] > lower_bound) & (df[col] < upper_bound)]"
      ],
      "metadata": {
        "id": "qsdTOs07uhJ2"
      },
      "execution_count": 28,
      "outputs": []
    },
    {
      "cell_type": "code",
      "source": [
        "# Find Outlier\n",
        "cols = ['age', 'bmi']\n",
        "outlier_percentage = pd.DataFrame(columns = ['Column', 'Outlier Percentage'])\n",
        "for i in range(len(cols)):\n",
        "      outlier_percentage.loc[i] = [cols[i], round(upper_lower(X_train, cols[i]).shape[0] / X_train.shape[0] * 100, 2)]\n",
        "\n",
        "outlier_percentage"
      ],
      "metadata": {
        "colab": {
          "base_uri": "https://localhost:8080/",
          "height": 112
        },
        "id": "o6NS0VIDut26",
        "outputId": "de4a9c25-5ead-41a4-b111-6414dba92d90"
      },
      "execution_count": 29,
      "outputs": [
        {
          "output_type": "execute_result",
          "data": {
            "text/plain": [
              "  Column  Outlier Percentage\n",
              "0    age              100.00\n",
              "1    bmi               99.25"
            ],
            "text/html": [
              "\n",
              "  <div id=\"df-640a0cee-594b-4fac-8767-3658f4f49e8d\">\n",
              "    <div class=\"colab-df-container\">\n",
              "      <div>\n",
              "<style scoped>\n",
              "    .dataframe tbody tr th:only-of-type {\n",
              "        vertical-align: middle;\n",
              "    }\n",
              "\n",
              "    .dataframe tbody tr th {\n",
              "        vertical-align: top;\n",
              "    }\n",
              "\n",
              "    .dataframe thead th {\n",
              "        text-align: right;\n",
              "    }\n",
              "</style>\n",
              "<table border=\"1\" class=\"dataframe\">\n",
              "  <thead>\n",
              "    <tr style=\"text-align: right;\">\n",
              "      <th></th>\n",
              "      <th>Column</th>\n",
              "      <th>Outlier Percentage</th>\n",
              "    </tr>\n",
              "  </thead>\n",
              "  <tbody>\n",
              "    <tr>\n",
              "      <th>0</th>\n",
              "      <td>age</td>\n",
              "      <td>100.00</td>\n",
              "    </tr>\n",
              "    <tr>\n",
              "      <th>1</th>\n",
              "      <td>bmi</td>\n",
              "      <td>99.25</td>\n",
              "    </tr>\n",
              "  </tbody>\n",
              "</table>\n",
              "</div>\n",
              "      <button class=\"colab-df-convert\" onclick=\"convertToInteractive('df-640a0cee-594b-4fac-8767-3658f4f49e8d')\"\n",
              "              title=\"Convert this dataframe to an interactive table.\"\n",
              "              style=\"display:none;\">\n",
              "        \n",
              "  <svg xmlns=\"http://www.w3.org/2000/svg\" height=\"24px\"viewBox=\"0 0 24 24\"\n",
              "       width=\"24px\">\n",
              "    <path d=\"M0 0h24v24H0V0z\" fill=\"none\"/>\n",
              "    <path d=\"M18.56 5.44l.94 2.06.94-2.06 2.06-.94-2.06-.94-.94-2.06-.94 2.06-2.06.94zm-11 1L8.5 8.5l.94-2.06 2.06-.94-2.06-.94L8.5 2.5l-.94 2.06-2.06.94zm10 10l.94 2.06.94-2.06 2.06-.94-2.06-.94-.94-2.06-.94 2.06-2.06.94z\"/><path d=\"M17.41 7.96l-1.37-1.37c-.4-.4-.92-.59-1.43-.59-.52 0-1.04.2-1.43.59L10.3 9.45l-7.72 7.72c-.78.78-.78 2.05 0 2.83L4 21.41c.39.39.9.59 1.41.59.51 0 1.02-.2 1.41-.59l7.78-7.78 2.81-2.81c.8-.78.8-2.07 0-2.86zM5.41 20L4 18.59l7.72-7.72 1.47 1.35L5.41 20z\"/>\n",
              "  </svg>\n",
              "      </button>\n",
              "      \n",
              "  <style>\n",
              "    .colab-df-container {\n",
              "      display:flex;\n",
              "      flex-wrap:wrap;\n",
              "      gap: 12px;\n",
              "    }\n",
              "\n",
              "    .colab-df-convert {\n",
              "      background-color: #E8F0FE;\n",
              "      border: none;\n",
              "      border-radius: 50%;\n",
              "      cursor: pointer;\n",
              "      display: none;\n",
              "      fill: #1967D2;\n",
              "      height: 32px;\n",
              "      padding: 0 0 0 0;\n",
              "      width: 32px;\n",
              "    }\n",
              "\n",
              "    .colab-df-convert:hover {\n",
              "      background-color: #E2EBFA;\n",
              "      box-shadow: 0px 1px 2px rgba(60, 64, 67, 0.3), 0px 1px 3px 1px rgba(60, 64, 67, 0.15);\n",
              "      fill: #174EA6;\n",
              "    }\n",
              "\n",
              "    [theme=dark] .colab-df-convert {\n",
              "      background-color: #3B4455;\n",
              "      fill: #D2E3FC;\n",
              "    }\n",
              "\n",
              "    [theme=dark] .colab-df-convert:hover {\n",
              "      background-color: #434B5C;\n",
              "      box-shadow: 0px 1px 3px 1px rgba(0, 0, 0, 0.15);\n",
              "      filter: drop-shadow(0px 1px 2px rgba(0, 0, 0, 0.3));\n",
              "      fill: #FFFFFF;\n",
              "    }\n",
              "  </style>\n",
              "\n",
              "      <script>\n",
              "        const buttonEl =\n",
              "          document.querySelector('#df-640a0cee-594b-4fac-8767-3658f4f49e8d button.colab-df-convert');\n",
              "        buttonEl.style.display =\n",
              "          google.colab.kernel.accessAllowed ? 'block' : 'none';\n",
              "\n",
              "        async function convertToInteractive(key) {\n",
              "          const element = document.querySelector('#df-640a0cee-594b-4fac-8767-3658f4f49e8d');\n",
              "          const dataTable =\n",
              "            await google.colab.kernel.invokeFunction('convertToInteractive',\n",
              "                                                     [key], {});\n",
              "          if (!dataTable) return;\n",
              "\n",
              "          const docLinkHtml = 'Like what you see? Visit the ' +\n",
              "            '<a target=\"_blank\" href=https://colab.research.google.com/notebooks/data_table.ipynb>data table notebook</a>'\n",
              "            + ' to learn more about interactive tables.';\n",
              "          element.innerHTML = '';\n",
              "          dataTable['output_type'] = 'display_data';\n",
              "          await google.colab.output.renderOutput(dataTable, element);\n",
              "          const docLink = document.createElement('div');\n",
              "          docLink.innerHTML = docLinkHtml;\n",
              "          element.appendChild(docLink);\n",
              "        }\n",
              "      </script>\n",
              "    </div>\n",
              "  </div>\n",
              "  "
            ]
          },
          "metadata": {},
          "execution_count": 29
        }
      ]
    },
    {
      "cell_type": "markdown",
      "source": [
        "Sesuai statement diatas maka outlier akan saya biarkan, atau ini memang adalah outlier normal"
      ],
      "metadata": {
        "id": "1opFokOfu3oA"
      }
    },
    {
      "cell_type": "markdown",
      "source": [
        "## 6.6 Feature Selection"
      ],
      "metadata": {
        "id": "F510ln4-u92h"
      }
    },
    {
      "cell_type": "code",
      "source": [
        "# Feature selection\n",
        "X_train.drop(columns=['age', 'region'], axis=1, inplace=True)\n",
        "X_test.drop(columns=['age', 'region'], axis=1, inplace=True)\n",
        "\n",
        "# Display\n",
        "X_train"
      ],
      "metadata": {
        "colab": {
          "base_uri": "https://localhost:8080/",
          "height": 423
        },
        "id": "LNcihG7LvAuM",
        "outputId": "aba1945b-5492-4051-ffdb-0745b74abf8d"
      },
      "execution_count": 30,
      "outputs": [
        {
          "output_type": "execute_result",
          "data": {
            "text/plain": [
              "         sex     bmi  children smoker age_bin\n",
              "1020    male  37.000         0     no   adult\n",
              "1040  female  28.025         0    yes   adult\n",
              "1321    male  26.695         0    yes     old\n",
              "897     male  25.555         1     no    teen\n",
              "1063    male  28.595         3     no   adult\n",
              "...      ...     ...       ...    ...     ...\n",
              "308     male  34.865         0     no     old\n",
              "1044    male  35.245         1     no   adult\n",
              "937   female  24.225         5     no   adult\n",
              "758     male  37.430         3     no   adult\n",
              "623     male  33.535         0    yes    teen\n",
              "\n",
              "[1069 rows x 5 columns]"
            ],
            "text/html": [
              "\n",
              "  <div id=\"df-f1cc8573-49e4-40ac-b937-ead15f757374\">\n",
              "    <div class=\"colab-df-container\">\n",
              "      <div>\n",
              "<style scoped>\n",
              "    .dataframe tbody tr th:only-of-type {\n",
              "        vertical-align: middle;\n",
              "    }\n",
              "\n",
              "    .dataframe tbody tr th {\n",
              "        vertical-align: top;\n",
              "    }\n",
              "\n",
              "    .dataframe thead th {\n",
              "        text-align: right;\n",
              "    }\n",
              "</style>\n",
              "<table border=\"1\" class=\"dataframe\">\n",
              "  <thead>\n",
              "    <tr style=\"text-align: right;\">\n",
              "      <th></th>\n",
              "      <th>sex</th>\n",
              "      <th>bmi</th>\n",
              "      <th>children</th>\n",
              "      <th>smoker</th>\n",
              "      <th>age_bin</th>\n",
              "    </tr>\n",
              "  </thead>\n",
              "  <tbody>\n",
              "    <tr>\n",
              "      <th>1020</th>\n",
              "      <td>male</td>\n",
              "      <td>37.000</td>\n",
              "      <td>0</td>\n",
              "      <td>no</td>\n",
              "      <td>adult</td>\n",
              "    </tr>\n",
              "    <tr>\n",
              "      <th>1040</th>\n",
              "      <td>female</td>\n",
              "      <td>28.025</td>\n",
              "      <td>0</td>\n",
              "      <td>yes</td>\n",
              "      <td>adult</td>\n",
              "    </tr>\n",
              "    <tr>\n",
              "      <th>1321</th>\n",
              "      <td>male</td>\n",
              "      <td>26.695</td>\n",
              "      <td>0</td>\n",
              "      <td>yes</td>\n",
              "      <td>old</td>\n",
              "    </tr>\n",
              "    <tr>\n",
              "      <th>897</th>\n",
              "      <td>male</td>\n",
              "      <td>25.555</td>\n",
              "      <td>1</td>\n",
              "      <td>no</td>\n",
              "      <td>teen</td>\n",
              "    </tr>\n",
              "    <tr>\n",
              "      <th>1063</th>\n",
              "      <td>male</td>\n",
              "      <td>28.595</td>\n",
              "      <td>3</td>\n",
              "      <td>no</td>\n",
              "      <td>adult</td>\n",
              "    </tr>\n",
              "    <tr>\n",
              "      <th>...</th>\n",
              "      <td>...</td>\n",
              "      <td>...</td>\n",
              "      <td>...</td>\n",
              "      <td>...</td>\n",
              "      <td>...</td>\n",
              "    </tr>\n",
              "    <tr>\n",
              "      <th>308</th>\n",
              "      <td>male</td>\n",
              "      <td>34.865</td>\n",
              "      <td>0</td>\n",
              "      <td>no</td>\n",
              "      <td>old</td>\n",
              "    </tr>\n",
              "    <tr>\n",
              "      <th>1044</th>\n",
              "      <td>male</td>\n",
              "      <td>35.245</td>\n",
              "      <td>1</td>\n",
              "      <td>no</td>\n",
              "      <td>adult</td>\n",
              "    </tr>\n",
              "    <tr>\n",
              "      <th>937</th>\n",
              "      <td>female</td>\n",
              "      <td>24.225</td>\n",
              "      <td>5</td>\n",
              "      <td>no</td>\n",
              "      <td>adult</td>\n",
              "    </tr>\n",
              "    <tr>\n",
              "      <th>758</th>\n",
              "      <td>male</td>\n",
              "      <td>37.430</td>\n",
              "      <td>3</td>\n",
              "      <td>no</td>\n",
              "      <td>adult</td>\n",
              "    </tr>\n",
              "    <tr>\n",
              "      <th>623</th>\n",
              "      <td>male</td>\n",
              "      <td>33.535</td>\n",
              "      <td>0</td>\n",
              "      <td>yes</td>\n",
              "      <td>teen</td>\n",
              "    </tr>\n",
              "  </tbody>\n",
              "</table>\n",
              "<p>1069 rows × 5 columns</p>\n",
              "</div>\n",
              "      <button class=\"colab-df-convert\" onclick=\"convertToInteractive('df-f1cc8573-49e4-40ac-b937-ead15f757374')\"\n",
              "              title=\"Convert this dataframe to an interactive table.\"\n",
              "              style=\"display:none;\">\n",
              "        \n",
              "  <svg xmlns=\"http://www.w3.org/2000/svg\" height=\"24px\"viewBox=\"0 0 24 24\"\n",
              "       width=\"24px\">\n",
              "    <path d=\"M0 0h24v24H0V0z\" fill=\"none\"/>\n",
              "    <path d=\"M18.56 5.44l.94 2.06.94-2.06 2.06-.94-2.06-.94-.94-2.06-.94 2.06-2.06.94zm-11 1L8.5 8.5l.94-2.06 2.06-.94-2.06-.94L8.5 2.5l-.94 2.06-2.06.94zm10 10l.94 2.06.94-2.06 2.06-.94-2.06-.94-.94-2.06-.94 2.06-2.06.94z\"/><path d=\"M17.41 7.96l-1.37-1.37c-.4-.4-.92-.59-1.43-.59-.52 0-1.04.2-1.43.59L10.3 9.45l-7.72 7.72c-.78.78-.78 2.05 0 2.83L4 21.41c.39.39.9.59 1.41.59.51 0 1.02-.2 1.41-.59l7.78-7.78 2.81-2.81c.8-.78.8-2.07 0-2.86zM5.41 20L4 18.59l7.72-7.72 1.47 1.35L5.41 20z\"/>\n",
              "  </svg>\n",
              "      </button>\n",
              "      \n",
              "  <style>\n",
              "    .colab-df-container {\n",
              "      display:flex;\n",
              "      flex-wrap:wrap;\n",
              "      gap: 12px;\n",
              "    }\n",
              "\n",
              "    .colab-df-convert {\n",
              "      background-color: #E8F0FE;\n",
              "      border: none;\n",
              "      border-radius: 50%;\n",
              "      cursor: pointer;\n",
              "      display: none;\n",
              "      fill: #1967D2;\n",
              "      height: 32px;\n",
              "      padding: 0 0 0 0;\n",
              "      width: 32px;\n",
              "    }\n",
              "\n",
              "    .colab-df-convert:hover {\n",
              "      background-color: #E2EBFA;\n",
              "      box-shadow: 0px 1px 2px rgba(60, 64, 67, 0.3), 0px 1px 3px 1px rgba(60, 64, 67, 0.15);\n",
              "      fill: #174EA6;\n",
              "    }\n",
              "\n",
              "    [theme=dark] .colab-df-convert {\n",
              "      background-color: #3B4455;\n",
              "      fill: #D2E3FC;\n",
              "    }\n",
              "\n",
              "    [theme=dark] .colab-df-convert:hover {\n",
              "      background-color: #434B5C;\n",
              "      box-shadow: 0px 1px 3px 1px rgba(0, 0, 0, 0.15);\n",
              "      filter: drop-shadow(0px 1px 2px rgba(0, 0, 0, 0.3));\n",
              "      fill: #FFFFFF;\n",
              "    }\n",
              "  </style>\n",
              "\n",
              "      <script>\n",
              "        const buttonEl =\n",
              "          document.querySelector('#df-f1cc8573-49e4-40ac-b937-ead15f757374 button.colab-df-convert');\n",
              "        buttonEl.style.display =\n",
              "          google.colab.kernel.accessAllowed ? 'block' : 'none';\n",
              "\n",
              "        async function convertToInteractive(key) {\n",
              "          const element = document.querySelector('#df-f1cc8573-49e4-40ac-b937-ead15f757374');\n",
              "          const dataTable =\n",
              "            await google.colab.kernel.invokeFunction('convertToInteractive',\n",
              "                                                     [key], {});\n",
              "          if (!dataTable) return;\n",
              "\n",
              "          const docLinkHtml = 'Like what you see? Visit the ' +\n",
              "            '<a target=\"_blank\" href=https://colab.research.google.com/notebooks/data_table.ipynb>data table notebook</a>'\n",
              "            + ' to learn more about interactive tables.';\n",
              "          element.innerHTML = '';\n",
              "          dataTable['output_type'] = 'display_data';\n",
              "          await google.colab.output.renderOutput(dataTable, element);\n",
              "          const docLink = document.createElement('div');\n",
              "          docLink.innerHTML = docLinkHtml;\n",
              "          element.appendChild(docLink);\n",
              "        }\n",
              "      </script>\n",
              "    </div>\n",
              "  </div>\n",
              "  "
            ]
          },
          "metadata": {},
          "execution_count": 30
        }
      ]
    },
    {
      "cell_type": "markdown",
      "source": [
        "Saya menghapus data di kolom age karena sudah memiliki criteria age di kolom `age_bin`, untuk kolom `region` saya berasumsi tidak ada kaitannya dengan penentuan `charges` yang akan dibuat model prediksinya."
      ],
      "metadata": {
        "id": "PTilRWRVwsEt"
      }
    },
    {
      "cell_type": "markdown",
      "source": [
        "## 6.7 Split between Numerical and Categorical"
      ],
      "metadata": {
        "id": "BdjIz8ZGw1TA"
      }
    },
    {
      "cell_type": "code",
      "source": [
        "# Split data numeric and categorical\n",
        "numCol = X_train.select_dtypes(include = np.number).columns.tolist()\n",
        "catCol = X_train.select_dtypes(include = ['object', 'category']).columns.tolist()\n",
        "\n",
        "# Display\n",
        "print('Numerical Data   : ', numCol)\n",
        "print('Categorical Data : ', catCol)\n",
        "\n",
        "groupFeatures = numCol + catCol\n",
        "\n",
        "# Apply to data\n",
        "X_train = X_train[groupFeatures]\n",
        "X_test = X_test[groupFeatures]"
      ],
      "metadata": {
        "colab": {
          "base_uri": "https://localhost:8080/"
        },
        "id": "p2LebJ-7w4y7",
        "outputId": "56990b94-3831-498f-fdfa-2eb952144b45"
      },
      "execution_count": 31,
      "outputs": [
        {
          "output_type": "stream",
          "name": "stdout",
          "text": [
            "Numerical Data   :  ['bmi', 'children']\n",
            "Categorical Data :  ['sex', 'smoker', 'age_bin']\n"
          ]
        }
      ]
    },
    {
      "cell_type": "markdown",
      "source": [
        "Data sudah dibagi sesuai dengan numeric dan categorical"
      ],
      "metadata": {
        "id": "MK_1eazOxhmf"
      }
    },
    {
      "cell_type": "markdown",
      "source": [
        "## 6.8 Pipeline"
      ],
      "metadata": {
        "id": "Yy5CLQKCPyrx"
      }
    },
    {
      "cell_type": "code",
      "source": [
        "# Create a pipeline\n",
        "pipeBase = ColumnTransformer([\n",
        "    ('OE', OrdinalEncoder(handle_unknown='use_encoded_value', unknown_value=-1), catCol),\n",
        "    ('MinMaxScaler', MinMaxScaler(), numCol)\n",
        "])"
      ],
      "metadata": {
        "id": "IKFfI4ZbP0Zd"
      },
      "execution_count": 32,
      "outputs": []
    },
    {
      "cell_type": "markdown",
      "source": [
        "Deklarasi pipeline"
      ],
      "metadata": {
        "id": "EUKMtelvyKLV"
      }
    },
    {
      "cell_type": "markdown",
      "source": [
        "# **7 - Model Definition**\n",
        "\n",
        "---"
      ],
      "metadata": {
        "id": "lqDd6-4CpNSa"
      }
    },
    {
      "cell_type": "markdown",
      "source": [
        "Bagian ini berisi cell untuk mendefinisikan model. Jelaskan alasan menggunakan suatu algoritma/model, hyperparameter yang dipakai, jenis penggunaan metrics yang dipakai, dan hal lain yang terkait dengan model."
      ],
      "metadata": {
        "id": "JP68gjB1pRgq"
      }
    },
    {
      "cell_type": "markdown",
      "source": [
        "In this case, I'll try to make these alghoritm :\n",
        "1. Linear Regression\n",
        "2. Linear Regression with Polynomial Features\n",
        "3. Random Forest Regressor\n",
        "4. Support Vector Regression\n",
        "5. Decission Tree Regressor\n",
        "\n",
        "I'll compare it and choose the best one in the future"
      ],
      "metadata": {
        "id": "_WpG5OpRQpf7"
      }
    },
    {
      "cell_type": "markdown",
      "source": [
        "## 7.1 Linear Regression Model"
      ],
      "metadata": {
        "id": "A-4jEAQHptIo"
      }
    },
    {
      "cell_type": "code",
      "source": [
        "# Define model linear \n",
        "%%time\n",
        "linRegBase = LinearRegression(n_jobs=-1)\n",
        "\n",
        "# Liner Regression Pipeline\n",
        "pipeLinReg = Pipeline([\n",
        "    ('preprocessing', pipeBase),\n",
        "    ('linReg', linRegBase)\n",
        "])\n",
        "\n",
        "# Parameter for Linear Regression\n",
        "linRegParam = {\n",
        "    'linReg__fit_intercept' : ['True', 'False']\n",
        "}"
      ],
      "metadata": {
        "colab": {
          "base_uri": "https://localhost:8080/"
        },
        "id": "pZXXGV8X8_Co",
        "outputId": "8f52f05c-43cf-40ba-e4b7-7d45cfa6f595"
      },
      "execution_count": 33,
      "outputs": [
        {
          "output_type": "stream",
          "name": "stdout",
          "text": [
            "CPU times: user 37 µs, sys: 9 µs, total: 46 µs\n",
            "Wall time: 50.1 µs\n"
          ]
        }
      ]
    },
    {
      "cell_type": "markdown",
      "source": [
        "## 7.2 Linear Regression with polynomial"
      ],
      "metadata": {
        "id": "HMbHKIZ1MaK_"
      }
    },
    {
      "cell_type": "code",
      "source": [
        "# Define polynomial\n",
        "%%time\n",
        "polyLinRegPipe = Pipeline([('preprocessing', pipeBase),\n",
        "                         ('poly', PolynomialFeatures()),\n",
        "                         ('model', LinearRegression())])\n",
        "\n",
        "# Parameter for polynomial\n",
        "polyParam = {'poly__degree': [2, 3, 4]}"
      ],
      "metadata": {
        "colab": {
          "base_uri": "https://localhost:8080/"
        },
        "id": "Jk4D0oNRKIwd",
        "outputId": "b0b720fa-7031-48eb-be1b-6e95af53f5a3"
      },
      "execution_count": 34,
      "outputs": [
        {
          "output_type": "stream",
          "name": "stdout",
          "text": [
            "CPU times: user 34 µs, sys: 0 ns, total: 34 µs\n",
            "Wall time: 39.1 µs\n"
          ]
        }
      ]
    },
    {
      "cell_type": "markdown",
      "source": [
        "## 7.3 Random Forest Regressor"
      ],
      "metadata": {
        "id": "Ov7Y4uGOrbVo"
      }
    },
    {
      "cell_type": "code",
      "source": [
        "# Define Random Forest\n",
        "%%time\n",
        "randForBase = RandomForestRegressor(random_state = 19, n_jobs=-1)\n",
        "\n",
        "# Random forest pipeline\n",
        "pipeRandFor = Pipeline([\n",
        "    ('preprocessing', pipeBase),\n",
        "    ('randFor', randForBase)\n",
        "])\n",
        "\n",
        "# Parameter for random forest\n",
        "randFormParam = {\n",
        "    'randFor__criterion' : ['squared_error', 'absolute_error', 'poisson'],\n",
        "    'randFor__max_features' : ['auto', 'sqrt', 'log2'],\n",
        "    'randFor__warm_start' : [True, False]\n",
        "}"
      ],
      "metadata": {
        "colab": {
          "base_uri": "https://localhost:8080/"
        },
        "id": "fD0npsNe9kiR",
        "outputId": "a36a8bde-4785-4b13-9833-99f61707d2f2"
      },
      "execution_count": 35,
      "outputs": [
        {
          "output_type": "stream",
          "name": "stdout",
          "text": [
            "CPU times: user 103 µs, sys: 23 µs, total: 126 µs\n",
            "Wall time: 132 µs\n"
          ]
        }
      ]
    },
    {
      "cell_type": "markdown",
      "source": [
        "## 7.4 Support Vector Machine - Regression"
      ],
      "metadata": {
        "id": "t7gXMFzLSzGZ"
      }
    },
    {
      "cell_type": "code",
      "source": [
        "# Define SVM Regression \n",
        "%%time\n",
        "svrBase = SVR(degree = 3, cache_size = 200, gamma='scale')\n",
        "\n",
        "# SVR pipeline\n",
        "pipeSVR = Pipeline([\n",
        "    ('preprocessing', pipeBase),\n",
        "    ('svr', svrBase)\n",
        "])\n",
        "\n",
        "# Parameter for SVR\n",
        "svrParam = {\n",
        "    'svr__kernel': ['linear', 'poly', 'rbf', 'sigmoid'],\n",
        "    'svr__degree': [2, 3, 4, 5],\n",
        "    'svr__C': [0.1, 0.5, 1.0]\n",
        "}"
      ],
      "metadata": {
        "colab": {
          "base_uri": "https://localhost:8080/"
        },
        "id": "knBcUxRxSyiv",
        "outputId": "1dd1de95-a870-4ab7-c512-bdeb67e7b6e3"
      },
      "execution_count": 36,
      "outputs": [
        {
          "output_type": "stream",
          "name": "stdout",
          "text": [
            "CPU times: user 98 µs, sys: 0 ns, total: 98 µs\n",
            "Wall time: 680 µs\n"
          ]
        }
      ]
    },
    {
      "cell_type": "markdown",
      "source": [
        "## 7.5 Decission Tree Regressor"
      ],
      "metadata": {
        "id": "W2hGWCbOTUwb"
      }
    },
    {
      "cell_type": "code",
      "source": [
        "# Define Decission Tree\n",
        "%%time\n",
        "decTreeBase = DecisionTreeRegressor(random_state = 19)\n",
        "\n",
        "# Decision Tree pipeline\n",
        "pipeDecTree = Pipeline([\n",
        "    ('preprocessing', pipeBase),\n",
        "    ('decTree', decTreeBase)\n",
        "])\n",
        "\n",
        "# Parameter for decission tree\n",
        "decTreeParam = {\n",
        "    'dtr__criterion': ['squared_error', 'friedman_mse', 'absolute_error', 'poisson'],\n",
        "    'dtr__spliter': ['best', 'random'],\n",
        "    'dtr__max_features': ['auto', 'sqrt', 'log2']\n",
        "}"
      ],
      "metadata": {
        "colab": {
          "base_uri": "https://localhost:8080/"
        },
        "id": "qX382eu6TXgL",
        "outputId": "585a33f1-5216-47f5-e9b0-3223bc550f9c"
      },
      "execution_count": 37,
      "outputs": [
        {
          "output_type": "stream",
          "name": "stdout",
          "text": [
            "CPU times: user 31 µs, sys: 0 ns, total: 31 µs\n",
            "Wall time: 35.5 µs\n"
          ]
        }
      ]
    },
    {
      "cell_type": "markdown",
      "source": [
        "# 8 - Model Training\n",
        "\n",
        "---\n",
        "\n"
      ],
      "metadata": {
        "id": "9rD0BYWSpThz"
      }
    },
    {
      "cell_type": "markdown",
      "source": [
        "Cell pada bagian ini hanya berisi code untuk melatih model dan output yang dihasilkan. Lakukan beberapa kali proses training dengan hyperparameter yang berbeda untuk melihat hasil yang didapatkan. Analisis dan narasikan hasil ini pada bagian Model Evaluation."
      ],
      "metadata": {
        "id": "LsQmIpORpXBw"
      }
    },
    {
      "cell_type": "markdown",
      "source": [
        "## 8.1 Cross Validation"
      ],
      "metadata": {
        "id": "cgrF81CwdlLU"
      }
    },
    {
      "cell_type": "code",
      "source": [
        "%%time\n",
        "# Cross validate between model\n",
        "models = []\n",
        "models.append(('Linear Regression', pipeLinReg))\n",
        "models.append(('Polynomial', polyLinRegPipe))\n",
        "models.append(('Random Forest', pipeRandFor))\n",
        "models.append(('SVR', pipeSVR))\n",
        "models.append(('Decission Tree', pipeDecTree))\n",
        "\n",
        "# Create variable to save the score\n",
        "names = []\n",
        "results = []\n",
        "mean_score = []\n",
        "std_score = []\n",
        "\n",
        "# Find cross validation score each model\n",
        "for name, model in models:\n",
        "  model.fit(X_train, y_train)\n",
        "  scores = cross_val_score(model, X_train, y_train, scoring='r2', n_jobs=-1)\n",
        "\n",
        "  names.append(name)\n",
        "  results.append(scores)\n",
        "  mean_score.append(round(np.mean(scores), 3))\n",
        "  std_score.append(round(np.std(scores), 3))\n",
        "\n",
        "crossValResult = pd.DataFrame({'models':names, 'mean_score':mean_score, 'std_score':std_score})"
      ],
      "metadata": {
        "colab": {
          "base_uri": "https://localhost:8080/"
        },
        "id": "Dojmw4LYUwnk",
        "outputId": "e2584e6b-a9a1-476a-c091-a484cf3567dd"
      },
      "execution_count": 38,
      "outputs": [
        {
          "output_type": "stream",
          "name": "stdout",
          "text": [
            "CPU times: user 863 ms, sys: 97.7 ms, total: 961 ms\n",
            "Wall time: 9.42 s\n"
          ]
        }
      ]
    },
    {
      "cell_type": "markdown",
      "source": [
        "# **9 - Model Evaluation**\n",
        "\n",
        "---"
      ],
      "metadata": {
        "id": "jMevhnYSpYz1"
      }
    },
    {
      "cell_type": "markdown",
      "source": [
        "Pada bagian ini, dilakukan evaluasi model yang harus menunjukkan bagaimana performa model berdasarkan metrics yang dipilih. Hal ini harus dibuktikan dengan visualisasi tren performa dan/atau tingkat kesalahan model. Lakukan analisis terkait dengan hasil pada model dan tuliskan hasil analisisnya."
      ],
      "metadata": {
        "id": "xfHN_xj-pdUc"
      }
    },
    {
      "cell_type": "code",
      "source": [
        "# Display score for each model\n",
        "crossValResult.sort_values(by='mean_score', ascending=False)"
      ],
      "metadata": {
        "colab": {
          "base_uri": "https://localhost:8080/",
          "height": 206
        },
        "id": "ycBnhQYSXD6r",
        "outputId": "67f1182b-17d4-4473-a8d5-99be9351735c"
      },
      "execution_count": 39,
      "outputs": [
        {
          "output_type": "execute_result",
          "data": {
            "text/plain": [
              "              models  mean_score  std_score\n",
              "1         Polynomial       0.797      0.028\n",
              "2      Random Forest       0.760      0.027\n",
              "0  Linear Regression       0.663      0.036\n",
              "4     Decission Tree       0.609      0.054\n",
              "3                SVR      -0.103      0.016"
            ],
            "text/html": [
              "\n",
              "  <div id=\"df-7ab4712e-c7b1-4fba-b0cf-53cf4bb56901\">\n",
              "    <div class=\"colab-df-container\">\n",
              "      <div>\n",
              "<style scoped>\n",
              "    .dataframe tbody tr th:only-of-type {\n",
              "        vertical-align: middle;\n",
              "    }\n",
              "\n",
              "    .dataframe tbody tr th {\n",
              "        vertical-align: top;\n",
              "    }\n",
              "\n",
              "    .dataframe thead th {\n",
              "        text-align: right;\n",
              "    }\n",
              "</style>\n",
              "<table border=\"1\" class=\"dataframe\">\n",
              "  <thead>\n",
              "    <tr style=\"text-align: right;\">\n",
              "      <th></th>\n",
              "      <th>models</th>\n",
              "      <th>mean_score</th>\n",
              "      <th>std_score</th>\n",
              "    </tr>\n",
              "  </thead>\n",
              "  <tbody>\n",
              "    <tr>\n",
              "      <th>1</th>\n",
              "      <td>Polynomial</td>\n",
              "      <td>0.797</td>\n",
              "      <td>0.028</td>\n",
              "    </tr>\n",
              "    <tr>\n",
              "      <th>2</th>\n",
              "      <td>Random Forest</td>\n",
              "      <td>0.760</td>\n",
              "      <td>0.027</td>\n",
              "    </tr>\n",
              "    <tr>\n",
              "      <th>0</th>\n",
              "      <td>Linear Regression</td>\n",
              "      <td>0.663</td>\n",
              "      <td>0.036</td>\n",
              "    </tr>\n",
              "    <tr>\n",
              "      <th>4</th>\n",
              "      <td>Decission Tree</td>\n",
              "      <td>0.609</td>\n",
              "      <td>0.054</td>\n",
              "    </tr>\n",
              "    <tr>\n",
              "      <th>3</th>\n",
              "      <td>SVR</td>\n",
              "      <td>-0.103</td>\n",
              "      <td>0.016</td>\n",
              "    </tr>\n",
              "  </tbody>\n",
              "</table>\n",
              "</div>\n",
              "      <button class=\"colab-df-convert\" onclick=\"convertToInteractive('df-7ab4712e-c7b1-4fba-b0cf-53cf4bb56901')\"\n",
              "              title=\"Convert this dataframe to an interactive table.\"\n",
              "              style=\"display:none;\">\n",
              "        \n",
              "  <svg xmlns=\"http://www.w3.org/2000/svg\" height=\"24px\"viewBox=\"0 0 24 24\"\n",
              "       width=\"24px\">\n",
              "    <path d=\"M0 0h24v24H0V0z\" fill=\"none\"/>\n",
              "    <path d=\"M18.56 5.44l.94 2.06.94-2.06 2.06-.94-2.06-.94-.94-2.06-.94 2.06-2.06.94zm-11 1L8.5 8.5l.94-2.06 2.06-.94-2.06-.94L8.5 2.5l-.94 2.06-2.06.94zm10 10l.94 2.06.94-2.06 2.06-.94-2.06-.94-.94-2.06-.94 2.06-2.06.94z\"/><path d=\"M17.41 7.96l-1.37-1.37c-.4-.4-.92-.59-1.43-.59-.52 0-1.04.2-1.43.59L10.3 9.45l-7.72 7.72c-.78.78-.78 2.05 0 2.83L4 21.41c.39.39.9.59 1.41.59.51 0 1.02-.2 1.41-.59l7.78-7.78 2.81-2.81c.8-.78.8-2.07 0-2.86zM5.41 20L4 18.59l7.72-7.72 1.47 1.35L5.41 20z\"/>\n",
              "  </svg>\n",
              "      </button>\n",
              "      \n",
              "  <style>\n",
              "    .colab-df-container {\n",
              "      display:flex;\n",
              "      flex-wrap:wrap;\n",
              "      gap: 12px;\n",
              "    }\n",
              "\n",
              "    .colab-df-convert {\n",
              "      background-color: #E8F0FE;\n",
              "      border: none;\n",
              "      border-radius: 50%;\n",
              "      cursor: pointer;\n",
              "      display: none;\n",
              "      fill: #1967D2;\n",
              "      height: 32px;\n",
              "      padding: 0 0 0 0;\n",
              "      width: 32px;\n",
              "    }\n",
              "\n",
              "    .colab-df-convert:hover {\n",
              "      background-color: #E2EBFA;\n",
              "      box-shadow: 0px 1px 2px rgba(60, 64, 67, 0.3), 0px 1px 3px 1px rgba(60, 64, 67, 0.15);\n",
              "      fill: #174EA6;\n",
              "    }\n",
              "\n",
              "    [theme=dark] .colab-df-convert {\n",
              "      background-color: #3B4455;\n",
              "      fill: #D2E3FC;\n",
              "    }\n",
              "\n",
              "    [theme=dark] .colab-df-convert:hover {\n",
              "      background-color: #434B5C;\n",
              "      box-shadow: 0px 1px 3px 1px rgba(0, 0, 0, 0.15);\n",
              "      filter: drop-shadow(0px 1px 2px rgba(0, 0, 0, 0.3));\n",
              "      fill: #FFFFFF;\n",
              "    }\n",
              "  </style>\n",
              "\n",
              "      <script>\n",
              "        const buttonEl =\n",
              "          document.querySelector('#df-7ab4712e-c7b1-4fba-b0cf-53cf4bb56901 button.colab-df-convert');\n",
              "        buttonEl.style.display =\n",
              "          google.colab.kernel.accessAllowed ? 'block' : 'none';\n",
              "\n",
              "        async function convertToInteractive(key) {\n",
              "          const element = document.querySelector('#df-7ab4712e-c7b1-4fba-b0cf-53cf4bb56901');\n",
              "          const dataTable =\n",
              "            await google.colab.kernel.invokeFunction('convertToInteractive',\n",
              "                                                     [key], {});\n",
              "          if (!dataTable) return;\n",
              "\n",
              "          const docLinkHtml = 'Like what you see? Visit the ' +\n",
              "            '<a target=\"_blank\" href=https://colab.research.google.com/notebooks/data_table.ipynb>data table notebook</a>'\n",
              "            + ' to learn more about interactive tables.';\n",
              "          element.innerHTML = '';\n",
              "          dataTable['output_type'] = 'display_data';\n",
              "          await google.colab.output.renderOutput(dataTable, element);\n",
              "          const docLink = document.createElement('div');\n",
              "          docLink.innerHTML = docLinkHtml;\n",
              "          element.appendChild(docLink);\n",
              "        }\n",
              "      </script>\n",
              "    </div>\n",
              "  </div>\n",
              "  "
            ]
          },
          "metadata": {},
          "execution_count": 39
        }
      ]
    },
    {
      "cell_type": "markdown",
      "source": [
        "Berdasarkan hasil scoring dengan menggunakan cross validation, **Polynomial Features** memiliki mean score tertinggi dan standard deviasi yang terendah ketiga. dan untuk **Random Forest Regressor** mendapati peringkat kedua. maka untuk **Random Forest Regressor** dan **Polynomial Features** akan saya gunakan lagi untuk perbandingan dan  diimprove modelnya dengan menggunakan **Grid Search**"
      ],
      "metadata": {
        "id": "jOfSkYB9Xaoq"
      }
    },
    {
      "cell_type": "markdown",
      "source": [
        "## 9.1 Model Tuning - Random Forest Regressor"
      ],
      "metadata": {
        "id": "aUMk1UYkYU1D"
      }
    },
    {
      "cell_type": "code",
      "source": [
        "# Grid Search Tuning\n",
        "%%time\n",
        "randForGS = GridSearchCV(\n",
        "    pipeRandFor, randFormParam, cv = 7, scoring = 'r2', n_jobs = -1, verbose = 1 \n",
        ").fit(X_train, y_train)\n",
        "\n",
        "# find best parameter\n",
        "randForBestParamGS = randForGS.best_params_\n",
        "\n",
        "# Find best etimator\n",
        "randForBestEstGS = randForGS.best_estimator_\n",
        "\n",
        "# Save result into dataframe\n",
        "randForResultDF = pd.DataFrame.from_dict(randForGS.cv_results_, orient = 'columns')"
      ],
      "metadata": {
        "colab": {
          "base_uri": "https://localhost:8080/"
        },
        "id": "8PUZKIWFYyMT",
        "outputId": "4f7aed33-2666-4c8f-c53c-b4586040d635"
      },
      "execution_count": 40,
      "outputs": [
        {
          "output_type": "stream",
          "name": "stdout",
          "text": [
            "Fitting 7 folds for each of 18 candidates, totalling 126 fits\n",
            "CPU times: user 2.2 s, sys: 122 ms, total: 2.32 s\n",
            "Wall time: 1min 3s\n"
          ]
        }
      ]
    },
    {
      "cell_type": "code",
      "source": [
        "# Show best estimator for Random Forest Regressor\n",
        "randForBestParamGS"
      ],
      "metadata": {
        "colab": {
          "base_uri": "https://localhost:8080/"
        },
        "id": "sT9bdrebeLo7",
        "outputId": "4511046c-ee77-4df5-eb7f-acce5a48b9db"
      },
      "execution_count": 41,
      "outputs": [
        {
          "output_type": "execute_result",
          "data": {
            "text/plain": [
              "{'randFor__criterion': 'absolute_error',\n",
              " 'randFor__max_features': 'sqrt',\n",
              " 'randFor__warm_start': True}"
            ]
          },
          "metadata": {},
          "execution_count": 41
        }
      ]
    },
    {
      "cell_type": "markdown",
      "source": [
        "Best parameter untuk Random Forest Regressor adalah\n",
        "\n",
        "* `criterion : absolute_error`\n",
        "* `max_features : sqrt` \n",
        "* `warm_start : True`"
      ],
      "metadata": {
        "id": "kB3M2G-NebVK"
      }
    },
    {
      "cell_type": "markdown",
      "source": [
        "## 9.2 Model Tuning - Polynomial"
      ],
      "metadata": {
        "id": "GI6BQt3Te0iQ"
      }
    },
    {
      "cell_type": "code",
      "source": [
        "# Grid Search Polynomial tuning\n",
        "%%time\n",
        "polyGS = GridSearchCV(polyLinRegPipe, polyParam, cv=5, n_jobs=-1).fit(X_train, y_train)\n",
        "\n",
        "# Find the best parameter\n",
        "polyBestParamGS = polyGS.best_params_\n",
        "\n",
        "# Find the estimator\n",
        "polyBestEstGS = polyGS.best_estimator_\n",
        "\n",
        "# Saving result to dataframe\n",
        "polyResultDF = pd.DataFrame.from_dict(polyGS.cv_results_, orient = 'columns')"
      ],
      "metadata": {
        "colab": {
          "base_uri": "https://localhost:8080/"
        },
        "id": "93jXfTjPLhD3",
        "outputId": "0b6feff9-52ba-4f1c-de1f-81a2d7b801a6"
      },
      "execution_count": 42,
      "outputs": [
        {
          "output_type": "stream",
          "name": "stdout",
          "text": [
            "CPU times: user 59.2 ms, sys: 4.11 ms, total: 63.3 ms\n",
            "Wall time: 288 ms\n"
          ]
        }
      ]
    },
    {
      "cell_type": "code",
      "source": [
        "# Show best parameter for polynomial\n",
        "polyBestParamGS"
      ],
      "metadata": {
        "colab": {
          "base_uri": "https://localhost:8080/"
        },
        "id": "f_eQUi3nOpY7",
        "outputId": "1f80c418-8a0f-492f-815f-b60642f05056"
      },
      "execution_count": 43,
      "outputs": [
        {
          "output_type": "execute_result",
          "data": {
            "text/plain": [
              "{'poly__degree': 2}"
            ]
          },
          "metadata": {},
          "execution_count": 43
        }
      ]
    },
    {
      "cell_type": "markdown",
      "source": [
        "Untuk best parameter dari Polynomial Features adalah\n",
        "\n",
        "* `poly__degree : 2`"
      ],
      "metadata": {
        "id": "nwjr5Py_ZDXi"
      }
    },
    {
      "cell_type": "markdown",
      "source": [
        "## 9.3 Applying to Data"
      ],
      "metadata": {
        "id": "Gex4Xrv7NQBX"
      }
    },
    {
      "cell_type": "code",
      "source": [
        "# Apply random forest after tuning\n",
        "y_predTrainBestRandFor = randForBestEstGS.predict(X_train).round(3)\n",
        "y_predTestBestRandFor = randForBestEstGS.predict(X_test).round(3)\n",
        "\n",
        "# Apply Polynomial\n",
        "y_predTrainBestPoly = polyBestEstGS.predict(X_train).round(3)\n",
        "y_predTestBestPoly = polyBestEstGS.predict(X_test).round(3)"
      ],
      "metadata": {
        "id": "qbLLlBhONSiJ"
      },
      "execution_count": 44,
      "outputs": []
    },
    {
      "cell_type": "markdown",
      "source": [
        "## 9.3 Check score for Each Model Tuning"
      ],
      "metadata": {
        "id": "QjIJezbWnbda"
      }
    },
    {
      "cell_type": "code",
      "source": [
        "# Evaluate Polynomial Feature for data train\n",
        "print('=='*20)\n",
        "print('Random Forest Regressor - Data Train')\n",
        "print('MAE      : ', round(mean_absolute_error(y_train, y_predTrainBestPoly), 2))\n",
        "print('R2-Score : ', round(r2_score(y_train, y_predTrainBestPoly), 2))\n",
        "print('=='*20)\n",
        "print('Random Forest Regressor - Data Test')\n",
        "print('MAE      : ', round(mean_absolute_error(y_test, y_predTestBestPoly), 2))\n",
        "print('R2-Score : ', round(r2_score(y_test, y_predTestBestPoly), 2))\n",
        "print('=='*20)\n",
        "print('Differences')\n",
        "print('MAE      :', (round(mean_absolute_error(y_test, y_predTestBestPoly), 2) - \n",
        "                     round(mean_absolute_error(y_train, y_predTrainBestPoly), 2)).round(2))\n",
        "print('R2-Score : ', (round(r2_score(y_test, y_predTestBestPoly), 2) - \n",
        "                     round(r2_score(y_train, y_predTrainBestPoly), 2)).round(2))\n",
        "print('=='*20)\n",
        "\n",
        "# Evaluate Random Forest for data train\n",
        "print('=='*20)\n",
        "print('Polynomial Features - Data Train')\n",
        "print('MAE      : ', round(mean_absolute_error(y_train, y_predTrainBestRandFor), 2))\n",
        "print('R2-Score : ', round(r2_score(y_train, y_predTrainBestRandFor), 2))\n",
        "print('=='*20)\n",
        "print('Polynomial Features - Data Test')\n",
        "print('MAE      : ', round(mean_absolute_error(y_test, y_predTestBestRandFor), 2))\n",
        "print('R2-Score : ', round(r2_score(y_test, y_predTestBestRandFor), 2))\n",
        "print('=='*20)\n",
        "print('Differences')\n",
        "print('MAE      :', (round(mean_absolute_error(y_test, y_predTestBestRandFor), 2) - \n",
        "                     round(mean_absolute_error(y_train, y_predTrainBestRandFor), 2)).round(2))\n",
        "print('R2-Score : ', (round(r2_score(y_test, y_predTestBestRandFor), 2) - \n",
        "                     round(r2_score(y_train, y_predTrainBestRandFor), 2)).round(2))\n",
        "print('=='*20)"
      ],
      "metadata": {
        "colab": {
          "base_uri": "https://localhost:8080/"
        },
        "id": "ABe5zG-nONdj",
        "outputId": "f7e50575-644f-476b-8a31-26e7be5edf25"
      },
      "execution_count": 45,
      "outputs": [
        {
          "output_type": "stream",
          "name": "stdout",
          "text": [
            "========================================\n",
            "Random Forest Regressor - Data Train\n",
            "MAE      :  3412.28\n",
            "R2-Score :  0.81\n",
            "========================================\n",
            "Random Forest Regressor - Data Test\n",
            "MAE      :  3500.18\n",
            "R2-Score :  0.84\n",
            "========================================\n",
            "Differences\n",
            "MAE      : 87.9\n",
            "R2-Score :  0.03\n",
            "========================================\n",
            "========================================\n",
            "Polynomial Features - Data Train\n",
            "MAE      :  1634.36\n",
            "R2-Score :  0.95\n",
            "========================================\n",
            "Polynomial Features - Data Test\n",
            "MAE      :  3645.08\n",
            "R2-Score :  0.81\n",
            "========================================\n",
            "Differences\n",
            "MAE      : 2010.72\n",
            "R2-Score :  -0.14\n",
            "========================================\n"
          ]
        }
      ]
    },
    {
      "cell_type": "markdown",
      "source": [
        "Dari scoring MAE dan R2-Score didapatkan :\n",
        "* Nilai MAE dari Random Forest Regressor mengalami penurunan sebesar **87.9** dan R2-Score nya mengalami kenaikan. Dengan selisih **3%** antara data Train dan Test. model ini dapat dikatakan sedikit overfit\n",
        "* Nilai MAE dari Polynomial Features mengalami penurunan yang besar senilai **2010.72** dan R2-Scorenya mengalami penurunan sebesar **14%**. Polynomial Features pun dapat dikatakan overfit antara data train dan test tetapi nilainya masih diatas Random Forest\n",
        "\n",
        "Kesimpulan dari scoring diatas saya akan menggunakan **Random Forest Regressor dengan Grid Search Tuning** untuk digunakan dalam data prediksi"
      ],
      "metadata": {
        "id": "cV8Nn6PpR_DU"
      }
    },
    {
      "cell_type": "markdown",
      "source": [
        "# **10 - Model Inference**\n",
        "\n",
        "---"
      ],
      "metadata": {
        "id": "Sl3tVkegpgS9"
      }
    },
    {
      "cell_type": "markdown",
      "source": [
        "Model yang sudah dilatih akan dicoba pada data yang bukan termasuk ke dalam train-set ataupun test-set. Data ini harus dalam format yang asli, bukan data yang sudah di-scaled."
      ],
      "metadata": {
        "id": "h4x4HSmTpkrc"
      }
    },
    {
      "cell_type": "code",
      "source": [
        "# Create data inference\n",
        "infData = data.sample(30, random_state = 19)\n",
        "\n",
        "# Reseting index\n",
        "infData = infData.reset_index()\n",
        "\n",
        "# Drop column index\n",
        "infData.drop(columns = ['index'], axis=1, inplace=True)\n",
        "\n",
        "# Drop columns sex and region\n",
        "infData.drop(columns = ['region'], axis=1, inplace=True)\n",
        "\n",
        "# Display\n",
        "infData"
      ],
      "metadata": {
        "id": "fbdRxMc4C8gR",
        "colab": {
          "base_uri": "https://localhost:8080/",
          "height": 990
        },
        "outputId": "0e3a3ff4-b56e-44ad-9252-a1693ecce3c7"
      },
      "execution_count": 46,
      "outputs": [
        {
          "output_type": "execute_result",
          "data": {
            "text/plain": [
              "    age     sex     bmi  children smoker      charges\n",
              "0    24    male  32.700         0    yes  34472.84100\n",
              "1    36  female  29.920         0     no   4889.03680\n",
              "2    54  female  30.800         3     no  12105.32000\n",
              "3    48    male  29.600         0     no  21232.18226\n",
              "4    37    male  46.530         3     no   6435.62370\n",
              "5    56    male  40.300         0     no  10602.38500\n",
              "6    51    male  42.900         2    yes  47462.89400\n",
              "7    34    male  32.800         1     no  14358.36437\n",
              "8    28    male  33.820         0     no  19673.33573\n",
              "9    27  female  34.800         1     no   3577.99900\n",
              "10   38  female  28.000         3     no   7151.09200\n",
              "11   52    male  47.740         1     no   9748.91060\n",
              "12   26  female  19.800         1     no   3378.91000\n",
              "13   62  female  36.860         1     no  31620.00106\n",
              "14   54    male  40.565         3    yes  48549.17835\n",
              "15   44    male  37.100         2     no   7740.33700\n",
              "16   64  female  39.700         0     no  14319.03100\n",
              "17   22    male  28.880         0     no   2250.83520\n",
              "18   44    male  30.690         2     no   7731.42710\n",
              "19   42    male  30.000         0    yes  22144.03200\n",
              "20   51  female  20.600         0     no   9264.79700\n",
              "21   34  female  27.720         0     no   4415.15880\n",
              "22   58  female  28.215         0     no  12224.35085\n",
              "23   64  female  30.115         3     no  16455.70785\n",
              "24   41    male  37.050         2     no   7265.70250\n",
              "25   50  female  44.745         0     no   9541.69555\n",
              "26   23    male  18.715         0     no  21595.38229\n",
              "27   60    male  32.800         0    yes  52590.82939\n",
              "28   33  female  39.820         1     no   4795.65680\n",
              "29   63  female  37.700         0    yes  48824.45000"
            ],
            "text/html": [
              "\n",
              "  <div id=\"df-322c0b47-3825-41fa-98d7-821e46e06ec0\">\n",
              "    <div class=\"colab-df-container\">\n",
              "      <div>\n",
              "<style scoped>\n",
              "    .dataframe tbody tr th:only-of-type {\n",
              "        vertical-align: middle;\n",
              "    }\n",
              "\n",
              "    .dataframe tbody tr th {\n",
              "        vertical-align: top;\n",
              "    }\n",
              "\n",
              "    .dataframe thead th {\n",
              "        text-align: right;\n",
              "    }\n",
              "</style>\n",
              "<table border=\"1\" class=\"dataframe\">\n",
              "  <thead>\n",
              "    <tr style=\"text-align: right;\">\n",
              "      <th></th>\n",
              "      <th>age</th>\n",
              "      <th>sex</th>\n",
              "      <th>bmi</th>\n",
              "      <th>children</th>\n",
              "      <th>smoker</th>\n",
              "      <th>charges</th>\n",
              "    </tr>\n",
              "  </thead>\n",
              "  <tbody>\n",
              "    <tr>\n",
              "      <th>0</th>\n",
              "      <td>24</td>\n",
              "      <td>male</td>\n",
              "      <td>32.700</td>\n",
              "      <td>0</td>\n",
              "      <td>yes</td>\n",
              "      <td>34472.84100</td>\n",
              "    </tr>\n",
              "    <tr>\n",
              "      <th>1</th>\n",
              "      <td>36</td>\n",
              "      <td>female</td>\n",
              "      <td>29.920</td>\n",
              "      <td>0</td>\n",
              "      <td>no</td>\n",
              "      <td>4889.03680</td>\n",
              "    </tr>\n",
              "    <tr>\n",
              "      <th>2</th>\n",
              "      <td>54</td>\n",
              "      <td>female</td>\n",
              "      <td>30.800</td>\n",
              "      <td>3</td>\n",
              "      <td>no</td>\n",
              "      <td>12105.32000</td>\n",
              "    </tr>\n",
              "    <tr>\n",
              "      <th>3</th>\n",
              "      <td>48</td>\n",
              "      <td>male</td>\n",
              "      <td>29.600</td>\n",
              "      <td>0</td>\n",
              "      <td>no</td>\n",
              "      <td>21232.18226</td>\n",
              "    </tr>\n",
              "    <tr>\n",
              "      <th>4</th>\n",
              "      <td>37</td>\n",
              "      <td>male</td>\n",
              "      <td>46.530</td>\n",
              "      <td>3</td>\n",
              "      <td>no</td>\n",
              "      <td>6435.62370</td>\n",
              "    </tr>\n",
              "    <tr>\n",
              "      <th>5</th>\n",
              "      <td>56</td>\n",
              "      <td>male</td>\n",
              "      <td>40.300</td>\n",
              "      <td>0</td>\n",
              "      <td>no</td>\n",
              "      <td>10602.38500</td>\n",
              "    </tr>\n",
              "    <tr>\n",
              "      <th>6</th>\n",
              "      <td>51</td>\n",
              "      <td>male</td>\n",
              "      <td>42.900</td>\n",
              "      <td>2</td>\n",
              "      <td>yes</td>\n",
              "      <td>47462.89400</td>\n",
              "    </tr>\n",
              "    <tr>\n",
              "      <th>7</th>\n",
              "      <td>34</td>\n",
              "      <td>male</td>\n",
              "      <td>32.800</td>\n",
              "      <td>1</td>\n",
              "      <td>no</td>\n",
              "      <td>14358.36437</td>\n",
              "    </tr>\n",
              "    <tr>\n",
              "      <th>8</th>\n",
              "      <td>28</td>\n",
              "      <td>male</td>\n",
              "      <td>33.820</td>\n",
              "      <td>0</td>\n",
              "      <td>no</td>\n",
              "      <td>19673.33573</td>\n",
              "    </tr>\n",
              "    <tr>\n",
              "      <th>9</th>\n",
              "      <td>27</td>\n",
              "      <td>female</td>\n",
              "      <td>34.800</td>\n",
              "      <td>1</td>\n",
              "      <td>no</td>\n",
              "      <td>3577.99900</td>\n",
              "    </tr>\n",
              "    <tr>\n",
              "      <th>10</th>\n",
              "      <td>38</td>\n",
              "      <td>female</td>\n",
              "      <td>28.000</td>\n",
              "      <td>3</td>\n",
              "      <td>no</td>\n",
              "      <td>7151.09200</td>\n",
              "    </tr>\n",
              "    <tr>\n",
              "      <th>11</th>\n",
              "      <td>52</td>\n",
              "      <td>male</td>\n",
              "      <td>47.740</td>\n",
              "      <td>1</td>\n",
              "      <td>no</td>\n",
              "      <td>9748.91060</td>\n",
              "    </tr>\n",
              "    <tr>\n",
              "      <th>12</th>\n",
              "      <td>26</td>\n",
              "      <td>female</td>\n",
              "      <td>19.800</td>\n",
              "      <td>1</td>\n",
              "      <td>no</td>\n",
              "      <td>3378.91000</td>\n",
              "    </tr>\n",
              "    <tr>\n",
              "      <th>13</th>\n",
              "      <td>62</td>\n",
              "      <td>female</td>\n",
              "      <td>36.860</td>\n",
              "      <td>1</td>\n",
              "      <td>no</td>\n",
              "      <td>31620.00106</td>\n",
              "    </tr>\n",
              "    <tr>\n",
              "      <th>14</th>\n",
              "      <td>54</td>\n",
              "      <td>male</td>\n",
              "      <td>40.565</td>\n",
              "      <td>3</td>\n",
              "      <td>yes</td>\n",
              "      <td>48549.17835</td>\n",
              "    </tr>\n",
              "    <tr>\n",
              "      <th>15</th>\n",
              "      <td>44</td>\n",
              "      <td>male</td>\n",
              "      <td>37.100</td>\n",
              "      <td>2</td>\n",
              "      <td>no</td>\n",
              "      <td>7740.33700</td>\n",
              "    </tr>\n",
              "    <tr>\n",
              "      <th>16</th>\n",
              "      <td>64</td>\n",
              "      <td>female</td>\n",
              "      <td>39.700</td>\n",
              "      <td>0</td>\n",
              "      <td>no</td>\n",
              "      <td>14319.03100</td>\n",
              "    </tr>\n",
              "    <tr>\n",
              "      <th>17</th>\n",
              "      <td>22</td>\n",
              "      <td>male</td>\n",
              "      <td>28.880</td>\n",
              "      <td>0</td>\n",
              "      <td>no</td>\n",
              "      <td>2250.83520</td>\n",
              "    </tr>\n",
              "    <tr>\n",
              "      <th>18</th>\n",
              "      <td>44</td>\n",
              "      <td>male</td>\n",
              "      <td>30.690</td>\n",
              "      <td>2</td>\n",
              "      <td>no</td>\n",
              "      <td>7731.42710</td>\n",
              "    </tr>\n",
              "    <tr>\n",
              "      <th>19</th>\n",
              "      <td>42</td>\n",
              "      <td>male</td>\n",
              "      <td>30.000</td>\n",
              "      <td>0</td>\n",
              "      <td>yes</td>\n",
              "      <td>22144.03200</td>\n",
              "    </tr>\n",
              "    <tr>\n",
              "      <th>20</th>\n",
              "      <td>51</td>\n",
              "      <td>female</td>\n",
              "      <td>20.600</td>\n",
              "      <td>0</td>\n",
              "      <td>no</td>\n",
              "      <td>9264.79700</td>\n",
              "    </tr>\n",
              "    <tr>\n",
              "      <th>21</th>\n",
              "      <td>34</td>\n",
              "      <td>female</td>\n",
              "      <td>27.720</td>\n",
              "      <td>0</td>\n",
              "      <td>no</td>\n",
              "      <td>4415.15880</td>\n",
              "    </tr>\n",
              "    <tr>\n",
              "      <th>22</th>\n",
              "      <td>58</td>\n",
              "      <td>female</td>\n",
              "      <td>28.215</td>\n",
              "      <td>0</td>\n",
              "      <td>no</td>\n",
              "      <td>12224.35085</td>\n",
              "    </tr>\n",
              "    <tr>\n",
              "      <th>23</th>\n",
              "      <td>64</td>\n",
              "      <td>female</td>\n",
              "      <td>30.115</td>\n",
              "      <td>3</td>\n",
              "      <td>no</td>\n",
              "      <td>16455.70785</td>\n",
              "    </tr>\n",
              "    <tr>\n",
              "      <th>24</th>\n",
              "      <td>41</td>\n",
              "      <td>male</td>\n",
              "      <td>37.050</td>\n",
              "      <td>2</td>\n",
              "      <td>no</td>\n",
              "      <td>7265.70250</td>\n",
              "    </tr>\n",
              "    <tr>\n",
              "      <th>25</th>\n",
              "      <td>50</td>\n",
              "      <td>female</td>\n",
              "      <td>44.745</td>\n",
              "      <td>0</td>\n",
              "      <td>no</td>\n",
              "      <td>9541.69555</td>\n",
              "    </tr>\n",
              "    <tr>\n",
              "      <th>26</th>\n",
              "      <td>23</td>\n",
              "      <td>male</td>\n",
              "      <td>18.715</td>\n",
              "      <td>0</td>\n",
              "      <td>no</td>\n",
              "      <td>21595.38229</td>\n",
              "    </tr>\n",
              "    <tr>\n",
              "      <th>27</th>\n",
              "      <td>60</td>\n",
              "      <td>male</td>\n",
              "      <td>32.800</td>\n",
              "      <td>0</td>\n",
              "      <td>yes</td>\n",
              "      <td>52590.82939</td>\n",
              "    </tr>\n",
              "    <tr>\n",
              "      <th>28</th>\n",
              "      <td>33</td>\n",
              "      <td>female</td>\n",
              "      <td>39.820</td>\n",
              "      <td>1</td>\n",
              "      <td>no</td>\n",
              "      <td>4795.65680</td>\n",
              "    </tr>\n",
              "    <tr>\n",
              "      <th>29</th>\n",
              "      <td>63</td>\n",
              "      <td>female</td>\n",
              "      <td>37.700</td>\n",
              "      <td>0</td>\n",
              "      <td>yes</td>\n",
              "      <td>48824.45000</td>\n",
              "    </tr>\n",
              "  </tbody>\n",
              "</table>\n",
              "</div>\n",
              "      <button class=\"colab-df-convert\" onclick=\"convertToInteractive('df-322c0b47-3825-41fa-98d7-821e46e06ec0')\"\n",
              "              title=\"Convert this dataframe to an interactive table.\"\n",
              "              style=\"display:none;\">\n",
              "        \n",
              "  <svg xmlns=\"http://www.w3.org/2000/svg\" height=\"24px\"viewBox=\"0 0 24 24\"\n",
              "       width=\"24px\">\n",
              "    <path d=\"M0 0h24v24H0V0z\" fill=\"none\"/>\n",
              "    <path d=\"M18.56 5.44l.94 2.06.94-2.06 2.06-.94-2.06-.94-.94-2.06-.94 2.06-2.06.94zm-11 1L8.5 8.5l.94-2.06 2.06-.94-2.06-.94L8.5 2.5l-.94 2.06-2.06.94zm10 10l.94 2.06.94-2.06 2.06-.94-2.06-.94-.94-2.06-.94 2.06-2.06.94z\"/><path d=\"M17.41 7.96l-1.37-1.37c-.4-.4-.92-.59-1.43-.59-.52 0-1.04.2-1.43.59L10.3 9.45l-7.72 7.72c-.78.78-.78 2.05 0 2.83L4 21.41c.39.39.9.59 1.41.59.51 0 1.02-.2 1.41-.59l7.78-7.78 2.81-2.81c.8-.78.8-2.07 0-2.86zM5.41 20L4 18.59l7.72-7.72 1.47 1.35L5.41 20z\"/>\n",
              "  </svg>\n",
              "      </button>\n",
              "      \n",
              "  <style>\n",
              "    .colab-df-container {\n",
              "      display:flex;\n",
              "      flex-wrap:wrap;\n",
              "      gap: 12px;\n",
              "    }\n",
              "\n",
              "    .colab-df-convert {\n",
              "      background-color: #E8F0FE;\n",
              "      border: none;\n",
              "      border-radius: 50%;\n",
              "      cursor: pointer;\n",
              "      display: none;\n",
              "      fill: #1967D2;\n",
              "      height: 32px;\n",
              "      padding: 0 0 0 0;\n",
              "      width: 32px;\n",
              "    }\n",
              "\n",
              "    .colab-df-convert:hover {\n",
              "      background-color: #E2EBFA;\n",
              "      box-shadow: 0px 1px 2px rgba(60, 64, 67, 0.3), 0px 1px 3px 1px rgba(60, 64, 67, 0.15);\n",
              "      fill: #174EA6;\n",
              "    }\n",
              "\n",
              "    [theme=dark] .colab-df-convert {\n",
              "      background-color: #3B4455;\n",
              "      fill: #D2E3FC;\n",
              "    }\n",
              "\n",
              "    [theme=dark] .colab-df-convert:hover {\n",
              "      background-color: #434B5C;\n",
              "      box-shadow: 0px 1px 3px 1px rgba(0, 0, 0, 0.15);\n",
              "      filter: drop-shadow(0px 1px 2px rgba(0, 0, 0, 0.3));\n",
              "      fill: #FFFFFF;\n",
              "    }\n",
              "  </style>\n",
              "\n",
              "      <script>\n",
              "        const buttonEl =\n",
              "          document.querySelector('#df-322c0b47-3825-41fa-98d7-821e46e06ec0 button.colab-df-convert');\n",
              "        buttonEl.style.display =\n",
              "          google.colab.kernel.accessAllowed ? 'block' : 'none';\n",
              "\n",
              "        async function convertToInteractive(key) {\n",
              "          const element = document.querySelector('#df-322c0b47-3825-41fa-98d7-821e46e06ec0');\n",
              "          const dataTable =\n",
              "            await google.colab.kernel.invokeFunction('convertToInteractive',\n",
              "                                                     [key], {});\n",
              "          if (!dataTable) return;\n",
              "\n",
              "          const docLinkHtml = 'Like what you see? Visit the ' +\n",
              "            '<a target=\"_blank\" href=https://colab.research.google.com/notebooks/data_table.ipynb>data table notebook</a>'\n",
              "            + ' to learn more about interactive tables.';\n",
              "          element.innerHTML = '';\n",
              "          dataTable['output_type'] = 'display_data';\n",
              "          await google.colab.output.renderOutput(dataTable, element);\n",
              "          const docLink = document.createElement('div');\n",
              "          docLink.innerHTML = docLinkHtml;\n",
              "          element.appendChild(docLink);\n",
              "        }\n",
              "      </script>\n",
              "    </div>\n",
              "  </div>\n",
              "  "
            ]
          },
          "metadata": {},
          "execution_count": 46
        }
      ]
    },
    {
      "cell_type": "markdown",
      "source": [
        "Berikut adalah 30 data sampel yang diambil secara acak dari data original"
      ],
      "metadata": {
        "id": "sXsjU61hDcMv"
      }
    },
    {
      "cell_type": "code",
      "source": [
        "# Binning data age\n",
        "criteria = [\n",
        "    (infData['age'] > 15) & (infData['age'] < 25),\n",
        "    (infData['age'] >= 25) & (infData['age'] < 55),\n",
        "    (infData['age'] >= 55)\n",
        "]\n",
        "ageLabel = ['teen', 'adult', 'old']\n",
        "infData['age_bin'] = pd.cut(infData['age'], bins = ['15', '25', '55', float('inf')], labels=ageLabel)\n",
        "\n",
        "# Drop columns age\n",
        "infData.drop(columns = ['age'], axis = 1, inplace=True)\n",
        "\n",
        "# Display after binning\n",
        "infData"
      ],
      "metadata": {
        "id": "rqNuF2cZD0P3",
        "colab": {
          "base_uri": "https://localhost:8080/",
          "height": 990
        },
        "outputId": "91dfece9-76a7-45c2-982b-4f7d3ddecefb"
      },
      "execution_count": 47,
      "outputs": [
        {
          "output_type": "execute_result",
          "data": {
            "text/plain": [
              "       sex     bmi  children smoker      charges age_bin\n",
              "0     male  32.700         0    yes  34472.84100    teen\n",
              "1   female  29.920         0     no   4889.03680   adult\n",
              "2   female  30.800         3     no  12105.32000   adult\n",
              "3     male  29.600         0     no  21232.18226   adult\n",
              "4     male  46.530         3     no   6435.62370   adult\n",
              "5     male  40.300         0     no  10602.38500     old\n",
              "6     male  42.900         2    yes  47462.89400   adult\n",
              "7     male  32.800         1     no  14358.36437   adult\n",
              "8     male  33.820         0     no  19673.33573   adult\n",
              "9   female  34.800         1     no   3577.99900   adult\n",
              "10  female  28.000         3     no   7151.09200   adult\n",
              "11    male  47.740         1     no   9748.91060   adult\n",
              "12  female  19.800         1     no   3378.91000   adult\n",
              "13  female  36.860         1     no  31620.00106     old\n",
              "14    male  40.565         3    yes  48549.17835   adult\n",
              "15    male  37.100         2     no   7740.33700   adult\n",
              "16  female  39.700         0     no  14319.03100     old\n",
              "17    male  28.880         0     no   2250.83520    teen\n",
              "18    male  30.690         2     no   7731.42710   adult\n",
              "19    male  30.000         0    yes  22144.03200   adult\n",
              "20  female  20.600         0     no   9264.79700   adult\n",
              "21  female  27.720         0     no   4415.15880   adult\n",
              "22  female  28.215         0     no  12224.35085     old\n",
              "23  female  30.115         3     no  16455.70785     old\n",
              "24    male  37.050         2     no   7265.70250   adult\n",
              "25  female  44.745         0     no   9541.69555   adult\n",
              "26    male  18.715         0     no  21595.38229    teen\n",
              "27    male  32.800         0    yes  52590.82939     old\n",
              "28  female  39.820         1     no   4795.65680   adult\n",
              "29  female  37.700         0    yes  48824.45000     old"
            ],
            "text/html": [
              "\n",
              "  <div id=\"df-5412e49d-7859-40aa-b364-890ba1d18d69\">\n",
              "    <div class=\"colab-df-container\">\n",
              "      <div>\n",
              "<style scoped>\n",
              "    .dataframe tbody tr th:only-of-type {\n",
              "        vertical-align: middle;\n",
              "    }\n",
              "\n",
              "    .dataframe tbody tr th {\n",
              "        vertical-align: top;\n",
              "    }\n",
              "\n",
              "    .dataframe thead th {\n",
              "        text-align: right;\n",
              "    }\n",
              "</style>\n",
              "<table border=\"1\" class=\"dataframe\">\n",
              "  <thead>\n",
              "    <tr style=\"text-align: right;\">\n",
              "      <th></th>\n",
              "      <th>sex</th>\n",
              "      <th>bmi</th>\n",
              "      <th>children</th>\n",
              "      <th>smoker</th>\n",
              "      <th>charges</th>\n",
              "      <th>age_bin</th>\n",
              "    </tr>\n",
              "  </thead>\n",
              "  <tbody>\n",
              "    <tr>\n",
              "      <th>0</th>\n",
              "      <td>male</td>\n",
              "      <td>32.700</td>\n",
              "      <td>0</td>\n",
              "      <td>yes</td>\n",
              "      <td>34472.84100</td>\n",
              "      <td>teen</td>\n",
              "    </tr>\n",
              "    <tr>\n",
              "      <th>1</th>\n",
              "      <td>female</td>\n",
              "      <td>29.920</td>\n",
              "      <td>0</td>\n",
              "      <td>no</td>\n",
              "      <td>4889.03680</td>\n",
              "      <td>adult</td>\n",
              "    </tr>\n",
              "    <tr>\n",
              "      <th>2</th>\n",
              "      <td>female</td>\n",
              "      <td>30.800</td>\n",
              "      <td>3</td>\n",
              "      <td>no</td>\n",
              "      <td>12105.32000</td>\n",
              "      <td>adult</td>\n",
              "    </tr>\n",
              "    <tr>\n",
              "      <th>3</th>\n",
              "      <td>male</td>\n",
              "      <td>29.600</td>\n",
              "      <td>0</td>\n",
              "      <td>no</td>\n",
              "      <td>21232.18226</td>\n",
              "      <td>adult</td>\n",
              "    </tr>\n",
              "    <tr>\n",
              "      <th>4</th>\n",
              "      <td>male</td>\n",
              "      <td>46.530</td>\n",
              "      <td>3</td>\n",
              "      <td>no</td>\n",
              "      <td>6435.62370</td>\n",
              "      <td>adult</td>\n",
              "    </tr>\n",
              "    <tr>\n",
              "      <th>5</th>\n",
              "      <td>male</td>\n",
              "      <td>40.300</td>\n",
              "      <td>0</td>\n",
              "      <td>no</td>\n",
              "      <td>10602.38500</td>\n",
              "      <td>old</td>\n",
              "    </tr>\n",
              "    <tr>\n",
              "      <th>6</th>\n",
              "      <td>male</td>\n",
              "      <td>42.900</td>\n",
              "      <td>2</td>\n",
              "      <td>yes</td>\n",
              "      <td>47462.89400</td>\n",
              "      <td>adult</td>\n",
              "    </tr>\n",
              "    <tr>\n",
              "      <th>7</th>\n",
              "      <td>male</td>\n",
              "      <td>32.800</td>\n",
              "      <td>1</td>\n",
              "      <td>no</td>\n",
              "      <td>14358.36437</td>\n",
              "      <td>adult</td>\n",
              "    </tr>\n",
              "    <tr>\n",
              "      <th>8</th>\n",
              "      <td>male</td>\n",
              "      <td>33.820</td>\n",
              "      <td>0</td>\n",
              "      <td>no</td>\n",
              "      <td>19673.33573</td>\n",
              "      <td>adult</td>\n",
              "    </tr>\n",
              "    <tr>\n",
              "      <th>9</th>\n",
              "      <td>female</td>\n",
              "      <td>34.800</td>\n",
              "      <td>1</td>\n",
              "      <td>no</td>\n",
              "      <td>3577.99900</td>\n",
              "      <td>adult</td>\n",
              "    </tr>\n",
              "    <tr>\n",
              "      <th>10</th>\n",
              "      <td>female</td>\n",
              "      <td>28.000</td>\n",
              "      <td>3</td>\n",
              "      <td>no</td>\n",
              "      <td>7151.09200</td>\n",
              "      <td>adult</td>\n",
              "    </tr>\n",
              "    <tr>\n",
              "      <th>11</th>\n",
              "      <td>male</td>\n",
              "      <td>47.740</td>\n",
              "      <td>1</td>\n",
              "      <td>no</td>\n",
              "      <td>9748.91060</td>\n",
              "      <td>adult</td>\n",
              "    </tr>\n",
              "    <tr>\n",
              "      <th>12</th>\n",
              "      <td>female</td>\n",
              "      <td>19.800</td>\n",
              "      <td>1</td>\n",
              "      <td>no</td>\n",
              "      <td>3378.91000</td>\n",
              "      <td>adult</td>\n",
              "    </tr>\n",
              "    <tr>\n",
              "      <th>13</th>\n",
              "      <td>female</td>\n",
              "      <td>36.860</td>\n",
              "      <td>1</td>\n",
              "      <td>no</td>\n",
              "      <td>31620.00106</td>\n",
              "      <td>old</td>\n",
              "    </tr>\n",
              "    <tr>\n",
              "      <th>14</th>\n",
              "      <td>male</td>\n",
              "      <td>40.565</td>\n",
              "      <td>3</td>\n",
              "      <td>yes</td>\n",
              "      <td>48549.17835</td>\n",
              "      <td>adult</td>\n",
              "    </tr>\n",
              "    <tr>\n",
              "      <th>15</th>\n",
              "      <td>male</td>\n",
              "      <td>37.100</td>\n",
              "      <td>2</td>\n",
              "      <td>no</td>\n",
              "      <td>7740.33700</td>\n",
              "      <td>adult</td>\n",
              "    </tr>\n",
              "    <tr>\n",
              "      <th>16</th>\n",
              "      <td>female</td>\n",
              "      <td>39.700</td>\n",
              "      <td>0</td>\n",
              "      <td>no</td>\n",
              "      <td>14319.03100</td>\n",
              "      <td>old</td>\n",
              "    </tr>\n",
              "    <tr>\n",
              "      <th>17</th>\n",
              "      <td>male</td>\n",
              "      <td>28.880</td>\n",
              "      <td>0</td>\n",
              "      <td>no</td>\n",
              "      <td>2250.83520</td>\n",
              "      <td>teen</td>\n",
              "    </tr>\n",
              "    <tr>\n",
              "      <th>18</th>\n",
              "      <td>male</td>\n",
              "      <td>30.690</td>\n",
              "      <td>2</td>\n",
              "      <td>no</td>\n",
              "      <td>7731.42710</td>\n",
              "      <td>adult</td>\n",
              "    </tr>\n",
              "    <tr>\n",
              "      <th>19</th>\n",
              "      <td>male</td>\n",
              "      <td>30.000</td>\n",
              "      <td>0</td>\n",
              "      <td>yes</td>\n",
              "      <td>22144.03200</td>\n",
              "      <td>adult</td>\n",
              "    </tr>\n",
              "    <tr>\n",
              "      <th>20</th>\n",
              "      <td>female</td>\n",
              "      <td>20.600</td>\n",
              "      <td>0</td>\n",
              "      <td>no</td>\n",
              "      <td>9264.79700</td>\n",
              "      <td>adult</td>\n",
              "    </tr>\n",
              "    <tr>\n",
              "      <th>21</th>\n",
              "      <td>female</td>\n",
              "      <td>27.720</td>\n",
              "      <td>0</td>\n",
              "      <td>no</td>\n",
              "      <td>4415.15880</td>\n",
              "      <td>adult</td>\n",
              "    </tr>\n",
              "    <tr>\n",
              "      <th>22</th>\n",
              "      <td>female</td>\n",
              "      <td>28.215</td>\n",
              "      <td>0</td>\n",
              "      <td>no</td>\n",
              "      <td>12224.35085</td>\n",
              "      <td>old</td>\n",
              "    </tr>\n",
              "    <tr>\n",
              "      <th>23</th>\n",
              "      <td>female</td>\n",
              "      <td>30.115</td>\n",
              "      <td>3</td>\n",
              "      <td>no</td>\n",
              "      <td>16455.70785</td>\n",
              "      <td>old</td>\n",
              "    </tr>\n",
              "    <tr>\n",
              "      <th>24</th>\n",
              "      <td>male</td>\n",
              "      <td>37.050</td>\n",
              "      <td>2</td>\n",
              "      <td>no</td>\n",
              "      <td>7265.70250</td>\n",
              "      <td>adult</td>\n",
              "    </tr>\n",
              "    <tr>\n",
              "      <th>25</th>\n",
              "      <td>female</td>\n",
              "      <td>44.745</td>\n",
              "      <td>0</td>\n",
              "      <td>no</td>\n",
              "      <td>9541.69555</td>\n",
              "      <td>adult</td>\n",
              "    </tr>\n",
              "    <tr>\n",
              "      <th>26</th>\n",
              "      <td>male</td>\n",
              "      <td>18.715</td>\n",
              "      <td>0</td>\n",
              "      <td>no</td>\n",
              "      <td>21595.38229</td>\n",
              "      <td>teen</td>\n",
              "    </tr>\n",
              "    <tr>\n",
              "      <th>27</th>\n",
              "      <td>male</td>\n",
              "      <td>32.800</td>\n",
              "      <td>0</td>\n",
              "      <td>yes</td>\n",
              "      <td>52590.82939</td>\n",
              "      <td>old</td>\n",
              "    </tr>\n",
              "    <tr>\n",
              "      <th>28</th>\n",
              "      <td>female</td>\n",
              "      <td>39.820</td>\n",
              "      <td>1</td>\n",
              "      <td>no</td>\n",
              "      <td>4795.65680</td>\n",
              "      <td>adult</td>\n",
              "    </tr>\n",
              "    <tr>\n",
              "      <th>29</th>\n",
              "      <td>female</td>\n",
              "      <td>37.700</td>\n",
              "      <td>0</td>\n",
              "      <td>yes</td>\n",
              "      <td>48824.45000</td>\n",
              "      <td>old</td>\n",
              "    </tr>\n",
              "  </tbody>\n",
              "</table>\n",
              "</div>\n",
              "      <button class=\"colab-df-convert\" onclick=\"convertToInteractive('df-5412e49d-7859-40aa-b364-890ba1d18d69')\"\n",
              "              title=\"Convert this dataframe to an interactive table.\"\n",
              "              style=\"display:none;\">\n",
              "        \n",
              "  <svg xmlns=\"http://www.w3.org/2000/svg\" height=\"24px\"viewBox=\"0 0 24 24\"\n",
              "       width=\"24px\">\n",
              "    <path d=\"M0 0h24v24H0V0z\" fill=\"none\"/>\n",
              "    <path d=\"M18.56 5.44l.94 2.06.94-2.06 2.06-.94-2.06-.94-.94-2.06-.94 2.06-2.06.94zm-11 1L8.5 8.5l.94-2.06 2.06-.94-2.06-.94L8.5 2.5l-.94 2.06-2.06.94zm10 10l.94 2.06.94-2.06 2.06-.94-2.06-.94-.94-2.06-.94 2.06-2.06.94z\"/><path d=\"M17.41 7.96l-1.37-1.37c-.4-.4-.92-.59-1.43-.59-.52 0-1.04.2-1.43.59L10.3 9.45l-7.72 7.72c-.78.78-.78 2.05 0 2.83L4 21.41c.39.39.9.59 1.41.59.51 0 1.02-.2 1.41-.59l7.78-7.78 2.81-2.81c.8-.78.8-2.07 0-2.86zM5.41 20L4 18.59l7.72-7.72 1.47 1.35L5.41 20z\"/>\n",
              "  </svg>\n",
              "      </button>\n",
              "      \n",
              "  <style>\n",
              "    .colab-df-container {\n",
              "      display:flex;\n",
              "      flex-wrap:wrap;\n",
              "      gap: 12px;\n",
              "    }\n",
              "\n",
              "    .colab-df-convert {\n",
              "      background-color: #E8F0FE;\n",
              "      border: none;\n",
              "      border-radius: 50%;\n",
              "      cursor: pointer;\n",
              "      display: none;\n",
              "      fill: #1967D2;\n",
              "      height: 32px;\n",
              "      padding: 0 0 0 0;\n",
              "      width: 32px;\n",
              "    }\n",
              "\n",
              "    .colab-df-convert:hover {\n",
              "      background-color: #E2EBFA;\n",
              "      box-shadow: 0px 1px 2px rgba(60, 64, 67, 0.3), 0px 1px 3px 1px rgba(60, 64, 67, 0.15);\n",
              "      fill: #174EA6;\n",
              "    }\n",
              "\n",
              "    [theme=dark] .colab-df-convert {\n",
              "      background-color: #3B4455;\n",
              "      fill: #D2E3FC;\n",
              "    }\n",
              "\n",
              "    [theme=dark] .colab-df-convert:hover {\n",
              "      background-color: #434B5C;\n",
              "      box-shadow: 0px 1px 3px 1px rgba(0, 0, 0, 0.15);\n",
              "      filter: drop-shadow(0px 1px 2px rgba(0, 0, 0, 0.3));\n",
              "      fill: #FFFFFF;\n",
              "    }\n",
              "  </style>\n",
              "\n",
              "      <script>\n",
              "        const buttonEl =\n",
              "          document.querySelector('#df-5412e49d-7859-40aa-b364-890ba1d18d69 button.colab-df-convert');\n",
              "        buttonEl.style.display =\n",
              "          google.colab.kernel.accessAllowed ? 'block' : 'none';\n",
              "\n",
              "        async function convertToInteractive(key) {\n",
              "          const element = document.querySelector('#df-5412e49d-7859-40aa-b364-890ba1d18d69');\n",
              "          const dataTable =\n",
              "            await google.colab.kernel.invokeFunction('convertToInteractive',\n",
              "                                                     [key], {});\n",
              "          if (!dataTable) return;\n",
              "\n",
              "          const docLinkHtml = 'Like what you see? Visit the ' +\n",
              "            '<a target=\"_blank\" href=https://colab.research.google.com/notebooks/data_table.ipynb>data table notebook</a>'\n",
              "            + ' to learn more about interactive tables.';\n",
              "          element.innerHTML = '';\n",
              "          dataTable['output_type'] = 'display_data';\n",
              "          await google.colab.output.renderOutput(dataTable, element);\n",
              "          const docLink = document.createElement('div');\n",
              "          docLink.innerHTML = docLinkHtml;\n",
              "          element.appendChild(docLink);\n",
              "        }\n",
              "      </script>\n",
              "    </div>\n",
              "  </div>\n",
              "  "
            ]
          },
          "metadata": {},
          "execution_count": 47
        }
      ]
    },
    {
      "cell_type": "code",
      "source": [
        "# Applying\n",
        "y_predInfData = randForBestEstGS.predict(infData)\n",
        "\n",
        "# Display\n",
        "y_predInfData"
      ],
      "metadata": {
        "colab": {
          "base_uri": "https://localhost:8080/"
        },
        "id": "0KebYicPT3iF",
        "outputId": "30997d6c-fe44-4b34-f34f-290591d084b1"
      },
      "execution_count": 48,
      "outputs": [
        {
          "output_type": "execute_result",
          "data": {
            "text/plain": [
              "array([33689.86289835,  7483.33388175,  9621.83368605,  6793.372277  ,\n",
              "        6974.03427425, 15931.4651162 , 45125.96496765,  6148.8732285 ,\n",
              "       13152.4505051 ,  7162.2266223 ,  8510.70345875,  7759.73332805,\n",
              "        6637.8311624 , 20847.0271693 , 43881.41840515,  6668.2170192 ,\n",
              "       13270.031859  ,  2021.91003425,  6330.20318675, 29479.40232295,\n",
              "        4968.5848215 ,  7838.84920685, 12188.65180875, 13730.45762675,\n",
              "        6903.1190929 ,  8536.1955219 ,  1511.454208  , 42767.13397325,\n",
              "        9866.37888565, 43911.00134965])"
            ]
          },
          "metadata": {},
          "execution_count": 48
        }
      ]
    },
    {
      "cell_type": "code",
      "source": [
        "# Save data prediction into dataframe\n",
        "InfDataPred = pd.DataFrame(y_predInfData, columns=['predict'])\n",
        "\n",
        "# Concate Data\n",
        "infDataFinalDF = pd.concat([infData, InfDataPred], axis=1)\n",
        "\n",
        "# Display\n",
        "infDataFinalDF"
      ],
      "metadata": {
        "colab": {
          "base_uri": "https://localhost:8080/",
          "height": 990
        },
        "id": "dFD7LK_OUib3",
        "outputId": "cf8b5f89-2b9e-4106-8149-01504f5a47ea"
      },
      "execution_count": 49,
      "outputs": [
        {
          "output_type": "execute_result",
          "data": {
            "text/plain": [
              "       sex     bmi  children smoker      charges age_bin       predict\n",
              "0     male  32.700         0    yes  34472.84100    teen  33689.862898\n",
              "1   female  29.920         0     no   4889.03680   adult   7483.333882\n",
              "2   female  30.800         3     no  12105.32000   adult   9621.833686\n",
              "3     male  29.600         0     no  21232.18226   adult   6793.372277\n",
              "4     male  46.530         3     no   6435.62370   adult   6974.034274\n",
              "5     male  40.300         0     no  10602.38500     old  15931.465116\n",
              "6     male  42.900         2    yes  47462.89400   adult  45125.964968\n",
              "7     male  32.800         1     no  14358.36437   adult   6148.873228\n",
              "8     male  33.820         0     no  19673.33573   adult  13152.450505\n",
              "9   female  34.800         1     no   3577.99900   adult   7162.226622\n",
              "10  female  28.000         3     no   7151.09200   adult   8510.703459\n",
              "11    male  47.740         1     no   9748.91060   adult   7759.733328\n",
              "12  female  19.800         1     no   3378.91000   adult   6637.831162\n",
              "13  female  36.860         1     no  31620.00106     old  20847.027169\n",
              "14    male  40.565         3    yes  48549.17835   adult  43881.418405\n",
              "15    male  37.100         2     no   7740.33700   adult   6668.217019\n",
              "16  female  39.700         0     no  14319.03100     old  13270.031859\n",
              "17    male  28.880         0     no   2250.83520    teen   2021.910034\n",
              "18    male  30.690         2     no   7731.42710   adult   6330.203187\n",
              "19    male  30.000         0    yes  22144.03200   adult  29479.402323\n",
              "20  female  20.600         0     no   9264.79700   adult   4968.584821\n",
              "21  female  27.720         0     no   4415.15880   adult   7838.849207\n",
              "22  female  28.215         0     no  12224.35085     old  12188.651809\n",
              "23  female  30.115         3     no  16455.70785     old  13730.457627\n",
              "24    male  37.050         2     no   7265.70250   adult   6903.119093\n",
              "25  female  44.745         0     no   9541.69555   adult   8536.195522\n",
              "26    male  18.715         0     no  21595.38229    teen   1511.454208\n",
              "27    male  32.800         0    yes  52590.82939     old  42767.133973\n",
              "28  female  39.820         1     no   4795.65680   adult   9866.378886\n",
              "29  female  37.700         0    yes  48824.45000     old  43911.001350"
            ],
            "text/html": [
              "\n",
              "  <div id=\"df-4161c245-a1e4-4254-91ea-cee5743cfe83\">\n",
              "    <div class=\"colab-df-container\">\n",
              "      <div>\n",
              "<style scoped>\n",
              "    .dataframe tbody tr th:only-of-type {\n",
              "        vertical-align: middle;\n",
              "    }\n",
              "\n",
              "    .dataframe tbody tr th {\n",
              "        vertical-align: top;\n",
              "    }\n",
              "\n",
              "    .dataframe thead th {\n",
              "        text-align: right;\n",
              "    }\n",
              "</style>\n",
              "<table border=\"1\" class=\"dataframe\">\n",
              "  <thead>\n",
              "    <tr style=\"text-align: right;\">\n",
              "      <th></th>\n",
              "      <th>sex</th>\n",
              "      <th>bmi</th>\n",
              "      <th>children</th>\n",
              "      <th>smoker</th>\n",
              "      <th>charges</th>\n",
              "      <th>age_bin</th>\n",
              "      <th>predict</th>\n",
              "    </tr>\n",
              "  </thead>\n",
              "  <tbody>\n",
              "    <tr>\n",
              "      <th>0</th>\n",
              "      <td>male</td>\n",
              "      <td>32.700</td>\n",
              "      <td>0</td>\n",
              "      <td>yes</td>\n",
              "      <td>34472.84100</td>\n",
              "      <td>teen</td>\n",
              "      <td>33689.862898</td>\n",
              "    </tr>\n",
              "    <tr>\n",
              "      <th>1</th>\n",
              "      <td>female</td>\n",
              "      <td>29.920</td>\n",
              "      <td>0</td>\n",
              "      <td>no</td>\n",
              "      <td>4889.03680</td>\n",
              "      <td>adult</td>\n",
              "      <td>7483.333882</td>\n",
              "    </tr>\n",
              "    <tr>\n",
              "      <th>2</th>\n",
              "      <td>female</td>\n",
              "      <td>30.800</td>\n",
              "      <td>3</td>\n",
              "      <td>no</td>\n",
              "      <td>12105.32000</td>\n",
              "      <td>adult</td>\n",
              "      <td>9621.833686</td>\n",
              "    </tr>\n",
              "    <tr>\n",
              "      <th>3</th>\n",
              "      <td>male</td>\n",
              "      <td>29.600</td>\n",
              "      <td>0</td>\n",
              "      <td>no</td>\n",
              "      <td>21232.18226</td>\n",
              "      <td>adult</td>\n",
              "      <td>6793.372277</td>\n",
              "    </tr>\n",
              "    <tr>\n",
              "      <th>4</th>\n",
              "      <td>male</td>\n",
              "      <td>46.530</td>\n",
              "      <td>3</td>\n",
              "      <td>no</td>\n",
              "      <td>6435.62370</td>\n",
              "      <td>adult</td>\n",
              "      <td>6974.034274</td>\n",
              "    </tr>\n",
              "    <tr>\n",
              "      <th>5</th>\n",
              "      <td>male</td>\n",
              "      <td>40.300</td>\n",
              "      <td>0</td>\n",
              "      <td>no</td>\n",
              "      <td>10602.38500</td>\n",
              "      <td>old</td>\n",
              "      <td>15931.465116</td>\n",
              "    </tr>\n",
              "    <tr>\n",
              "      <th>6</th>\n",
              "      <td>male</td>\n",
              "      <td>42.900</td>\n",
              "      <td>2</td>\n",
              "      <td>yes</td>\n",
              "      <td>47462.89400</td>\n",
              "      <td>adult</td>\n",
              "      <td>45125.964968</td>\n",
              "    </tr>\n",
              "    <tr>\n",
              "      <th>7</th>\n",
              "      <td>male</td>\n",
              "      <td>32.800</td>\n",
              "      <td>1</td>\n",
              "      <td>no</td>\n",
              "      <td>14358.36437</td>\n",
              "      <td>adult</td>\n",
              "      <td>6148.873228</td>\n",
              "    </tr>\n",
              "    <tr>\n",
              "      <th>8</th>\n",
              "      <td>male</td>\n",
              "      <td>33.820</td>\n",
              "      <td>0</td>\n",
              "      <td>no</td>\n",
              "      <td>19673.33573</td>\n",
              "      <td>adult</td>\n",
              "      <td>13152.450505</td>\n",
              "    </tr>\n",
              "    <tr>\n",
              "      <th>9</th>\n",
              "      <td>female</td>\n",
              "      <td>34.800</td>\n",
              "      <td>1</td>\n",
              "      <td>no</td>\n",
              "      <td>3577.99900</td>\n",
              "      <td>adult</td>\n",
              "      <td>7162.226622</td>\n",
              "    </tr>\n",
              "    <tr>\n",
              "      <th>10</th>\n",
              "      <td>female</td>\n",
              "      <td>28.000</td>\n",
              "      <td>3</td>\n",
              "      <td>no</td>\n",
              "      <td>7151.09200</td>\n",
              "      <td>adult</td>\n",
              "      <td>8510.703459</td>\n",
              "    </tr>\n",
              "    <tr>\n",
              "      <th>11</th>\n",
              "      <td>male</td>\n",
              "      <td>47.740</td>\n",
              "      <td>1</td>\n",
              "      <td>no</td>\n",
              "      <td>9748.91060</td>\n",
              "      <td>adult</td>\n",
              "      <td>7759.733328</td>\n",
              "    </tr>\n",
              "    <tr>\n",
              "      <th>12</th>\n",
              "      <td>female</td>\n",
              "      <td>19.800</td>\n",
              "      <td>1</td>\n",
              "      <td>no</td>\n",
              "      <td>3378.91000</td>\n",
              "      <td>adult</td>\n",
              "      <td>6637.831162</td>\n",
              "    </tr>\n",
              "    <tr>\n",
              "      <th>13</th>\n",
              "      <td>female</td>\n",
              "      <td>36.860</td>\n",
              "      <td>1</td>\n",
              "      <td>no</td>\n",
              "      <td>31620.00106</td>\n",
              "      <td>old</td>\n",
              "      <td>20847.027169</td>\n",
              "    </tr>\n",
              "    <tr>\n",
              "      <th>14</th>\n",
              "      <td>male</td>\n",
              "      <td>40.565</td>\n",
              "      <td>3</td>\n",
              "      <td>yes</td>\n",
              "      <td>48549.17835</td>\n",
              "      <td>adult</td>\n",
              "      <td>43881.418405</td>\n",
              "    </tr>\n",
              "    <tr>\n",
              "      <th>15</th>\n",
              "      <td>male</td>\n",
              "      <td>37.100</td>\n",
              "      <td>2</td>\n",
              "      <td>no</td>\n",
              "      <td>7740.33700</td>\n",
              "      <td>adult</td>\n",
              "      <td>6668.217019</td>\n",
              "    </tr>\n",
              "    <tr>\n",
              "      <th>16</th>\n",
              "      <td>female</td>\n",
              "      <td>39.700</td>\n",
              "      <td>0</td>\n",
              "      <td>no</td>\n",
              "      <td>14319.03100</td>\n",
              "      <td>old</td>\n",
              "      <td>13270.031859</td>\n",
              "    </tr>\n",
              "    <tr>\n",
              "      <th>17</th>\n",
              "      <td>male</td>\n",
              "      <td>28.880</td>\n",
              "      <td>0</td>\n",
              "      <td>no</td>\n",
              "      <td>2250.83520</td>\n",
              "      <td>teen</td>\n",
              "      <td>2021.910034</td>\n",
              "    </tr>\n",
              "    <tr>\n",
              "      <th>18</th>\n",
              "      <td>male</td>\n",
              "      <td>30.690</td>\n",
              "      <td>2</td>\n",
              "      <td>no</td>\n",
              "      <td>7731.42710</td>\n",
              "      <td>adult</td>\n",
              "      <td>6330.203187</td>\n",
              "    </tr>\n",
              "    <tr>\n",
              "      <th>19</th>\n",
              "      <td>male</td>\n",
              "      <td>30.000</td>\n",
              "      <td>0</td>\n",
              "      <td>yes</td>\n",
              "      <td>22144.03200</td>\n",
              "      <td>adult</td>\n",
              "      <td>29479.402323</td>\n",
              "    </tr>\n",
              "    <tr>\n",
              "      <th>20</th>\n",
              "      <td>female</td>\n",
              "      <td>20.600</td>\n",
              "      <td>0</td>\n",
              "      <td>no</td>\n",
              "      <td>9264.79700</td>\n",
              "      <td>adult</td>\n",
              "      <td>4968.584821</td>\n",
              "    </tr>\n",
              "    <tr>\n",
              "      <th>21</th>\n",
              "      <td>female</td>\n",
              "      <td>27.720</td>\n",
              "      <td>0</td>\n",
              "      <td>no</td>\n",
              "      <td>4415.15880</td>\n",
              "      <td>adult</td>\n",
              "      <td>7838.849207</td>\n",
              "    </tr>\n",
              "    <tr>\n",
              "      <th>22</th>\n",
              "      <td>female</td>\n",
              "      <td>28.215</td>\n",
              "      <td>0</td>\n",
              "      <td>no</td>\n",
              "      <td>12224.35085</td>\n",
              "      <td>old</td>\n",
              "      <td>12188.651809</td>\n",
              "    </tr>\n",
              "    <tr>\n",
              "      <th>23</th>\n",
              "      <td>female</td>\n",
              "      <td>30.115</td>\n",
              "      <td>3</td>\n",
              "      <td>no</td>\n",
              "      <td>16455.70785</td>\n",
              "      <td>old</td>\n",
              "      <td>13730.457627</td>\n",
              "    </tr>\n",
              "    <tr>\n",
              "      <th>24</th>\n",
              "      <td>male</td>\n",
              "      <td>37.050</td>\n",
              "      <td>2</td>\n",
              "      <td>no</td>\n",
              "      <td>7265.70250</td>\n",
              "      <td>adult</td>\n",
              "      <td>6903.119093</td>\n",
              "    </tr>\n",
              "    <tr>\n",
              "      <th>25</th>\n",
              "      <td>female</td>\n",
              "      <td>44.745</td>\n",
              "      <td>0</td>\n",
              "      <td>no</td>\n",
              "      <td>9541.69555</td>\n",
              "      <td>adult</td>\n",
              "      <td>8536.195522</td>\n",
              "    </tr>\n",
              "    <tr>\n",
              "      <th>26</th>\n",
              "      <td>male</td>\n",
              "      <td>18.715</td>\n",
              "      <td>0</td>\n",
              "      <td>no</td>\n",
              "      <td>21595.38229</td>\n",
              "      <td>teen</td>\n",
              "      <td>1511.454208</td>\n",
              "    </tr>\n",
              "    <tr>\n",
              "      <th>27</th>\n",
              "      <td>male</td>\n",
              "      <td>32.800</td>\n",
              "      <td>0</td>\n",
              "      <td>yes</td>\n",
              "      <td>52590.82939</td>\n",
              "      <td>old</td>\n",
              "      <td>42767.133973</td>\n",
              "    </tr>\n",
              "    <tr>\n",
              "      <th>28</th>\n",
              "      <td>female</td>\n",
              "      <td>39.820</td>\n",
              "      <td>1</td>\n",
              "      <td>no</td>\n",
              "      <td>4795.65680</td>\n",
              "      <td>adult</td>\n",
              "      <td>9866.378886</td>\n",
              "    </tr>\n",
              "    <tr>\n",
              "      <th>29</th>\n",
              "      <td>female</td>\n",
              "      <td>37.700</td>\n",
              "      <td>0</td>\n",
              "      <td>yes</td>\n",
              "      <td>48824.45000</td>\n",
              "      <td>old</td>\n",
              "      <td>43911.001350</td>\n",
              "    </tr>\n",
              "  </tbody>\n",
              "</table>\n",
              "</div>\n",
              "      <button class=\"colab-df-convert\" onclick=\"convertToInteractive('df-4161c245-a1e4-4254-91ea-cee5743cfe83')\"\n",
              "              title=\"Convert this dataframe to an interactive table.\"\n",
              "              style=\"display:none;\">\n",
              "        \n",
              "  <svg xmlns=\"http://www.w3.org/2000/svg\" height=\"24px\"viewBox=\"0 0 24 24\"\n",
              "       width=\"24px\">\n",
              "    <path d=\"M0 0h24v24H0V0z\" fill=\"none\"/>\n",
              "    <path d=\"M18.56 5.44l.94 2.06.94-2.06 2.06-.94-2.06-.94-.94-2.06-.94 2.06-2.06.94zm-11 1L8.5 8.5l.94-2.06 2.06-.94-2.06-.94L8.5 2.5l-.94 2.06-2.06.94zm10 10l.94 2.06.94-2.06 2.06-.94-2.06-.94-.94-2.06-.94 2.06-2.06.94z\"/><path d=\"M17.41 7.96l-1.37-1.37c-.4-.4-.92-.59-1.43-.59-.52 0-1.04.2-1.43.59L10.3 9.45l-7.72 7.72c-.78.78-.78 2.05 0 2.83L4 21.41c.39.39.9.59 1.41.59.51 0 1.02-.2 1.41-.59l7.78-7.78 2.81-2.81c.8-.78.8-2.07 0-2.86zM5.41 20L4 18.59l7.72-7.72 1.47 1.35L5.41 20z\"/>\n",
              "  </svg>\n",
              "      </button>\n",
              "      \n",
              "  <style>\n",
              "    .colab-df-container {\n",
              "      display:flex;\n",
              "      flex-wrap:wrap;\n",
              "      gap: 12px;\n",
              "    }\n",
              "\n",
              "    .colab-df-convert {\n",
              "      background-color: #E8F0FE;\n",
              "      border: none;\n",
              "      border-radius: 50%;\n",
              "      cursor: pointer;\n",
              "      display: none;\n",
              "      fill: #1967D2;\n",
              "      height: 32px;\n",
              "      padding: 0 0 0 0;\n",
              "      width: 32px;\n",
              "    }\n",
              "\n",
              "    .colab-df-convert:hover {\n",
              "      background-color: #E2EBFA;\n",
              "      box-shadow: 0px 1px 2px rgba(60, 64, 67, 0.3), 0px 1px 3px 1px rgba(60, 64, 67, 0.15);\n",
              "      fill: #174EA6;\n",
              "    }\n",
              "\n",
              "    [theme=dark] .colab-df-convert {\n",
              "      background-color: #3B4455;\n",
              "      fill: #D2E3FC;\n",
              "    }\n",
              "\n",
              "    [theme=dark] .colab-df-convert:hover {\n",
              "      background-color: #434B5C;\n",
              "      box-shadow: 0px 1px 3px 1px rgba(0, 0, 0, 0.15);\n",
              "      filter: drop-shadow(0px 1px 2px rgba(0, 0, 0, 0.3));\n",
              "      fill: #FFFFFF;\n",
              "    }\n",
              "  </style>\n",
              "\n",
              "      <script>\n",
              "        const buttonEl =\n",
              "          document.querySelector('#df-4161c245-a1e4-4254-91ea-cee5743cfe83 button.colab-df-convert');\n",
              "        buttonEl.style.display =\n",
              "          google.colab.kernel.accessAllowed ? 'block' : 'none';\n",
              "\n",
              "        async function convertToInteractive(key) {\n",
              "          const element = document.querySelector('#df-4161c245-a1e4-4254-91ea-cee5743cfe83');\n",
              "          const dataTable =\n",
              "            await google.colab.kernel.invokeFunction('convertToInteractive',\n",
              "                                                     [key], {});\n",
              "          if (!dataTable) return;\n",
              "\n",
              "          const docLinkHtml = 'Like what you see? Visit the ' +\n",
              "            '<a target=\"_blank\" href=https://colab.research.google.com/notebooks/data_table.ipynb>data table notebook</a>'\n",
              "            + ' to learn more about interactive tables.';\n",
              "          element.innerHTML = '';\n",
              "          dataTable['output_type'] = 'display_data';\n",
              "          await google.colab.output.renderOutput(dataTable, element);\n",
              "          const docLink = document.createElement('div');\n",
              "          docLink.innerHTML = docLinkHtml;\n",
              "          element.appendChild(docLink);\n",
              "        }\n",
              "      </script>\n",
              "    </div>\n",
              "  </div>\n",
              "  "
            ]
          },
          "metadata": {},
          "execution_count": 49
        }
      ]
    },
    {
      "cell_type": "code",
      "source": [
        "# Cek selisih aktual dan prediksi\n",
        "infDataFinalDF['diff'] = (infDataFinalDF['charges'] - infDataFinalDF['predict'])\n",
        "\n",
        "# Display\n",
        "infDataFinalDF"
      ],
      "metadata": {
        "id": "qjfYsvnmLFsJ",
        "colab": {
          "base_uri": "https://localhost:8080/",
          "height": 990
        },
        "outputId": "d7d45b11-f664-47e7-d395-d4aeb72db051"
      },
      "execution_count": 50,
      "outputs": [
        {
          "output_type": "execute_result",
          "data": {
            "text/plain": [
              "       sex     bmi  children smoker      charges age_bin       predict  \\\n",
              "0     male  32.700         0    yes  34472.84100    teen  33689.862898   \n",
              "1   female  29.920         0     no   4889.03680   adult   7483.333882   \n",
              "2   female  30.800         3     no  12105.32000   adult   9621.833686   \n",
              "3     male  29.600         0     no  21232.18226   adult   6793.372277   \n",
              "4     male  46.530         3     no   6435.62370   adult   6974.034274   \n",
              "5     male  40.300         0     no  10602.38500     old  15931.465116   \n",
              "6     male  42.900         2    yes  47462.89400   adult  45125.964968   \n",
              "7     male  32.800         1     no  14358.36437   adult   6148.873228   \n",
              "8     male  33.820         0     no  19673.33573   adult  13152.450505   \n",
              "9   female  34.800         1     no   3577.99900   adult   7162.226622   \n",
              "10  female  28.000         3     no   7151.09200   adult   8510.703459   \n",
              "11    male  47.740         1     no   9748.91060   adult   7759.733328   \n",
              "12  female  19.800         1     no   3378.91000   adult   6637.831162   \n",
              "13  female  36.860         1     no  31620.00106     old  20847.027169   \n",
              "14    male  40.565         3    yes  48549.17835   adult  43881.418405   \n",
              "15    male  37.100         2     no   7740.33700   adult   6668.217019   \n",
              "16  female  39.700         0     no  14319.03100     old  13270.031859   \n",
              "17    male  28.880         0     no   2250.83520    teen   2021.910034   \n",
              "18    male  30.690         2     no   7731.42710   adult   6330.203187   \n",
              "19    male  30.000         0    yes  22144.03200   adult  29479.402323   \n",
              "20  female  20.600         0     no   9264.79700   adult   4968.584821   \n",
              "21  female  27.720         0     no   4415.15880   adult   7838.849207   \n",
              "22  female  28.215         0     no  12224.35085     old  12188.651809   \n",
              "23  female  30.115         3     no  16455.70785     old  13730.457627   \n",
              "24    male  37.050         2     no   7265.70250   adult   6903.119093   \n",
              "25  female  44.745         0     no   9541.69555   adult   8536.195522   \n",
              "26    male  18.715         0     no  21595.38229    teen   1511.454208   \n",
              "27    male  32.800         0    yes  52590.82939     old  42767.133973   \n",
              "28  female  39.820         1     no   4795.65680   adult   9866.378886   \n",
              "29  female  37.700         0    yes  48824.45000     old  43911.001350   \n",
              "\n",
              "            diff  \n",
              "0     782.978102  \n",
              "1   -2594.297082  \n",
              "2    2483.486314  \n",
              "3   14438.809983  \n",
              "4    -538.410574  \n",
              "5   -5329.080116  \n",
              "6    2336.929032  \n",
              "7    8209.491142  \n",
              "8    6520.885225  \n",
              "9   -3584.227622  \n",
              "10  -1359.611459  \n",
              "11   1989.177272  \n",
              "12  -3258.921162  \n",
              "13  10772.973891  \n",
              "14   4667.759945  \n",
              "15   1072.119981  \n",
              "16   1048.999141  \n",
              "17    228.925166  \n",
              "18   1401.223913  \n",
              "19  -7335.370323  \n",
              "20   4296.212179  \n",
              "21  -3423.690407  \n",
              "22     35.699041  \n",
              "23   2725.250223  \n",
              "24    362.583407  \n",
              "25   1005.500028  \n",
              "26  20083.928082  \n",
              "27   9823.695417  \n",
              "28  -5070.722086  \n",
              "29   4913.448650  "
            ],
            "text/html": [
              "\n",
              "  <div id=\"df-0e3bc534-e36b-4b7a-91c3-d3997c12e0fe\">\n",
              "    <div class=\"colab-df-container\">\n",
              "      <div>\n",
              "<style scoped>\n",
              "    .dataframe tbody tr th:only-of-type {\n",
              "        vertical-align: middle;\n",
              "    }\n",
              "\n",
              "    .dataframe tbody tr th {\n",
              "        vertical-align: top;\n",
              "    }\n",
              "\n",
              "    .dataframe thead th {\n",
              "        text-align: right;\n",
              "    }\n",
              "</style>\n",
              "<table border=\"1\" class=\"dataframe\">\n",
              "  <thead>\n",
              "    <tr style=\"text-align: right;\">\n",
              "      <th></th>\n",
              "      <th>sex</th>\n",
              "      <th>bmi</th>\n",
              "      <th>children</th>\n",
              "      <th>smoker</th>\n",
              "      <th>charges</th>\n",
              "      <th>age_bin</th>\n",
              "      <th>predict</th>\n",
              "      <th>diff</th>\n",
              "    </tr>\n",
              "  </thead>\n",
              "  <tbody>\n",
              "    <tr>\n",
              "      <th>0</th>\n",
              "      <td>male</td>\n",
              "      <td>32.700</td>\n",
              "      <td>0</td>\n",
              "      <td>yes</td>\n",
              "      <td>34472.84100</td>\n",
              "      <td>teen</td>\n",
              "      <td>33689.862898</td>\n",
              "      <td>782.978102</td>\n",
              "    </tr>\n",
              "    <tr>\n",
              "      <th>1</th>\n",
              "      <td>female</td>\n",
              "      <td>29.920</td>\n",
              "      <td>0</td>\n",
              "      <td>no</td>\n",
              "      <td>4889.03680</td>\n",
              "      <td>adult</td>\n",
              "      <td>7483.333882</td>\n",
              "      <td>-2594.297082</td>\n",
              "    </tr>\n",
              "    <tr>\n",
              "      <th>2</th>\n",
              "      <td>female</td>\n",
              "      <td>30.800</td>\n",
              "      <td>3</td>\n",
              "      <td>no</td>\n",
              "      <td>12105.32000</td>\n",
              "      <td>adult</td>\n",
              "      <td>9621.833686</td>\n",
              "      <td>2483.486314</td>\n",
              "    </tr>\n",
              "    <tr>\n",
              "      <th>3</th>\n",
              "      <td>male</td>\n",
              "      <td>29.600</td>\n",
              "      <td>0</td>\n",
              "      <td>no</td>\n",
              "      <td>21232.18226</td>\n",
              "      <td>adult</td>\n",
              "      <td>6793.372277</td>\n",
              "      <td>14438.809983</td>\n",
              "    </tr>\n",
              "    <tr>\n",
              "      <th>4</th>\n",
              "      <td>male</td>\n",
              "      <td>46.530</td>\n",
              "      <td>3</td>\n",
              "      <td>no</td>\n",
              "      <td>6435.62370</td>\n",
              "      <td>adult</td>\n",
              "      <td>6974.034274</td>\n",
              "      <td>-538.410574</td>\n",
              "    </tr>\n",
              "    <tr>\n",
              "      <th>5</th>\n",
              "      <td>male</td>\n",
              "      <td>40.300</td>\n",
              "      <td>0</td>\n",
              "      <td>no</td>\n",
              "      <td>10602.38500</td>\n",
              "      <td>old</td>\n",
              "      <td>15931.465116</td>\n",
              "      <td>-5329.080116</td>\n",
              "    </tr>\n",
              "    <tr>\n",
              "      <th>6</th>\n",
              "      <td>male</td>\n",
              "      <td>42.900</td>\n",
              "      <td>2</td>\n",
              "      <td>yes</td>\n",
              "      <td>47462.89400</td>\n",
              "      <td>adult</td>\n",
              "      <td>45125.964968</td>\n",
              "      <td>2336.929032</td>\n",
              "    </tr>\n",
              "    <tr>\n",
              "      <th>7</th>\n",
              "      <td>male</td>\n",
              "      <td>32.800</td>\n",
              "      <td>1</td>\n",
              "      <td>no</td>\n",
              "      <td>14358.36437</td>\n",
              "      <td>adult</td>\n",
              "      <td>6148.873228</td>\n",
              "      <td>8209.491142</td>\n",
              "    </tr>\n",
              "    <tr>\n",
              "      <th>8</th>\n",
              "      <td>male</td>\n",
              "      <td>33.820</td>\n",
              "      <td>0</td>\n",
              "      <td>no</td>\n",
              "      <td>19673.33573</td>\n",
              "      <td>adult</td>\n",
              "      <td>13152.450505</td>\n",
              "      <td>6520.885225</td>\n",
              "    </tr>\n",
              "    <tr>\n",
              "      <th>9</th>\n",
              "      <td>female</td>\n",
              "      <td>34.800</td>\n",
              "      <td>1</td>\n",
              "      <td>no</td>\n",
              "      <td>3577.99900</td>\n",
              "      <td>adult</td>\n",
              "      <td>7162.226622</td>\n",
              "      <td>-3584.227622</td>\n",
              "    </tr>\n",
              "    <tr>\n",
              "      <th>10</th>\n",
              "      <td>female</td>\n",
              "      <td>28.000</td>\n",
              "      <td>3</td>\n",
              "      <td>no</td>\n",
              "      <td>7151.09200</td>\n",
              "      <td>adult</td>\n",
              "      <td>8510.703459</td>\n",
              "      <td>-1359.611459</td>\n",
              "    </tr>\n",
              "    <tr>\n",
              "      <th>11</th>\n",
              "      <td>male</td>\n",
              "      <td>47.740</td>\n",
              "      <td>1</td>\n",
              "      <td>no</td>\n",
              "      <td>9748.91060</td>\n",
              "      <td>adult</td>\n",
              "      <td>7759.733328</td>\n",
              "      <td>1989.177272</td>\n",
              "    </tr>\n",
              "    <tr>\n",
              "      <th>12</th>\n",
              "      <td>female</td>\n",
              "      <td>19.800</td>\n",
              "      <td>1</td>\n",
              "      <td>no</td>\n",
              "      <td>3378.91000</td>\n",
              "      <td>adult</td>\n",
              "      <td>6637.831162</td>\n",
              "      <td>-3258.921162</td>\n",
              "    </tr>\n",
              "    <tr>\n",
              "      <th>13</th>\n",
              "      <td>female</td>\n",
              "      <td>36.860</td>\n",
              "      <td>1</td>\n",
              "      <td>no</td>\n",
              "      <td>31620.00106</td>\n",
              "      <td>old</td>\n",
              "      <td>20847.027169</td>\n",
              "      <td>10772.973891</td>\n",
              "    </tr>\n",
              "    <tr>\n",
              "      <th>14</th>\n",
              "      <td>male</td>\n",
              "      <td>40.565</td>\n",
              "      <td>3</td>\n",
              "      <td>yes</td>\n",
              "      <td>48549.17835</td>\n",
              "      <td>adult</td>\n",
              "      <td>43881.418405</td>\n",
              "      <td>4667.759945</td>\n",
              "    </tr>\n",
              "    <tr>\n",
              "      <th>15</th>\n",
              "      <td>male</td>\n",
              "      <td>37.100</td>\n",
              "      <td>2</td>\n",
              "      <td>no</td>\n",
              "      <td>7740.33700</td>\n",
              "      <td>adult</td>\n",
              "      <td>6668.217019</td>\n",
              "      <td>1072.119981</td>\n",
              "    </tr>\n",
              "    <tr>\n",
              "      <th>16</th>\n",
              "      <td>female</td>\n",
              "      <td>39.700</td>\n",
              "      <td>0</td>\n",
              "      <td>no</td>\n",
              "      <td>14319.03100</td>\n",
              "      <td>old</td>\n",
              "      <td>13270.031859</td>\n",
              "      <td>1048.999141</td>\n",
              "    </tr>\n",
              "    <tr>\n",
              "      <th>17</th>\n",
              "      <td>male</td>\n",
              "      <td>28.880</td>\n",
              "      <td>0</td>\n",
              "      <td>no</td>\n",
              "      <td>2250.83520</td>\n",
              "      <td>teen</td>\n",
              "      <td>2021.910034</td>\n",
              "      <td>228.925166</td>\n",
              "    </tr>\n",
              "    <tr>\n",
              "      <th>18</th>\n",
              "      <td>male</td>\n",
              "      <td>30.690</td>\n",
              "      <td>2</td>\n",
              "      <td>no</td>\n",
              "      <td>7731.42710</td>\n",
              "      <td>adult</td>\n",
              "      <td>6330.203187</td>\n",
              "      <td>1401.223913</td>\n",
              "    </tr>\n",
              "    <tr>\n",
              "      <th>19</th>\n",
              "      <td>male</td>\n",
              "      <td>30.000</td>\n",
              "      <td>0</td>\n",
              "      <td>yes</td>\n",
              "      <td>22144.03200</td>\n",
              "      <td>adult</td>\n",
              "      <td>29479.402323</td>\n",
              "      <td>-7335.370323</td>\n",
              "    </tr>\n",
              "    <tr>\n",
              "      <th>20</th>\n",
              "      <td>female</td>\n",
              "      <td>20.600</td>\n",
              "      <td>0</td>\n",
              "      <td>no</td>\n",
              "      <td>9264.79700</td>\n",
              "      <td>adult</td>\n",
              "      <td>4968.584821</td>\n",
              "      <td>4296.212179</td>\n",
              "    </tr>\n",
              "    <tr>\n",
              "      <th>21</th>\n",
              "      <td>female</td>\n",
              "      <td>27.720</td>\n",
              "      <td>0</td>\n",
              "      <td>no</td>\n",
              "      <td>4415.15880</td>\n",
              "      <td>adult</td>\n",
              "      <td>7838.849207</td>\n",
              "      <td>-3423.690407</td>\n",
              "    </tr>\n",
              "    <tr>\n",
              "      <th>22</th>\n",
              "      <td>female</td>\n",
              "      <td>28.215</td>\n",
              "      <td>0</td>\n",
              "      <td>no</td>\n",
              "      <td>12224.35085</td>\n",
              "      <td>old</td>\n",
              "      <td>12188.651809</td>\n",
              "      <td>35.699041</td>\n",
              "    </tr>\n",
              "    <tr>\n",
              "      <th>23</th>\n",
              "      <td>female</td>\n",
              "      <td>30.115</td>\n",
              "      <td>3</td>\n",
              "      <td>no</td>\n",
              "      <td>16455.70785</td>\n",
              "      <td>old</td>\n",
              "      <td>13730.457627</td>\n",
              "      <td>2725.250223</td>\n",
              "    </tr>\n",
              "    <tr>\n",
              "      <th>24</th>\n",
              "      <td>male</td>\n",
              "      <td>37.050</td>\n",
              "      <td>2</td>\n",
              "      <td>no</td>\n",
              "      <td>7265.70250</td>\n",
              "      <td>adult</td>\n",
              "      <td>6903.119093</td>\n",
              "      <td>362.583407</td>\n",
              "    </tr>\n",
              "    <tr>\n",
              "      <th>25</th>\n",
              "      <td>female</td>\n",
              "      <td>44.745</td>\n",
              "      <td>0</td>\n",
              "      <td>no</td>\n",
              "      <td>9541.69555</td>\n",
              "      <td>adult</td>\n",
              "      <td>8536.195522</td>\n",
              "      <td>1005.500028</td>\n",
              "    </tr>\n",
              "    <tr>\n",
              "      <th>26</th>\n",
              "      <td>male</td>\n",
              "      <td>18.715</td>\n",
              "      <td>0</td>\n",
              "      <td>no</td>\n",
              "      <td>21595.38229</td>\n",
              "      <td>teen</td>\n",
              "      <td>1511.454208</td>\n",
              "      <td>20083.928082</td>\n",
              "    </tr>\n",
              "    <tr>\n",
              "      <th>27</th>\n",
              "      <td>male</td>\n",
              "      <td>32.800</td>\n",
              "      <td>0</td>\n",
              "      <td>yes</td>\n",
              "      <td>52590.82939</td>\n",
              "      <td>old</td>\n",
              "      <td>42767.133973</td>\n",
              "      <td>9823.695417</td>\n",
              "    </tr>\n",
              "    <tr>\n",
              "      <th>28</th>\n",
              "      <td>female</td>\n",
              "      <td>39.820</td>\n",
              "      <td>1</td>\n",
              "      <td>no</td>\n",
              "      <td>4795.65680</td>\n",
              "      <td>adult</td>\n",
              "      <td>9866.378886</td>\n",
              "      <td>-5070.722086</td>\n",
              "    </tr>\n",
              "    <tr>\n",
              "      <th>29</th>\n",
              "      <td>female</td>\n",
              "      <td>37.700</td>\n",
              "      <td>0</td>\n",
              "      <td>yes</td>\n",
              "      <td>48824.45000</td>\n",
              "      <td>old</td>\n",
              "      <td>43911.001350</td>\n",
              "      <td>4913.448650</td>\n",
              "    </tr>\n",
              "  </tbody>\n",
              "</table>\n",
              "</div>\n",
              "      <button class=\"colab-df-convert\" onclick=\"convertToInteractive('df-0e3bc534-e36b-4b7a-91c3-d3997c12e0fe')\"\n",
              "              title=\"Convert this dataframe to an interactive table.\"\n",
              "              style=\"display:none;\">\n",
              "        \n",
              "  <svg xmlns=\"http://www.w3.org/2000/svg\" height=\"24px\"viewBox=\"0 0 24 24\"\n",
              "       width=\"24px\">\n",
              "    <path d=\"M0 0h24v24H0V0z\" fill=\"none\"/>\n",
              "    <path d=\"M18.56 5.44l.94 2.06.94-2.06 2.06-.94-2.06-.94-.94-2.06-.94 2.06-2.06.94zm-11 1L8.5 8.5l.94-2.06 2.06-.94-2.06-.94L8.5 2.5l-.94 2.06-2.06.94zm10 10l.94 2.06.94-2.06 2.06-.94-2.06-.94-.94-2.06-.94 2.06-2.06.94z\"/><path d=\"M17.41 7.96l-1.37-1.37c-.4-.4-.92-.59-1.43-.59-.52 0-1.04.2-1.43.59L10.3 9.45l-7.72 7.72c-.78.78-.78 2.05 0 2.83L4 21.41c.39.39.9.59 1.41.59.51 0 1.02-.2 1.41-.59l7.78-7.78 2.81-2.81c.8-.78.8-2.07 0-2.86zM5.41 20L4 18.59l7.72-7.72 1.47 1.35L5.41 20z\"/>\n",
              "  </svg>\n",
              "      </button>\n",
              "      \n",
              "  <style>\n",
              "    .colab-df-container {\n",
              "      display:flex;\n",
              "      flex-wrap:wrap;\n",
              "      gap: 12px;\n",
              "    }\n",
              "\n",
              "    .colab-df-convert {\n",
              "      background-color: #E8F0FE;\n",
              "      border: none;\n",
              "      border-radius: 50%;\n",
              "      cursor: pointer;\n",
              "      display: none;\n",
              "      fill: #1967D2;\n",
              "      height: 32px;\n",
              "      padding: 0 0 0 0;\n",
              "      width: 32px;\n",
              "    }\n",
              "\n",
              "    .colab-df-convert:hover {\n",
              "      background-color: #E2EBFA;\n",
              "      box-shadow: 0px 1px 2px rgba(60, 64, 67, 0.3), 0px 1px 3px 1px rgba(60, 64, 67, 0.15);\n",
              "      fill: #174EA6;\n",
              "    }\n",
              "\n",
              "    [theme=dark] .colab-df-convert {\n",
              "      background-color: #3B4455;\n",
              "      fill: #D2E3FC;\n",
              "    }\n",
              "\n",
              "    [theme=dark] .colab-df-convert:hover {\n",
              "      background-color: #434B5C;\n",
              "      box-shadow: 0px 1px 3px 1px rgba(0, 0, 0, 0.15);\n",
              "      filter: drop-shadow(0px 1px 2px rgba(0, 0, 0, 0.3));\n",
              "      fill: #FFFFFF;\n",
              "    }\n",
              "  </style>\n",
              "\n",
              "      <script>\n",
              "        const buttonEl =\n",
              "          document.querySelector('#df-0e3bc534-e36b-4b7a-91c3-d3997c12e0fe button.colab-df-convert');\n",
              "        buttonEl.style.display =\n",
              "          google.colab.kernel.accessAllowed ? 'block' : 'none';\n",
              "\n",
              "        async function convertToInteractive(key) {\n",
              "          const element = document.querySelector('#df-0e3bc534-e36b-4b7a-91c3-d3997c12e0fe');\n",
              "          const dataTable =\n",
              "            await google.colab.kernel.invokeFunction('convertToInteractive',\n",
              "                                                     [key], {});\n",
              "          if (!dataTable) return;\n",
              "\n",
              "          const docLinkHtml = 'Like what you see? Visit the ' +\n",
              "            '<a target=\"_blank\" href=https://colab.research.google.com/notebooks/data_table.ipynb>data table notebook</a>'\n",
              "            + ' to learn more about interactive tables.';\n",
              "          element.innerHTML = '';\n",
              "          dataTable['output_type'] = 'display_data';\n",
              "          await google.colab.output.renderOutput(dataTable, element);\n",
              "          const docLink = document.createElement('div');\n",
              "          docLink.innerHTML = docLinkHtml;\n",
              "          element.appendChild(docLink);\n",
              "        }\n",
              "      </script>\n",
              "    </div>\n",
              "  </div>\n",
              "  "
            ]
          },
          "metadata": {},
          "execution_count": 50
        }
      ]
    },
    {
      "cell_type": "markdown",
      "source": [
        "Berikut adalah selisih antara aktual dan prediksi, dimana jika selisihnya bernilai positif maka dikatakan model memprediksi nilai yang lebih rendah dari aktual, sementara jika nilainya negatif maka model memprediksi lebih tinggi dari aktual."
      ],
      "metadata": {
        "id": "2b1femGmM4kt"
      }
    },
    {
      "cell_type": "code",
      "source": [
        "# Visualization of bmi\n",
        "plt.figure(figsize=(25, 6))\n",
        "plt.subplot(1, 2, 1)\n",
        "sns.histplot(x='age_bin', data=infDataFinalDF, kde=True)\n",
        "plt.title('Age Category Distribution')\n",
        "plt.xlabel('Age Category')\n",
        "plt.ylabel('Frequency')\n",
        "plt.subplot(1, 2, 2)\n",
        "sns.scatterplot(x='predict', y='charges', data=infDataFinalDF, hue='age_bin')\n",
        "plt.title('Predict vs Charges')\n",
        "plt.xlabel('Predict')\n",
        "plt.ylabel('Charges')\n",
        "plt.show()"
      ],
      "metadata": {
        "id": "HQfUjRhXTn25",
        "colab": {
          "base_uri": "https://localhost:8080/",
          "height": 316
        },
        "outputId": "dd127895-f963-43b8-f43c-8a2d4e9443df"
      },
      "execution_count": 51,
      "outputs": [
        {
          "output_type": "display_data",
          "data": {
            "text/plain": [
              "<Figure size 1800x432 with 2 Axes>"
            ],
            "image/png": "[encoded data removed]"
          },
          "metadata": {
            "needs_background": "light"
          }
        }
      ]
    },
    {
      "cell_type": "markdown",
      "source": [
        "Dapat dilihat data pelanggan dengan usia dewasa merupakan data yang terbanyak dalam sampel ini. Ada beberapa data prediksi yang tidak sesuai dengan data aktual, akan tetapi banyak data juga yang nilai prediksinya tidak jauh berbeda dengan data aktual."
      ],
      "metadata": {
        "id": "9sb_NEXNUZ-_"
      }
    },
    {
      "cell_type": "code",
      "source": [
        "# Visualization of data inference\n",
        "diagnosticPlots(infDataFinalDF, 'charges')\n",
        "diagnosticPlots(infDataFinalDF, 'predict')"
      ],
      "metadata": {
        "id": "568wUZXmJaSe",
        "colab": {
          "base_uri": "https://localhost:8080/",
          "height": 607
        },
        "outputId": "050e1080-6f23-48f0-c97b-6fdc83e1803f"
      },
      "execution_count": 52,
      "outputs": [
        {
          "output_type": "display_data",
          "data": {
            "text/plain": [
              "<Figure size 1296x1800 with 1 Axes>"
            ],
            "image/png": "[encoded data removed]"
          },
          "metadata": {
            "needs_background": "light"
          }
        },
        {
          "output_type": "display_data",
          "data": {
            "text/plain": [
              "<Figure size 1296x1800 with 1 Axes>"
            ],
            "image/png": "[encoded data removed]"
          },
          "metadata": {
            "needs_background": "light"
          }
        }
      ]
    },
    {
      "cell_type": "markdown",
      "source": [
        "Berikut adalah visualiasi perbandingan antara actual data kolom `charges` dengan data `predict`. Ada perbedaan data `predict` dimana untuk data `predict` nilai diatas **50,000** tidak dapat diprediksi oleh model."
      ],
      "metadata": {
        "id": "Wl5ydisJKAJV"
      }
    },
    {
      "cell_type": "code",
      "source": [
        "# Cek total aktual and predict\n",
        "print('Total data charges - aktual : ', infDataFinalDF['charges'].sum().round(2))\n",
        "print('')\n",
        "print('Total data charges - prediction : ', infDataFinalDF['predict'].sum().round(2))"
      ],
      "metadata": {
        "id": "RhjCTs0vhpm2",
        "colab": {
          "base_uri": "https://localhost:8080/"
        },
        "outputId": "6fa89e6c-c4fb-4cd5-e445-bc72ec44c36e"
      },
      "execution_count": 53,
      "outputs": [
        {
          "output_type": "stream",
          "name": "stdout",
          "text": [
            "Total data charges - aktual :  516417.47\n",
            "\n",
            "Total data charges - prediction :  449711.72\n"
          ]
        }
      ]
    },
    {
      "cell_type": "markdown",
      "source": [
        "Terdapat total selisih antara charges aktual predictionnya sebesar **66705.75**."
      ],
      "metadata": {
        "id": "sp0eo7WNjDxi"
      }
    },
    {
      "cell_type": "markdown",
      "source": [
        "# **11 - Model Saving**\n",
        "\n",
        "---\n"
      ],
      "metadata": {
        "id": "yypvqt1CfGyj"
      }
    },
    {
      "cell_type": "markdown",
      "source": [
        "Pada bagian ini, dilakukan proses penyimpanan model dan file-file lain yang terkait dengan hasil proses pembuatan model. Dengan melihat hasil Model Evaluation, pilihlah model terbaik untuk disimpan. Model terbaik ini akan digunakan kembali dalam melakukan Model Inference dan Model Deployment."
      ],
      "metadata": {
        "id": "Mr2DiJ-8NcD0"
      }
    },
    {
      "cell_type": "code",
      "source": [
        "# Model Saving\n",
        "with open('BestRandomForestModel.pkl', 'wb') as file1:\n",
        "  pickle.dump(randForBestEstGS, file1)"
      ],
      "metadata": {
        "id": "bVFvxoJnNcyX"
      },
      "execution_count": 54,
      "outputs": []
    },
    {
      "cell_type": "markdown",
      "source": [
        "# **12 - Pengambilan Kesimpulan**\n",
        "\n",
        "---\n"
      ],
      "metadata": {
        "id": "Ot7rm5udpmTJ"
      }
    },
    {
      "cell_type": "markdown",
      "source": [
        "Pada bagian terakhir ini, harus berisi kesimpulan yang mencerminkan hasil yang didapat dengan objective yang sudah ditulis di bagian pengenalan."
      ],
      "metadata": {
        "id": "iKAfRH5zpqWy"
      }
    },
    {
      "cell_type": "markdown",
      "source": [
        "Dari eksplorasi dan modeling data diatas dapat disimpulkan :\n",
        "1. Model yang dipilih adalah Random Forest dengan Grid Search Tuning nilai R2-Scorenya sebesar **3%**, walaupun sedikit overfit antara data Train dan Test, tp nilai R2-Scorenya masih lebih baik dibanding dengan Polynomial Features yang sebesar **14%**\n",
        "2. Terdapat korelasinya yang mana jika seseorang merokok dan memiliki bmi yang tinggi maka akan berpengaruh terhadap prediksi harganya. Jika orang itu merokok dan bminya tinggi maka semakin tinggi pula prediksi harganya.\n",
        "3. Dari data dapat dikatakan semakin banyak seseorang punya anak maka orang tersebut cenderung memilih tidak merokok karena dikhawatirkan kebutuhan anaknya tidak tercukupi jika orang tersebut masih merokok\n",
        "4. Model dengan Polynomial Features tidak dipilih karena nilai MAE nya masih besar dengan nilai **2010.72** dan nilai R2-Scorenya **14%**. Walaupun Random Forest juga dapat dikatakan sedikit over-fit namun nilainya masih lebih kecil dibandingkan dengan Polynomial Features.\n",
        "5. Untuk further improvement selanjutnya mungkin saya bisa menggunakan model lain untuk perbandingan dan improvisasinya ditambah dengan metode randomized search."
      ],
      "metadata": {
        "id": "GgcrV3vLOPL_"
      }
    }
  ]
}